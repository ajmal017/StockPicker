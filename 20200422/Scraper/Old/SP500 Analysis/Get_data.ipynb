{
 "cells": [
  {
   "cell_type": "code",
   "execution_count": 1,
   "metadata": {
    "ExecuteTime": {
     "end_time": "2019-09-28T22:35:45.053714Z",
     "start_time": "2019-09-28T22:35:44.952103Z"
    }
   },
   "outputs": [],
   "source": [
    "from selenium import webdriver\n",
    "\n",
    "from selenium.webdriver.common.keys import Keys\n",
    "\n",
    "from selenium.webdriver.support.ui import WebDriverWait\n",
    "from selenium.webdriver.common.by import By\n",
    "from selenium.webdriver.support import expected_conditions\n",
    "\n",
    "import time\n",
    "import random\n",
    "import os"
   ]
  },
  {
   "cell_type": "code",
   "execution_count": 2,
   "metadata": {
    "ExecuteTime": {
     "end_time": "2019-09-28T22:35:45.065630Z",
     "start_time": "2019-09-28T22:35:45.056745Z"
    }
   },
   "outputs": [],
   "source": [
    "def set_ff_preferences():\n",
    "    profile = webdriver.FirefoxProfile()\n",
    "    profile.set_preference('browser.download.folderList', 2) # custom location\n",
    "    profile.set_preference('browser.download.dir', (os.getcwd()+'/Assets/'))\n",
    "    profile.set_preference('browser.download.manager.showWhenStarting', False)\n",
    "    profile.set_preference('browser.helperApps.neverAsk.saveToDisk', \"application/csv, text/csv\")\n",
    "    return profile\n",
    "\n",
    "def create_empty_ff_driver():\n",
    "    profile = set_ff_preferences()\n",
    "    driver = webdriver.Firefox(executable_path = '/Applications/geckodriver',firefox_profile=profile)\n",
    "    return driver\n",
    "\n",
    "def create_driver_opening_url(a_url):\n",
    "    driver = create_empty_ff_driver()\n",
    "    driver.get(a_url)\n",
    "    return driver\n",
    "\n",
    "def clean_from_text(text):\n",
    "#     cleaned_text = text.replace(\",\",\"\").strip()\n",
    "    cleaned_text = text.strip()\n",
    "    return cleaned_text"
   ]
  },
  {
   "cell_type": "code",
   "execution_count": 8,
   "metadata": {
    "ExecuteTime": {
     "end_time": "2019-09-28T22:36:50.535546Z",
     "start_time": "2019-09-28T22:36:50.516175Z"
    }
   },
   "outputs": [],
   "source": [
    "def initialize_driver():\n",
    "    main_url = 'https://finance.yahoo.com/quote/%5EGSPC?p=^GSPC&.tsrc=fin-srch'\n",
    "    a_driver = create_driver_opening_url(main_url)\n",
    "    return a_driver\n",
    "\n",
    "def click_his_data(a_driver):\n",
    "    his_data_btn = WebDriverWait(a_driver, 10).until(\n",
    "    expected_conditions.presence_of_element_located((By.XPATH, \n",
    "        '/html/body/div[1]/div/div/div[1]/div/div[2]/div/div/div[5]/div/div/section/div/ul/li[4]/a')))\n",
    "    \n",
    "    his_data_btn.click()\n",
    "    \n",
    "def click_time_per(a_driver):\n",
    "    time_sel = WebDriverWait(a_driver, 10).until(\n",
    "    expected_conditions.presence_of_element_located((By.XPATH, \n",
    "        '/html/body/div[1]/div/div/div[1]/div/div[3]/div[1]/div/div[2]/div/div/section/div[1]/div[1]/div[1]/span[2]')))\n",
    "    \n",
    "    time_sel.click()\n",
    "    \n",
    "def select_max(a_driver):\n",
    "    max_btn = WebDriverWait(a_driver, 10).until(\n",
    "    expected_conditions.presence_of_element_located((By.XPATH, \n",
    "        '/html/body/div[1]/div/div/div[1]/div/div[3]/div[1]/div/div[2]/div/div/section/div[1]/div[1]/div[1]/span[2]/div/div[1]/span[8]')))\n",
    "    \n",
    "    max_btn.click()\n",
    "    \n",
    "def click_done(a_driver):\n",
    "    done_btn = WebDriverWait(a_driver, 10).until(\n",
    "    expected_conditions.presence_of_element_located((By.XPATH, \n",
    "        '/html/body/div[1]/div/div/div[1]/div/div[3]/div[1]/div/div[2]/div/div/section/div[1]/div[1]/div[1]/span[2]/div/div[3]/button[1]')))\n",
    "    \n",
    "    done_btn.click()\n",
    "    \n",
    "def click_frequency(a_driver):\n",
    "    frequency_sel = WebDriverWait(a_driver, 10).until(\n",
    "    expected_conditions.presence_of_element_located((By.XPATH, \n",
    "        '/html/body/div[1]/div/div/div[1]/div/div[3]/div[1]/div/div[2]/div/div/section/div[1]/div[1]/div[3]/span/div')))\n",
    "    \n",
    "    frequency_sel.click()\n",
    "\n",
    "def select_frequency(a_driver):\n",
    "    weekly_sel = WebDriverWait(a_driver, 10).until(\n",
    "    expected_conditions.presence_of_element_located((By.XPATH, \n",
    "        '/html/body/div[1]/div/div/div[1]/div/div[3]/div[1]/div/div[2]/div/div/section/div[1]/div[1]/div[3]/span/div[2]/div[2]')))\n",
    "    \n",
    "    weekly_sel.click()\n",
    "    \n",
    "def click_apply(a_driver):\n",
    "    apply_btn = weekly_sel = WebDriverWait(a_driver, 10).until(\n",
    "    expected_conditions.presence_of_element_located((By.XPATH, \n",
    "        '/html/body/div[1]/div/div/div[1]/div/div[3]/div[1]/div/div[2]/section/div[1]/div[1]/button')))\n",
    " \n",
    "    apply_btn.click()\n",
    "    "
   ]
  },
  {
   "cell_type": "code",
   "execution_count": 4,
   "metadata": {
    "ExecuteTime": {
     "end_time": "2019-09-28T22:35:57.073469Z",
     "start_time": "2019-09-28T22:35:45.080884Z"
    }
   },
   "outputs": [],
   "source": [
    "driver = initialize_driver()"
   ]
  },
  {
   "cell_type": "code",
   "execution_count": 5,
   "metadata": {
    "ExecuteTime": {
     "end_time": "2019-09-28T22:35:58.014171Z",
     "start_time": "2019-09-28T22:35:57.076547Z"
    }
   },
   "outputs": [],
   "source": [
    "click_his_data(driver)"
   ]
  },
  {
   "cell_type": "code",
   "execution_count": 9,
   "metadata": {
    "ExecuteTime": {
     "end_time": "2019-09-28T22:37:05.522473Z",
     "start_time": "2019-09-28T22:36:55.265153Z"
    }
   },
   "outputs": [
    {
     "ename": "TimeoutException",
     "evalue": "Message: \n",
     "output_type": "error",
     "traceback": [
      "\u001b[0;31m---------------------------------------------------------------------------\u001b[0m",
      "\u001b[0;31mTimeoutException\u001b[0m                          Traceback (most recent call last)",
      "\u001b[0;32m<ipython-input-9-0f2fe1b38db9>\u001b[0m in \u001b[0;36m<module>\u001b[0;34m\u001b[0m\n\u001b[0;32m----> 1\u001b[0;31m \u001b[0mclick_time_per\u001b[0m\u001b[0;34m(\u001b[0m\u001b[0mdriver\u001b[0m\u001b[0;34m)\u001b[0m\u001b[0;34m\u001b[0m\u001b[0;34m\u001b[0m\u001b[0m\n\u001b[0m\u001b[1;32m      2\u001b[0m \u001b[0mselect_max\u001b[0m\u001b[0;34m(\u001b[0m\u001b[0mdriver\u001b[0m\u001b[0;34m)\u001b[0m\u001b[0;34m\u001b[0m\u001b[0;34m\u001b[0m\u001b[0m\n\u001b[1;32m      3\u001b[0m \u001b[0mclick_done\u001b[0m\u001b[0;34m(\u001b[0m\u001b[0mdriver\u001b[0m\u001b[0;34m)\u001b[0m\u001b[0;34m\u001b[0m\u001b[0;34m\u001b[0m\u001b[0m\n",
      "\u001b[0;32m<ipython-input-8-5be84b9f345d>\u001b[0m in \u001b[0;36mclick_time_per\u001b[0;34m(a_driver)\u001b[0m\n\u001b[1;32m     14\u001b[0m     time_sel = WebDriverWait(a_driver, 10).until(\n\u001b[1;32m     15\u001b[0m     expected_conditions.presence_of_element_located((By.XPATH, \n\u001b[0;32m---> 16\u001b[0;31m         '/html/body/div[1]/div/div/div[1]/div/div[3]/div[1]/div/div[2]/div/div/section/div[1]/div[1]/div[1]/span[2]')))\n\u001b[0m\u001b[1;32m     17\u001b[0m \u001b[0;34m\u001b[0m\u001b[0m\n\u001b[1;32m     18\u001b[0m     \u001b[0mtime_sel\u001b[0m\u001b[0;34m.\u001b[0m\u001b[0mclick\u001b[0m\u001b[0;34m(\u001b[0m\u001b[0;34m)\u001b[0m\u001b[0;34m\u001b[0m\u001b[0;34m\u001b[0m\u001b[0m\n",
      "\u001b[0;32m~/anaconda3/lib/python3.7/site-packages/selenium/webdriver/support/wait.py\u001b[0m in \u001b[0;36muntil\u001b[0;34m(self, method, message)\u001b[0m\n\u001b[1;32m     78\u001b[0m             \u001b[0;32mif\u001b[0m \u001b[0mtime\u001b[0m\u001b[0;34m.\u001b[0m\u001b[0mtime\u001b[0m\u001b[0;34m(\u001b[0m\u001b[0;34m)\u001b[0m \u001b[0;34m>\u001b[0m \u001b[0mend_time\u001b[0m\u001b[0;34m:\u001b[0m\u001b[0;34m\u001b[0m\u001b[0;34m\u001b[0m\u001b[0m\n\u001b[1;32m     79\u001b[0m                 \u001b[0;32mbreak\u001b[0m\u001b[0;34m\u001b[0m\u001b[0;34m\u001b[0m\u001b[0m\n\u001b[0;32m---> 80\u001b[0;31m         \u001b[0;32mraise\u001b[0m \u001b[0mTimeoutException\u001b[0m\u001b[0;34m(\u001b[0m\u001b[0mmessage\u001b[0m\u001b[0;34m,\u001b[0m \u001b[0mscreen\u001b[0m\u001b[0;34m,\u001b[0m \u001b[0mstacktrace\u001b[0m\u001b[0;34m)\u001b[0m\u001b[0;34m\u001b[0m\u001b[0;34m\u001b[0m\u001b[0m\n\u001b[0m\u001b[1;32m     81\u001b[0m \u001b[0;34m\u001b[0m\u001b[0m\n\u001b[1;32m     82\u001b[0m     \u001b[0;32mdef\u001b[0m \u001b[0muntil_not\u001b[0m\u001b[0;34m(\u001b[0m\u001b[0mself\u001b[0m\u001b[0;34m,\u001b[0m \u001b[0mmethod\u001b[0m\u001b[0;34m,\u001b[0m \u001b[0mmessage\u001b[0m\u001b[0;34m=\u001b[0m\u001b[0;34m''\u001b[0m\u001b[0;34m)\u001b[0m\u001b[0;34m:\u001b[0m\u001b[0;34m\u001b[0m\u001b[0;34m\u001b[0m\u001b[0m\n",
      "\u001b[0;31mTimeoutException\u001b[0m: Message: \n"
     ]
    }
   ],
   "source": [
    "click_time_per(driver)\n",
    "select_max(driver)\n",
    "click_done(driver)"
   ]
  },
  {
   "cell_type": "code",
   "execution_count": null,
   "metadata": {
    "ExecuteTime": {
     "end_time": "2019-09-28T22:36:08.300971Z",
     "start_time": "2019-09-28T22:35:44.959Z"
    }
   },
   "outputs": [],
   "source": [
    "click_frequency(driver)\n",
    "select_frequency(driver)"
   ]
  },
  {
   "cell_type": "code",
   "execution_count": null,
   "metadata": {
    "ExecuteTime": {
     "end_time": "2019-09-28T22:36:08.302936Z",
     "start_time": "2019-09-28T22:35:44.962Z"
    }
   },
   "outputs": [],
   "source": [
    "click_apply(driver)"
   ]
  }
 ],
 "metadata": {
  "kernelspec": {
   "display_name": "Python 3",
   "language": "python",
   "name": "python3"
  },
  "language_info": {
   "codemirror_mode": {
    "name": "ipython",
    "version": 3
   },
   "file_extension": ".py",
   "mimetype": "text/x-python",
   "name": "python",
   "nbconvert_exporter": "python",
   "pygments_lexer": "ipython3",
   "version": "3.7.1"
  }
 },
 "nbformat": 4,
 "nbformat_minor": 2
}
