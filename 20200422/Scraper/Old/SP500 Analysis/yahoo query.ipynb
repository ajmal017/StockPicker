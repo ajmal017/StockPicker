{
 "cells": [
  {
   "cell_type": "code",
   "execution_count": 1,
   "metadata": {
    "ExecuteTime": {
     "end_time": "2019-09-29T01:37:31.156776Z",
     "start_time": "2019-09-29T01:37:31.105942Z"
    }
   },
   "outputs": [],
   "source": [
    "# https://query1.finance.yahoo.com/v8/finance/chart/%5EGSPC?p=^GSPC\n",
    "# https://query1.finance.yahoo.com/v8/finance/chart/AAPL?symbol=AAPL&period1=0&period2=9999999999&interval=1d&includePrePost=true&events=div%2Csplit\n",
    "# https://query1.finance.yahoo.com/v8/finance/chart/%5EGSPC?p=^GSPC&period1=0&period2=9999999999&interval=1wk&includePrePost=true&events=div%2Csplit\n"
   ]
  },
  {
   "cell_type": "code",
   "execution_count": null,
   "metadata": {},
   "outputs": [],
   "source": []
  }
 ],
 "metadata": {
  "kernelspec": {
   "display_name": "Python 3",
   "language": "python",
   "name": "python3"
  },
  "language_info": {
   "codemirror_mode": {
    "name": "ipython",
    "version": 3
   },
   "file_extension": ".py",
   "mimetype": "text/x-python",
   "name": "python",
   "nbconvert_exporter": "python",
   "pygments_lexer": "ipython3",
   "version": "3.7.1"
  }
 },
 "nbformat": 4,
 "nbformat_minor": 2
}
