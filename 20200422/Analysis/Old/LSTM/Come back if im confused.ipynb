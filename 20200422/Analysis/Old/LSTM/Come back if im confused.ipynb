{
 "cells": [
  {
   "cell_type": "code",
   "execution_count": 1,
   "metadata": {
    "ExecuteTime": {
     "end_time": "2019-08-11T17:00:38.712070Z",
     "start_time": "2019-08-11T17:00:36.111693Z"
    }
   },
   "outputs": [
    {
     "name": "stderr",
     "output_type": "stream",
     "text": [
      "Using TensorFlow backend.\n"
     ]
    }
   ],
   "source": [
    "# https://www.youtube.com/watch?v=iMIWee_PXl8\n",
    "\n",
    "from keras.models import Sequential\n",
    "from keras.layers import Dense\n",
    "from keras.layers import LSTM\n",
    "from sklearn.model_selection import train_test_split\n",
    "\n",
    "import numpy as np\n",
    "import matplotlib.pyplot as plt"
   ]
  },
  {
   "cell_type": "code",
   "execution_count": 2,
   "metadata": {
    "ExecuteTime": {
     "end_time": "2019-08-11T17:00:38.720195Z",
     "start_time": "2019-08-11T17:00:38.715793Z"
    }
   },
   "outputs": [],
   "source": [
    "data = [[[(i+j)] for i in range(5)] for j in range(100)]\n",
    "target = [(i+5) for i in range(100)]"
   ]
  },
  {
   "cell_type": "code",
   "execution_count": 3,
   "metadata": {
    "ExecuteTime": {
     "end_time": "2019-08-11T17:00:38.732410Z",
     "start_time": "2019-08-11T17:00:38.723488Z"
    }
   },
   "outputs": [],
   "source": [
    "data = np.array(data, dtype=float)\n",
    "target = np.array(target, dtype=float)"
   ]
  },
  {
   "cell_type": "code",
   "execution_count": 4,
   "metadata": {
    "ExecuteTime": {
     "end_time": "2019-08-11T17:00:38.751570Z",
     "start_time": "2019-08-11T17:00:38.736033Z"
    }
   },
   "outputs": [
    {
     "data": {
      "text/plain": [
       "(100, 5, 1)"
      ]
     },
     "execution_count": 4,
     "metadata": {},
     "output_type": "execute_result"
    }
   ],
   "source": [
    "data.shape"
   ]
  },
  {
   "cell_type": "code",
   "execution_count": 5,
   "metadata": {
    "ExecuteTime": {
     "end_time": "2019-08-11T17:00:38.770052Z",
     "start_time": "2019-08-11T17:00:38.759672Z"
    }
   },
   "outputs": [
    {
     "data": {
      "text/plain": [
       "(100,)"
      ]
     },
     "execution_count": 5,
     "metadata": {},
     "output_type": "execute_result"
    }
   ],
   "source": [
    "target.shape"
   ]
  },
  {
   "cell_type": "code",
   "execution_count": 6,
   "metadata": {
    "ExecuteTime": {
     "end_time": "2019-08-11T17:00:38.814324Z",
     "start_time": "2019-08-11T17:00:38.776988Z"
    }
   },
   "outputs": [],
   "source": [
    "x_train, x_test, y_train, y_test = train_test_split(data,target,test_size=0.2, random_state = 4)\n"
   ]
  },
  {
   "cell_type": "code",
   "execution_count": 7,
   "metadata": {
    "ExecuteTime": {
     "end_time": "2019-08-11T17:00:38.857834Z",
     "start_time": "2019-08-11T17:00:38.827701Z"
    }
   },
   "outputs": [],
   "source": [
    "model = Sequential()"
   ]
  },
  {
   "cell_type": "code",
   "execution_count": 8,
   "metadata": {
    "ExecuteTime": {
     "end_time": "2019-08-11T17:00:39.257299Z",
     "start_time": "2019-08-11T17:00:38.860366Z"
    }
   },
   "outputs": [
    {
     "name": "stdout",
     "output_type": "stream",
     "text": [
      "WARNING:tensorflow:From /Users/jackselbo/anaconda3/lib/python3.7/site-packages/tensorflow/python/framework/op_def_library.py:263: colocate_with (from tensorflow.python.framework.ops) is deprecated and will be removed in a future version.\n",
      "Instructions for updating:\n",
      "Colocations handled automatically by placer.\n"
     ]
    }
   ],
   "source": [
    "model.add(LSTM((1), batch_input_shape=(None,5,1), return_sequences=False))\n",
    "# model.add(LSTM((1), return_sequences=False))\n"
   ]
  },
  {
   "cell_type": "code",
   "execution_count": 9,
   "metadata": {
    "ExecuteTime": {
     "end_time": "2019-08-11T17:00:39.297799Z",
     "start_time": "2019-08-11T17:00:39.260244Z"
    }
   },
   "outputs": [],
   "source": [
    "model.compile(loss='mean_absolute_error', optimizer='adam', metrics=['accuracy'])\n"
   ]
  },
  {
   "cell_type": "code",
   "execution_count": 10,
   "metadata": {
    "ExecuteTime": {
     "end_time": "2019-08-11T17:00:39.312200Z",
     "start_time": "2019-08-11T17:00:39.299571Z"
    }
   },
   "outputs": [
    {
     "name": "stdout",
     "output_type": "stream",
     "text": [
      "_________________________________________________________________\n",
      "Layer (type)                 Output Shape              Param #   \n",
      "=================================================================\n",
      "lstm_1 (LSTM)                (None, 1)                 12        \n",
      "=================================================================\n",
      "Total params: 12\n",
      "Trainable params: 12\n",
      "Non-trainable params: 0\n",
      "_________________________________________________________________\n"
     ]
    }
   ],
   "source": [
    "model.summary()"
   ]
  },
  {
   "cell_type": "code",
   "execution_count": 11,
   "metadata": {
    "ExecuteTime": {
     "end_time": "2019-08-11T17:00:39.442581Z",
     "start_time": "2019-08-11T17:00:39.314984Z"
    }
   },
   "outputs": [],
   "source": [
    "results = model.predict(x_test)"
   ]
  },
  {
   "cell_type": "code",
   "execution_count": 12,
   "metadata": {
    "ExecuteTime": {
     "end_time": "2019-08-11T17:00:39.595518Z",
     "start_time": "2019-08-11T17:00:39.444709Z"
    }
   },
   "outputs": [
    {
     "data": {
      "image/png": "[encoded data removed]",
      "text/plain": [
       "<Figure size 432x288 with 1 Axes>"
      ]
     },
     "metadata": {
      "needs_background": "light"
     },
     "output_type": "display_data"
    }
   ],
   "source": [
    "plt.scatter(range(20),results,c='r')\n",
    "plt.scatter(range(20),y_test,c='g')\n",
    "plt.show()\n"
   ]
  },
  {
   "cell_type": "code",
   "execution_count": 13,
   "metadata": {
    "ExecuteTime": {
     "end_time": "2019-08-11T17:00:39.658673Z",
     "start_time": "2019-08-11T17:00:39.597812Z"
    }
   },
   "outputs": [],
   "source": [
    "model.compile(loss='mean_absolute_error',optimizer='adam', metrics=['accuracy'])"
   ]
  },
  {
   "cell_type": "code",
   "execution_count": 14,
   "metadata": {
    "ExecuteTime": {
     "end_time": "2019-08-11T17:00:39.665425Z",
     "start_time": "2019-08-11T17:00:39.661354Z"
    }
   },
   "outputs": [
    {
     "name": "stdout",
     "output_type": "stream",
     "text": [
      "_________________________________________________________________\n",
      "Layer (type)                 Output Shape              Param #   \n",
      "=================================================================\n",
      "lstm_1 (LSTM)                (None, 1)                 12        \n",
      "=================================================================\n",
      "Total params: 12\n",
      "Trainable params: 12\n",
      "Non-trainable params: 0\n",
      "_________________________________________________________________\n"
     ]
    }
   ],
   "source": [
    "model.summary()"
   ]
  },
  {
   "cell_type": "code",
   "execution_count": 15,
   "metadata": {
    "ExecuteTime": {
     "end_time": "2019-08-11T17:00:49.902196Z",
     "start_time": "2019-08-11T17:00:39.667872Z"
    }
   },
   "outputs": [
    {
     "name": "stdout",
     "output_type": "stream",
     "text": [
      "WARNING:tensorflow:From /Users/jackselbo/anaconda3/lib/python3.7/site-packages/tensorflow/python/ops/math_ops.py:3066: to_int32 (from tensorflow.python.ops.math_ops) is deprecated and will be removed in a future version.\n",
      "Instructions for updating:\n",
      "Use tf.cast instead.\n",
      "Train on 80 samples, validate on 20 samples\n",
      "Epoch 1/400\n",
      "80/80 [==============================] - 1s 8ms/step - loss: 0.8257 - acc: 0.0000e+00 - val_loss: 0.6777 - val_acc: 0.0000e+00\n",
      "Epoch 2/400\n",
      "80/80 [==============================] - 0s 219us/step - loss: 0.8224 - acc: 0.0000e+00 - val_loss: 0.6745 - val_acc: 0.0000e+00\n",
      "Epoch 3/400\n",
      "80/80 [==============================] - 0s 501us/step - loss: 0.8192 - acc: 0.0000e+00 - val_loss: 0.6713 - val_acc: 0.0000e+00\n",
      "Epoch 4/400\n",
      "80/80 [==============================] - 0s 463us/step - loss: 0.8159 - acc: 0.0000e+00 - val_loss: 0.6682 - val_acc: 0.0000e+00\n",
      "Epoch 5/400\n",
      "80/80 [==============================] - 0s 376us/step - loss: 0.8127 - acc: 0.0000e+00 - val_loss: 0.6650 - val_acc: 0.0000e+00\n",
      "Epoch 6/400\n",
      "80/80 [==============================] - 0s 360us/step - loss: 0.8095 - acc: 0.0000e+00 - val_loss: 0.6619 - val_acc: 0.0000e+00\n",
      "Epoch 7/400\n",
      "80/80 [==============================] - 0s 410us/step - loss: 0.8063 - acc: 0.0000e+00 - val_loss: 0.6588 - val_acc: 0.0000e+00\n",
      "Epoch 8/400\n",
      "80/80 [==============================] - 0s 335us/step - loss: 0.8031 - acc: 0.0000e+00 - val_loss: 0.6557 - val_acc: 0.0000e+00\n",
      "Epoch 9/400\n",
      "80/80 [==============================] - 0s 269us/step - loss: 0.7999 - acc: 0.0000e+00 - val_loss: 0.6526 - val_acc: 0.0000e+00\n",
      "Epoch 10/400\n",
      "80/80 [==============================] - 0s 373us/step - loss: 0.7968 - acc: 0.0000e+00 - val_loss: 0.6496 - val_acc: 0.0000e+00\n",
      "Epoch 11/400\n",
      "80/80 [==============================] - 0s 270us/step - loss: 0.7936 - acc: 0.0000e+00 - val_loss: 0.6465 - val_acc: 0.0000e+00\n",
      "Epoch 12/400\n",
      "80/80 [==============================] - 0s 323us/step - loss: 0.7905 - acc: 0.0000e+00 - val_loss: 0.6435 - val_acc: 0.0000e+00\n",
      "Epoch 13/400\n",
      "80/80 [==============================] - 0s 275us/step - loss: 0.7874 - acc: 0.0000e+00 - val_loss: 0.6405 - val_acc: 0.0000e+00\n",
      "Epoch 14/400\n",
      "80/80 [==============================] - 0s 273us/step - loss: 0.7843 - acc: 0.0000e+00 - val_loss: 0.6376 - val_acc: 0.0000e+00\n",
      "Epoch 15/400\n",
      "80/80 [==============================] - 0s 290us/step - loss: 0.7813 - acc: 0.0000e+00 - val_loss: 0.6346 - val_acc: 0.0000e+00\n",
      "Epoch 16/400\n",
      "80/80 [==============================] - 0s 302us/step - loss: 0.7782 - acc: 0.0000e+00 - val_loss: 0.6317 - val_acc: 0.0000e+00\n",
      "Epoch 17/400\n",
      "80/80 [==============================] - 0s 274us/step - loss: 0.7753 - acc: 0.0000e+00 - val_loss: 0.6288 - val_acc: 0.0000e+00\n",
      "Epoch 18/400\n",
      "80/80 [==============================] - 0s 367us/step - loss: 0.7723 - acc: 0.0000e+00 - val_loss: 0.6259 - val_acc: 0.0000e+00\n",
      "Epoch 19/400\n",
      "80/80 [==============================] - 0s 337us/step - loss: 0.7693 - acc: 0.0000e+00 - val_loss: 0.6231 - val_acc: 0.0000e+00\n",
      "Epoch 20/400\n",
      "80/80 [==============================] - 0s 348us/step - loss: 0.7664 - acc: 0.0000e+00 - val_loss: 0.6203 - val_acc: 0.0000e+00\n",
      "Epoch 21/400\n",
      "80/80 [==============================] - 0s 294us/step - loss: 0.7635 - acc: 0.0000e+00 - val_loss: 0.6175 - val_acc: 0.0000e+00\n",
      "Epoch 22/400\n",
      "80/80 [==============================] - 0s 342us/step - loss: 0.7606 - acc: 0.0000e+00 - val_loss: 0.6147 - val_acc: 0.0000e+00\n",
      "Epoch 23/400\n",
      "80/80 [==============================] - 0s 289us/step - loss: 0.7578 - acc: 0.0000e+00 - val_loss: 0.6120 - val_acc: 0.0000e+00\n",
      "Epoch 24/400\n",
      "80/80 [==============================] - 0s 252us/step - loss: 0.7549 - acc: 0.0000e+00 - val_loss: 0.6093 - val_acc: 0.0000e+00\n",
      "Epoch 25/400\n",
      "80/80 [==============================] - 0s 278us/step - loss: 0.7521 - acc: 0.0000e+00 - val_loss: 0.6066 - val_acc: 0.0000e+00\n",
      "Epoch 26/400\n",
      "80/80 [==============================] - 0s 353us/step - loss: 0.7493 - acc: 0.0000e+00 - val_loss: 0.6039 - val_acc: 0.0000e+00\n",
      "Epoch 27/400\n",
      "80/80 [==============================] - 0s 228us/step - loss: 0.7466 - acc: 0.0000e+00 - val_loss: 0.6013 - val_acc: 0.0000e+00\n",
      "Epoch 28/400\n",
      "80/80 [==============================] - 0s 265us/step - loss: 0.7438 - acc: 0.0000e+00 - val_loss: 0.5986 - val_acc: 0.0000e+00\n",
      "Epoch 29/400\n",
      "80/80 [==============================] - 0s 296us/step - loss: 0.7411 - acc: 0.0000e+00 - val_loss: 0.5960 - val_acc: 0.0000e+00\n",
      "Epoch 30/400\n",
      "80/80 [==============================] - 0s 291us/step - loss: 0.7384 - acc: 0.0000e+00 - val_loss: 0.5935 - val_acc: 0.0000e+00\n",
      "Epoch 31/400\n",
      "80/80 [==============================] - 0s 268us/step - loss: 0.7357 - acc: 0.0000e+00 - val_loss: 0.5909 - val_acc: 0.0000e+00\n",
      "Epoch 32/400\n",
      "80/80 [==============================] - 0s 254us/step - loss: 0.7331 - acc: 0.0000e+00 - val_loss: 0.5884 - val_acc: 0.0000e+00\n",
      "Epoch 33/400\n",
      "80/80 [==============================] - 0s 285us/step - loss: 0.7305 - acc: 0.0000e+00 - val_loss: 0.5858 - val_acc: 0.0000e+00\n",
      "Epoch 34/400\n",
      "80/80 [==============================] - 0s 295us/step - loss: 0.7278 - acc: 0.0000e+00 - val_loss: 0.5834 - val_acc: 0.0000e+00\n",
      "Epoch 35/400\n",
      "80/80 [==============================] - 0s 289us/step - loss: 0.7252 - acc: 0.0000e+00 - val_loss: 0.5809 - val_acc: 0.0000e+00\n",
      "Epoch 36/400\n",
      "80/80 [==============================] - 0s 241us/step - loss: 0.7227 - acc: 0.0000e+00 - val_loss: 0.5784 - val_acc: 0.0000e+00\n",
      "Epoch 37/400\n",
      "80/80 [==============================] - 0s 277us/step - loss: 0.7201 - acc: 0.0000e+00 - val_loss: 0.5760 - val_acc: 0.0000e+00\n",
      "Epoch 38/400\n",
      "80/80 [==============================] - 0s 242us/step - loss: 0.7176 - acc: 0.0000e+00 - val_loss: 0.5736 - val_acc: 0.0000e+00\n",
      "Epoch 39/400\n",
      "80/80 [==============================] - 0s 226us/step - loss: 0.7151 - acc: 0.0000e+00 - val_loss: 0.5713 - val_acc: 0.0000e+00\n",
      "Epoch 40/400\n",
      "80/80 [==============================] - 0s 233us/step - loss: 0.7127 - acc: 0.0000e+00 - val_loss: 0.5689 - val_acc: 0.0000e+00\n",
      "Epoch 41/400\n",
      "80/80 [==============================] - 0s 628us/step - loss: 0.7103 - acc: 0.0000e+00 - val_loss: 0.5666 - val_acc: 0.0000e+00\n",
      "Epoch 42/400\n",
      "80/80 [==============================] - 0s 212us/step - loss: 0.7079 - acc: 0.0000e+00 - val_loss: 0.5643 - val_acc: 0.0000e+00\n",
      "Epoch 43/400\n",
      "80/80 [==============================] - 0s 324us/step - loss: 0.7055 - acc: 0.0000e+00 - val_loss: 0.5620 - val_acc: 0.0000e+00\n",
      "Epoch 44/400\n",
      "80/80 [==============================] - 0s 216us/step - loss: 0.7032 - acc: 0.0000e+00 - val_loss: 0.5598 - val_acc: 0.0000e+00\n",
      "Epoch 45/400\n",
      "80/80 [==============================] - 0s 227us/step - loss: 0.7009 - acc: 0.0000e+00 - val_loss: 0.5575 - val_acc: 0.0000e+00\n",
      "Epoch 46/400\n",
      "80/80 [==============================] - 0s 250us/step - loss: 0.6986 - acc: 0.0000e+00 - val_loss: 0.5553 - val_acc: 0.0000e+00\n",
      "Epoch 47/400\n",
      "80/80 [==============================] - 0s 229us/step - loss: 0.6963 - acc: 0.0000e+00 - val_loss: 0.5532 - val_acc: 0.0000e+00\n",
      "Epoch 48/400\n",
      "80/80 [==============================] - 0s 225us/step - loss: 0.6941 - acc: 0.0000e+00 - val_loss: 0.5510 - val_acc: 0.0000e+00\n",
      "Epoch 49/400\n",
      "80/80 [==============================] - 0s 219us/step - loss: 0.6919 - acc: 0.0000e+00 - val_loss: 0.5489 - val_acc: 0.0000e+00\n",
      "Epoch 50/400\n",
      "80/80 [==============================] - 0s 229us/step - loss: 0.6897 - acc: 0.0000e+00 - val_loss: 0.5468 - val_acc: 0.0000e+00\n",
      "Epoch 51/400\n",
      "80/80 [==============================] - 0s 211us/step - loss: 0.6876 - acc: 0.0000e+00 - val_loss: 0.5447 - val_acc: 0.0000e+00\n",
      "Epoch 52/400\n",
      "80/80 [==============================] - 0s 197us/step - loss: 0.6855 - acc: 0.0000e+00 - val_loss: 0.5427 - val_acc: 0.0000e+00\n",
      "Epoch 53/400\n",
      "80/80 [==============================] - 0s 229us/step - loss: 0.6833 - acc: 0.0000e+00 - val_loss: 0.5406 - val_acc: 0.0000e+00\n",
      "Epoch 54/400\n",
      "80/80 [==============================] - 0s 226us/step - loss: 0.6813 - acc: 0.0000e+00 - val_loss: 0.5386 - val_acc: 0.0000e+00\n",
      "Epoch 55/400\n",
      "80/80 [==============================] - 0s 235us/step - loss: 0.6792 - acc: 0.0000e+00 - val_loss: 0.5366 - val_acc: 0.0000e+00\n",
      "Epoch 56/400\n"
     ]
    },
    {
     "name": "stdout",
     "output_type": "stream",
     "text": [
      "80/80 [==============================] - 0s 221us/step - loss: 0.6772 - acc: 0.0000e+00 - val_loss: 0.5346 - val_acc: 0.0000e+00\n",
      "Epoch 57/400\n",
      "80/80 [==============================] - 0s 259us/step - loss: 0.6752 - acc: 0.0000e+00 - val_loss: 0.5327 - val_acc: 0.0000e+00\n",
      "Epoch 58/400\n",
      "80/80 [==============================] - 0s 223us/step - loss: 0.6731 - acc: 0.0000e+00 - val_loss: 0.5308 - val_acc: 0.0000e+00\n",
      "Epoch 59/400\n",
      "80/80 [==============================] - 0s 275us/step - loss: 0.6712 - acc: 0.0000e+00 - val_loss: 0.5288 - val_acc: 0.0000e+00\n",
      "Epoch 60/400\n",
      "80/80 [==============================] - 0s 291us/step - loss: 0.6692 - acc: 0.0000e+00 - val_loss: 0.5269 - val_acc: 0.0000e+00\n",
      "Epoch 61/400\n",
      "80/80 [==============================] - 0s 242us/step - loss: 0.6672 - acc: 0.0000e+00 - val_loss: 0.5251 - val_acc: 0.0000e+00\n",
      "Epoch 62/400\n",
      "80/80 [==============================] - 0s 212us/step - loss: 0.6653 - acc: 0.0000e+00 - val_loss: 0.5233 - val_acc: 0.0000e+00\n",
      "Epoch 63/400\n",
      "80/80 [==============================] - 0s 214us/step - loss: 0.6633 - acc: 0.0000e+00 - val_loss: 0.5216 - val_acc: 0.0000e+00\n",
      "Epoch 64/400\n",
      "80/80 [==============================] - 0s 222us/step - loss: 0.6614 - acc: 0.0000e+00 - val_loss: 0.5198 - val_acc: 0.0000e+00\n",
      "Epoch 65/400\n",
      "80/80 [==============================] - 0s 212us/step - loss: 0.6595 - acc: 0.0000e+00 - val_loss: 0.5181 - val_acc: 0.0000e+00\n",
      "Epoch 66/400\n",
      "80/80 [==============================] - 0s 221us/step - loss: 0.6576 - acc: 0.0000e+00 - val_loss: 0.5164 - val_acc: 0.0000e+00\n",
      "Epoch 67/400\n",
      "80/80 [==============================] - 0s 263us/step - loss: 0.6557 - acc: 0.0000e+00 - val_loss: 0.5147 - val_acc: 0.0000e+00\n",
      "Epoch 68/400\n",
      "80/80 [==============================] - 0s 222us/step - loss: 0.6539 - acc: 0.0000e+00 - val_loss: 0.5130 - val_acc: 0.0000e+00\n",
      "Epoch 69/400\n",
      "80/80 [==============================] - 0s 231us/step - loss: 0.6520 - acc: 0.0000e+00 - val_loss: 0.5113 - val_acc: 0.0000e+00\n",
      "Epoch 70/400\n",
      "80/80 [==============================] - 0s 233us/step - loss: 0.6502 - acc: 0.0000e+00 - val_loss: 0.5096 - val_acc: 0.0000e+00\n",
      "Epoch 71/400\n",
      "80/80 [==============================] - 0s 279us/step - loss: 0.6484 - acc: 0.0000e+00 - val_loss: 0.5080 - val_acc: 0.0000e+00\n",
      "Epoch 72/400\n",
      "80/80 [==============================] - 0s 252us/step - loss: 0.6466 - acc: 0.0000e+00 - val_loss: 0.5063 - val_acc: 0.0000e+00\n",
      "Epoch 73/400\n",
      "80/80 [==============================] - 0s 223us/step - loss: 0.6448 - acc: 0.0000e+00 - val_loss: 0.5047 - val_acc: 0.0000e+00\n",
      "Epoch 74/400\n",
      "80/80 [==============================] - 0s 226us/step - loss: 0.6431 - acc: 0.0000e+00 - val_loss: 0.5031 - val_acc: 0.0000e+00\n",
      "Epoch 75/400\n",
      "80/80 [==============================] - 0s 228us/step - loss: 0.6413 - acc: 0.0000e+00 - val_loss: 0.5015 - val_acc: 0.0000e+00\n",
      "Epoch 76/400\n",
      "80/80 [==============================] - 0s 272us/step - loss: 0.6396 - acc: 0.0000e+00 - val_loss: 0.4999 - val_acc: 0.0000e+00\n",
      "Epoch 77/400\n",
      "80/80 [==============================] - 0s 255us/step - loss: 0.6379 - acc: 0.0000e+00 - val_loss: 0.4984 - val_acc: 0.0000e+00\n",
      "Epoch 78/400\n",
      "80/80 [==============================] - 0s 225us/step - loss: 0.6363 - acc: 0.0000e+00 - val_loss: 0.4968 - val_acc: 0.0000e+00\n",
      "Epoch 79/400\n",
      "80/80 [==============================] - 0s 207us/step - loss: 0.6346 - acc: 0.0000e+00 - val_loss: 0.4953 - val_acc: 0.0000e+00\n",
      "Epoch 80/400\n",
      "80/80 [==============================] - 0s 289us/step - loss: 0.6330 - acc: 0.0000e+00 - val_loss: 0.4938 - val_acc: 0.0000e+00\n",
      "Epoch 81/400\n",
      "80/80 [==============================] - 0s 241us/step - loss: 0.6314 - acc: 0.0000e+00 - val_loss: 0.4923 - val_acc: 0.0000e+00\n",
      "Epoch 82/400\n",
      "80/80 [==============================] - 0s 218us/step - loss: 0.6297 - acc: 0.0000e+00 - val_loss: 0.4908 - val_acc: 0.0000e+00\n",
      "Epoch 83/400\n",
      "80/80 [==============================] - 0s 246us/step - loss: 0.6281 - acc: 0.0000e+00 - val_loss: 0.4893 - val_acc: 0.0000e+00\n",
      "Epoch 84/400\n",
      "80/80 [==============================] - 0s 256us/step - loss: 0.6266 - acc: 0.0000e+00 - val_loss: 0.4879 - val_acc: 0.0000e+00\n",
      "Epoch 85/400\n",
      "80/80 [==============================] - 0s 247us/step - loss: 0.6250 - acc: 0.0000e+00 - val_loss: 0.4864 - val_acc: 0.0000e+00\n",
      "Epoch 86/400\n",
      "80/80 [==============================] - 0s 225us/step - loss: 0.6234 - acc: 0.0000e+00 - val_loss: 0.4850 - val_acc: 0.0000e+00\n",
      "Epoch 87/400\n",
      "80/80 [==============================] - 0s 239us/step - loss: 0.6219 - acc: 0.0000e+00 - val_loss: 0.4835 - val_acc: 0.0000e+00\n",
      "Epoch 88/400\n",
      "80/80 [==============================] - 0s 231us/step - loss: 0.6204 - acc: 0.0000e+00 - val_loss: 0.4821 - val_acc: 0.0000e+00\n",
      "Epoch 89/400\n",
      "80/80 [==============================] - 0s 677us/step - loss: 0.6189 - acc: 0.0000e+00 - val_loss: 0.4807 - val_acc: 0.0000e+00\n",
      "Epoch 90/400\n",
      "80/80 [==============================] - 0s 392us/step - loss: 0.6175 - acc: 0.0000e+00 - val_loss: 0.4794 - val_acc: 0.0000e+00\n",
      "Epoch 91/400\n",
      "80/80 [==============================] - 0s 277us/step - loss: 0.6160 - acc: 0.0000e+00 - val_loss: 0.4780 - val_acc: 0.0000e+00\n",
      "Epoch 92/400\n",
      "80/80 [==============================] - 0s 218us/step - loss: 0.6146 - acc: 0.0000e+00 - val_loss: 0.4766 - val_acc: 0.0000e+00\n",
      "Epoch 93/400\n",
      "80/80 [==============================] - 0s 220us/step - loss: 0.6131 - acc: 0.0000e+00 - val_loss: 0.4753 - val_acc: 0.0000e+00\n",
      "Epoch 94/400\n",
      "80/80 [==============================] - 0s 248us/step - loss: 0.6117 - acc: 0.0000e+00 - val_loss: 0.4739 - val_acc: 0.0000e+00\n",
      "Epoch 95/400\n",
      "80/80 [==============================] - 0s 234us/step - loss: 0.6103 - acc: 0.0000e+00 - val_loss: 0.4726 - val_acc: 0.0000e+00\n",
      "Epoch 96/400\n",
      "80/80 [==============================] - 0s 222us/step - loss: 0.6089 - acc: 0.0000e+00 - val_loss: 0.4713 - val_acc: 0.0000e+00\n",
      "Epoch 97/400\n",
      "80/80 [==============================] - 0s 204us/step - loss: 0.6074 - acc: 0.0000e+00 - val_loss: 0.4700 - val_acc: 0.0000e+00\n",
      "Epoch 98/400\n",
      "80/80 [==============================] - 0s 208us/step - loss: 0.6061 - acc: 0.0000e+00 - val_loss: 0.4686 - val_acc: 0.0000e+00\n",
      "Epoch 99/400\n",
      "80/80 [==============================] - 0s 251us/step - loss: 0.6047 - acc: 0.0000e+00 - val_loss: 0.4673 - val_acc: 0.0000e+00\n",
      "Epoch 100/400\n",
      "80/80 [==============================] - 0s 242us/step - loss: 0.6034 - acc: 0.0000e+00 - val_loss: 0.4661 - val_acc: 0.0000e+00\n",
      "Epoch 101/400\n",
      "80/80 [==============================] - 0s 235us/step - loss: 0.6020 - acc: 0.0000e+00 - val_loss: 0.4648 - val_acc: 0.0000e+00\n",
      "Epoch 102/400\n",
      "80/80 [==============================] - 0s 224us/step - loss: 0.6007 - acc: 0.0000e+00 - val_loss: 0.4635 - val_acc: 0.0000e+00\n",
      "Epoch 103/400\n",
      "80/80 [==============================] - 0s 231us/step - loss: 0.5994 - acc: 0.0000e+00 - val_loss: 0.4623 - val_acc: 0.0000e+00\n",
      "Epoch 104/400\n",
      "80/80 [==============================] - 0s 253us/step - loss: 0.5981 - acc: 0.0000e+00 - val_loss: 0.4610 - val_acc: 0.0000e+00\n",
      "Epoch 105/400\n",
      "80/80 [==============================] - 0s 234us/step - loss: 0.5968 - acc: 0.0000e+00 - val_loss: 0.4598 - val_acc: 0.0000e+00\n",
      "Epoch 106/400\n",
      "80/80 [==============================] - 0s 238us/step - loss: 0.5955 - acc: 0.0000e+00 - val_loss: 0.4586 - val_acc: 0.0000e+00\n",
      "Epoch 107/400\n",
      "80/80 [==============================] - 0s 232us/step - loss: 0.5943 - acc: 0.0000e+00 - val_loss: 0.4573 - val_acc: 0.0000e+00\n",
      "Epoch 108/400\n",
      "80/80 [==============================] - 0s 219us/step - loss: 0.5930 - acc: 0.0000e+00 - val_loss: 0.4561 - val_acc: 0.0000e+00\n",
      "Epoch 109/400\n",
      "80/80 [==============================] - 0s 219us/step - loss: 0.5917 - acc: 0.0000e+00 - val_loss: 0.4549 - val_acc: 0.0000e+00\n",
      "Epoch 110/400\n",
      "80/80 [==============================] - 0s 232us/step - loss: 0.5905 - acc: 0.0000e+00 - val_loss: 0.4537 - val_acc: 0.0000e+00\n",
      "Epoch 111/400\n",
      "80/80 [==============================] - 0s 221us/step - loss: 0.5892 - acc: 0.0000e+00 - val_loss: 0.4525 - val_acc: 0.0000e+00\n",
      "Epoch 112/400\n",
      "80/80 [==============================] - 0s 329us/step - loss: 0.5880 - acc: 0.0000e+00 - val_loss: 0.4513 - val_acc: 0.0000e+00\n",
      "Epoch 113/400\n",
      "80/80 [==============================] - 0s 278us/step - loss: 0.5868 - acc: 0.0000e+00 - val_loss: 0.4501 - val_acc: 0.0000e+00\n"
     ]
    },
    {
     "name": "stdout",
     "output_type": "stream",
     "text": [
      "Epoch 114/400\n",
      "80/80 [==============================] - 0s 222us/step - loss: 0.5856 - acc: 0.0000e+00 - val_loss: 0.4489 - val_acc: 0.0000e+00\n",
      "Epoch 115/400\n",
      "80/80 [==============================] - 0s 272us/step - loss: 0.5844 - acc: 0.0000e+00 - val_loss: 0.4477 - val_acc: 0.0000e+00\n",
      "Epoch 116/400\n",
      "80/80 [==============================] - 0s 238us/step - loss: 0.5832 - acc: 0.0000e+00 - val_loss: 0.4466 - val_acc: 0.0000e+00\n",
      "Epoch 117/400\n",
      "80/80 [==============================] - 0s 223us/step - loss: 0.5820 - acc: 0.0000e+00 - val_loss: 0.4454 - val_acc: 0.0000e+00\n",
      "Epoch 118/400\n",
      "80/80 [==============================] - 0s 221us/step - loss: 0.5809 - acc: 0.0000e+00 - val_loss: 0.4443 - val_acc: 0.0000e+00\n",
      "Epoch 119/400\n",
      "80/80 [==============================] - 0s 213us/step - loss: 0.5797 - acc: 0.0000e+00 - val_loss: 0.4432 - val_acc: 0.0000e+00\n",
      "Epoch 120/400\n",
      "80/80 [==============================] - 0s 223us/step - loss: 0.5786 - acc: 0.0000e+00 - val_loss: 0.4420 - val_acc: 0.0000e+00\n",
      "Epoch 121/400\n",
      "80/80 [==============================] - 0s 243us/step - loss: 0.5774 - acc: 0.0000e+00 - val_loss: 0.4409 - val_acc: 0.0000e+00\n",
      "Epoch 122/400\n",
      "80/80 [==============================] - 0s 237us/step - loss: 0.5763 - acc: 0.0000e+00 - val_loss: 0.4398 - val_acc: 0.0000e+00\n",
      "Epoch 123/400\n",
      "80/80 [==============================] - 0s 204us/step - loss: 0.5751 - acc: 0.0000e+00 - val_loss: 0.4386 - val_acc: 0.0000e+00\n",
      "Epoch 124/400\n",
      "80/80 [==============================] - 0s 236us/step - loss: 0.5740 - acc: 0.0000e+00 - val_loss: 0.4375 - val_acc: 0.0000e+00\n",
      "Epoch 125/400\n",
      "80/80 [==============================] - 0s 234us/step - loss: 0.5729 - acc: 0.0000e+00 - val_loss: 0.4364 - val_acc: 0.0000e+00\n",
      "Epoch 126/400\n",
      "80/80 [==============================] - 0s 231us/step - loss: 0.5718 - acc: 0.0000e+00 - val_loss: 0.4353 - val_acc: 0.0000e+00\n",
      "Epoch 127/400\n",
      "80/80 [==============================] - 0s 272us/step - loss: 0.5707 - acc: 0.0000e+00 - val_loss: 0.4342 - val_acc: 0.0000e+00\n",
      "Epoch 128/400\n",
      "80/80 [==============================] - 0s 226us/step - loss: 0.5696 - acc: 0.0000e+00 - val_loss: 0.4331 - val_acc: 0.0000e+00\n",
      "Epoch 129/400\n",
      "80/80 [==============================] - 0s 240us/step - loss: 0.5685 - acc: 0.0000e+00 - val_loss: 0.4320 - val_acc: 0.0000e+00\n",
      "Epoch 130/400\n",
      "80/80 [==============================] - 0s 238us/step - loss: 0.5674 - acc: 0.0000e+00 - val_loss: 0.4309 - val_acc: 0.0000e+00\n",
      "Epoch 131/400\n",
      "80/80 [==============================] - 0s 284us/step - loss: 0.5664 - acc: 0.0000e+00 - val_loss: 0.4298 - val_acc: 0.0000e+00\n",
      "Epoch 132/400\n",
      "80/80 [==============================] - 0s 226us/step - loss: 0.5654 - acc: 0.0000e+00 - val_loss: 0.4287 - val_acc: 0.0000e+00\n",
      "Epoch 133/400\n",
      "80/80 [==============================] - 0s 232us/step - loss: 0.5643 - acc: 0.0000e+00 - val_loss: 0.4277 - val_acc: 0.0000e+00\n",
      "Epoch 134/400\n",
      "80/80 [==============================] - 0s 223us/step - loss: 0.5633 - acc: 0.0000e+00 - val_loss: 0.4266 - val_acc: 0.0000e+00\n",
      "Epoch 135/400\n",
      "80/80 [==============================] - 0s 230us/step - loss: 0.5623 - acc: 0.0000e+00 - val_loss: 0.4256 - val_acc: 0.0000e+00\n",
      "Epoch 136/400\n",
      "80/80 [==============================] - 0s 621us/step - loss: 0.5612 - acc: 0.0000e+00 - val_loss: 0.4246 - val_acc: 0.0000e+00\n",
      "Epoch 137/400\n",
      "80/80 [==============================] - 0s 264us/step - loss: 0.5602 - acc: 0.0000e+00 - val_loss: 0.4235 - val_acc: 0.0000e+00\n",
      "Epoch 138/400\n",
      "80/80 [==============================] - 0s 474us/step - loss: 0.5592 - acc: 0.0000e+00 - val_loss: 0.4225 - val_acc: 0.0000e+00\n",
      "Epoch 139/400\n",
      "80/80 [==============================] - 0s 233us/step - loss: 0.5582 - acc: 0.0000e+00 - val_loss: 0.4214 - val_acc: 0.0000e+00\n",
      "Epoch 140/400\n",
      "80/80 [==============================] - 0s 225us/step - loss: 0.5572 - acc: 0.0000e+00 - val_loss: 0.4204 - val_acc: 0.0000e+00\n",
      "Epoch 141/400\n",
      "80/80 [==============================] - 0s 271us/step - loss: 0.5562 - acc: 0.0000e+00 - val_loss: 0.4193 - val_acc: 0.0000e+00\n",
      "Epoch 142/400\n",
      "80/80 [==============================] - 0s 220us/step - loss: 0.5551 - acc: 0.0000e+00 - val_loss: 0.4183 - val_acc: 0.0000e+00\n",
      "Epoch 143/400\n",
      "80/80 [==============================] - 0s 232us/step - loss: 0.5542 - acc: 0.0000e+00 - val_loss: 0.4172 - val_acc: 0.0000e+00\n",
      "Epoch 144/400\n",
      "80/80 [==============================] - 0s 204us/step - loss: 0.5532 - acc: 0.0000e+00 - val_loss: 0.4162 - val_acc: 0.0000e+00\n",
      "Epoch 145/400\n",
      "80/80 [==============================] - 0s 220us/step - loss: 0.5523 - acc: 0.0000e+00 - val_loss: 0.4152 - val_acc: 0.0000e+00\n",
      "Epoch 146/400\n",
      "80/80 [==============================] - 0s 218us/step - loss: 0.5513 - acc: 0.0000e+00 - val_loss: 0.4142 - val_acc: 0.0000e+00\n",
      "Epoch 147/400\n",
      "80/80 [==============================] - 0s 220us/step - loss: 0.5503 - acc: 0.0000e+00 - val_loss: 0.4132 - val_acc: 0.0000e+00\n",
      "Epoch 148/400\n",
      "80/80 [==============================] - 0s 228us/step - loss: 0.5494 - acc: 0.0000e+00 - val_loss: 0.4122 - val_acc: 0.0000e+00\n",
      "Epoch 149/400\n",
      "80/80 [==============================] - 0s 180us/step - loss: 0.5484 - acc: 0.0000e+00 - val_loss: 0.4111 - val_acc: 0.0000e+00\n",
      "Epoch 150/400\n",
      "80/80 [==============================] - 0s 207us/step - loss: 0.5475 - acc: 0.0000e+00 - val_loss: 0.4101 - val_acc: 0.0000e+00\n",
      "Epoch 151/400\n",
      "80/80 [==============================] - 0s 237us/step - loss: 0.5465 - acc: 0.0000e+00 - val_loss: 0.4091 - val_acc: 0.0000e+00\n",
      "Epoch 152/400\n",
      "80/80 [==============================] - 0s 334us/step - loss: 0.5456 - acc: 0.0000e+00 - val_loss: 0.4081 - val_acc: 0.0000e+00\n",
      "Epoch 153/400\n",
      "80/80 [==============================] - 0s 269us/step - loss: 0.5446 - acc: 0.0000e+00 - val_loss: 0.4071 - val_acc: 0.0000e+00\n",
      "Epoch 154/400\n",
      "80/80 [==============================] - 0s 250us/step - loss: 0.5437 - acc: 0.0000e+00 - val_loss: 0.4061 - val_acc: 0.0000e+00\n",
      "Epoch 155/400\n",
      "80/80 [==============================] - 0s 219us/step - loss: 0.5427 - acc: 0.0000e+00 - val_loss: 0.4051 - val_acc: 0.0000e+00\n",
      "Epoch 156/400\n",
      "80/80 [==============================] - 0s 258us/step - loss: 0.5418 - acc: 0.0000e+00 - val_loss: 0.4041 - val_acc: 0.0000e+00\n",
      "Epoch 157/400\n",
      "80/80 [==============================] - 0s 222us/step - loss: 0.5408 - acc: 0.0000e+00 - val_loss: 0.4031 - val_acc: 0.0000e+00\n",
      "Epoch 158/400\n",
      "80/80 [==============================] - 0s 262us/step - loss: 0.5399 - acc: 0.0000e+00 - val_loss: 0.4021 - val_acc: 0.0000e+00\n",
      "Epoch 159/400\n",
      "80/80 [==============================] - 0s 276us/step - loss: 0.5390 - acc: 0.0000e+00 - val_loss: 0.4010 - val_acc: 0.0000e+00\n",
      "Epoch 160/400\n",
      "80/80 [==============================] - 0s 229us/step - loss: 0.5381 - acc: 0.0000e+00 - val_loss: 0.4000 - val_acc: 0.0000e+00\n",
      "Epoch 161/400\n",
      "80/80 [==============================] - 0s 247us/step - loss: 0.5371 - acc: 0.0000e+00 - val_loss: 0.3990 - val_acc: 0.0000e+00\n",
      "Epoch 162/400\n",
      "80/80 [==============================] - 0s 244us/step - loss: 0.5362 - acc: 0.0000e+00 - val_loss: 0.3980 - val_acc: 0.0000e+00\n",
      "Epoch 163/400\n",
      "80/80 [==============================] - 0s 243us/step - loss: 0.5353 - acc: 0.0000e+00 - val_loss: 0.3970 - val_acc: 0.0000e+00\n",
      "Epoch 164/400\n",
      "80/80 [==============================] - 0s 218us/step - loss: 0.5344 - acc: 0.0000e+00 - val_loss: 0.3960 - val_acc: 0.0000e+00\n",
      "Epoch 165/400\n",
      "80/80 [==============================] - 0s 218us/step - loss: 0.5335 - acc: 0.0000e+00 - val_loss: 0.3949 - val_acc: 0.0000e+00\n",
      "Epoch 166/400\n",
      "80/80 [==============================] - 0s 254us/step - loss: 0.5325 - acc: 0.0000e+00 - val_loss: 0.3939 - val_acc: 0.0000e+00\n",
      "Epoch 167/400\n",
      "80/80 [==============================] - 0s 254us/step - loss: 0.5317 - acc: 0.0000e+00 - val_loss: 0.3929 - val_acc: 0.0000e+00\n",
      "Epoch 168/400\n",
      "80/80 [==============================] - 0s 233us/step - loss: 0.5307 - acc: 0.0000e+00 - val_loss: 0.3919 - val_acc: 0.0000e+00\n",
      "Epoch 169/400\n",
      "80/80 [==============================] - 0s 226us/step - loss: 0.5298 - acc: 0.0000e+00 - val_loss: 0.3909 - val_acc: 0.0000e+00\n",
      "Epoch 170/400\n",
      "80/80 [==============================] - 0s 208us/step - loss: 0.5289 - acc: 0.0000e+00 - val_loss: 0.3900 - val_acc: 0.0000e+00\n",
      "Epoch 171/400\n"
     ]
    },
    {
     "name": "stdout",
     "output_type": "stream",
     "text": [
      "80/80 [==============================] - 0s 215us/step - loss: 0.5280 - acc: 0.0000e+00 - val_loss: 0.3891 - val_acc: 0.0000e+00\n",
      "Epoch 172/400\n",
      "80/80 [==============================] - 0s 342us/step - loss: 0.5270 - acc: 0.0000e+00 - val_loss: 0.3881 - val_acc: 0.0000e+00\n",
      "Epoch 173/400\n",
      "80/80 [==============================] - 0s 246us/step - loss: 0.5261 - acc: 0.0000e+00 - val_loss: 0.3872 - val_acc: 0.0000e+00\n",
      "Epoch 174/400\n",
      "80/80 [==============================] - 0s 236us/step - loss: 0.5251 - acc: 0.0000e+00 - val_loss: 0.3862 - val_acc: 0.0000e+00\n",
      "Epoch 175/400\n",
      "80/80 [==============================] - 0s 277us/step - loss: 0.5242 - acc: 0.0000e+00 - val_loss: 0.3853 - val_acc: 0.0000e+00\n",
      "Epoch 176/400\n",
      "80/80 [==============================] - 0s 213us/step - loss: 0.5232 - acc: 0.0000e+00 - val_loss: 0.3843 - val_acc: 0.0000e+00\n",
      "Epoch 177/400\n",
      "80/80 [==============================] - 0s 214us/step - loss: 0.5223 - acc: 0.0000e+00 - val_loss: 0.3833 - val_acc: 0.0000e+00\n",
      "Epoch 178/400\n",
      "80/80 [==============================] - 0s 225us/step - loss: 0.5213 - acc: 0.0000e+00 - val_loss: 0.3823 - val_acc: 0.0000e+00\n",
      "Epoch 179/400\n",
      "80/80 [==============================] - 0s 227us/step - loss: 0.5203 - acc: 0.0000e+00 - val_loss: 0.3813 - val_acc: 0.0000e+00\n",
      "Epoch 180/400\n",
      "80/80 [==============================] - 0s 219us/step - loss: 0.5194 - acc: 0.0000e+00 - val_loss: 0.3803 - val_acc: 0.0000e+00\n",
      "Epoch 181/400\n",
      "80/80 [==============================] - 0s 266us/step - loss: 0.5184 - acc: 0.0000e+00 - val_loss: 0.3794 - val_acc: 0.0000e+00\n",
      "Epoch 182/400\n",
      "80/80 [==============================] - 0s 249us/step - loss: 0.5175 - acc: 0.0000e+00 - val_loss: 0.3784 - val_acc: 0.0000e+00\n",
      "Epoch 183/400\n",
      "80/80 [==============================] - 0s 716us/step - loss: 0.5164 - acc: 0.0000e+00 - val_loss: 0.3774 - val_acc: 0.0000e+00\n",
      "Epoch 184/400\n",
      "80/80 [==============================] - 0s 354us/step - loss: 0.5155 - acc: 0.0000e+00 - val_loss: 0.3764 - val_acc: 0.0000e+00\n",
      "Epoch 185/400\n",
      "80/80 [==============================] - 0s 210us/step - loss: 0.5146 - acc: 0.0000e+00 - val_loss: 0.3754 - val_acc: 0.0000e+00\n",
      "Epoch 186/400\n",
      "80/80 [==============================] - 0s 217us/step - loss: 0.5136 - acc: 0.0000e+00 - val_loss: 0.3744 - val_acc: 0.0000e+00\n",
      "Epoch 187/400\n",
      "80/80 [==============================] - 0s 252us/step - loss: 0.5127 - acc: 0.0000e+00 - val_loss: 0.3734 - val_acc: 0.0000e+00\n",
      "Epoch 188/400\n",
      "80/80 [==============================] - 0s 201us/step - loss: 0.5117 - acc: 0.0000e+00 - val_loss: 0.3725 - val_acc: 0.0000e+00\n",
      "Epoch 189/400\n",
      "80/80 [==============================] - 0s 224us/step - loss: 0.5107 - acc: 0.0000e+00 - val_loss: 0.3715 - val_acc: 0.0000e+00\n",
      "Epoch 190/400\n",
      "80/80 [==============================] - 0s 228us/step - loss: 0.5098 - acc: 0.0000e+00 - val_loss: 0.3704 - val_acc: 0.0000e+00\n",
      "Epoch 191/400\n",
      "80/80 [==============================] - 0s 218us/step - loss: 0.5088 - acc: 0.0000e+00 - val_loss: 0.3694 - val_acc: 0.0000e+00\n",
      "Epoch 192/400\n",
      "80/80 [==============================] - 0s 235us/step - loss: 0.5078 - acc: 0.0000e+00 - val_loss: 0.3684 - val_acc: 0.0000e+00\n",
      "Epoch 193/400\n",
      "80/80 [==============================] - 0s 240us/step - loss: 0.5068 - acc: 0.0000e+00 - val_loss: 0.3673 - val_acc: 0.0000e+00\n",
      "Epoch 194/400\n",
      "80/80 [==============================] - 0s 225us/step - loss: 0.5058 - acc: 0.0000e+00 - val_loss: 0.3662 - val_acc: 0.0000e+00\n",
      "Epoch 195/400\n",
      "80/80 [==============================] - 0s 205us/step - loss: 0.5049 - acc: 0.0000e+00 - val_loss: 0.3652 - val_acc: 0.0000e+00\n",
      "Epoch 196/400\n",
      "80/80 [==============================] - 0s 222us/step - loss: 0.5039 - acc: 0.0000e+00 - val_loss: 0.3641 - val_acc: 0.0000e+00\n",
      "Epoch 197/400\n",
      "80/80 [==============================] - 0s 220us/step - loss: 0.5029 - acc: 0.0000e+00 - val_loss: 0.3631 - val_acc: 0.0000e+00\n",
      "Epoch 198/400\n",
      "80/80 [==============================] - 0s 230us/step - loss: 0.5019 - acc: 0.0000e+00 - val_loss: 0.3620 - val_acc: 0.0000e+00\n",
      "Epoch 199/400\n",
      "80/80 [==============================] - 0s 284us/step - loss: 0.5009 - acc: 0.0000e+00 - val_loss: 0.3609 - val_acc: 0.0000e+00\n",
      "Epoch 200/400\n",
      "80/80 [==============================] - 0s 236us/step - loss: 0.4999 - acc: 0.0000e+00 - val_loss: 0.3598 - val_acc: 0.0000e+00\n",
      "Epoch 201/400\n",
      "80/80 [==============================] - 0s 268us/step - loss: 0.4989 - acc: 0.0000e+00 - val_loss: 0.3587 - val_acc: 0.0000e+00\n",
      "Epoch 202/400\n",
      "80/80 [==============================] - 0s 261us/step - loss: 0.4979 - acc: 0.0000e+00 - val_loss: 0.3576 - val_acc: 0.0000e+00\n",
      "Epoch 203/400\n",
      "80/80 [==============================] - 0s 231us/step - loss: 0.4969 - acc: 0.0000e+00 - val_loss: 0.3566 - val_acc: 0.0000e+00\n",
      "Epoch 204/400\n",
      "80/80 [==============================] - 0s 231us/step - loss: 0.4958 - acc: 0.0000e+00 - val_loss: 0.3556 - val_acc: 0.0000e+00\n",
      "Epoch 205/400\n",
      "80/80 [==============================] - 0s 247us/step - loss: 0.4947 - acc: 0.0000e+00 - val_loss: 0.3546 - val_acc: 0.0000e+00\n",
      "Epoch 206/400\n",
      "80/80 [==============================] - 0s 220us/step - loss: 0.4937 - acc: 0.0000e+00 - val_loss: 0.3536 - val_acc: 0.0000e+00\n",
      "Epoch 207/400\n",
      "80/80 [==============================] - 0s 217us/step - loss: 0.4926 - acc: 0.0000e+00 - val_loss: 0.3525 - val_acc: 0.0000e+00\n",
      "Epoch 208/400\n",
      "80/80 [==============================] - 0s 226us/step - loss: 0.4916 - acc: 0.0000e+00 - val_loss: 0.3515 - val_acc: 0.0000e+00\n",
      "Epoch 209/400\n",
      "80/80 [==============================] - 0s 219us/step - loss: 0.4904 - acc: 0.0000e+00 - val_loss: 0.3505 - val_acc: 0.0000e+00\n",
      "Epoch 210/400\n",
      "80/80 [==============================] - 0s 259us/step - loss: 0.4893 - acc: 0.0000e+00 - val_loss: 0.3494 - val_acc: 0.0000e+00\n",
      "Epoch 211/400\n",
      "80/80 [==============================] - 0s 234us/step - loss: 0.4882 - acc: 0.0000e+00 - val_loss: 0.3483 - val_acc: 0.0000e+00\n",
      "Epoch 212/400\n",
      "80/80 [==============================] - 0s 232us/step - loss: 0.4871 - acc: 0.0000e+00 - val_loss: 0.3472 - val_acc: 0.0000e+00\n",
      "Epoch 213/400\n",
      "80/80 [==============================] - 0s 234us/step - loss: 0.4860 - acc: 0.0000e+00 - val_loss: 0.3463 - val_acc: 0.0000e+00\n",
      "Epoch 214/400\n",
      "80/80 [==============================] - 0s 233us/step - loss: 0.4847 - acc: 0.0000e+00 - val_loss: 0.3453 - val_acc: 0.0000e+00\n",
      "Epoch 215/400\n",
      "80/80 [==============================] - 0s 205us/step - loss: 0.4836 - acc: 0.0000e+00 - val_loss: 0.3444 - val_acc: 0.0000e+00\n",
      "Epoch 216/400\n",
      "80/80 [==============================] - 0s 228us/step - loss: 0.4825 - acc: 0.0000e+00 - val_loss: 0.3434 - val_acc: 0.0000e+00\n",
      "Epoch 217/400\n",
      "80/80 [==============================] - 0s 235us/step - loss: 0.4812 - acc: 0.0000e+00 - val_loss: 0.3424 - val_acc: 0.0000e+00\n",
      "Epoch 218/400\n",
      "80/80 [==============================] - 0s 226us/step - loss: 0.4801 - acc: 0.0000e+00 - val_loss: 0.3414 - val_acc: 0.0000e+00\n",
      "Epoch 219/400\n",
      "80/80 [==============================] - 0s 234us/step - loss: 0.4789 - acc: 0.0000e+00 - val_loss: 0.3404 - val_acc: 0.0000e+00\n",
      "Epoch 220/400\n",
      "80/80 [==============================] - 0s 230us/step - loss: 0.4776 - acc: 0.0000e+00 - val_loss: 0.3394 - val_acc: 0.0000e+00\n",
      "Epoch 221/400\n",
      "80/80 [==============================] - 0s 242us/step - loss: 0.4764 - acc: 0.0000e+00 - val_loss: 0.3383 - val_acc: 0.0000e+00\n",
      "Epoch 222/400\n",
      "80/80 [==============================] - 0s 233us/step - loss: 0.4752 - acc: 0.0000e+00 - val_loss: 0.3372 - val_acc: 0.0000e+00\n",
      "Epoch 223/400\n",
      "80/80 [==============================] - 0s 226us/step - loss: 0.4739 - acc: 0.0000e+00 - val_loss: 0.3362 - val_acc: 0.0000e+00\n",
      "Epoch 224/400\n",
      "80/80 [==============================] - 0s 230us/step - loss: 0.4727 - acc: 0.0000e+00 - val_loss: 0.3351 - val_acc: 0.0000e+00\n",
      "Epoch 225/400\n",
      "80/80 [==============================] - 0s 228us/step - loss: 0.4714 - acc: 0.0000e+00 - val_loss: 0.3340 - val_acc: 0.0000e+00\n",
      "Epoch 226/400\n",
      "80/80 [==============================] - 0s 277us/step - loss: 0.4701 - acc: 0.0000e+00 - val_loss: 0.3329 - val_acc: 0.0000e+00\n",
      "Epoch 227/400\n",
      "80/80 [==============================] - 0s 239us/step - loss: 0.4688 - acc: 0.0000e+00 - val_loss: 0.3318 - val_acc: 0.0000e+00\n",
      "Epoch 228/400\n"
     ]
    },
    {
     "name": "stdout",
     "output_type": "stream",
     "text": [
      "80/80 [==============================] - 0s 247us/step - loss: 0.4675 - acc: 0.0000e+00 - val_loss: 0.3308 - val_acc: 0.0000e+00\n",
      "Epoch 229/400\n",
      "80/80 [==============================] - 0s 238us/step - loss: 0.4662 - acc: 0.0000e+00 - val_loss: 0.3298 - val_acc: 0.0000e+00\n",
      "Epoch 230/400\n",
      "80/80 [==============================] - 0s 672us/step - loss: 0.4648 - acc: 0.0000e+00 - val_loss: 0.3288 - val_acc: 0.0000e+00\n",
      "Epoch 231/400\n",
      "80/80 [==============================] - 0s 319us/step - loss: 0.4635 - acc: 0.0000e+00 - val_loss: 0.3278 - val_acc: 0.0000e+00\n",
      "Epoch 232/400\n",
      "80/80 [==============================] - 0s 261us/step - loss: 0.4621 - acc: 0.0000e+00 - val_loss: 0.3268 - val_acc: 0.0000e+00\n",
      "Epoch 233/400\n",
      "80/80 [==============================] - 0s 203us/step - loss: 0.4607 - acc: 0.0000e+00 - val_loss: 0.3258 - val_acc: 0.0000e+00\n",
      "Epoch 234/400\n",
      "80/80 [==============================] - 0s 232us/step - loss: 0.4593 - acc: 0.0000e+00 - val_loss: 0.3248 - val_acc: 0.0000e+00\n",
      "Epoch 235/400\n",
      "80/80 [==============================] - 0s 224us/step - loss: 0.4579 - acc: 0.0000e+00 - val_loss: 0.3237 - val_acc: 0.0000e+00\n",
      "Epoch 236/400\n",
      "80/80 [==============================] - 0s 221us/step - loss: 0.4564 - acc: 0.0000e+00 - val_loss: 0.3226 - val_acc: 0.0000e+00\n",
      "Epoch 237/400\n",
      "80/80 [==============================] - 0s 232us/step - loss: 0.4550 - acc: 0.0000e+00 - val_loss: 0.3215 - val_acc: 0.0000e+00\n",
      "Epoch 238/400\n",
      "80/80 [==============================] - 0s 294us/step - loss: 0.4535 - acc: 0.0000e+00 - val_loss: 0.3204 - val_acc: 0.0000e+00\n",
      "Epoch 239/400\n",
      "80/80 [==============================] - 0s 245us/step - loss: 0.4520 - acc: 0.0000e+00 - val_loss: 0.3193 - val_acc: 0.0000e+00\n",
      "Epoch 240/400\n",
      "80/80 [==============================] - 0s 234us/step - loss: 0.4506 - acc: 0.0000e+00 - val_loss: 0.3182 - val_acc: 0.0000e+00\n",
      "Epoch 241/400\n",
      "80/80 [==============================] - 0s 236us/step - loss: 0.4490 - acc: 0.0000e+00 - val_loss: 0.3170 - val_acc: 0.0000e+00\n",
      "Epoch 242/400\n",
      "80/80 [==============================] - 0s 314us/step - loss: 0.4474 - acc: 0.0000e+00 - val_loss: 0.3159 - val_acc: 0.0000e+00\n",
      "Epoch 243/400\n",
      "80/80 [==============================] - 0s 236us/step - loss: 0.4460 - acc: 0.0000e+00 - val_loss: 0.3147 - val_acc: 0.0000e+00\n",
      "Epoch 244/400\n",
      "80/80 [==============================] - 0s 244us/step - loss: 0.4443 - acc: 0.0000e+00 - val_loss: 0.3135 - val_acc: 0.0000e+00\n",
      "Epoch 245/400\n",
      "80/80 [==============================] - 0s 275us/step - loss: 0.4428 - acc: 0.0000e+00 - val_loss: 0.3123 - val_acc: 0.0000e+00\n",
      "Epoch 246/400\n",
      "80/80 [==============================] - ETA: 0s - loss: 0.3854 - acc: 0.0000e+0 - 0s 316us/step - loss: 0.4413 - acc: 0.0000e+00 - val_loss: 0.3110 - val_acc: 0.0000e+00\n",
      "Epoch 247/400\n",
      "80/80 [==============================] - 0s 214us/step - loss: 0.4397 - acc: 0.0000e+00 - val_loss: 0.3098 - val_acc: 0.0000e+00\n",
      "Epoch 248/400\n",
      "80/80 [==============================] - 0s 236us/step - loss: 0.4379 - acc: 0.0000e+00 - val_loss: 0.3085 - val_acc: 0.0000e+00\n",
      "Epoch 249/400\n",
      "80/80 [==============================] - 0s 226us/step - loss: 0.4365 - acc: 0.0000e+00 - val_loss: 0.3072 - val_acc: 0.0000e+00\n",
      "Epoch 250/400\n",
      "80/80 [==============================] - 0s 221us/step - loss: 0.4348 - acc: 0.0000e+00 - val_loss: 0.3060 - val_acc: 0.0000e+00\n",
      "Epoch 251/400\n",
      "80/80 [==============================] - 0s 228us/step - loss: 0.4332 - acc: 0.0000e+00 - val_loss: 0.3047 - val_acc: 0.0000e+00\n",
      "Epoch 252/400\n",
      "80/80 [==============================] - 0s 243us/step - loss: 0.4316 - acc: 0.0000e+00 - val_loss: 0.3033 - val_acc: 0.0000e+00\n",
      "Epoch 253/400\n",
      "80/80 [==============================] - 0s 230us/step - loss: 0.4298 - acc: 0.0000e+00 - val_loss: 0.3021 - val_acc: 0.0000e+00\n",
      "Epoch 254/400\n",
      "80/80 [==============================] - 0s 234us/step - loss: 0.4282 - acc: 0.0000e+00 - val_loss: 0.3010 - val_acc: 0.0000e+00\n",
      "Epoch 255/400\n",
      "80/80 [==============================] - 0s 220us/step - loss: 0.4263 - acc: 0.0000e+00 - val_loss: 0.2998 - val_acc: 0.0000e+00\n",
      "Epoch 256/400\n",
      "80/80 [==============================] - 0s 218us/step - loss: 0.4246 - acc: 0.0000e+00 - val_loss: 0.2986 - val_acc: 0.0000e+00\n",
      "Epoch 257/400\n",
      "80/80 [==============================] - 0s 229us/step - loss: 0.4227 - acc: 0.0000e+00 - val_loss: 0.2974 - val_acc: 0.0000e+00\n",
      "Epoch 258/400\n",
      "80/80 [==============================] - 0s 243us/step - loss: 0.4209 - acc: 0.0000e+00 - val_loss: 0.2961 - val_acc: 0.0000e+00\n",
      "Epoch 259/400\n",
      "80/80 [==============================] - 0s 234us/step - loss: 0.4191 - acc: 0.0000e+00 - val_loss: 0.2949 - val_acc: 0.0000e+00\n",
      "Epoch 260/400\n",
      "80/80 [==============================] - 0s 252us/step - loss: 0.4172 - acc: 0.0000e+00 - val_loss: 0.2936 - val_acc: 0.0000e+00\n",
      "Epoch 261/400\n",
      "80/80 [==============================] - 0s 236us/step - loss: 0.4153 - acc: 0.0000e+00 - val_loss: 0.2923 - val_acc: 0.0000e+00\n",
      "Epoch 262/400\n",
      "80/80 [==============================] - 0s 251us/step - loss: 0.4135 - acc: 0.0000e+00 - val_loss: 0.2910 - val_acc: 0.0000e+00\n",
      "Epoch 263/400\n",
      "80/80 [==============================] - 0s 226us/step - loss: 0.4116 - acc: 0.0000e+00 - val_loss: 0.2897 - val_acc: 0.0000e+00\n",
      "Epoch 264/400\n",
      "80/80 [==============================] - 0s 218us/step - loss: 0.4096 - acc: 0.0000e+00 - val_loss: 0.2884 - val_acc: 0.0000e+00\n",
      "Epoch 265/400\n",
      "80/80 [==============================] - 0s 244us/step - loss: 0.4080 - acc: 0.0000e+00 - val_loss: 0.2870 - val_acc: 0.0000e+00\n",
      "Epoch 266/400\n",
      "80/80 [==============================] - 0s 238us/step - loss: 0.4058 - acc: 0.0000e+00 - val_loss: 0.2857 - val_acc: 0.0000e+00\n",
      "Epoch 267/400\n",
      "80/80 [==============================] - 0s 266us/step - loss: 0.4040 - acc: 0.0000e+00 - val_loss: 0.2843 - val_acc: 0.0000e+00\n",
      "Epoch 268/400\n",
      "80/80 [==============================] - 0s 239us/step - loss: 0.4020 - acc: 0.0000e+00 - val_loss: 0.2829 - val_acc: 0.0000e+00\n",
      "Epoch 269/400\n",
      "80/80 [==============================] - 0s 228us/step - loss: 0.4002 - acc: 0.0000e+00 - val_loss: 0.2815 - val_acc: 0.0000e+00\n",
      "Epoch 270/400\n",
      "80/80 [==============================] - 0s 220us/step - loss: 0.3982 - acc: 0.0000e+00 - val_loss: 0.2801 - val_acc: 0.0000e+00\n",
      "Epoch 271/400\n",
      "80/80 [==============================] - 0s 224us/step - loss: 0.3962 - acc: 0.0000e+00 - val_loss: 0.2787 - val_acc: 0.0000e+00\n",
      "Epoch 272/400\n",
      "80/80 [==============================] - 0s 257us/step - loss: 0.3943 - acc: 0.0000e+00 - val_loss: 0.2774 - val_acc: 0.0000e+00\n",
      "Epoch 273/400\n",
      "80/80 [==============================] - 0s 253us/step - loss: 0.3922 - acc: 0.0000e+00 - val_loss: 0.2762 - val_acc: 0.0000e+00\n",
      "Epoch 274/400\n",
      "80/80 [==============================] - 0s 222us/step - loss: 0.3901 - acc: 0.0000e+00 - val_loss: 0.2750 - val_acc: 0.0000e+00\n",
      "Epoch 275/400\n",
      "80/80 [==============================] - 0s 230us/step - loss: 0.3881 - acc: 0.0000e+00 - val_loss: 0.2737 - val_acc: 0.0000e+00\n",
      "Epoch 276/400\n",
      "80/80 [==============================] - 0s 225us/step - loss: 0.3858 - acc: 0.0000e+00 - val_loss: 0.2724 - val_acc: 0.0000e+00\n",
      "Epoch 277/400\n",
      "80/80 [==============================] - 0s 663us/step - loss: 0.3839 - acc: 0.0000e+00 - val_loss: 0.2711 - val_acc: 0.0000e+00\n",
      "Epoch 278/400\n",
      "80/80 [==============================] - 0s 231us/step - loss: 0.3816 - acc: 0.0000e+00 - val_loss: 0.2698 - val_acc: 0.0000e+00\n",
      "Epoch 279/400\n",
      "80/80 [==============================] - 0s 321us/step - loss: 0.3795 - acc: 0.0000e+00 - val_loss: 0.2684 - val_acc: 0.0000e+00\n",
      "Epoch 280/400\n",
      "80/80 [==============================] - 0s 299us/step - loss: 0.3775 - acc: 0.0000e+00 - val_loss: 0.2673 - val_acc: 0.0000e+00\n",
      "Epoch 281/400\n",
      "80/80 [==============================] - 0s 247us/step - loss: 0.3751 - acc: 0.0000e+00 - val_loss: 0.2663 - val_acc: 0.0000e+00\n",
      "Epoch 282/400\n",
      "80/80 [==============================] - 0s 266us/step - loss: 0.3729 - acc: 0.0000e+00 - val_loss: 0.2652 - val_acc: 0.0000e+00\n",
      "Epoch 283/400\n",
      "80/80 [==============================] - 0s 237us/step - loss: 0.3705 - acc: 0.0000e+00 - val_loss: 0.2641 - val_acc: 0.0000e+00\n",
      "Epoch 284/400\n",
      "80/80 [==============================] - 0s 227us/step - loss: 0.3684 - acc: 0.0000e+00 - val_loss: 0.2629 - val_acc: 0.0000e+00\n",
      "Epoch 285/400\n"
     ]
    },
    {
     "name": "stdout",
     "output_type": "stream",
     "text": [
      "80/80 [==============================] - 0s 236us/step - loss: 0.3659 - acc: 0.0000e+00 - val_loss: 0.2618 - val_acc: 0.0000e+00\n",
      "Epoch 286/400\n",
      "80/80 [==============================] - 0s 214us/step - loss: 0.3636 - acc: 0.0000e+00 - val_loss: 0.2607 - val_acc: 0.0000e+00\n",
      "Epoch 287/400\n",
      "80/80 [==============================] - 0s 264us/step - loss: 0.3616 - acc: 0.0000e+00 - val_loss: 0.2595 - val_acc: 0.0000e+00\n",
      "Epoch 288/400\n",
      "80/80 [==============================] - 0s 226us/step - loss: 0.3593 - acc: 0.0000e+00 - val_loss: 0.2583 - val_acc: 0.0000e+00\n",
      "Epoch 289/400\n",
      "80/80 [==============================] - 0s 219us/step - loss: 0.3568 - acc: 0.0000e+00 - val_loss: 0.2571 - val_acc: 0.0000e+00\n",
      "Epoch 290/400\n",
      "80/80 [==============================] - 0s 216us/step - loss: 0.3545 - acc: 0.0000e+00 - val_loss: 0.2560 - val_acc: 0.0000e+00\n",
      "Epoch 291/400\n",
      "80/80 [==============================] - 0s 220us/step - loss: 0.3522 - acc: 0.0000e+00 - val_loss: 0.2551 - val_acc: 0.0000e+00\n",
      "Epoch 292/400\n",
      "80/80 [==============================] - 0s 303us/step - loss: 0.3498 - acc: 0.0000e+00 - val_loss: 0.2542 - val_acc: 0.0000e+00\n",
      "Epoch 293/400\n",
      "80/80 [==============================] - 0s 232us/step - loss: 0.3473 - acc: 0.0000e+00 - val_loss: 0.2532 - val_acc: 0.0000e+00\n",
      "Epoch 294/400\n",
      "80/80 [==============================] - 0s 233us/step - loss: 0.3448 - acc: 0.0000e+00 - val_loss: 0.2523 - val_acc: 0.0000e+00\n",
      "Epoch 295/400\n",
      "80/80 [==============================] - 0s 229us/step - loss: 0.3425 - acc: 0.0000e+00 - val_loss: 0.2513 - val_acc: 0.0000e+00\n",
      "Epoch 296/400\n",
      "80/80 [==============================] - 0s 240us/step - loss: 0.3399 - acc: 0.0000e+00 - val_loss: 0.2503 - val_acc: 0.0000e+00\n",
      "Epoch 297/400\n",
      "80/80 [==============================] - 0s 273us/step - loss: 0.3374 - acc: 0.0000e+00 - val_loss: 0.2493 - val_acc: 0.0000e+00\n",
      "Epoch 298/400\n",
      "80/80 [==============================] - 0s 238us/step - loss: 0.3350 - acc: 0.0000e+00 - val_loss: 0.2482 - val_acc: 0.0000e+00\n",
      "Epoch 299/400\n",
      "80/80 [==============================] - 0s 237us/step - loss: 0.3326 - acc: 0.0000e+00 - val_loss: 0.2472 - val_acc: 0.0000e+00\n",
      "Epoch 300/400\n",
      "80/80 [==============================] - 0s 228us/step - loss: 0.3300 - acc: 0.0000e+00 - val_loss: 0.2461 - val_acc: 0.0000e+00\n",
      "Epoch 301/400\n",
      "80/80 [==============================] - 0s 269us/step - loss: 0.3279 - acc: 0.0000e+00 - val_loss: 0.2451 - val_acc: 0.0000e+00\n",
      "Epoch 302/400\n",
      "80/80 [==============================] - 0s 238us/step - loss: 0.3253 - acc: 0.0000e+00 - val_loss: 0.2440 - val_acc: 0.0000e+00\n",
      "Epoch 303/400\n",
      "80/80 [==============================] - 0s 238us/step - loss: 0.3228 - acc: 0.0000e+00 - val_loss: 0.2429 - val_acc: 0.0000e+00\n",
      "Epoch 304/400\n",
      "80/80 [==============================] - 0s 226us/step - loss: 0.3204 - acc: 0.0000e+00 - val_loss: 0.2417 - val_acc: 0.0000e+00\n",
      "Epoch 305/400\n",
      "80/80 [==============================] - 0s 261us/step - loss: 0.3180 - acc: 0.0000e+00 - val_loss: 0.2406 - val_acc: 0.0000e+00\n",
      "Epoch 306/400\n",
      "80/80 [==============================] - 0s 243us/step - loss: 0.3156 - acc: 0.0000e+00 - val_loss: 0.2395 - val_acc: 0.0000e+00\n",
      "Epoch 307/400\n",
      "80/80 [==============================] - 0s 233us/step - loss: 0.3133 - acc: 0.0000e+00 - val_loss: 0.2384 - val_acc: 0.0000e+00\n",
      "Epoch 308/400\n",
      "80/80 [==============================] - 0s 248us/step - loss: 0.3111 - acc: 0.0000e+00 - val_loss: 0.2374 - val_acc: 0.0000e+00\n",
      "Epoch 309/400\n",
      "80/80 [==============================] - 0s 264us/step - loss: 0.3086 - acc: 0.0000e+00 - val_loss: 0.2366 - val_acc: 0.0000e+00\n",
      "Epoch 310/400\n",
      "80/80 [==============================] - 0s 227us/step - loss: 0.3065 - acc: 0.0000e+00 - val_loss: 0.2358 - val_acc: 0.0000e+00\n",
      "Epoch 311/400\n",
      "80/80 [==============================] - 0s 223us/step - loss: 0.3041 - acc: 0.0000e+00 - val_loss: 0.2350 - val_acc: 0.0000e+00\n",
      "Epoch 312/400\n",
      "80/80 [==============================] - 0s 226us/step - loss: 0.3017 - acc: 0.0000e+00 - val_loss: 0.2342 - val_acc: 0.0000e+00\n",
      "Epoch 313/400\n",
      "80/80 [==============================] - 0s 256us/step - loss: 0.2995 - acc: 0.0000e+00 - val_loss: 0.2334 - val_acc: 0.0000e+00\n",
      "Epoch 314/400\n",
      "80/80 [==============================] - 0s 267us/step - loss: 0.2972 - acc: 0.0000e+00 - val_loss: 0.2330 - val_acc: 0.0000e+00\n",
      "Epoch 315/400\n",
      "80/80 [==============================] - 0s 214us/step - loss: 0.2950 - acc: 0.0000e+00 - val_loss: 0.2326 - val_acc: 0.0000e+00\n",
      "Epoch 316/400\n",
      "80/80 [==============================] - 0s 245us/step - loss: 0.2925 - acc: 0.0000e+00 - val_loss: 0.2321 - val_acc: 0.0000e+00\n",
      "Epoch 317/400\n",
      "80/80 [==============================] - 0s 239us/step - loss: 0.2903 - acc: 0.0000e+00 - val_loss: 0.2317 - val_acc: 0.0000e+00\n",
      "Epoch 318/400\n",
      "80/80 [==============================] - 0s 276us/step - loss: 0.2883 - acc: 0.0000e+00 - val_loss: 0.2312 - val_acc: 0.0000e+00\n",
      "Epoch 319/400\n",
      "80/80 [==============================] - 0s 243us/step - loss: 0.2858 - acc: 0.0000e+00 - val_loss: 0.2307 - val_acc: 0.0000e+00\n",
      "Epoch 320/400\n",
      "80/80 [==============================] - 0s 232us/step - loss: 0.2836 - acc: 0.0000e+00 - val_loss: 0.2303 - val_acc: 0.0000e+00\n",
      "Epoch 321/400\n",
      "80/80 [==============================] - 0s 225us/step - loss: 0.2814 - acc: 0.0000e+00 - val_loss: 0.2298 - val_acc: 0.0000e+00\n",
      "Epoch 322/400\n",
      "80/80 [==============================] - 0s 297us/step - loss: 0.2791 - acc: 0.0000e+00 - val_loss: 0.2293 - val_acc: 0.0000e+00\n",
      "Epoch 323/400\n",
      "80/80 [==============================] - 0s 633us/step - loss: 0.2770 - acc: 0.0000e+00 - val_loss: 0.2288 - val_acc: 0.0000e+00\n",
      "Epoch 324/400\n",
      "80/80 [==============================] - 0s 237us/step - loss: 0.2751 - acc: 0.0000e+00 - val_loss: 0.2285 - val_acc: 0.0000e+00\n",
      "Epoch 325/400\n",
      "80/80 [==============================] - 0s 361us/step - loss: 0.2730 - acc: 0.0000e+00 - val_loss: 0.2283 - val_acc: 0.0000e+00\n",
      "Epoch 326/400\n",
      "80/80 [==============================] - 0s 346us/step - loss: 0.2708 - acc: 0.0000e+00 - val_loss: 0.2282 - val_acc: 0.0000e+00\n",
      "Epoch 327/400\n",
      "80/80 [==============================] - 0s 243us/step - loss: 0.2687 - acc: 0.0000e+00 - val_loss: 0.2281 - val_acc: 0.0000e+00\n",
      "Epoch 328/400\n",
      "80/80 [==============================] - 0s 200us/step - loss: 0.2668 - acc: 0.0000e+00 - val_loss: 0.2280 - val_acc: 0.0000e+00\n",
      "Epoch 329/400\n",
      "80/80 [==============================] - 0s 244us/step - loss: 0.2646 - acc: 0.0000e+00 - val_loss: 0.2280 - val_acc: 0.0000e+00\n",
      "Epoch 330/400\n",
      "80/80 [==============================] - 0s 182us/step - loss: 0.2628 - acc: 0.0000e+00 - val_loss: 0.2282 - val_acc: 0.0000e+00\n",
      "Epoch 331/400\n",
      "80/80 [==============================] - 0s 332us/step - loss: 0.2607 - acc: 0.0000e+00 - val_loss: 0.2285 - val_acc: 0.0000e+00\n",
      "Epoch 332/400\n",
      "80/80 [==============================] - 0s 211us/step - loss: 0.2587 - acc: 0.0000e+00 - val_loss: 0.2287 - val_acc: 0.0000e+00\n",
      "Epoch 333/400\n",
      "80/80 [==============================] - 0s 229us/step - loss: 0.2570 - acc: 0.0000e+00 - val_loss: 0.2290 - val_acc: 0.0000e+00\n",
      "Epoch 334/400\n",
      "80/80 [==============================] - 0s 314us/step - loss: 0.2551 - acc: 0.0000e+00 - val_loss: 0.2292 - val_acc: 0.0000e+00\n",
      "Epoch 335/400\n",
      "80/80 [==============================] - 0s 236us/step - loss: 0.2534 - acc: 0.0000e+00 - val_loss: 0.2293 - val_acc: 0.0500\n",
      "Epoch 336/400\n",
      "80/80 [==============================] - 0s 214us/step - loss: 0.2519 - acc: 0.0000e+00 - val_loss: 0.2295 - val_acc: 0.0500\n",
      "Epoch 337/400\n",
      "80/80 [==============================] - 0s 248us/step - loss: 0.2501 - acc: 0.0000e+00 - val_loss: 0.2296 - val_acc: 0.0500\n",
      "Epoch 338/400\n",
      "80/80 [==============================] - 0s 270us/step - loss: 0.2486 - acc: 0.0000e+00 - val_loss: 0.2297 - val_acc: 0.0500\n",
      "Epoch 339/400\n",
      "80/80 [==============================] - 0s 238us/step - loss: 0.2473 - acc: 0.0000e+00 - val_loss: 0.2298 - val_acc: 0.0500\n",
      "Epoch 340/400\n",
      "80/80 [==============================] - 0s 239us/step - loss: 0.2457 - acc: 0.0000e+00 - val_loss: 0.2301 - val_acc: 0.0500\n",
      "Epoch 341/400\n",
      "80/80 [==============================] - 0s 232us/step - loss: 0.2442 - acc: 0.0000e+00 - val_loss: 0.2305 - val_acc: 0.0500\n",
      "Epoch 342/400\n"
     ]
    },
    {
     "name": "stdout",
     "output_type": "stream",
     "text": [
      "80/80 [==============================] - 0s 278us/step - loss: 0.2428 - acc: 0.0000e+00 - val_loss: 0.2308 - val_acc: 0.0500\n",
      "Epoch 343/400\n",
      "80/80 [==============================] - 0s 242us/step - loss: 0.2413 - acc: 0.0000e+00 - val_loss: 0.2311 - val_acc: 0.0500\n",
      "Epoch 344/400\n",
      "80/80 [==============================] - 0s 229us/step - loss: 0.2401 - acc: 0.0000e+00 - val_loss: 0.2315 - val_acc: 0.0500\n",
      "Epoch 345/400\n",
      "80/80 [==============================] - 0s 270us/step - loss: 0.2388 - acc: 0.0000e+00 - val_loss: 0.2318 - val_acc: 0.0500\n",
      "Epoch 346/400\n",
      "80/80 [==============================] - 0s 232us/step - loss: 0.2375 - acc: 0.0000e+00 - val_loss: 0.2322 - val_acc: 0.0500\n",
      "Epoch 347/400\n",
      "80/80 [==============================] - 0s 230us/step - loss: 0.2363 - acc: 0.0000e+00 - val_loss: 0.2325 - val_acc: 0.0500\n",
      "Epoch 348/400\n",
      "80/80 [==============================] - 0s 248us/step - loss: 0.2351 - acc: 0.0000e+00 - val_loss: 0.2328 - val_acc: 0.0500\n",
      "Epoch 349/400\n",
      "80/80 [==============================] - 0s 253us/step - loss: 0.2338 - acc: 0.0000e+00 - val_loss: 0.2331 - val_acc: 0.0500\n",
      "Epoch 350/400\n",
      "80/80 [==============================] - 0s 266us/step - loss: 0.2326 - acc: 0.0000e+00 - val_loss: 0.2334 - val_acc: 0.0500\n",
      "Epoch 351/400\n",
      "80/80 [==============================] - 0s 261us/step - loss: 0.2316 - acc: 0.0000e+00 - val_loss: 0.2337 - val_acc: 0.0500\n",
      "Epoch 352/400\n",
      "80/80 [==============================] - 0s 266us/step - loss: 0.2305 - acc: 0.0000e+00 - val_loss: 0.2340 - val_acc: 0.0500\n",
      "Epoch 353/400\n",
      "80/80 [==============================] - 0s 264us/step - loss: 0.2295 - acc: 0.0000e+00 - val_loss: 0.2343 - val_acc: 0.0500\n",
      "Epoch 354/400\n",
      "80/80 [==============================] - 0s 259us/step - loss: 0.2284 - acc: 0.0000e+00 - val_loss: 0.2346 - val_acc: 0.0500\n",
      "Epoch 355/400\n",
      "80/80 [==============================] - 0s 264us/step - loss: 0.2276 - acc: 0.0000e+00 - val_loss: 0.2349 - val_acc: 0.0500\n",
      "Epoch 356/400\n",
      "80/80 [==============================] - 0s 251us/step - loss: 0.2267 - acc: 0.0000e+00 - val_loss: 0.2351 - val_acc: 0.0500\n",
      "Epoch 357/400\n",
      "80/80 [==============================] - 0s 246us/step - loss: 0.2257 - acc: 0.0000e+00 - val_loss: 0.2352 - val_acc: 0.0500\n",
      "Epoch 358/400\n",
      "80/80 [==============================] - 0s 275us/step - loss: 0.2248 - acc: 0.0000e+00 - val_loss: 0.2353 - val_acc: 0.0500\n",
      "Epoch 359/400\n",
      "80/80 [==============================] - 0s 260us/step - loss: 0.2241 - acc: 0.0000e+00 - val_loss: 0.2356 - val_acc: 0.0500\n",
      "Epoch 360/400\n",
      "80/80 [==============================] - 0s 242us/step - loss: 0.2232 - acc: 0.0000e+00 - val_loss: 0.2360 - val_acc: 0.0500\n",
      "Epoch 361/400\n",
      "80/80 [==============================] - 0s 261us/step - loss: 0.2224 - acc: 0.0000e+00 - val_loss: 0.2365 - val_acc: 0.0500\n",
      "Epoch 362/400\n",
      "80/80 [==============================] - 0s 293us/step - loss: 0.2217 - acc: 0.0000e+00 - val_loss: 0.2369 - val_acc: 0.0500\n",
      "Epoch 363/400\n",
      "80/80 [==============================] - 0s 237us/step - loss: 0.2209 - acc: 0.0000e+00 - val_loss: 0.2374 - val_acc: 0.0500\n",
      "Epoch 364/400\n",
      "80/80 [==============================] - 0s 284us/step - loss: 0.2200 - acc: 0.0000e+00 - val_loss: 0.2380 - val_acc: 0.0500\n",
      "Epoch 365/400\n",
      "80/80 [==============================] - 0s 260us/step - loss: 0.2192 - acc: 0.0000e+00 - val_loss: 0.2385 - val_acc: 0.0500\n",
      "Epoch 366/400\n",
      "80/80 [==============================] - 0s 253us/step - loss: 0.2185 - acc: 0.0000e+00 - val_loss: 0.2392 - val_acc: 0.0500\n",
      "Epoch 367/400\n",
      "80/80 [==============================] - 0s 243us/step - loss: 0.2177 - acc: 0.0000e+00 - val_loss: 0.2398 - val_acc: 0.0500\n",
      "Epoch 368/400\n",
      "80/80 [==============================] - 0s 692us/step - loss: 0.2171 - acc: 0.0000e+00 - val_loss: 0.2404 - val_acc: 0.0500\n",
      "Epoch 369/400\n",
      "80/80 [==============================] - 0s 396us/step - loss: 0.2163 - acc: 0.0000e+00 - val_loss: 0.2408 - val_acc: 0.0500\n",
      "Epoch 370/400\n",
      "80/80 [==============================] - 0s 246us/step - loss: 0.2156 - acc: 0.0000e+00 - val_loss: 0.2412 - val_acc: 0.0500\n",
      "Epoch 371/400\n",
      "80/80 [==============================] - 0s 253us/step - loss: 0.2150 - acc: 0.0000e+00 - val_loss: 0.2417 - val_acc: 0.0500\n",
      "Epoch 372/400\n",
      "80/80 [==============================] - 0s 271us/step - loss: 0.2144 - acc: 0.0000e+00 - val_loss: 0.2420 - val_acc: 0.0500\n",
      "Epoch 373/400\n",
      "80/80 [==============================] - 0s 261us/step - loss: 0.2138 - acc: 0.0000e+00 - val_loss: 0.2423 - val_acc: 0.0500\n",
      "Epoch 374/400\n",
      "80/80 [==============================] - 0s 242us/step - loss: 0.2133 - acc: 0.0000e+00 - val_loss: 0.2425 - val_acc: 0.0500\n",
      "Epoch 375/400\n",
      "80/80 [==============================] - 0s 327us/step - loss: 0.2128 - acc: 0.0000e+00 - val_loss: 0.2427 - val_acc: 0.0500\n",
      "Epoch 376/400\n",
      "80/80 [==============================] - 0s 259us/step - loss: 0.2122 - acc: 0.0000e+00 - val_loss: 0.2429 - val_acc: 0.0500\n",
      "Epoch 377/400\n",
      "80/80 [==============================] - 0s 341us/step - loss: 0.2118 - acc: 0.0000e+00 - val_loss: 0.2431 - val_acc: 0.0500\n",
      "Epoch 378/400\n",
      "80/80 [==============================] - 0s 273us/step - loss: 0.2113 - acc: 0.0000e+00 - val_loss: 0.2434 - val_acc: 0.0500\n",
      "Epoch 379/400\n",
      "80/80 [==============================] - 0s 285us/step - loss: 0.2107 - acc: 0.0000e+00 - val_loss: 0.2436 - val_acc: 0.0500\n",
      "Epoch 380/400\n",
      "80/80 [==============================] - 0s 419us/step - loss: 0.2103 - acc: 0.0000e+00 - val_loss: 0.2438 - val_acc: 0.0500\n",
      "Epoch 381/400\n",
      "80/80 [==============================] - 0s 385us/step - loss: 0.2099 - acc: 0.0000e+00 - val_loss: 0.2441 - val_acc: 0.0500\n",
      "Epoch 382/400\n",
      "80/80 [==============================] - 0s 262us/step - loss: 0.2094 - acc: 0.0000e+00 - val_loss: 0.2444 - val_acc: 0.0500\n",
      "Epoch 383/400\n",
      "80/80 [==============================] - 0s 327us/step - loss: 0.2089 - acc: 0.0000e+00 - val_loss: 0.2446 - val_acc: 0.0500\n",
      "Epoch 384/400\n",
      "80/80 [==============================] - 0s 261us/step - loss: 0.2085 - acc: 0.0000e+00 - val_loss: 0.2447 - val_acc: 0.0500\n",
      "Epoch 385/400\n",
      "80/80 [==============================] - 0s 228us/step - loss: 0.2081 - acc: 0.0000e+00 - val_loss: 0.2448 - val_acc: 0.0500\n",
      "Epoch 386/400\n",
      "80/80 [==============================] - 0s 257us/step - loss: 0.2077 - acc: 0.0000e+00 - val_loss: 0.2448 - val_acc: 0.0500\n",
      "Epoch 387/400\n",
      "80/80 [==============================] - 0s 237us/step - loss: 0.2073 - acc: 0.0000e+00 - val_loss: 0.2449 - val_acc: 0.0500\n",
      "Epoch 388/400\n",
      "80/80 [==============================] - 0s 226us/step - loss: 0.2069 - acc: 0.0000e+00 - val_loss: 0.2450 - val_acc: 0.0500\n",
      "Epoch 389/400\n",
      "80/80 [==============================] - 0s 214us/step - loss: 0.2065 - acc: 0.0000e+00 - val_loss: 0.2450 - val_acc: 0.0500\n",
      "Epoch 390/400\n",
      "80/80 [==============================] - 0s 230us/step - loss: 0.2061 - acc: 0.0000e+00 - val_loss: 0.2450 - val_acc: 0.0500\n",
      "Epoch 391/400\n",
      "80/80 [==============================] - 0s 285us/step - loss: 0.2057 - acc: 0.0000e+00 - val_loss: 0.2450 - val_acc: 0.0500\n",
      "Epoch 392/400\n",
      "80/80 [==============================] - 0s 256us/step - loss: 0.2054 - acc: 0.0000e+00 - val_loss: 0.2451 - val_acc: 0.0500\n",
      "Epoch 393/400\n",
      "80/80 [==============================] - 0s 245us/step - loss: 0.2050 - acc: 0.0000e+00 - val_loss: 0.2452 - val_acc: 0.0500\n",
      "Epoch 394/400\n",
      "80/80 [==============================] - 0s 249us/step - loss: 0.2047 - acc: 0.0000e+00 - val_loss: 0.2452 - val_acc: 0.0500\n",
      "Epoch 395/400\n",
      "80/80 [==============================] - 0s 254us/step - loss: 0.2043 - acc: 0.0000e+00 - val_loss: 0.2452 - val_acc: 0.0500\n",
      "Epoch 396/400\n",
      "80/80 [==============================] - 0s 228us/step - loss: 0.2040 - acc: 0.0000e+00 - val_loss: 0.2452 - val_acc: 0.0500\n",
      "Epoch 397/400\n",
      "80/80 [==============================] - 0s 257us/step - loss: 0.2037 - acc: 0.0000e+00 - val_loss: 0.2451 - val_acc: 0.0500\n",
      "Epoch 398/400\n",
      "80/80 [==============================] - 0s 230us/step - loss: 0.2034 - acc: 0.0000e+00 - val_loss: 0.2449 - val_acc: 0.0500\n",
      "Epoch 399/400\n",
      "80/80 [==============================] - 0s 248us/step - loss: 0.2030 - acc: 0.0000e+00 - val_loss: 0.2449 - val_acc: 0.0500\n",
      "Epoch 400/400\n",
      "80/80 [==============================] - 0s 238us/step - loss: 0.2027 - acc: 0.0000e+00 - val_loss: 0.2447 - val_acc: 0.0500\n"
     ]
    }
   ],
   "source": [
    "history = model.fit(x_train,y_train,epochs=400,validation_data=(x_test,y_test))"
   ]
  },
  {
   "cell_type": "code",
   "execution_count": 16,
   "metadata": {
    "ExecuteTime": {
     "end_time": "2019-08-11T17:00:50.010244Z",
     "start_time": "2019-08-11T17:00:49.906274Z"
    }
   },
   "outputs": [],
   "source": [
    "results = model.predict(x_test)"
   ]
  },
  {
   "cell_type": "code",
   "execution_count": 17,
   "metadata": {
    "ExecuteTime": {
     "end_time": "2019-08-11T17:00:50.184976Z",
     "start_time": "2019-08-11T17:00:50.012300Z"
    }
   },
   "outputs": [
    {
     "data": {
      "image/png": "[encoded data removed]",
      "text/plain": [
       "<Figure size 432x288 with 1 Axes>"
      ]
     },
     "metadata": {
      "needs_background": "light"
     },
     "output_type": "display_data"
    }
   ],
   "source": [
    "plt.scatter(range(20), results, c='r')\n",
    "plt.scatter(range(20), y_test, c='g')\n",
    "plt.show()"
   ]
  },
  {
   "cell_type": "code",
   "execution_count": 18,
   "metadata": {
    "ExecuteTime": {
     "end_time": "2019-08-11T17:00:50.450341Z",
     "start_time": "2019-08-11T17:00:50.194004Z"
    }
   },
   "outputs": [
    {
     "data": {
      "image/png": "[encoded data removed]",
      "text/plain": [
       "<Figure size 432x288 with 1 Axes>"
      ]
     },
     "metadata": {
      "needs_background": "light"
     },
     "output_type": "display_data"
    }
   ],
   "source": [
    "plt.plot(history.history['loss'])\n",
    "plt.show()"
   ]
  },
  {
   "cell_type": "code",
   "execution_count": null,
   "metadata": {},
   "outputs": [],
   "source": []
  }
 ],
 "metadata": {
  "kernelspec": {
   "display_name": "Python 3",
   "language": "python",
   "name": "python3"
  },
  "language_info": {
   "codemirror_mode": {
    "name": "ipython",
    "version": 3
   },
   "file_extension": ".py",
   "mimetype": "text/x-python",
   "name": "python",
   "nbconvert_exporter": "python",
   "pygments_lexer": "ipython3",
   "version": "3.7.1"
  }
 },
 "nbformat": 4,
 "nbformat_minor": 2
}
