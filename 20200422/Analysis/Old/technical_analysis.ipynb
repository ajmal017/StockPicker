{
 "cells": [
  {
   "cell_type": "code",
   "execution_count": 1,
   "metadata": {
    "ExecuteTime": {
     "end_time": "2019-08-24T00:54:27.239188Z",
     "start_time": "2019-08-24T00:54:25.070024Z"
    }
   },
   "outputs": [],
   "source": [
    "# use linear regression to determine on technical factors whether a stock is going to go up or down\n",
    "# to get time series get factors like \n",
    "# opening price, closing price, high for the day, low for the day, Adj. Close, Volume, day of the week\n",
    "# percent change for each day of the last week, week, 2 weeks, month, 2 months, 3 months, quarter, half year, year, 2 years, 3 years, 4 years, 5 years, 7 years, 10 years, 15 years, 20 years\n",
    "\n",
    "# that totals 20 values\n",
    "\n",
    "# I can create a buy side analysis bot that looks for key factors of a company before it takes off\n",
    "cx b\n",
    "import pandas as pd\n",
    "import numpy as np\n",
    "import matplotlib.pyplot as plt\n",
    "import re\n",
    "\n",
    "from sklearn.preprocessing import MinMaxScaler\n",
    "from datetime import datetime as dt\n",
    "\n",
    "%matplotlib inline\n",
    "# View inline graphs as svg format\n",
    "%config InlineBackend.figure_format = 'svg'"
   ]
  },
  {
   "cell_type": "code",
   "execution_count": 2,
   "metadata": {
    "ExecuteTime": {
     "end_time": "2019-08-24T00:54:27.294736Z",
     "start_time": "2019-08-24T00:54:27.242422Z"
    }
   },
   "outputs": [],
   "source": [
    "# get the data\n",
    "\n",
    "# using S&P500 as a test\n",
    "\n",
    "# make it so I can apply this method to whatever i wish: stock, bond, mutual fund, etc\n",
    "# look at quandle\n",
    "# then i can return the current day's predictions\n",
    "# and export that wherever i want\n",
    "\n",
    "df = pd.read_csv('./data/indexes/^GSPC.csv', sep=',', parse_dates=['Date'])\n"
   ]
  },
  {
   "cell_type": "code",
   "execution_count": 3,
   "metadata": {
    "ExecuteTime": {
     "end_time": "2019-08-24T00:54:27.301882Z",
     "start_time": "2019-08-24T00:54:27.296727Z"
    }
   },
   "outputs": [],
   "source": [
    "training_set = df.iloc[:, 5:6].values\n",
    "df_ts = pd.DataFrame(df.iloc[:, 5:6].values)"
   ]
  },
  {
   "cell_type": "code",
   "execution_count": 4,
   "metadata": {
    "ExecuteTime": {
     "end_time": "2019-08-24T00:54:27.308896Z",
     "start_time": "2019-08-24T00:54:27.303955Z"
    }
   },
   "outputs": [],
   "source": [
    "sc = MinMaxScaler(feature_range = (0, 1))\n",
    "training_set_scaled = sc.fit_transform(training_set)"
   ]
  },
  {
   "cell_type": "code",
   "execution_count": 5,
   "metadata": {
    "ExecuteTime": {
     "end_time": "2019-08-24T00:54:27.435475Z",
     "start_time": "2019-08-24T00:54:27.311010Z"
    }
   },
   "outputs": [],
   "source": [
    "check_dates = [1,2,3,4,5,10,22,44,66,130,261,522,783,1044,1305,1827,2610,3915,5220]\n",
    "\n",
    "var_int_x = []\n",
    "var_int_y = []\n",
    "\n",
    "for close in range(max(check_dates), len(df)):\n",
    "\n",
    "    x1d = []\n",
    "    y1d = []\n",
    "    \n",
    "    for davar_int_ys_past in check_dates:\n",
    "        x1d.append(training_set_scaled[(close - davar_int_ys_past), 0])\n",
    "    y1d.append(training_set_scaled[close, 0])\n",
    "        \n",
    "    var_int_x.append(x1d)\n",
    "    var_int_y.append(y1d)\n",
    "    \n",
    "var_int_x, var_int_y = np.array(var_int_x), np.array(var_int_y)\n",
    "    "
   ]
  },
  {
   "cell_type": "code",
   "execution_count": 6,
   "metadata": {
    "ExecuteTime": {
     "end_time": "2019-08-24T00:54:27.446311Z",
     "start_time": "2019-08-24T00:54:27.438772Z"
    }
   },
   "outputs": [],
   "source": [
    "var_int_x = np.reshape(var_int_x, (var_int_x.shape[0], var_int_x.shape[1], 1))"
   ]
  },
  {
   "cell_type": "code",
   "execution_count": 7,
   "metadata": {
    "ExecuteTime": {
     "end_time": "2019-08-24T00:54:27.465530Z",
     "start_time": "2019-08-24T00:54:27.457875Z"
    }
   },
   "outputs": [
    {
     "data": {
      "text/plain": [
       "(12294, 19, 1)"
      ]
     },
     "execution_count": 7,
     "metadata": {},
     "output_type": "execute_result"
    }
   ],
   "source": [
    "var_int_x.shape"
   ]
  },
  {
   "cell_type": "code",
   "execution_count": 8,
   "metadata": {
    "ExecuteTime": {
     "end_time": "2019-08-24T00:54:29.549513Z",
     "start_time": "2019-08-24T00:54:27.471388Z"
    }
   },
   "outputs": [
    {
     "name": "stderr",
     "output_type": "stream",
     "text": [
      "Using TensorFlow backend.\n"
     ]
    }
   ],
   "source": [
    "from keras.models import Sequential\n",
    "from keras.layers import Dense\n",
    "from keras.layers import LSTM\n",
    "from keras.layers import Dropout"
   ]
  },
  {
   "cell_type": "code",
   "execution_count": 9,
   "metadata": {
    "ExecuteTime": {
     "end_time": "2019-08-24T00:54:29.581362Z",
     "start_time": "2019-08-24T00:54:29.551492Z"
    }
   },
   "outputs": [],
   "source": [
    "var_int_regressor = Sequential()"
   ]
  },
  {
   "cell_type": "code",
   "execution_count": 10,
   "metadata": {
    "ExecuteTime": {
     "end_time": "2019-08-24T00:54:29.785084Z",
     "start_time": "2019-08-24T00:54:29.583597Z"
    }
   },
   "outputs": [
    {
     "name": "stdout",
     "output_type": "stream",
     "text": [
      "WARNING:tensorflow:From /Users/jackselbo/anaconda3/lib/python3.7/site-packages/tensorflow/python/framework/op_def_library.py:263: colocate_with (from tensorflow.python.framework.ops) is deprecated and will be removed in a future version.\n",
      "Instructions for updating:\n",
      "Colocations handled automatically by placer.\n",
      "WARNING:tensorflow:From /Users/jackselbo/anaconda3/lib/python3.7/site-packages/keras/backend/tensorflow_backend.py:3445: calling dropout (from tensorflow.python.ops.nn_ops) with keep_prob is deprecated and will be removed in a future version.\n",
      "Instructions for updating:\n",
      "Please use `rate` instead of `keep_prob`. Rate should be set to `rate = 1 - keep_prob`.\n"
     ]
    }
   ],
   "source": [
    "var_int_regressor.add(LSTM(units = 50, return_sequences = True, input_shape = (var_int_x.shape[1], 1)))\n",
    "var_int_regressor.add(Dropout(0.2))"
   ]
  },
  {
   "cell_type": "code",
   "execution_count": 11,
   "metadata": {
    "ExecuteTime": {
     "end_time": "2019-08-24T00:54:29.939023Z",
     "start_time": "2019-08-24T00:54:29.789997Z"
    }
   },
   "outputs": [],
   "source": [
    "var_int_regressor.add(LSTM(units = 50, return_sequences = True))\n",
    "var_int_regressor.add(Dropout(0.2))"
   ]
  },
  {
   "cell_type": "code",
   "execution_count": 12,
   "metadata": {
    "ExecuteTime": {
     "end_time": "2019-08-24T00:54:30.092576Z",
     "start_time": "2019-08-24T00:54:29.940806Z"
    }
   },
   "outputs": [],
   "source": [
    "var_int_regressor.add(LSTM(units = 50, return_sequences = True))\n",
    "var_int_regressor.add(Dropout(0.2))"
   ]
  },
  {
   "cell_type": "code",
   "execution_count": 13,
   "metadata": {
    "ExecuteTime": {
     "end_time": "2019-08-24T00:54:30.295723Z",
     "start_time": "2019-08-24T00:54:30.094179Z"
    }
   },
   "outputs": [],
   "source": [
    "var_int_regressor.add(LSTM(units = 50))\n",
    "var_int_regressor.add(Dropout(0.2))"
   ]
  },
  {
   "cell_type": "code",
   "execution_count": 14,
   "metadata": {
    "ExecuteTime": {
     "end_time": "2019-08-24T00:54:30.312644Z",
     "start_time": "2019-08-24T00:54:30.297182Z"
    }
   },
   "outputs": [],
   "source": [
    "var_int_regressor.add(Dense(units = 1))"
   ]
  },
  {
   "cell_type": "code",
   "execution_count": 15,
   "metadata": {
    "ExecuteTime": {
     "end_time": "2019-08-24T00:54:30.341800Z",
     "start_time": "2019-08-24T00:54:30.314479Z"
    }
   },
   "outputs": [],
   "source": [
    "var_int_regressor.compile(optimizer = 'adam', loss = 'mean_squared_error')"
   ]
  },
  {
   "cell_type": "code",
   "execution_count": 16,
   "metadata": {
    "ExecuteTime": {
     "end_time": "2019-08-24T00:58:20.438003Z",
     "start_time": "2019-08-24T00:54:30.343706Z"
    }
   },
   "outputs": [
    {
     "name": "stdout",
     "output_type": "stream",
     "text": [
      "WARNING:tensorflow:From /Users/jackselbo/anaconda3/lib/python3.7/site-packages/tensorflow/python/ops/math_ops.py:3066: to_int32 (from tensorflow.python.ops.math_ops) is deprecated and will be removed in a future version.\n",
      "Instructions for updating:\n",
      "Use tf.cast instead.\n",
      "Epoch 1/10\n",
      "12294/12294 [==============================] - 22s 2ms/step - loss: 0.0037\n",
      "Epoch 2/10\n",
      "12294/12294 [==============================] - 23s 2ms/step - loss: 0.0012\n",
      "Epoch 3/10\n",
      "12294/12294 [==============================] - 22s 2ms/step - loss: 0.0011\n",
      "Epoch 4/10\n",
      "12294/12294 [==============================] - 24s 2ms/step - loss: 8.9738e-04\n",
      "Epoch 5/10\n",
      "12294/12294 [==============================] - 24s 2ms/step - loss: 8.4204e-04\n",
      "Epoch 6/10\n",
      "12294/12294 [==============================] - 23s 2ms/step - loss: 8.4964e-04\n",
      "Epoch 7/10\n",
      "12294/12294 [==============================] - 23s 2ms/step - loss: 7.3187e-04\n",
      "Epoch 8/10\n",
      "12294/12294 [==============================] - 22s 2ms/step - loss: 7.2140e-04\n",
      "Epoch 9/10\n",
      "12294/12294 [==============================] - 23s 2ms/step - loss: 6.5321e-04\n",
      "Epoch 10/10\n",
      "12294/12294 [==============================] - 23s 2ms/step - loss: 6.1487e-04\n"
     ]
    },
    {
     "data": {
      "text/plain": [
       "<keras.callbacks.History at 0x1a2e7c5b38>"
      ]
     },
     "execution_count": 16,
     "metadata": {},
     "output_type": "execute_result"
    }
   ],
   "source": [
    "var_int_regressor.fit(var_int_x, var_int_y, epochs = 10, batch_size = 32)"
   ]
  },
  {
   "cell_type": "code",
   "execution_count": 17,
   "metadata": {
    "ExecuteTime": {
     "end_time": "2019-08-24T00:58:25.291314Z",
     "start_time": "2019-08-24T00:58:20.441730Z"
    }
   },
   "outputs": [
    {
     "name": "stdout",
     "output_type": "stream",
     "text": [
      "12294/12294 [==============================] - 5s 393us/step\n",
      "\n",
      "loss: 0.03%\n"
     ]
    }
   ],
   "source": [
    "scores = var_int_regressor.evaluate(var_int_x, var_int_y)\n",
    "print(\"\\n%s: %.2f%%\" % (var_int_regressor.metrics_names[0], scores*100))"
   ]
  },
  {
   "cell_type": "code",
   "execution_count": 18,
   "metadata": {
    "ExecuteTime": {
     "end_time": "2019-08-24T19:15:30.137791Z",
     "start_time": "2019-08-24T19:15:29.892689Z"
    }
   },
   "outputs": [],
   "source": []
  },
  {
   "cell_type": "code",
   "execution_count": 21,
   "metadata": {
    "ExecuteTime": {
     "end_time": "2019-08-24T19:16:22.250977Z",
     "start_time": "2019-08-24T19:16:22.240534Z"
    }
   },
   "outputs": [],
   "source": [
    "symbols = list(df[['Symbol']])"
   ]
  },
  {
   "cell_type": "code",
   "execution_count": 22,
   "metadata": {
    "ExecuteTime": {
     "end_time": "2019-08-24T19:16:28.657760Z",
     "start_time": "2019-08-24T19:16:28.652673Z"
    }
   },
   "outputs": [
    {
     "data": {
      "text/plain": [
       "['Symbol']"
      ]
     },
     "execution_count": 22,
     "metadata": {},
     "output_type": "execute_result"
    }
   ],
   "source": []
  },
  {
   "cell_type": "code",
   "execution_count": null,
   "metadata": {},
   "outputs": [],
   "source": []
  }
 ],
 "metadata": {
  "kernelspec": {
   "display_name": "Python 3",
   "language": "python",
   "name": "python3"
  },
  "language_info": {
   "codemirror_mode": {
    "name": "ipython",
    "version": 3
   },
   "file_extension": ".py",
   "mimetype": "text/x-python",
   "name": "python",
   "nbconvert_exporter": "python",
   "pygments_lexer": "ipython3",
   "version": "3.7.1"
  }
 },
 "nbformat": 4,
 "nbformat_minor": 2
}
