{
 "cells": [
  {
   "cell_type": "code",
   "execution_count": 1,
   "metadata": {
    "ExecuteTime": {
     "end_time": "2019-08-09T13:28:30.407197Z",
     "start_time": "2019-08-09T13:28:30.399947Z"
    }
   },
   "outputs": [],
   "source": [
    "# overview\n",
    "\n",
    "# algorithmic trading\n",
    "\n",
    "# first make a market technical analysis\n",
    "\n",
    "#e expand the technical analysis so it can take any stock\n",
    "\n",
    "# first make the technical analysis portion\n",
    "\n",
    "# fundamental analysis\n",
    "# market analysis\n",
    "\n",
    "# news analysis\n",
    "#     twitter analysis\n",
    "#     reddit post analysis\n",
    "#     sentiment analysis\n",
    "\n",
    "# techniques\n",
    "#     regression\n",
    "#     classification\n",
    "#     support vector machines\n",
    "#     genetic algorithm\n",
    "#     RNN or LSTM\n",
    "#     reinforcement learning\n",
    "    \n",
    "#     margin of error is risk?\n",
    "#     standard deviation is risk?\n",
    "#     are they the same?\n",
    "\n",
    "\n"
   ]
  },
  {
   "cell_type": "code",
   "execution_count": null,
   "metadata": {},
   "outputs": [],
   "source": []
  }
 ],
 "metadata": {
  "kernelspec": {
   "display_name": "Python 3",
   "language": "python",
   "name": "python3"
  },
  "language_info": {
   "codemirror_mode": {
    "name": "ipython",
    "version": 3
   },
   "file_extension": ".py",
   "mimetype": "text/x-python",
   "name": "python",
   "nbconvert_exporter": "python",
   "pygments_lexer": "ipython3",
   "version": "3.7.1"
  }
 },
 "nbformat": 4,
 "nbformat_minor": 2
}
