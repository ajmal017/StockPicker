{
 "cells": [
  {
   "cell_type": "code",
   "execution_count": 5,
   "metadata": {},
   "outputs": [
    {
     "name": "stdout",
     "output_type": "stream",
     "text": [
      "importing Jupyter notebook from PassKeys.ipynb\n"
     ]
    }
   ],
   "source": [
    "import pickle\n",
    "\n",
    "import pandas as pd\n",
    "import numpy as np\n",
    "\n",
    "from selenium import webdriver\n",
    "\n",
    "from selenium.webdriver.common.keys import Keys\n",
    "\n",
    "from selenium.webdriver.support.ui import WebDriverWait\n",
    "from selenium.webdriver.common.by import By\n",
    "from selenium.webdriver.support import expected_conditions\n",
    "\n",
    "import time\n",
    "import random\n",
    "import os\n",
    "\n",
    "# https://stackoverflow.com/questions/58799530/how-to-install-package-import-ipynb-with-anaconda\n",
    "# need to add .gitignore\n",
    "import import_ipynb\n",
    "import PassKeys"
   ]
  },
  {
   "cell_type": "code",
   "execution_count": 2,
   "metadata": {},
   "outputs": [],
   "source": [
    "def set_ff_preferences():\n",
    "    profile = webdriver.FirefoxProfile()\n",
    "    profile.set_preference('browser.download.folderList', 2) # custom location\n",
    "    profile.set_preference('browser.download.dir', (os.getcwd()+'/data/Cash_Flows'))\n",
    "    profile.set_preference('browser.download.manager.showWhenStarting', False)\n",
    "    profile.set_preference('browser.helperApps.neverAsk.saveToDisk', \"application/csv, text/csv\")\n",
    "    return profile\n",
    "\n",
    "def create_empty_ff_driver():\n",
    "    profile = set_ff_preferences()\n",
    "    a_driver = webdriver.Firefox(firefox_profile=profile)\n",
    "    return a_driver\n",
    "\n",
    "def create_driver_opening_url(a_url):\n",
    "    a_driver = create_empty_ff_driver()\n",
    "    a_driver.get(a_url)\n",
    "    return a_driver\n",
    "\n",
    "def initialize_driver():\n",
    "    main_url = 'https://simfin.com/login'\n",
    "    a_driver = create_driver_opening_url(main_url)\n",
    "    return a_driver\n",
    "\n",
    "def clean_from_text(text):\n",
    "#     cleaned_text = text.replace(\",\",\"\").strip()\n",
    "    cleaned_text = text.strip()\n",
    "    return cleaned_text"
   ]
  },
  {
   "cell_type": "code",
   "execution_count": 3,
   "metadata": {},
   "outputs": [],
   "source": [
    "a_driver = initialize_driver()"
   ]
  },
  {
   "cell_type": "code",
   "execution_count": 4,
   "metadata": {},
   "outputs": [],
   "source": [
    "def login(a_driver):\n",
    "    email_input = WebDriverWait(a_driver, 10).until(\n",
    "        expected_conditions.visibility_of_element_located(\n",
    "        (By.XPATH, '/html/body/div[4]/div/div/div/div/div/div[1]/div[1]/div[3]/form/div[1]/input')))\n",
    "\n",
    "    password_input = WebDriverWait(a_driver, 10).until(\n",
    "        expected_conditions.visibility_of_element_located(\n",
    "        (By.XPATH, '/html/body/div[4]/div/div/div/div/div/div[1]/div[1]/div[3]/form/div[2]/input')))\n",
    "\n",
    "    login_button = WebDriverWait(a_driver, 10).until(\n",
    "        expected_conditions.visibility_of_element_located(\n",
    "        (By.XPATH, '/html/body/div[4]/div/div/div/div/div/div[1]/div[1]/div[3]/form/div[2]/input')))\n",
    "    \n",
    "    email_input.send_keys(PassKeys.get_email())\n",
    "    time.sleep(1)\n",
    "    \n",
    "    password_input.send_keys(PassKeys.get_pass())\n",
    "    time.sleep(1)\n",
    "    \n",
    "    password_input.send_keys(Keys.TAB)\n",
    "    time.sleep(1)\n",
    "    \n",
    "    password_input.send_keys(Keys.ENTER)\n",
    "    \n",
    "def nav_to_page(a_driver, ticker):\n",
    "    searchbar_input = WebDriverWait(a_driver, 10).until(\n",
    "        expected_conditions.visibility_of_element_located(\n",
    "        (By.XPATH, '/html/body/header/nav/div[1]/div[2]/form/div/div/input')))\n",
    "\n",
    "    search_button = WebDriverWait(a_driver, 10).until(\n",
    "        expected_conditions.presence_of_element_located(\n",
    "        (By.XPATH, '/html/body/header/nav/div[1]/div[2]/form/div/div/span/button')))\n",
    "\n",
    "    searchbar_input.clear()\n",
    "    searchbar_input.send_keys(ticker)\n",
    "    time.sleep(1)\n",
    "\n",
    "    searchbar_input.send_keys(Keys.DOWN)\n",
    "    time.sleep(1)\n",
    "\n",
    "    searchbar_input.send_keys(Keys.RETURN)\n",
    "    time.sleep(1)\n",
    "\n",
    "    "
   ]
  },
  {
   "cell_type": "code",
   "execution_count": 11,
   "metadata": {},
   "outputs": [],
   "source": [
    "def work_page(a_driver):\n",
    "    \n",
    "    dlxpath = '/html/body/div[4]/div/div/div/div/div/div[1]/div/div[2]/div[1]/div[2]/div/div/div[2]/div/button'\n",
    "    \n",
    "    downloadbutton = WebDriverWait(a_driver, 10).until(\n",
    "        expected_conditions.presence_of_element_located(\n",
    "        (By.XPATH, dlxpath)))\n",
    "    \n",
    "    def work_dl_popup(a_driver):\n",
    "        csvxpath = '/html/body/div[1]/div/div/div[3]/div/div[1]/button[2]'\n",
    "        dlfxpath = '/html/body/div[1]/div/div/div[3]/div/button[1]'\n",
    "        cancelxpath = '/html/body/div[1]/div/div/div[1]/button'\n",
    "        \n",
    "        csvbutton = WebDriverWait(a_driver, 30).until(\n",
    "            expected_conditions.presence_of_element_located(\n",
    "            (By.XPATH, csvxpath)))\n",
    "        downloadfilebutton = WebDriverWait(a_driver, 30).until(\n",
    "            expected_conditions.presence_of_element_located(\n",
    "            (By.XPATH, dlfxpath)))\n",
    "        cancelbutton = WebDriverWait(a_driver, 30).until(\n",
    "            expected_conditions.presence_of_element_located(\n",
    "            (By.XPATH, cancelxpath)))\n",
    "        \n",
    "        time.sleep(1)\n",
    "        csvbutton.click()\n",
    "        time.sleep(1)\n",
    "        downloadfilebutton.click()\n",
    "        time.sleep(1)\n",
    "        cancelbutton.click()\n",
    "        \n",
    "    time.sleep(8)\n",
    "    downloadbutton.click()\n",
    "    \n",
    "    work_dl_popup(a_driver)\n",
    "    \n",
    "    "
   ]
  },
  {
   "cell_type": "code",
   "execution_count": 5,
   "metadata": {},
   "outputs": [],
   "source": [
    "login(a_driver)"
   ]
  },
  {
   "cell_type": "code",
   "execution_count": 6,
   "metadata": {},
   "outputs": [],
   "source": [
    "nav_to_page(a_driver, 'pypl')"
   ]
  },
  {
   "cell_type": "code",
   "execution_count": 14,
   "metadata": {},
   "outputs": [],
   "source": [
    "work_page(a_driver)"
   ]
  },
  {
   "cell_type": "code",
   "execution_count": 15,
   "metadata": {},
   "outputs": [],
   "source": [
    "nav_to_page(a_driver, 'msft')\n",
    "work_page(a_driver)"
   ]
  },
  {
   "cell_type": "code",
   "execution_count": null,
   "metadata": {},
   "outputs": [],
   "source": [
    "nav_to_page(a_driver, 'tsla')\n",
    "work_page(a_driver)"
   ]
  }
 ],
 "metadata": {
  "kernelspec": {
   "display_name": "Python 3",
   "language": "python",
   "name": "python3"
  },
  "language_info": {
   "codemirror_mode": {
    "name": "ipython",
    "version": 3
   },
   "file_extension": ".py",
   "mimetype": "text/x-python",
   "name": "python",
   "nbconvert_exporter": "python",
   "pygments_lexer": "ipython3",
   "version": "3.7.1"
  }
 },
 "nbformat": 4,
 "nbformat_minor": 4
}
