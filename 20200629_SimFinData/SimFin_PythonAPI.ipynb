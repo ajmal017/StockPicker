{
 "cells": [
  {
   "cell_type": "code",
   "execution_count": 3,
   "metadata": {},
   "outputs": [
    {
     "name": "stdout",
     "output_type": "stream",
     "text": [
      "# conda environments:\r\n",
      "#\r\n",
      "base                     /home/jack/anaconda3\r\n",
      "Env_test                 /home/jack/anaconda3/envs/Env_test\r\n",
      "simfin-env            *  /home/jack/anaconda3/envs/simfin-env\r\n",
      "\r\n"
     ]
    }
   ],
   "source": [
    "!conda env list"
   ]
  },
  {
   "cell_type": "code",
   "execution_count": 8,
   "metadata": {},
   "outputs": [
    {
     "name": "stdout",
     "output_type": "stream",
     "text": [
      "Collecting git+https://github.com/simfin/simfin.git\n",
      "  Cloning https://github.com/simfin/simfin.git to /tmp/pip-req-build-2_9hdkgu\n",
      "  Running command git clone -q https://github.com/simfin/simfin.git /tmp/pip-req-build-2_9hdkgu\n",
      "Requirement already satisfied (use --upgrade to upgrade): simfin==0.7.0 from git+https://github.com/simfin/simfin.git in /home/jack/anaconda3/envs/simfin-env/lib/python3.8/site-packages\n",
      "Requirement already satisfied: pandas in /home/jack/anaconda3/envs/simfin-env/lib/python3.8/site-packages (from simfin==0.7.0) (1.0.5)\n",
      "Requirement already satisfied: numpy in /home/jack/anaconda3/envs/simfin-env/lib/python3.8/site-packages (from simfin==0.7.0) (1.19.0)\n",
      "Requirement already satisfied: requests in /home/jack/anaconda3/envs/simfin-env/lib/python3.8/site-packages (from simfin==0.7.0) (2.24.0)\n",
      "Requirement already satisfied: pytz>=2017.2 in /home/jack/anaconda3/envs/simfin-env/lib/python3.8/site-packages (from pandas->simfin==0.7.0) (2020.1)\n",
      "Requirement already satisfied: python-dateutil>=2.6.1 in /home/jack/anaconda3/envs/simfin-env/lib/python3.8/site-packages (from pandas->simfin==0.7.0) (2.8.1)\n",
      "Requirement already satisfied: chardet<4,>=3.0.2 in /home/jack/anaconda3/envs/simfin-env/lib/python3.8/site-packages (from requests->simfin==0.7.0) (3.0.4)\n",
      "Requirement already satisfied: urllib3!=1.25.0,!=1.25.1,<1.26,>=1.21.1 in /home/jack/anaconda3/envs/simfin-env/lib/python3.8/site-packages (from requests->simfin==0.7.0) (1.25.9)\n",
      "Requirement already satisfied: certifi>=2017.4.17 in /home/jack/anaconda3/envs/simfin-env/lib/python3.8/site-packages (from requests->simfin==0.7.0) (2020.6.20)\n",
      "Requirement already satisfied: idna<3,>=2.5 in /home/jack/anaconda3/envs/simfin-env/lib/python3.8/site-packages (from requests->simfin==0.7.0) (2.10)\n",
      "Requirement already satisfied: six>=1.5 in /home/jack/anaconda3/envs/simfin-env/lib/python3.8/site-packages (from python-dateutil>=2.6.1->pandas->simfin==0.7.0) (1.15.0)\n",
      "Building wheels for collected packages: simfin\n",
      "  Building wheel for simfin (setup.py) ... \u001b[?25ldone\n",
      "\u001b[?25h  Created wheel for simfin: filename=simfin-0.7.0-py3-none-any.whl size=59734 sha256=598930d0fae1e597af149b39949ebf93bcf66a4a55d241fe59e8bf83b9720598\n",
      "  Stored in directory: /tmp/pip-ephem-wheel-cache-wfqhbmwp/wheels/a6/f5/b5/f4c35b491cfb0b20a687eff6a49c326c39bd88aab0001a899e\n",
      "Successfully built simfin\n"
     ]
    }
   ],
   "source": [
    "!pip install git+https://github.com/simfin/simfin.git"
   ]
  },
  {
   "cell_type": "code",
   "execution_count": 7,
   "metadata": {},
   "outputs": [
    {
     "ename": "ModuleNotFoundError",
     "evalue": "No module named 'simfin'",
     "output_type": "error",
     "traceback": [
      "\u001b[0;31m---------------------------------------------------------------------------\u001b[0m",
      "\u001b[0;31mModuleNotFoundError\u001b[0m                       Traceback (most recent call last)",
      "\u001b[0;32m<ipython-input-7-525289fda29b>\u001b[0m in \u001b[0;36m<module>\u001b[0;34m\u001b[0m\n\u001b[0;32m----> 1\u001b[0;31m \u001b[0;32mimport\u001b[0m \u001b[0msimfin\u001b[0m\u001b[0;34m\u001b[0m\u001b[0;34m\u001b[0m\u001b[0m\n\u001b[0m",
      "\u001b[0;31mModuleNotFoundError\u001b[0m: No module named 'simfin'"
     ]
    }
   ],
   "source": [
    "import simfin"
   ]
  },
  {
   "cell_type": "code",
   "execution_count": null,
   "metadata": {},
   "outputs": [],
   "source": []
  }
 ],
 "metadata": {
  "kernelspec": {
   "display_name": "Python 3",
   "language": "python",
   "name": "python3"
  },
  "language_info": {
   "codemirror_mode": {
    "name": "ipython",
    "version": 3
   },
   "file_extension": ".py",
   "mimetype": "text/x-python",
   "name": "python",
   "nbconvert_exporter": "python",
   "pygments_lexer": "ipython3",
   "version": "3.7.6"
  }
 },
 "nbformat": 4,
 "nbformat_minor": 4
}
