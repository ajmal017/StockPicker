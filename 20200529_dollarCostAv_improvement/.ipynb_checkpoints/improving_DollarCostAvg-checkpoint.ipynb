{
 "cells": [
  {
   "cell_type": "code",
   "execution_count": 1,
   "metadata": {
    "ExecuteTime": {
     "end_time": "2020-05-31T03:31:31.001639Z",
     "start_time": "2020-05-31T03:31:30.962663Z"
    }
   },
   "outputs": [
    {
     "data": {
      "text/plain": [
       "\"\\ndollar cost averaging comparison\\n\\nv0.1\\n\\nThe goal of this sheet is to make a method that compares dollar cost averaging of different indexes and stocks\\n    \\nafter i create the rules that dictate how indexes are bought I'm going to look for alternatives to DCA including\\nlooking at investing during statistical biweekly, and monthly lows\\n\\n\""
      ]
     },
     "execution_count": 1,
     "metadata": {},
     "output_type": "execute_result"
    }
   ],
   "source": [
    "\"\"\"\n",
    "dollar cost averaging comparison\n",
    "\n",
    "v0.1\n",
    "\n",
    "The goal of this sheet is to make a method that compares dollar cost averaging of different indexes and stocks\n",
    "    \n",
    "after i create the rules that dictate how indexes are bought I'm going to look for alternatives to DCA including\n",
    "looking at investing during statistical biweekly, and monthly lows\n",
    "\n",
    "\"\"\""
   ]
  },
  {
   "cell_type": "code",
   "execution_count": 2,
   "metadata": {
    "ExecuteTime": {
     "end_time": "2020-05-31T03:31:32.006758Z",
     "start_time": "2020-05-31T03:31:31.030598Z"
    }
   },
   "outputs": [],
   "source": [
    "import yfinance as yf\n",
    "import pandas as pd\n",
    "import numpy as np\n",
    "import math"
   ]
  },
  {
   "cell_type": "code",
   "execution_count": 3,
   "metadata": {
    "ExecuteTime": {
     "end_time": "2020-05-31T03:31:32.289632Z",
     "start_time": "2020-05-31T03:31:32.008988Z"
    }
   },
   "outputs": [],
   "source": [
    "import matplotlib.pyplot as plt\n",
    "from matplotlib.pyplot import figure\n",
    "\n",
    "%matplotlib inline"
   ]
  },
  {
   "cell_type": "code",
   "execution_count": 4,
   "metadata": {
    "ExecuteTime": {
     "end_time": "2020-05-31T03:31:32.299220Z",
     "start_time": "2020-05-31T03:31:32.293207Z"
    }
   },
   "outputs": [],
   "source": [
    "\"\"\"\n",
    "Put the below tickers into a list of dictionaries so i can scale up on individual stocks\n",
    "    or create an object where the name points to the characteristics I'm looking for\n",
    "\n",
    "check syntax\n",
    "\"\"\"\n",
    "\n",
    "stocks = [\n",
    "    {'Name': 'sp500', 'Ticker':'^GSPC', 'Category':'index'},\n",
    "#     {'Name': 'nasdaq', 'Ticker': '^IXIC', 'Category':'index'},\n",
    "    {'Name': 'vanguard500', 'Ticker': 'VOO', 'Category':'tracker'},\n",
    "#     {'Name': 'vanguardTotal', 'Ticker': 'VTSAX', 'Category':'tracker'},\n",
    "    {'Name': 'nasdaq100', 'Ticker': 'QQQ', 'Category':'tracker'},\n",
    "#     {'Name': 'AmericanLTG', 'Ticker':'AIVSX', 'Category':'tracker'},\n",
    "#     {'Name': 'ValueHunting', 'Ticker':'PIODX', 'Category':'tracker'},\n",
    "    {'Name': 'DA_sp1500', 'Ticker':'SDY', 'Category':'dividend aristocrat'},\n",
    "    {'Name': 'DA_nasdaq', 'Ticker':'VIG', 'Category':'dividend aristocrat'},\n",
    "#     {'Name': 'DA_DowJones', 'Ticker':'DVY', 'Category':'dividend aristocrat'},\n",
    "#     {'Name': 'DA_PreferredShares', 'Ticker':'PFF', 'Category':'dividend aristocrat'},\n",
    "#     {'Name': 'DA_WeightedByDividend', 'Ticker':'DTD', 'Category':'dividend aristocrat'},\n",
    "    {'Name': 'BC_Innovation', 'Ticker':'KOIN', 'Category':'BC Benefactor'},\n",
    "#     {'Name': 'BC_Economy', 'Ticker':'BLCN', 'Category':'BC Benefactor'},\n",
    "#     {'Name': 'BC_WW', 'Ticker':'LEGR', 'Category':'BC Benefactor'},\n",
    "    {'Name': 'QC_Bluestar', 'Ticker': 'QTUM', 'Category': 'index'}\n",
    "]"
   ]
  },
  {
   "cell_type": "code",
   "execution_count": 5,
   "metadata": {
    "ExecuteTime": {
     "end_time": "2020-05-31T03:31:45.873169Z",
     "start_time": "2020-05-31T03:31:32.302228Z"
    }
   },
   "outputs": [
    {
     "name": "stdout",
     "output_type": "stream",
     "text": [
      "0\n",
      "1\n",
      "2\n",
      "3\n",
      "4\n",
      "5\n",
      "6\n"
     ]
    }
   ],
   "source": [
    "for i, n in enumerate([d['Ticker'] for d in stocks if 'Ticker' in d]):\n",
    "    print(i)\n",
    "    df = yf.Ticker(n).history(period='max').reset_index()\n",
    "    df['PriorYearBW'] = df.Open/df.Open.shift(253)-1\n",
    "    stocks[i].update({\"Average\":df['PriorYearBW'].mean(), \"Risk\":df['PriorYearBW'].std(),\n",
    "                      \"GrowthRiskRatio\":df['PriorYearBW'].mean()/df['PriorYearBW'].std(),\n",
    "                    \"StartDate\":df['Date'].iloc[0], \"EndDate\":df['Date'].iloc[-1]})\n",
    "    \n",
    "    stocks[i].update(yf.Ticker(n).info)"
   ]
  },
  {
   "cell_type": "code",
   "execution_count": 6,
   "metadata": {
    "ExecuteTime": {
     "end_time": "2020-05-31T03:31:45.911955Z",
     "start_time": "2020-05-31T03:31:45.876437Z"
    }
   },
   "outputs": [
    {
     "data": {
      "text/plain": [
       "{'Name': 'DA_nasdaq',\n",
       " 'Ticker': 'VIG',\n",
       " 'Category': 'dividend aristocrat',\n",
       " 'Average': 0.09667150956177088,\n",
       " 'Risk': 0.13577357056413458,\n",
       " 'GrowthRiskRatio': 0.7120053568607206,\n",
       " 'StartDate': Timestamp('2006-05-02 00:00:00'),\n",
       " 'EndDate': Timestamp('2020-05-29 00:00:00'),\n",
       " 'previousClose': 117.25,\n",
       " 'regularMarketOpen': 117.13,\n",
       " 'twoHundredDayAverage': 117.829926,\n",
       " 'trailingAnnualDividendYield': None,\n",
       " 'payoutRatio': None,\n",
       " 'volume24Hr': None,\n",
       " 'regularMarketDayHigh': 117.9,\n",
       " 'navPrice': 117.67,\n",
       " 'averageDailyVolume10Day': 1210114,\n",
       " 'totalAssets': 49756540928,\n",
       " 'regularMarketPreviousClose': 117.25,\n",
       " 'fiftyDayAverage': 112.81294,\n",
       " 'trailingAnnualDividendRate': None,\n",
       " 'open': 117.13,\n",
       " 'toCurrency': None,\n",
       " 'averageVolume10days': 1210114,\n",
       " 'expireDate': None,\n",
       " 'yield': 0.0185,\n",
       " 'algorithm': None,\n",
       " 'dividendRate': None,\n",
       " 'exDividendDate': None,\n",
       " 'beta': None,\n",
       " 'circulatingSupply': None,\n",
       " 'startDate': None,\n",
       " 'regularMarketDayLow': 115.94,\n",
       " 'priceHint': 2,\n",
       " 'currency': 'USD',\n",
       " 'regularMarketVolume': 1043595,\n",
       " 'lastMarket': None,\n",
       " 'maxSupply': None,\n",
       " 'openInterest': None,\n",
       " 'marketCap': None,\n",
       " 'volumeAllCurrencies': None,\n",
       " 'strikePrice': None,\n",
       " 'averageVolume': 2521798,\n",
       " 'priceToSalesTrailing12Months': None,\n",
       " 'dayLow': 115.94,\n",
       " 'ask': 118.49,\n",
       " 'ytdReturn': None,\n",
       " 'askSize': 800,\n",
       " 'volume': 1043595,\n",
       " 'fiftyTwoWeekHigh': 130.91,\n",
       " 'forwardPE': None,\n",
       " 'maxAge': 1,\n",
       " 'fromCurrency': None,\n",
       " 'fiveYearAvgDividendYield': None,\n",
       " 'fiftyTwoWeekLow': 87.71,\n",
       " 'bid': 117.21,\n",
       " 'tradeable': False,\n",
       " 'dividendYield': None,\n",
       " 'bidSize': 1200,\n",
       " 'dayHigh': 117.9,\n",
       " 'exchange': 'PCX',\n",
       " 'shortName': 'Vanguard Div Appreciation ETF',\n",
       " 'longName': 'Vanguard Dividend Appreciation Index Fund ETF Shares',\n",
       " 'exchangeTimezoneName': 'America/New_York',\n",
       " 'exchangeTimezoneShortName': 'EDT',\n",
       " 'isEsgPopulated': False,\n",
       " 'gmtOffSetMilliseconds': '-14400000',\n",
       " 'quoteType': 'ETF',\n",
       " 'symbol': 'VIG',\n",
       " 'messageBoardId': 'finmb_26955607',\n",
       " 'market': 'us_market',\n",
       " 'annualHoldingsTurnover': None,\n",
       " 'enterpriseToRevenue': None,\n",
       " 'beta3Year': 0.86,\n",
       " 'profitMargins': None,\n",
       " 'enterpriseToEbitda': None,\n",
       " '52WeekChange': None,\n",
       " 'morningStarRiskRating': None,\n",
       " 'forwardEps': None,\n",
       " 'revenueQuarterlyGrowth': None,\n",
       " 'fundInceptionDate': 1145577600,\n",
       " 'annualReportExpenseRatio': None,\n",
       " 'bookValue': None,\n",
       " 'fundFamily': 'Vanguard',\n",
       " 'lastFiscalYearEnd': None,\n",
       " 'netIncomeToCommon': None,\n",
       " 'trailingEps': None,\n",
       " 'lastDividendValue': None,\n",
       " 'SandP52WeekChange': None,\n",
       " 'priceToBook': None,\n",
       " 'nextFiscalYearEnd': None,\n",
       " 'mostRecentQuarter': None,\n",
       " 'enterpriseValue': None,\n",
       " 'threeYearAverageReturn': 0.104499996,\n",
       " 'lastSplitDate': None,\n",
       " 'lastSplitFactor': None,\n",
       " 'legalType': 'Exchange Traded Fund',\n",
       " 'morningStarOverallRating': None,\n",
       " 'earningsQuarterlyGrowth': None,\n",
       " 'pegRatio': None,\n",
       " 'lastCapGain': None,\n",
       " 'category': 'Large Blend',\n",
       " 'fiveYearAverageReturn': 0.099700004,\n",
       " 'phone': '800-662-7447',\n",
       " 'longBusinessSummary': 'The investment seeks to track the performance of a benchmark index that measures the investment return of common stocks of companies that have a record of increasing dividends over time.\\n The fund employs an indexing investment approach designed to track the performance of the Nasdaq US Dividend Achievers Select Index, which consists of common stocks of companies that have a record of increasing dividends over time. The adviser attempts to replicate the target index by investing all, or substantially all, of its assets in the stocks that make up the index, holding each stock in approximately the same proportion as its weighting in the index.',\n",
       " 'companyOfficers': [],\n",
       " 'regularMarketPrice': 117.13,\n",
       " 'logo_url': ''}"
      ]
     },
     "execution_count": 6,
     "metadata": {},
     "output_type": "execute_result"
    }
   ],
   "source": [
    "stock = stocks[4]\n",
    "stock"
   ]
  },
  {
   "cell_type": "code",
   "execution_count": 7,
   "metadata": {
    "ExecuteTime": {
     "end_time": "2020-05-31T03:31:45.919263Z",
     "start_time": "2020-05-31T03:31:45.915293Z"
    }
   },
   "outputs": [],
   "source": [
    "# investing strategies\n",
    "\n",
    "def dollarCostAveraging(payment, ticker, datetime):\n",
    "    return 1"
   ]
  },
  {
   "cell_type": "code",
   "execution_count": 17,
   "metadata": {
    "ExecuteTime": {
     "end_time": "2020-05-31T03:36:13.957951Z",
     "start_time": "2020-05-31T03:36:13.944295Z"
    }
   },
   "outputs": [],
   "source": [
    "class create_tradebot():\n",
    "    def __init__(self, principal, payment):\n",
    "        self.holdings = {'$': principal}\n",
    "        self.payment = payment\n",
    "        \n",
    "    def getCash(self): \n",
    "        return self.holdings['$']\n",
    "    \n",
    "    def addCash(self, amount):\n",
    "        self.holdings['$'] = self.holdings['$'] + amount\n",
    "    \n",
    "    def buy(self, ticker, date):\n",
    "        \n",
    "        if ticker in self.holdings:\n",
    "            self.holdings[ticker] = self.holdings[ticker] + math.floor(self.getCash() /\n",
    "                yf.Ticker(ticker).history(start='2020-05-27', end='2020-05-28').iloc[0]['Open'])\n",
    "            \n",
    "            self.holdings['$'] = round(self.getCash()%\n",
    "                  yf.Ticker(ticker).history(start='2020-05-27', end='2020-05-28').iloc[0]['Open'],2)\n",
    "\n",
    "        else:\n",
    "            self.holdings.update(\n",
    "                {ticker: math.floor(self.getCash() /\n",
    "                yf.Ticker(ticker).history(start='2020-05-27', end='2020-05-28').iloc[0]['Open'])\n",
    "                               })\n",
    "\n",
    "            self.holdings['$'] = round(self.getCash()%\n",
    "                  yf.Ticker(ticker).history(start='2020-05-27', end='2020-05-28').iloc[0]['Open'],2)\n"
   ]
  },
  {
   "cell_type": "code",
   "execution_count": 18,
   "metadata": {
    "ExecuteTime": {
     "end_time": "2020-05-31T03:36:20.410736Z",
     "start_time": "2020-05-31T03:36:20.404081Z"
    }
   },
   "outputs": [],
   "source": [
    "tb = create_tradebot(10000, 10000)"
   ]
  },
  {
   "cell_type": "code",
   "execution_count": 19,
   "metadata": {
    "ExecuteTime": {
     "end_time": "2020-05-31T03:36:21.285485Z",
     "start_time": "2020-05-31T03:36:21.279163Z"
    }
   },
   "outputs": [
    {
     "data": {
      "text/plain": [
       "{'$': 10000}"
      ]
     },
     "execution_count": 19,
     "metadata": {},
     "output_type": "execute_result"
    }
   ],
   "source": [
    "tb.holdings\n"
   ]
  },
  {
   "cell_type": "code",
   "execution_count": 20,
   "metadata": {
    "ExecuteTime": {
     "end_time": "2020-05-31T03:36:22.115869Z",
     "start_time": "2020-05-31T03:36:21.815345Z"
    }
   },
   "outputs": [],
   "source": [
    "tb.buy(stock['Ticker'], 0)"
   ]
  },
  {
   "cell_type": "code",
   "execution_count": 21,
   "metadata": {
    "ExecuteTime": {
     "end_time": "2020-05-31T03:36:22.311955Z",
     "start_time": "2020-05-31T03:36:22.303780Z"
    }
   },
   "outputs": [
    {
     "data": {
      "text/plain": [
       "{'$': 101.75, 'VIG': 85}"
      ]
     },
     "execution_count": 21,
     "metadata": {},
     "output_type": "execute_result"
    }
   ],
   "source": [
    "tb.holdings"
   ]
  },
  {
   "cell_type": "code",
   "execution_count": 22,
   "metadata": {
    "ExecuteTime": {
     "end_time": "2020-05-31T03:36:23.078477Z",
     "start_time": "2020-05-31T03:36:22.842661Z"
    }
   },
   "outputs": [],
   "source": [
    "tb.buy(stock['Ticker'], 0)"
   ]
  },
  {
   "cell_type": "code",
   "execution_count": 23,
   "metadata": {
    "ExecuteTime": {
     "end_time": "2020-05-31T03:36:23.369926Z",
     "start_time": "2020-05-31T03:36:23.364282Z"
    }
   },
   "outputs": [
    {
     "data": {
      "text/plain": [
       "{'$': 101.75, 'VIG': 85}"
      ]
     },
     "execution_count": 23,
     "metadata": {},
     "output_type": "execute_result"
    }
   ],
   "source": [
    "tb.holdings"
   ]
  },
  {
   "cell_type": "code",
   "execution_count": 24,
   "metadata": {
    "ExecuteTime": {
     "end_time": "2020-05-31T03:36:24.594733Z",
     "start_time": "2020-05-31T03:36:24.588987Z"
    }
   },
   "outputs": [],
   "source": [
    "tb.addCash(tb.payment)"
   ]
  },
  {
   "cell_type": "code",
   "execution_count": 25,
   "metadata": {
    "ExecuteTime": {
     "end_time": "2020-05-31T03:36:35.194091Z",
     "start_time": "2020-05-31T03:36:35.183613Z"
    }
   },
   "outputs": [
    {
     "data": {
      "text/plain": [
       "{'$': 10101.75, 'VIG': 85}"
      ]
     },
     "execution_count": 25,
     "metadata": {},
     "output_type": "execute_result"
    }
   ],
   "source": [
    "tb.holdings"
   ]
  },
  {
   "cell_type": "code",
   "execution_count": 26,
   "metadata": {
    "ExecuteTime": {
     "end_time": "2020-05-31T03:37:04.533877Z",
     "start_time": "2020-05-31T03:37:04.138134Z"
    }
   },
   "outputs": [],
   "source": [
    "tb.buy(stock['Ticker'], 0)"
   ]
  },
  {
   "cell_type": "code",
   "execution_count": 27,
   "metadata": {
    "ExecuteTime": {
     "end_time": "2020-05-31T03:37:12.317857Z",
     "start_time": "2020-05-31T03:37:12.304464Z"
    }
   },
   "outputs": [
    {
     "data": {
      "text/plain": [
       "{'$': 87.05, 'VIG': 171}"
      ]
     },
     "execution_count": 27,
     "metadata": {},
     "output_type": "execute_result"
    }
   ],
   "source": [
    "tb.holdings"
   ]
  },
  {
   "cell_type": "code",
   "execution_count": null,
   "metadata": {},
   "outputs": [],
   "source": []
  }
 ],
 "metadata": {
  "kernelspec": {
   "display_name": "Python 3",
   "language": "python",
   "name": "python3"
  },
  "language_info": {
   "codemirror_mode": {
    "name": "ipython",
    "version": 3
   },
   "file_extension": ".py",
   "mimetype": "text/x-python",
   "name": "python",
   "nbconvert_exporter": "python",
   "pygments_lexer": "ipython3",
   "version": "3.7.1"
  }
 },
 "nbformat": 4,
 "nbformat_minor": 2
}
