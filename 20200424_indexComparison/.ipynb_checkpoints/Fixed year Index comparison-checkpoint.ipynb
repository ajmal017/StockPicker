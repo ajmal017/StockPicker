{
 "cells": [
  {
   "cell_type": "code",
   "execution_count": 1,
   "metadata": {
    "ExecuteTime": {
     "end_time": "2020-04-24T12:40:49.460919Z",
     "start_time": "2020-04-24T12:40:49.441501Z"
    }
   },
   "outputs": [
    {
     "data": {
      "text/plain": [
       "'\\nindex comparison\\n\\nv0.1\\n\\nThe goal of this sheet is to macro analyze various indexes by getting the YoY growth rates, average them, \\n    and get their standard deviation as a measure of risk\\n\\n'"
      ]
     },
     "execution_count": 1,
     "metadata": {},
     "output_type": "execute_result"
    }
   ],
   "source": [
    "\"\"\"\n",
    "index comparison\n",
    "\n",
    "v0.1\n",
    "\n",
    "The goal of this sheet is to macro analyze various indexes by getting the YoY growth rates, average them, \n",
    "    and get their standard deviation as a measure of risk\n",
    "\n",
    "\"\"\""
   ]
  },
  {
   "cell_type": "code",
   "execution_count": 2,
   "metadata": {
    "ExecuteTime": {
     "end_time": "2020-04-24T12:40:50.435296Z",
     "start_time": "2020-04-24T12:40:49.465021Z"
    }
   },
   "outputs": [],
   "source": [
    "import yfinance as yf\n",
    "import pandas as pd\n",
    "import numpy as np"
   ]
  },
  {
   "cell_type": "code",
   "execution_count": 3,
   "metadata": {
    "ExecuteTime": {
     "end_time": "2020-04-24T12:40:50.750861Z",
     "start_time": "2020-04-24T12:40:50.437738Z"
    }
   },
   "outputs": [],
   "source": [
    "import matplotlib.pyplot as plt\n",
    "from matplotlib.pyplot import figure\n",
    "\n",
    "%matplotlib inline"
   ]
  },
  {
   "cell_type": "code",
   "execution_count": 4,
   "metadata": {
    "ExecuteTime": {
     "end_time": "2020-04-24T12:40:50.765235Z",
     "start_time": "2020-04-24T12:40:50.755642Z"
    }
   },
   "outputs": [
    {
     "data": {
      "text/plain": [
       "\"\\nTheres an opportunity in figuring out how to weigh these stock. Currently, I'm unsure of how they're weighed to \\n    calcaulate S&P 500 and Nasdaq but i can research that and incorporate it into the thought process\\n    \\nthere is another opportunity in adjusting the risk calculation using some of the same 3blue1brown technique in \\n    calculating adjusted rating:\\n    https://www.youtube.com/watch?v=8idr1WZ1A7Q\\n    \\n\\n\""
      ]
     },
     "execution_count": 4,
     "metadata": {},
     "output_type": "execute_result"
    }
   ],
   "source": [
    "\"\"\"\n",
    "Theres an opportunity in figuring out how to weigh these stock. Currently, I'm unsure of how they're weighed to \n",
    "    calcaulate S&P 500 and Nasdaq but i can research that and incorporate it into the thought process\n",
    "    \n",
    "there is another opportunity in adjusting the risk calculation using some of the same 3blue1brown technique in \n",
    "    calculating adjusted rating:\n",
    "    https://www.youtube.com/watch?v=8idr1WZ1A7Q\n",
    "    \n",
    "\n",
    "\"\"\""
   ]
  },
  {
   "cell_type": "code",
   "execution_count": 5,
   "metadata": {
    "ExecuteTime": {
     "end_time": "2020-04-24T12:40:50.781899Z",
     "start_time": "2020-04-24T12:40:50.770217Z"
    }
   },
   "outputs": [
    {
     "data": {
      "text/plain": [
       "\"\\nPut the below tickers into a list of dictionaries so i can scale up on individual stocks\\n    or create an object where the name points to the characteristics I'm looking for\\n\\ncheck syntax\\n\""
      ]
     },
     "execution_count": 5,
     "metadata": {},
     "output_type": "execute_result"
    }
   ],
   "source": [
    "\"\"\"\n",
    "Put the below tickers into a list of dictionaries so i can scale up on individual stocks\n",
    "    or create an object where the name points to the characteristics I'm looking for\n",
    "\n",
    "check syntax\n",
    "\"\"\"\n",
    "\n",
    "# Comparisons = [\"sp500\": yf.Ticker(\"^GSPC\")]"
   ]
  },
  {
   "cell_type": "code",
   "execution_count": 6,
   "metadata": {
    "ExecuteTime": {
     "end_time": "2020-04-24T12:40:50.824273Z",
     "start_time": "2020-04-24T12:40:50.791249Z"
    }
   },
   "outputs": [],
   "source": [
    "# indexes\n",
    "\n",
    "sp500 = yf.Ticker(\"^GSPC\")\n",
    "nasdaq =  yf.Ticker(\"^IXIC\")"
   ]
  },
  {
   "cell_type": "code",
   "execution_count": 8,
   "metadata": {
    "ExecuteTime": {
     "end_time": "2020-04-24T12:41:03.715928Z",
     "start_time": "2020-04-24T12:41:03.711145Z"
    }
   },
   "outputs": [],
   "source": [
    "# Dividend Aristocrats ETFs\n",
    "\n",
    "DA_SP1500 = (\"SDY\")\n",
    "DA_nasdaq = (\"VIG\")\n",
    "DA_DowJones = (\"DVY\")\n",
    "DA_PreferredShares = (\"PFF\")\n",
    "DA_WeightedByDividend = (\"DTD\")"
   ]
  },
  {
   "cell_type": "code",
   "execution_count": null,
   "metadata": {},
   "outputs": [],
   "source": [
    "\"\"\"\n",
    "Calculate YoY growth,\n",
    "determine avg growth\n",
    "determine avg risk (standard deviation)\n",
    "\"\"\""
   ]
  }
 ],
 "metadata": {
  "kernelspec": {
   "display_name": "Python 3",
   "language": "python",
   "name": "python3"
  },
  "language_info": {
   "codemirror_mode": {
    "name": "ipython",
    "version": 3
   },
   "file_extension": ".py",
   "mimetype": "text/x-python",
   "name": "python",
   "nbconvert_exporter": "python",
   "pygments_lexer": "ipython3",
   "version": "3.7.1"
  }
 },
 "nbformat": 4,
 "nbformat_minor": 2
}
