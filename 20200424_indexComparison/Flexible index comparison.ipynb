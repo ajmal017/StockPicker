{
 "cells": [
  {
   "cell_type": "code",
   "execution_count": 1,
   "metadata": {
    "ExecuteTime": {
     "end_time": "2020-05-30T23:22:57.752817Z",
     "start_time": "2020-05-30T23:22:57.710893Z"
    }
   },
   "outputs": [
    {
     "data": {
      "text/plain": [
       "\"\\nindex comparison\\n\\nv1.0\\n\\nThe goal of this sheet is to macro analyze various indexes by getting the YoY growth rates, average them, \\n    and get their standard deviation as a measure of risk\\n    \\nI'll need to calculate fees in order to get a better judgment of the take away from the various tools\\n\\n\""
      ]
     },
     "execution_count": 1,
     "metadata": {},
     "output_type": "execute_result"
    }
   ],
   "source": [
    "\"\"\"\n",
    "index comparison\n",
    "\n",
    "v1.0\n",
    "\n",
    "v1.0 compared the indexes risk (measured by volatility) vs reward\n",
    "\n",
    "The goal of this sheet is to macro analyze various indexes by getting the YoY growth rates, average them, \n",
    "    and get their standard deviation as a measure of risk\n",
    "    \n",
    "I'll need to calculate fees in order to get a better judgment of the take away from the various tools\n",
    "\n",
    "\"\"\""
   ]
  },
  {
   "cell_type": "code",
   "execution_count": 2,
   "metadata": {
    "ExecuteTime": {
     "end_time": "2020-05-30T23:22:58.710922Z",
     "start_time": "2020-05-30T23:22:57.758015Z"
    }
   },
   "outputs": [],
   "source": [
    "import yfinance as yf\n",
    "import pandas as pd\n",
    "import numpy as np"
   ]
  },
  {
   "cell_type": "code",
   "execution_count": 3,
   "metadata": {
    "ExecuteTime": {
     "end_time": "2020-05-30T23:22:59.003597Z",
     "start_time": "2020-05-30T23:22:58.712705Z"
    }
   },
   "outputs": [],
   "source": [
    "import matplotlib.pyplot as plt\n",
    "from matplotlib.pyplot import figure\n",
    "\n",
    "%matplotlib inline"
   ]
  },
  {
   "cell_type": "code",
   "execution_count": 4,
   "metadata": {
    "ExecuteTime": {
     "end_time": "2020-05-30T23:22:59.014070Z",
     "start_time": "2020-05-30T23:22:59.007294Z"
    }
   },
   "outputs": [
    {
     "data": {
      "text/plain": [
       "'\\n\\nthere is another opportunity in adjusting the risk calculation using some of the same 3blue1brown technique in \\n    calculating adjusted rating:\\n    https://www.youtube.com/watch?v=8idr1WZ1A7Q\\n\\n'"
      ]
     },
     "execution_count": 4,
     "metadata": {},
     "output_type": "execute_result"
    }
   ],
   "source": [
    "\"\"\"\n",
    "\n",
    "there is another opportunity in adjusting the risk calculation using some of the same 3blue1brown technique in \n",
    "    calculating adjusted rating:\n",
    "    https://www.youtube.com/watch?v=8idr1WZ1A7Q\n",
    "\n",
    "\"\"\""
   ]
  },
  {
   "cell_type": "code",
   "execution_count": 5,
   "metadata": {
    "ExecuteTime": {
     "end_time": "2020-05-30T23:22:59.024769Z",
     "start_time": "2020-05-30T23:22:59.018106Z"
    }
   },
   "outputs": [],
   "source": [
    "\"\"\"\n",
    "Put the below tickers into a list of dictionaries so i can scale up on individual stocks\n",
    "    or create an object where the name points to the characteristics I'm looking for\n",
    "\n",
    "check syntax\n",
    "\"\"\"\n",
    "\n",
    "stocks = [\n",
    "    {'Name': 'sp500', 'Ticker':'^GSPC', 'Category':'index'},\n",
    "#     {'Name': 'nasdaq', 'Ticker': '^IXIC', 'Category':'index'},\n",
    "    {'Name': 'vanguard500', 'Ticker': 'VOO', 'Category':'tracker'},\n",
    "#     {'Name': 'vanguardTotal', 'Ticker': 'VTSAX', 'Category':'tracker'},\n",
    "    {'Name': 'nasdaq100', 'Ticker': 'QQQ', 'Category':'tracker'},\n",
    "#     {'Name': 'AmericanLTG', 'Ticker':'AIVSX', 'Category':'tracker'},\n",
    "#     {'Name': 'ValueHunting', 'Ticker':'PIODX', 'Category':'tracker'},\n",
    "    {'Name': 'DA_sp1500', 'Ticker':'SDY', 'Category':'dividend aristocrat'},\n",
    "    {'Name': 'DA_nasdaq', 'Ticker':'VIG', 'Category':'dividend aristocrat'},\n",
    "#     {'Name': 'DA_DowJones', 'Ticker':'DVY', 'Category':'dividend aristocrat'},\n",
    "#     {'Name': 'DA_PreferredShares', 'Ticker':'PFF', 'Category':'dividend aristocrat'},\n",
    "#     {'Name': 'DA_WeightedByDividend', 'Ticker':'DTD', 'Category':'dividend aristocrat'},\n",
    "    {'Name': 'BC_Innovation', 'Ticker':'KOIN', 'Category':'BC Benefactor'},\n",
    "#     {'Name': 'BC_Economy', 'Ticker':'BLCN', 'Category':'BC Benefactor'},\n",
    "#     {'Name': 'BC_WW', 'Ticker':'LEGR', 'Category':'BC Benefactor'},\n",
    "    {'Name': 'QC_Bluestar', 'Ticker': 'QTUM', 'Category': 'index'}\n",
    "]\n",
    "\n"
   ]
  },
  {
   "cell_type": "code",
   "execution_count": 6,
   "metadata": {
    "ExecuteTime": {
     "end_time": "2020-05-30T23:23:00.435587Z",
     "start_time": "2020-05-30T23:22:59.027212Z"
    }
   },
   "outputs": [
    {
     "data": {
      "text/plain": [
       "{'previousClose': 117.25,\n",
       " 'regularMarketOpen': 117.13,\n",
       " 'twoHundredDayAverage': 117.829926,\n",
       " 'trailingAnnualDividendYield': None,\n",
       " 'payoutRatio': None,\n",
       " 'volume24Hr': None,\n",
       " 'regularMarketDayHigh': 117.9,\n",
       " 'navPrice': 117.67,\n",
       " 'averageDailyVolume10Day': 1210114,\n",
       " 'totalAssets': 49756540928,\n",
       " 'regularMarketPreviousClose': 117.25,\n",
       " 'fiftyDayAverage': 112.81294,\n",
       " 'trailingAnnualDividendRate': None,\n",
       " 'open': 117.13,\n",
       " 'toCurrency': None,\n",
       " 'averageVolume10days': 1210114,\n",
       " 'expireDate': None,\n",
       " 'yield': 0.0185,\n",
       " 'algorithm': None,\n",
       " 'dividendRate': None,\n",
       " 'exDividendDate': None,\n",
       " 'beta': None,\n",
       " 'circulatingSupply': None,\n",
       " 'startDate': None,\n",
       " 'regularMarketDayLow': 115.94,\n",
       " 'priceHint': 2,\n",
       " 'currency': 'USD',\n",
       " 'regularMarketVolume': 1043595,\n",
       " 'lastMarket': None,\n",
       " 'maxSupply': None,\n",
       " 'openInterest': None,\n",
       " 'marketCap': None,\n",
       " 'volumeAllCurrencies': None,\n",
       " 'strikePrice': None,\n",
       " 'averageVolume': 2521798,\n",
       " 'priceToSalesTrailing12Months': None,\n",
       " 'dayLow': 115.94,\n",
       " 'ask': 118.49,\n",
       " 'ytdReturn': None,\n",
       " 'askSize': 800,\n",
       " 'volume': 1043595,\n",
       " 'fiftyTwoWeekHigh': 130.91,\n",
       " 'forwardPE': None,\n",
       " 'maxAge': 1,\n",
       " 'fromCurrency': None,\n",
       " 'fiveYearAvgDividendYield': None,\n",
       " 'fiftyTwoWeekLow': 87.71,\n",
       " 'bid': 117.21,\n",
       " 'tradeable': False,\n",
       " 'dividendYield': None,\n",
       " 'bidSize': 1200,\n",
       " 'dayHigh': 117.9,\n",
       " 'exchange': 'PCX',\n",
       " 'shortName': 'Vanguard Div Appreciation ETF',\n",
       " 'longName': 'Vanguard Dividend Appreciation Index Fund ETF Shares',\n",
       " 'exchangeTimezoneName': 'America/New_York',\n",
       " 'exchangeTimezoneShortName': 'EDT',\n",
       " 'isEsgPopulated': False,\n",
       " 'gmtOffSetMilliseconds': '-14400000',\n",
       " 'quoteType': 'ETF',\n",
       " 'symbol': 'VIG',\n",
       " 'messageBoardId': 'finmb_26955607',\n",
       " 'market': 'us_market',\n",
       " 'annualHoldingsTurnover': None,\n",
       " 'enterpriseToRevenue': None,\n",
       " 'beta3Year': 0.86,\n",
       " 'profitMargins': None,\n",
       " 'enterpriseToEbitda': None,\n",
       " '52WeekChange': None,\n",
       " 'morningStarRiskRating': None,\n",
       " 'forwardEps': None,\n",
       " 'revenueQuarterlyGrowth': None,\n",
       " 'fundInceptionDate': 1145577600,\n",
       " 'annualReportExpenseRatio': None,\n",
       " 'bookValue': None,\n",
       " 'fundFamily': 'Vanguard',\n",
       " 'lastFiscalYearEnd': None,\n",
       " 'netIncomeToCommon': None,\n",
       " 'trailingEps': None,\n",
       " 'lastDividendValue': None,\n",
       " 'SandP52WeekChange': None,\n",
       " 'priceToBook': None,\n",
       " 'nextFiscalYearEnd': None,\n",
       " 'mostRecentQuarter': None,\n",
       " 'enterpriseValue': None,\n",
       " 'threeYearAverageReturn': 0.104499996,\n",
       " 'lastSplitDate': None,\n",
       " 'lastSplitFactor': None,\n",
       " 'legalType': 'Exchange Traded Fund',\n",
       " 'morningStarOverallRating': None,\n",
       " 'earningsQuarterlyGrowth': None,\n",
       " 'pegRatio': None,\n",
       " 'lastCapGain': None,\n",
       " 'category': 'Large Blend',\n",
       " 'fiveYearAverageReturn': 0.099700004,\n",
       " 'phone': '800-662-7447',\n",
       " 'longBusinessSummary': 'The investment seeks to track the performance of a benchmark index that measures the investment return of common stocks of companies that have a record of increasing dividends over time.\\n The fund employs an indexing investment approach designed to track the performance of the Nasdaq US Dividend Achievers Select Index, which consists of common stocks of companies that have a record of increasing dividends over time. The adviser attempts to replicate the target index by investing all, or substantially all, of its assets in the stocks that make up the index, holding each stock in approximately the same proportion as its weighting in the index.',\n",
       " 'companyOfficers': [],\n",
       " 'regularMarketPrice': 117.13,\n",
       " 'logo_url': ''}"
      ]
     },
     "execution_count": 6,
     "metadata": {},
     "output_type": "execute_result"
    }
   ],
   "source": [
    "yf.Ticker('VIG').info"
   ]
  },
  {
   "cell_type": "code",
   "execution_count": 7,
   "metadata": {
    "ExecuteTime": {
     "end_time": "2020-05-30T23:23:00.449185Z",
     "start_time": "2020-05-30T23:23:00.437691Z"
    }
   },
   "outputs": [],
   "source": [
    "# indexes\n",
    "\n",
    "sp500 = yf.Ticker(\"^GSPC\")"
   ]
  },
  {
   "cell_type": "code",
   "execution_count": 8,
   "metadata": {
    "ExecuteTime": {
     "end_time": "2020-05-30T23:23:01.284891Z",
     "start_time": "2020-05-30T23:23:00.450718Z"
    }
   },
   "outputs": [
    {
     "data": {
      "text/plain": [
       "0.20209218749216318"
      ]
     },
     "execution_count": 8,
     "metadata": {},
     "output_type": "execute_result"
    }
   ],
   "source": [
    "df = sp500.history(period='max').reset_index()\n",
    "df['PriorYearBW'] = df.Open/df.Open.shift(253)-1\n",
    "df\n",
    "df['PriorYearBW'].mean()\n",
    "df['PriorYearBW'].std()"
   ]
  },
  {
   "cell_type": "code",
   "execution_count": 9,
   "metadata": {
    "ExecuteTime": {
     "end_time": "2020-05-30T23:23:11.828196Z",
     "start_time": "2020-05-30T23:23:01.286821Z"
    }
   },
   "outputs": [
    {
     "name": "stdout",
     "output_type": "stream",
     "text": [
      "0\n",
      "1\n",
      "2\n",
      "3\n",
      "4\n",
      "5\n",
      "6\n"
     ]
    }
   ],
   "source": [
    "for i, n in enumerate([d['Ticker'] for d in stocks if 'Ticker' in d]):\n",
    "    print(i)\n",
    "    df = yf.Ticker(n).history(period='max').reset_index()\n",
    "    df['PriorYearBW'] = df.Open/df.Open.shift(253)-1\n",
    "    stocks[i].update({\"Average\":df['PriorYearBW'].mean(), \"Risk\":df['PriorYearBW'].std(),\n",
    "                      \"GrowthRiskRatio\":df['PriorYearBW'].mean()/df['PriorYearBW'].std(),\n",
    "                    \"StartDate\":df['Date'].iloc[0], \"EndDate\":df['Date'].iloc[-1]})\n",
    "    \n",
    "    stocks[i].update(yf.Ticker(n).info)\n",
    "    "
   ]
  },
  {
   "cell_type": "code",
   "execution_count": 10,
   "metadata": {
    "ExecuteTime": {
     "end_time": "2020-05-30T23:23:11.887902Z",
     "start_time": "2020-05-30T23:23:11.830713Z"
    }
   },
   "outputs": [
    {
     "data": {
      "text/html": [
       "<div>\n",
       "<style scoped>\n",
       "    .dataframe tbody tr th:only-of-type {\n",
       "        vertical-align: middle;\n",
       "    }\n",
       "\n",
       "    .dataframe tbody tr th {\n",
       "        vertical-align: top;\n",
       "    }\n",
       "\n",
       "    .dataframe thead th {\n",
       "        text-align: right;\n",
       "    }\n",
       "</style>\n",
       "<table border=\"1\" class=\"dataframe\">\n",
       "  <thead>\n",
       "    <tr style=\"text-align: right;\">\n",
       "      <th></th>\n",
       "      <th>Name</th>\n",
       "      <th>Ticker</th>\n",
       "      <th>Category</th>\n",
       "      <th>Average</th>\n",
       "      <th>Risk</th>\n",
       "      <th>GrowthRiskRatio</th>\n",
       "      <th>StartDate</th>\n",
       "      <th>EndDate</th>\n",
       "      <th>previousClose</th>\n",
       "      <th>regularMarketOpen</th>\n",
       "      <th>...</th>\n",
       "      <th>morningStarOverallRating</th>\n",
       "      <th>earningsQuarterlyGrowth</th>\n",
       "      <th>pegRatio</th>\n",
       "      <th>lastCapGain</th>\n",
       "      <th>category</th>\n",
       "      <th>fiveYearAverageReturn</th>\n",
       "      <th>phone</th>\n",
       "      <th>longBusinessSummary</th>\n",
       "      <th>companyOfficers</th>\n",
       "      <th>trailingPE</th>\n",
       "    </tr>\n",
       "  </thead>\n",
       "  <tbody>\n",
       "    <tr>\n",
       "      <th>1</th>\n",
       "      <td>vanguard500</td>\n",
       "      <td>VOO</td>\n",
       "      <td>tracker</td>\n",
       "      <td>0.131417</td>\n",
       "      <td>0.091550</td>\n",
       "      <td>1.435471</td>\n",
       "      <td>2010-09-09</td>\n",
       "      <td>2020-05-29</td>\n",
       "      <td>278.5000</td>\n",
       "      <td>278.03</td>\n",
       "      <td>...</td>\n",
       "      <td>NaN</td>\n",
       "      <td>NaN</td>\n",
       "      <td>NaN</td>\n",
       "      <td>NaN</td>\n",
       "      <td>Large Blend</td>\n",
       "      <td>0.0982</td>\n",
       "      <td>866-499-8473</td>\n",
       "      <td>The investment seeks to track the performance ...</td>\n",
       "      <td>[]</td>\n",
       "      <td>NaN</td>\n",
       "    </tr>\n",
       "    <tr>\n",
       "      <th>6</th>\n",
       "      <td>QC_Bluestar</td>\n",
       "      <td>QTUM</td>\n",
       "      <td>index</td>\n",
       "      <td>0.205885</td>\n",
       "      <td>0.174700</td>\n",
       "      <td>1.178507</td>\n",
       "      <td>2018-09-05</td>\n",
       "      <td>2020-05-29</td>\n",
       "      <td>28.2975</td>\n",
       "      <td>28.17</td>\n",
       "      <td>...</td>\n",
       "      <td>NaN</td>\n",
       "      <td>NaN</td>\n",
       "      <td>NaN</td>\n",
       "      <td>NaN</td>\n",
       "      <td>Technology</td>\n",
       "      <td>NaN</td>\n",
       "      <td>833-333-9383</td>\n",
       "      <td>The investment seeks to track the total return...</td>\n",
       "      <td>[]</td>\n",
       "      <td>NaN</td>\n",
       "    </tr>\n",
       "    <tr>\n",
       "      <th>5</th>\n",
       "      <td>BC_Innovation</td>\n",
       "      <td>KOIN</td>\n",
       "      <td>BC Benefactor</td>\n",
       "      <td>0.101438</td>\n",
       "      <td>0.105989</td>\n",
       "      <td>0.957067</td>\n",
       "      <td>2018-01-30</td>\n",
       "      <td>2020-05-29</td>\n",
       "      <td>28.4141</td>\n",
       "      <td>28.28</td>\n",
       "      <td>...</td>\n",
       "      <td>NaN</td>\n",
       "      <td>NaN</td>\n",
       "      <td>NaN</td>\n",
       "      <td>NaN</td>\n",
       "      <td>Technology</td>\n",
       "      <td>NaN</td>\n",
       "      <td>833-466-6383</td>\n",
       "      <td>The investment seeks to provide investment res...</td>\n",
       "      <td>[]</td>\n",
       "      <td>NaN</td>\n",
       "    </tr>\n",
       "    <tr>\n",
       "      <th>4</th>\n",
       "      <td>DA_nasdaq</td>\n",
       "      <td>VIG</td>\n",
       "      <td>dividend aristocrat</td>\n",
       "      <td>0.096672</td>\n",
       "      <td>0.135774</td>\n",
       "      <td>0.712005</td>\n",
       "      <td>2006-05-02</td>\n",
       "      <td>2020-05-29</td>\n",
       "      <td>117.2500</td>\n",
       "      <td>117.13</td>\n",
       "      <td>...</td>\n",
       "      <td>NaN</td>\n",
       "      <td>NaN</td>\n",
       "      <td>NaN</td>\n",
       "      <td>NaN</td>\n",
       "      <td>Large Blend</td>\n",
       "      <td>0.0997</td>\n",
       "      <td>800-662-7447</td>\n",
       "      <td>The investment seeks to track the performance ...</td>\n",
       "      <td>[]</td>\n",
       "      <td>NaN</td>\n",
       "    </tr>\n",
       "    <tr>\n",
       "      <th>3</th>\n",
       "      <td>DA_sp1500</td>\n",
       "      <td>SDY</td>\n",
       "      <td>dividend aristocrat</td>\n",
       "      <td>0.095346</td>\n",
       "      <td>0.148072</td>\n",
       "      <td>0.643919</td>\n",
       "      <td>2005-11-15</td>\n",
       "      <td>2020-05-29</td>\n",
       "      <td>91.2400</td>\n",
       "      <td>90.70</td>\n",
       "      <td>...</td>\n",
       "      <td>NaN</td>\n",
       "      <td>NaN</td>\n",
       "      <td>NaN</td>\n",
       "      <td>NaN</td>\n",
       "      <td>Large Value</td>\n",
       "      <td>0.0715</td>\n",
       "      <td>866-787-2257</td>\n",
       "      <td>The investment seeks to provide investment res...</td>\n",
       "      <td>[]</td>\n",
       "      <td>NaN</td>\n",
       "    </tr>\n",
       "    <tr>\n",
       "      <th>2</th>\n",
       "      <td>nasdaq100</td>\n",
       "      <td>QQQ</td>\n",
       "      <td>tracker</td>\n",
       "      <td>0.103786</td>\n",
       "      <td>0.269740</td>\n",
       "      <td>0.384763</td>\n",
       "      <td>1999-03-10</td>\n",
       "      <td>2020-05-29</td>\n",
       "      <td>229.9900</td>\n",
       "      <td>230.43</td>\n",
       "      <td>...</td>\n",
       "      <td>NaN</td>\n",
       "      <td>NaN</td>\n",
       "      <td>NaN</td>\n",
       "      <td>NaN</td>\n",
       "      <td>Large Growth</td>\n",
       "      <td>0.1730</td>\n",
       "      <td>800-983-0903</td>\n",
       "      <td>The investment seeks investment results that g...</td>\n",
       "      <td>[]</td>\n",
       "      <td>59.91271</td>\n",
       "    </tr>\n",
       "    <tr>\n",
       "      <th>0</th>\n",
       "      <td>sp500</td>\n",
       "      <td>^GSPC</td>\n",
       "      <td>index</td>\n",
       "      <td>0.077133</td>\n",
       "      <td>0.202092</td>\n",
       "      <td>0.381674</td>\n",
       "      <td>1927-12-30</td>\n",
       "      <td>2020-05-29</td>\n",
       "      <td>3029.7300</td>\n",
       "      <td>3025.17</td>\n",
       "      <td>...</td>\n",
       "      <td>NaN</td>\n",
       "      <td>NaN</td>\n",
       "      <td>NaN</td>\n",
       "      <td>NaN</td>\n",
       "      <td>NaN</td>\n",
       "      <td>NaN</td>\n",
       "      <td>NaN</td>\n",
       "      <td>NaN</td>\n",
       "      <td>NaN</td>\n",
       "      <td>NaN</td>\n",
       "    </tr>\n",
       "  </tbody>\n",
       "</table>\n",
       "<p>7 rows × 109 columns</p>\n",
       "</div>"
      ],
      "text/plain": [
       "            Name Ticker             Category   Average      Risk  \\\n",
       "1    vanguard500    VOO              tracker  0.131417  0.091550   \n",
       "6    QC_Bluestar   QTUM                index  0.205885  0.174700   \n",
       "5  BC_Innovation   KOIN        BC Benefactor  0.101438  0.105989   \n",
       "4      DA_nasdaq    VIG  dividend aristocrat  0.096672  0.135774   \n",
       "3      DA_sp1500    SDY  dividend aristocrat  0.095346  0.148072   \n",
       "2      nasdaq100    QQQ              tracker  0.103786  0.269740   \n",
       "0          sp500  ^GSPC                index  0.077133  0.202092   \n",
       "\n",
       "   GrowthRiskRatio  StartDate    EndDate  previousClose  regularMarketOpen  \\\n",
       "1         1.435471 2010-09-09 2020-05-29       278.5000             278.03   \n",
       "6         1.178507 2018-09-05 2020-05-29        28.2975              28.17   \n",
       "5         0.957067 2018-01-30 2020-05-29        28.4141              28.28   \n",
       "4         0.712005 2006-05-02 2020-05-29       117.2500             117.13   \n",
       "3         0.643919 2005-11-15 2020-05-29        91.2400              90.70   \n",
       "2         0.384763 1999-03-10 2020-05-29       229.9900             230.43   \n",
       "0         0.381674 1927-12-30 2020-05-29      3029.7300            3025.17   \n",
       "\n",
       "   ...  morningStarOverallRating  earningsQuarterlyGrowth pegRatio  \\\n",
       "1  ...                       NaN                      NaN      NaN   \n",
       "6  ...                       NaN                      NaN      NaN   \n",
       "5  ...                       NaN                      NaN      NaN   \n",
       "4  ...                       NaN                      NaN      NaN   \n",
       "3  ...                       NaN                      NaN      NaN   \n",
       "2  ...                       NaN                      NaN      NaN   \n",
       "0  ...                       NaN                      NaN      NaN   \n",
       "\n",
       "  lastCapGain      category  fiveYearAverageReturn         phone  \\\n",
       "1         NaN   Large Blend                 0.0982  866-499-8473   \n",
       "6         NaN    Technology                    NaN  833-333-9383   \n",
       "5         NaN    Technology                    NaN  833-466-6383   \n",
       "4         NaN   Large Blend                 0.0997  800-662-7447   \n",
       "3         NaN   Large Value                 0.0715  866-787-2257   \n",
       "2         NaN  Large Growth                 0.1730  800-983-0903   \n",
       "0         NaN           NaN                    NaN           NaN   \n",
       "\n",
       "                                 longBusinessSummary  companyOfficers  \\\n",
       "1  The investment seeks to track the performance ...               []   \n",
       "6  The investment seeks to track the total return...               []   \n",
       "5  The investment seeks to provide investment res...               []   \n",
       "4  The investment seeks to track the performance ...               []   \n",
       "3  The investment seeks to provide investment res...               []   \n",
       "2  The investment seeks investment results that g...               []   \n",
       "0                                                NaN              NaN   \n",
       "\n",
       "   trailingPE  \n",
       "1         NaN  \n",
       "6         NaN  \n",
       "5         NaN  \n",
       "4         NaN  \n",
       "3         NaN  \n",
       "2    59.91271  \n",
       "0         NaN  \n",
       "\n",
       "[7 rows x 109 columns]"
      ]
     },
     "execution_count": 10,
     "metadata": {},
     "output_type": "execute_result"
    }
   ],
   "source": [
    "summary_df = pd.DataFrame(stocks)\n",
    "summary_df = summary_df.sort_values(by=['GrowthRiskRatio'], ascending=False)\n",
    "summary_df"
   ]
  },
  {
   "cell_type": "code",
   "execution_count": 11,
   "metadata": {
    "ExecuteTime": {
     "end_time": "2020-05-30T23:23:11.894451Z",
     "start_time": "2020-05-30T23:23:11.890737Z"
    }
   },
   "outputs": [],
   "source": [
    "#stocks"
   ]
  },
  {
   "cell_type": "code",
   "execution_count": 12,
   "metadata": {
    "ExecuteTime": {
     "end_time": "2020-05-30T23:23:12.302955Z",
     "start_time": "2020-05-30T23:23:11.898883Z"
    }
   },
   "outputs": [
    {
     "data": {
      "image/png": "[encoded data removed]",
      "text/plain": [
       "<Figure size 1440x1440 with 1 Axes>"
      ]
     },
     "metadata": {
      "needs_background": "light"
     },
     "output_type": "display_data"
    }
   ],
   "source": [
    "plt.rcParams['figure.figsize'] = [20, 20]\n",
    "fig, ax = plt.subplots()\n",
    "ax.scatter(summary_df.Risk, summary_df.Average)\n",
    "plt.xlabel('risk')\n",
    "plt.ylabel('average')\n",
    "\n",
    "for i, txt in enumerate([d['Name'] for d in stocks if 'Name' in d]):\n",
    "    ax.annotate(txt, (summary_df.Risk[i], summary_df.Average[i]))"
   ]
  },
  {
   "cell_type": "code",
   "execution_count": 13,
   "metadata": {
    "ExecuteTime": {
     "end_time": "2020-05-30T23:23:12.314315Z",
     "start_time": "2020-05-30T23:23:12.308770Z"
    }
   },
   "outputs": [
    {
     "data": {
      "text/plain": [
       "\"\\nNeed to compare the top performer to the others using the same time periods\\n\\nthere are two approaches and i should do each of them\\n\\none approach is to compare apples to apples by making sure there is the same date range\\n    find the greater min date of the two I'm comparing \\n    \\nthe other approach is to adjust the growthriskratio with the same idea that is in this video\\n    https://www.youtube.com/watch?v=8idr1WZ1A7Q\\n\""
      ]
     },
     "execution_count": 13,
     "metadata": {},
     "output_type": "execute_result"
    }
   ],
   "source": [
    "\"\"\"\n",
    "Need to compare the top performer to the others using the same time periods\n",
    "\n",
    "there are two approaches and i should do each of them\n",
    "\n",
    "one approach is to compare apples to apples by making sure there is the same date range\n",
    "    find the greater min date of the two I'm comparing \n",
    "    \n",
    "the other approach is to adjust the growthriskratio with the same idea that is in this video\n",
    "    https://www.youtube.com/watch?v=8idr1WZ1A7Q\n",
    "\"\"\""
   ]
  },
  {
   "cell_type": "code",
   "execution_count": 14,
   "metadata": {
    "ExecuteTime": {
     "end_time": "2020-05-30T23:23:12.341903Z",
     "start_time": "2020-05-30T23:23:12.316598Z"
    }
   },
   "outputs": [
    {
     "data": {
      "text/plain": [
       "Name                                                           vanguard500\n",
       "Ticker                                                                 VOO\n",
       "Category                                                           tracker\n",
       "Average                                                           0.131417\n",
       "Risk                                                             0.0915498\n",
       "                                               ...                        \n",
       "fiveYearAverageReturn                                               0.0982\n",
       "phone                                                         866-499-8473\n",
       "longBusinessSummary      The investment seeks to track the performance ...\n",
       "companyOfficers                                                         []\n",
       "trailingPE                                                             NaN\n",
       "Name: 1, Length: 109, dtype: object"
      ]
     },
     "execution_count": 14,
     "metadata": {},
     "output_type": "execute_result"
    }
   ],
   "source": [
    "# return the row of the highest growthriskratio\n",
    "\n",
    "bestGRR = summary_df.iloc[0]\n",
    "bestGRR"
   ]
  },
  {
   "cell_type": "code",
   "execution_count": 15,
   "metadata": {
    "ExecuteTime": {
     "end_time": "2020-05-30T23:23:12.353386Z",
     "start_time": "2020-05-30T23:23:12.348560Z"
    }
   },
   "outputs": [
    {
     "name": "stdout",
     "output_type": "stream",
     "text": [
      "7\n"
     ]
    }
   ],
   "source": [
    "print(len(summary_df.index))"
   ]
  },
  {
   "cell_type": "code",
   "execution_count": 16,
   "metadata": {
    "ExecuteTime": {
     "end_time": "2020-05-30T23:23:12.374760Z",
     "start_time": "2020-05-30T23:23:12.358515Z"
    }
   },
   "outputs": [
    {
     "data": {
      "text/plain": [
       "Timestamp('2010-09-09 00:00:00')"
      ]
     },
     "execution_count": 16,
     "metadata": {},
     "output_type": "execute_result"
    }
   ],
   "source": [
    "bestGRR.StartDate"
   ]
  },
  {
   "cell_type": "code",
   "execution_count": 17,
   "metadata": {
    "ExecuteTime": {
     "end_time": "2020-05-30T23:23:12.645180Z",
     "start_time": "2020-05-30T23:23:12.379604Z"
    }
   },
   "outputs": [
    {
     "name": "stdout",
     "output_type": "stream",
     "text": [
      "0.11344172469843519\n",
      "0.10026178521653072\n"
     ]
    }
   ],
   "source": [
    "df = yf.Ticker('AIVSX').history(start=bestGRR.StartDate, end=bestGRR.EndDate).reset_index()\n",
    "df['PriorYearBW'] = df.Open/df.Open.shift(253)-1\n",
    "print(df['PriorYearBW'].mean())\n",
    "print(df['PriorYearBW'].std())"
   ]
  },
  {
   "cell_type": "code",
   "execution_count": 18,
   "metadata": {
    "ExecuteTime": {
     "end_time": "2020-05-30T23:23:14.050495Z",
     "start_time": "2020-05-30T23:23:12.652696Z"
    }
   },
   "outputs": [
    {
     "name": "stdout",
     "output_type": "stream",
     "text": [
      "1\n",
      "6\n",
      "5\n",
      "4\n",
      "3\n",
      "2\n",
      "0\n"
     ]
    }
   ],
   "source": [
    "for index, row in summary_df.tail(len(summary_df.index)).iterrows():\n",
    "    print(index)\n",
    "    df = yf.Ticker(row.Ticker).history(start=bestGRR.StartDate, end=bestGRR.EndDate).reset_index()\n",
    "    df['PriorYearBW'] = df.Open/df.Open.shift(253)-1\n",
    "    \n",
    "    stocks[index].update({bestGRR.Name+'_comparison_avg':df['PriorYearBW'].mean(), \n",
    "                      bestGRR.Name+'_comparison_risk':df['PriorYearBW'].std(),\n",
    "                         bestGRR.Name+'_comparison_GRR':df['PriorYearBW'].mean()/df['PriorYearBW'].std()})"
   ]
  },
  {
   "cell_type": "code",
   "execution_count": 19,
   "metadata": {
    "ExecuteTime": {
     "end_time": "2020-05-30T23:23:14.100338Z",
     "start_time": "2020-05-30T23:23:14.053287Z"
    }
   },
   "outputs": [
    {
     "name": "stdout",
     "output_type": "stream",
     "text": [
      "[{'Name': 'sp500', 'Ticker': '^GSPC', 'Category': 'index', 'Average': 0.07713340977639148, 'Risk': 0.20209218749216318, 'GrowthRiskRatio': 0.38167437709279384, 'StartDate': Timestamp('1927-12-30 00:00:00'), 'EndDate': Timestamp('2020-05-29 00:00:00'), 'previousClose': 3029.73, 'regularMarketOpen': 3025.17, 'twoHundredDayAverage': 3015.3687, 'trailingAnnualDividendYield': None, 'payoutRatio': None, 'volume24Hr': None, 'regularMarketDayHigh': 3049.14, 'navPrice': None, 'averageDailyVolume10Day': 5542678571, 'totalAssets': None, 'regularMarketPreviousClose': 3029.73, 'fiftyDayAverage': 2883.668, 'trailingAnnualDividendRate': None, 'open': 3025.17, 'toCurrency': None, 'averageVolume10days': 5542678571, 'expireDate': None, 'yield': None, 'algorithm': None, 'dividendRate': None, 'exDividendDate': None, 'beta': None, 'circulatingSupply': None, 'startDate': None, 'regularMarketDayLow': 2998.61, 'priceHint': 2, 'currency': 'USD', 'regularMarketVolume': 86861591, 'lastMarket': None, 'maxSupply': None, 'openInterest': None, 'marketCap': None, 'volumeAllCurrencies': None, 'strikePrice': None, 'averageVolume': 6218470634, 'priceToSalesTrailing12Months': None, 'dayLow': 2998.61, 'ask': 3159.93, 'ytdReturn': None, 'askSize': 0, 'volume': 86861591, 'fiftyTwoWeekHigh': 3393.52, 'forwardPE': None, 'maxAge': 1, 'fromCurrency': None, 'fiveYearAvgDividendYield': None, 'fiftyTwoWeekLow': 2191.86, 'bid': 3016.13, 'tradeable': False, 'dividendYield': None, 'bidSize': 0, 'dayHigh': 3049.14, 'exchange': 'SNP', 'shortName': 'S&P 500', 'exchangeTimezoneName': 'America/New_York', 'exchangeTimezoneShortName': 'EDT', 'isEsgPopulated': False, 'gmtOffSetMilliseconds': '-14400000', 'quoteType': 'INDEX', 'symbol': '^GSPC', 'messageBoardId': 'finmb_INDEXGSPC', 'market': 'us_market', 'regularMarketPrice': 3025.17, 'logo_url': '', 'vanguard500_comparison_avg': 0.10828990895445076, 'vanguard500_comparison_risk': 0.08941304580885012, 'vanguard500_comparison_GRR': 1.2111197865460948}, {'Name': 'vanguard500', 'Ticker': 'VOO', 'Category': 'tracker', 'Average': 0.1314171384896527, 'Risk': 0.0915498422031448, 'GrowthRiskRatio': 1.4354709448656857, 'StartDate': Timestamp('2010-09-09 00:00:00'), 'EndDate': Timestamp('2020-05-29 00:00:00'), 'previousClose': 278.5, 'regularMarketOpen': 278.03, 'twoHundredDayAverage': 276.62198, 'trailingAnnualDividendYield': None, 'payoutRatio': None, 'volume24Hr': None, 'regularMarketDayHigh': 280.31, 'navPrice': 279.82, 'averageDailyVolume10Day': 4645428, 'totalAssets': 496488546304, 'regularMarketPreviousClose': 278.5, 'fiftyDayAverage': 264.605, 'trailingAnnualDividendRate': None, 'open': 278.03, 'toCurrency': None, 'averageVolume10days': 4645428, 'expireDate': None, 'yield': 0.0198, 'algorithm': None, 'dividendRate': None, 'exDividendDate': None, 'beta': None, 'circulatingSupply': None, 'startDate': None, 'regularMarketDayLow': 275.36, 'priceHint': 2, 'currency': 'USD', 'regularMarketVolume': 5981571, 'lastMarket': None, 'maxSupply': None, 'openInterest': None, 'marketCap': None, 'volumeAllCurrencies': None, 'strikePrice': None, 'averageVolume': 8309112, 'priceToSalesTrailing12Months': None, 'dayLow': 275.36, 'ask': 281.54, 'ytdReturn': None, 'askSize': 900, 'volume': 5981571, 'fiftyTwoWeekHigh': 311.59, 'forwardPE': None, 'maxAge': 1, 'fromCurrency': None, 'fiveYearAvgDividendYield': None, 'fiftyTwoWeekLow': 200.55, 'bid': 281.25, 'tradeable': False, 'dividendYield': None, 'bidSize': 800, 'dayHigh': 280.31, 'exchange': 'PCX', 'shortName': 'Vanguard S&P 500 ETF', 'longName': 'Vanguard S&P 500 ETF', 'exchangeTimezoneName': 'America/New_York', 'exchangeTimezoneShortName': 'EDT', 'isEsgPopulated': False, 'gmtOffSetMilliseconds': '-14400000', 'quoteType': 'ETF', 'symbol': 'VOO', 'messageBoardId': 'finmb_28117396', 'market': 'us_market', 'annualHoldingsTurnover': None, 'enterpriseToRevenue': None, 'beta3Year': 1, 'profitMargins': None, 'enterpriseToEbitda': None, '52WeekChange': None, 'morningStarRiskRating': None, 'forwardEps': None, 'revenueQuarterlyGrowth': None, 'fundInceptionDate': 1283817600, 'annualReportExpenseRatio': None, 'bookValue': None, 'fundFamily': 'Vanguard', 'lastFiscalYearEnd': None, 'netIncomeToCommon': None, 'trailingEps': None, 'lastDividendValue': None, 'SandP52WeekChange': None, 'priceToBook': None, 'nextFiscalYearEnd': None, 'mostRecentQuarter': None, 'enterpriseValue': None, 'threeYearAverageReturn': 0.1014, 'lastSplitDate': None, 'lastSplitFactor': None, 'legalType': 'Exchange Traded Fund', 'morningStarOverallRating': None, 'earningsQuarterlyGrowth': None, 'pegRatio': None, 'lastCapGain': None, 'category': 'Large Blend', 'fiveYearAverageReturn': 0.09819999, 'phone': '866-499-8473', 'longBusinessSummary': 'The investment seeks to track the performance of a benchmark index that measures the investment return of large-capitalization stocks.\\n The fund employs an indexing investment approach designed to track the performance of the Standard & Poorâ\\x80\\x98s 500 Index, a widely recognized benchmark of U.S. stock market performance that is dominated by the stocks of large U.S. companies. The advisor attempts to replicate the target index by investing all, or substantially all, of its assets in the stocks that make up the index, holding each stock in approximately the same proportion as its weighting in the index.', 'companyOfficers': [], 'regularMarketPrice': 278.03, 'logo_url': '', 'vanguard500_comparison_avg': 0.13142836047490072, 'vanguard500_comparison_risk': 0.09156921318773362, 'vanguard500_comparison_GRR': 1.4352898304962889}, {'Name': 'nasdaq100', 'Ticker': 'QQQ', 'Category': 'tracker', 'Average': 0.10378589722511278, 'Risk': 0.26974009207021643, 'GrowthRiskRatio': 0.38476259286697406, 'StartDate': Timestamp('1999-03-10 00:00:00'), 'EndDate': Timestamp('2020-05-29 00:00:00'), 'previousClose': 229.99, 'regularMarketOpen': 230.43, 'twoHundredDayAverage': 211.24715, 'trailingAnnualDividendYield': 0.006695943, 'payoutRatio': None, 'volume24Hr': None, 'regularMarketDayHigh': 233.6, 'navPrice': 233.12, 'averageDailyVolume10Day': 41717042, 'totalAssets': 99437838336, 'regularMarketPreviousClose': 229.99, 'fiftyDayAverage': 219.48265, 'trailingAnnualDividendRate': 1.54, 'open': 230.43, 'toCurrency': None, 'averageVolume10days': 41717042, 'expireDate': None, 'yield': 0.0074, 'algorithm': None, 'dividendRate': None, 'exDividendDate': None, 'beta': None, 'circulatingSupply': None, 'startDate': None, 'regularMarketDayLow': 228.76, 'priceHint': 2, 'currency': 'USD', 'trailingPE': 59.91271, 'regularMarketVolume': 49676179, 'lastMarket': None, 'maxSupply': None, 'openInterest': None, 'marketCap': None, 'volumeAllCurrencies': None, 'strikePrice': None, 'averageVolume': 65561347, 'priceToSalesTrailing12Months': None, 'dayLow': 228.76, 'ask': 233.9, 'ytdReturn': None, 'askSize': 1100, 'volume': 49676179, 'fiftyTwoWeekHigh': 237.47, 'forwardPE': None, 'maxAge': 1, 'fromCurrency': None, 'fiveYearAvgDividendYield': None, 'fiftyTwoWeekLow': 164.93, 'bid': 233.88, 'tradeable': False, 'dividendYield': None, 'bidSize': 1200, 'dayHigh': 233.6, 'exchange': 'NGM', 'shortName': 'Invesco QQQ Trust, Series 1', 'longName': 'Invesco QQQ Trust', 'exchangeTimezoneName': 'America/New_York', 'exchangeTimezoneShortName': 'EDT', 'isEsgPopulated': False, 'gmtOffSetMilliseconds': '-14400000', 'quoteType': 'ETF', 'symbol': 'QQQ', 'messageBoardId': 'finmb_8108558', 'market': 'us_market', 'annualHoldingsTurnover': None, 'enterpriseToRevenue': None, 'beta3Year': 1.01, 'profitMargins': None, 'enterpriseToEbitda': None, '52WeekChange': None, 'morningStarRiskRating': None, 'forwardEps': None, 'revenueQuarterlyGrowth': None, 'fundInceptionDate': 921024000, 'annualReportExpenseRatio': None, 'bookValue': None, 'fundFamily': 'Invesco', 'lastFiscalYearEnd': None, 'netIncomeToCommon': None, 'trailingEps': None, 'lastDividendValue': None, 'SandP52WeekChange': None, 'priceToBook': None, 'nextFiscalYearEnd': None, 'mostRecentQuarter': None, 'enterpriseValue': None, 'threeYearAverageReturn': 0.19209999, 'lastSplitDate': None, 'lastSplitFactor': None, 'legalType': 'Exchange Traded Fund', 'morningStarOverallRating': None, 'earningsQuarterlyGrowth': None, 'pegRatio': None, 'lastCapGain': None, 'category': 'Large Growth', 'fiveYearAverageReturn': 0.173, 'phone': '800-983-0903', 'longBusinessSummary': 'The investment seeks investment results that generally correspond to the price and yield performance of the NASDAQâ\\x80\\x93100 IndexÂ®.\\n To maintain the correspondence between the composition and weights of the securities in the trust (the \"securities\") and the stocks in the NASDAQ-100 IndexÂ®, the adviser adjusts the securities from time to time to conform to periodic changes in the identity and/or relative weights of index securities. The composition and weighting of the securities portion of a portfolio deposit are also adjusted to conform to changes in the index.', 'companyOfficers': [], 'regularMarketPrice': 230.43, 'logo_url': '', 'vanguard500_comparison_avg': 0.1785328634403369, 'vanguard500_comparison_risk': 0.10809593192272902, 'vanguard500_comparison_GRR': 1.6516150077503267}, {'Name': 'DA_sp1500', 'Ticker': 'SDY', 'Category': 'dividend aristocrat', 'Average': 0.09534640219079477, 'Risk': 0.1480720695973236, 'GrowthRiskRatio': 0.6439188865941139, 'StartDate': Timestamp('2005-11-15 00:00:00'), 'EndDate': Timestamp('2020-05-29 00:00:00'), 'previousClose': 91.24, 'regularMarketOpen': 90.7, 'twoHundredDayAverage': 96.56963, 'trailingAnnualDividendYield': None, 'payoutRatio': None, 'volume24Hr': None, 'regularMarketDayHigh': 91.17, 'navPrice': 90.9, 'averageDailyVolume10Day': 745028, 'totalAssets': 16818138112, 'regularMarketPreviousClose': 91.24, 'fiftyDayAverage': 86.09323, 'trailingAnnualDividendRate': None, 'open': 90.7, 'toCurrency': None, 'averageVolume10days': 745028, 'expireDate': None, 'yield': 0.031600002, 'algorithm': None, 'dividendRate': None, 'exDividendDate': None, 'beta': None, 'circulatingSupply': None, 'startDate': None, 'regularMarketDayLow': 89.46, 'priceHint': 2, 'currency': 'USD', 'regularMarketVolume': 814430, 'lastMarket': None, 'maxSupply': None, 'openInterest': None, 'marketCap': None, 'volumeAllCurrencies': None, 'strikePrice': None, 'averageVolume': 1195474, 'priceToSalesTrailing12Months': None, 'dayLow': 89.46, 'ask': 95, 'ytdReturn': None, 'askSize': 1200, 'volume': 814430, 'fiftyTwoWeekHigh': 108.81, 'forwardPE': None, 'maxAge': 1, 'fromCurrency': None, 'fiveYearAvgDividendYield': None, 'fiftyTwoWeekLow': 67.57, 'bid': 89.59, 'tradeable': False, 'dividendYield': None, 'bidSize': 1000, 'dayHigh': 91.17, 'exchange': 'PCX', 'shortName': 'SPDR S&P Dividend ETF', 'longName': 'SPDR S&P Dividend ETF', 'exchangeTimezoneName': 'America/New_York', 'exchangeTimezoneShortName': 'EDT', 'isEsgPopulated': False, 'gmtOffSetMilliseconds': '-14400000', 'quoteType': 'ETF', 'symbol': 'SDY', 'messageBoardId': 'finmb_25496662', 'market': 'us_market', 'annualHoldingsTurnover': None, 'enterpriseToRevenue': None, 'beta3Year': 0.92, 'profitMargins': None, 'enterpriseToEbitda': None, '52WeekChange': None, 'morningStarRiskRating': None, 'forwardEps': None, 'revenueQuarterlyGrowth': None, 'fundInceptionDate': 1131408000, 'annualReportExpenseRatio': None, 'bookValue': None, 'fundFamily': 'SPDR State Street Global Advisors', 'lastFiscalYearEnd': None, 'netIncomeToCommon': None, 'trailingEps': None, 'lastDividendValue': None, 'SandP52WeekChange': None, 'priceToBook': None, 'nextFiscalYearEnd': None, 'mostRecentQuarter': None, 'enterpriseValue': None, 'threeYearAverageReturn': 0.043899998, 'lastSplitDate': None, 'lastSplitFactor': None, 'legalType': 'Exchange Traded Fund', 'morningStarOverallRating': None, 'earningsQuarterlyGrowth': None, 'pegRatio': None, 'lastCapGain': None, 'category': 'Large Value', 'fiveYearAverageReturn': 0.0715, 'phone': '866-787-2257', 'longBusinessSummary': 'The investment seeks to provide investment results that, before fees and expenses, correspond generally to the total return performance of the S&P High Yield Dividend Aristocrats Index.\\n The fund generally invests substantially all, but at least 80%, of its total assets in the securities comprising the index. The index is designed to measure the performance of the highest dividend yielding S&P Composite 1500® Index constituents that have followed a managed-dividends policy of consistently increasing dividends every year for at least 20 consecutive years. The fund is non-diversified.', 'companyOfficers': [], 'regularMarketPrice': 90.7, 'logo_url': '', 'vanguard500_comparison_avg': 0.1219549432189497, 'vanguard500_comparison_risk': 0.08551555332821537, 'vanguard500_comparison_GRR': 1.4261141800822725}, {'Name': 'DA_nasdaq', 'Ticker': 'VIG', 'Category': 'dividend aristocrat', 'Average': 0.09667150956177088, 'Risk': 0.13577357056413458, 'GrowthRiskRatio': 0.7120053568607206, 'StartDate': Timestamp('2006-05-02 00:00:00'), 'EndDate': Timestamp('2020-05-29 00:00:00'), 'previousClose': 117.25, 'regularMarketOpen': 117.13, 'twoHundredDayAverage': 117.829926, 'trailingAnnualDividendYield': None, 'payoutRatio': None, 'volume24Hr': None, 'regularMarketDayHigh': 117.9, 'navPrice': 117.67, 'averageDailyVolume10Day': 1210114, 'totalAssets': 49756540928, 'regularMarketPreviousClose': 117.25, 'fiftyDayAverage': 112.81294, 'trailingAnnualDividendRate': None, 'open': 117.13, 'toCurrency': None, 'averageVolume10days': 1210114, 'expireDate': None, 'yield': 0.0185, 'algorithm': None, 'dividendRate': None, 'exDividendDate': None, 'beta': None, 'circulatingSupply': None, 'startDate': None, 'regularMarketDayLow': 115.94, 'priceHint': 2, 'currency': 'USD', 'regularMarketVolume': 1043595, 'lastMarket': None, 'maxSupply': None, 'openInterest': None, 'marketCap': None, 'volumeAllCurrencies': None, 'strikePrice': None, 'averageVolume': 2521798, 'priceToSalesTrailing12Months': None, 'dayLow': 115.94, 'ask': 118.49, 'ytdReturn': None, 'askSize': 800, 'volume': 1043595, 'fiftyTwoWeekHigh': 130.91, 'forwardPE': None, 'maxAge': 1, 'fromCurrency': None, 'fiveYearAvgDividendYield': None, 'fiftyTwoWeekLow': 87.71, 'bid': 117.21, 'tradeable': False, 'dividendYield': None, 'bidSize': 1200, 'dayHigh': 117.9, 'exchange': 'PCX', 'shortName': 'Vanguard Div Appreciation ETF', 'longName': 'Vanguard Dividend Appreciation Index Fund ETF Shares', 'exchangeTimezoneName': 'America/New_York', 'exchangeTimezoneShortName': 'EDT', 'isEsgPopulated': False, 'gmtOffSetMilliseconds': '-14400000', 'quoteType': 'ETF', 'symbol': 'VIG', 'messageBoardId': 'finmb_26955607', 'market': 'us_market', 'annualHoldingsTurnover': None, 'enterpriseToRevenue': None, 'beta3Year': 0.86, 'profitMargins': None, 'enterpriseToEbitda': None, '52WeekChange': None, 'morningStarRiskRating': None, 'forwardEps': None, 'revenueQuarterlyGrowth': None, 'fundInceptionDate': 1145577600, 'annualReportExpenseRatio': None, 'bookValue': None, 'fundFamily': 'Vanguard', 'lastFiscalYearEnd': None, 'netIncomeToCommon': None, 'trailingEps': None, 'lastDividendValue': None, 'SandP52WeekChange': None, 'priceToBook': None, 'nextFiscalYearEnd': None, 'mostRecentQuarter': None, 'enterpriseValue': None, 'threeYearAverageReturn': 0.104499996, 'lastSplitDate': None, 'lastSplitFactor': None, 'legalType': 'Exchange Traded Fund', 'morningStarOverallRating': None, 'earningsQuarterlyGrowth': None, 'pegRatio': None, 'lastCapGain': None, 'category': 'Large Blend', 'fiveYearAverageReturn': 0.099700004, 'phone': '800-662-7447', 'longBusinessSummary': 'The investment seeks to track the performance of a benchmark index that measures the investment return of common stocks of companies that have a record of increasing dividends over time.\\n The fund employs an indexing investment approach designed to track the performance of the Nasdaq US Dividend Achievers Select Index, which consists of common stocks of companies that have a record of increasing dividends over time. The adviser attempts to replicate the target index by investing all, or substantially all, of its assets in the stocks that make up the index, holding each stock in approximately the same proportion as its weighting in the index.', 'companyOfficers': [], 'regularMarketPrice': 117.13, 'logo_url': '', 'vanguard500_comparison_avg': 0.12217462684924923, 'vanguard500_comparison_risk': 0.07828525039868266, 'vanguard500_comparison_GRR': 1.5606340431569359}, {'Name': 'BC_Innovation', 'Ticker': 'KOIN', 'Category': 'BC Benefactor', 'Average': 0.10143811406972117, 'Risk': 0.10598850814102889, 'GrowthRiskRatio': 0.9570670995269323, 'StartDate': Timestamp('2018-01-30 00:00:00'), 'EndDate': Timestamp('2020-05-29 00:00:00'), 'previousClose': 28.4141, 'regularMarketOpen': 28.28, 'twoHundredDayAverage': 27.494036, 'trailingAnnualDividendYield': None, 'payoutRatio': None, 'volume24Hr': None, 'regularMarketDayHigh': 28.39, 'navPrice': 28.66, 'averageDailyVolume10Day': 2114, 'totalAssets': 8053578, 'regularMarketPreviousClose': 28.4141, 'fiftyDayAverage': 26.899588, 'trailingAnnualDividendRate': None, 'open': 28.28, 'toCurrency': None, 'averageVolume10days': 2114, 'expireDate': None, 'yield': 0.0174, 'algorithm': None, 'dividendRate': None, 'exDividendDate': None, 'beta': None, 'circulatingSupply': None, 'startDate': None, 'regularMarketDayLow': 28.3697, 'priceHint': 2, 'currency': 'USD', 'regularMarketVolume': 1089, 'lastMarket': None, 'maxSupply': None, 'openInterest': None, 'marketCap': None, 'volumeAllCurrencies': None, 'strikePrice': None, 'averageVolume': 3346, 'priceToSalesTrailing12Months': None, 'dayLow': 28.3697, 'ask': 28.83, 'ytdReturn': None, 'askSize': 1400, 'volume': 1089, 'fiftyTwoWeekHigh': 31.24, 'forwardPE': None, 'maxAge': 1, 'fromCurrency': None, 'fiveYearAvgDividendYield': None, 'fiftyTwoWeekLow': 20.62, 'bid': 24.28, 'tradeable': False, 'dividendYield': None, 'bidSize': 900, 'dayHigh': 28.39, 'exchange': 'PCX', 'shortName': 'Innovation Shares NextGen Proto', 'longName': 'Innovation Shares NextGen Protocol ETF', 'exchangeTimezoneName': 'America/New_York', 'exchangeTimezoneShortName': 'EDT', 'isEsgPopulated': False, 'gmtOffSetMilliseconds': '-14400000', 'quoteType': 'ETF', 'symbol': 'KOIN', 'messageBoardId': 'finmb_544330635', 'market': 'us_market', 'annualHoldingsTurnover': None, 'enterpriseToRevenue': None, 'beta3Year': 0, 'profitMargins': None, 'enterpriseToEbitda': None, '52WeekChange': None, 'morningStarRiskRating': None, 'forwardEps': None, 'revenueQuarterlyGrowth': None, 'fundInceptionDate': 1517184000, 'annualReportExpenseRatio': None, 'bookValue': None, 'fundFamily': 'Innovation Shares', 'lastFiscalYearEnd': None, 'netIncomeToCommon': None, 'trailingEps': None, 'lastDividendValue': None, 'SandP52WeekChange': None, 'priceToBook': None, 'nextFiscalYearEnd': None, 'mostRecentQuarter': None, 'enterpriseValue': None, 'threeYearAverageReturn': None, 'lastSplitDate': None, 'lastSplitFactor': None, 'legalType': 'Exchange Traded Fund', 'morningStarOverallRating': None, 'earningsQuarterlyGrowth': None, 'pegRatio': None, 'lastCapGain': None, 'category': 'Technology', 'fiveYearAverageReturn': None, 'phone': '833-466-6383', 'longBusinessSummary': 'The investment seeks to provide investment results that, before fees and expenses, track the performance of the Innovation Labs Blockchain Innovators Index (the \"index\").\\n The fund will normally invest at least 80% of its total assets in securities of the index. The index was designed by the fund&#39;s index creator, to measure the performance of a diversified group of publicly-listed companies that use, or are involved in, blockchain (\"Blockchain Innovators\").', 'companyOfficers': [], 'regularMarketPrice': 28.28, 'logo_url': '', 'vanguard500_comparison_avg': 0.10137970650853086, 'vanguard500_comparison_risk': 0.10614262593158992, 'vanguard500_comparison_GRR': 0.95512717552203}, {'Name': 'QC_Bluestar', 'Ticker': 'QTUM', 'Category': 'index', 'Average': 0.2058853567687812, 'Risk': 0.17470019964675748, 'GrowthRiskRatio': 1.1785067056882583, 'StartDate': Timestamp('2018-09-05 00:00:00'), 'EndDate': Timestamp('2020-05-29 00:00:00'), 'previousClose': 28.2975, 'regularMarketOpen': 28.17, 'twoHundredDayAverage': 27.510439, 'trailingAnnualDividendYield': None, 'payoutRatio': None, 'volume24Hr': None, 'regularMarketDayHigh': 28.75, 'navPrice': 28.73, 'averageDailyVolume10Day': 9471, 'totalAssets': 26952256, 'regularMarketPreviousClose': 28.2975, 'fiftyDayAverage': 26.67147, 'trailingAnnualDividendRate': None, 'open': 28.17, 'toCurrency': None, 'averageVolume10days': 9471, 'expireDate': None, 'yield': 0.0072000003, 'algorithm': None, 'dividendRate': None, 'exDividendDate': None, 'beta': None, 'circulatingSupply': None, 'startDate': None, 'regularMarketDayLow': 28.17, 'priceHint': 2, 'currency': 'USD', 'regularMarketVolume': 6057, 'lastMarket': None, 'maxSupply': None, 'openInterest': None, 'marketCap': None, 'volumeAllCurrencies': None, 'strikePrice': None, 'averageVolume': 16909, 'priceToSalesTrailing12Months': None, 'dayLow': 28.17, 'ask': 35, 'ytdReturn': None, 'askSize': 1000, 'volume': 6057, 'fiftyTwoWeekHigh': 31.51, 'forwardPE': None, 'maxAge': 1, 'fromCurrency': None, 'fiveYearAvgDividendYield': None, 'fiftyTwoWeekLow': 19.7, 'bid': 27.81, 'tradeable': False, 'dividendYield': None, 'bidSize': 1000, 'dayHigh': 28.75, 'exchange': 'PCX', 'shortName': 'Defiance Quantum ETF', 'longName': 'Defiance Quantum ETF', 'exchangeTimezoneName': 'America/New_York', 'exchangeTimezoneShortName': 'EDT', 'isEsgPopulated': False, 'gmtOffSetMilliseconds': '-14400000', 'quoteType': 'ETF', 'symbol': 'QTUM', 'messageBoardId': 'finmb_569773992', 'market': 'us_market', 'annualHoldingsTurnover': None, 'enterpriseToRevenue': None, 'beta3Year': 0, 'profitMargins': None, 'enterpriseToEbitda': None, '52WeekChange': None, 'morningStarRiskRating': None, 'forwardEps': None, 'revenueQuarterlyGrowth': None, 'fundInceptionDate': 1536019200, 'annualReportExpenseRatio': None, 'bookValue': None, 'fundFamily': 'Defiance ETFs', 'lastFiscalYearEnd': None, 'netIncomeToCommon': None, 'trailingEps': None, 'lastDividendValue': None, 'SandP52WeekChange': None, 'priceToBook': None, 'nextFiscalYearEnd': None, 'mostRecentQuarter': None, 'enterpriseValue': None, 'threeYearAverageReturn': None, 'lastSplitDate': None, 'lastSplitFactor': None, 'legalType': 'Exchange Traded Fund', 'morningStarOverallRating': None, 'earningsQuarterlyGrowth': None, 'pegRatio': None, 'lastCapGain': None, 'category': 'Technology', 'fiveYearAverageReturn': None, 'phone': '833-333-9383', 'longBusinessSummary': 'The investment seeks to track the total return performance, before fees and expenses, of the BlueStar Quantum Computing and Machine Learning Index (the \"index\").\\n Under normal circumstances, at least 80% of the fund&#39;s total assets (exclusive of any collateral held from securities lending) will be invested in the component securities of the index or in depositary receipts representing such component securities. The index consists of a modified equal-weighted portfolio of the stock of companies whose products or services are predominantly tied to the development of quantum computing and machine learning technology. The fund is non-diversified.', 'companyOfficers': [], 'regularMarketPrice': 28.17, 'logo_url': '', 'vanguard500_comparison_avg': 0.20573438333404143, 'vanguard500_comparison_risk': 0.1751701608835619, 'vanguard500_comparison_GRR': 1.1744830414969818}]\n"
     ]
    }
   ],
   "source": [
    "print(stocks)"
   ]
  },
  {
   "cell_type": "code",
   "execution_count": 20,
   "metadata": {
    "ExecuteTime": {
     "end_time": "2020-05-30T23:23:14.150563Z",
     "start_time": "2020-05-30T23:23:14.113973Z"
    }
   },
   "outputs": [
    {
     "data": {
      "text/html": [
       "<div>\n",
       "<style scoped>\n",
       "    .dataframe tbody tr th:only-of-type {\n",
       "        vertical-align: middle;\n",
       "    }\n",
       "\n",
       "    .dataframe tbody tr th {\n",
       "        vertical-align: top;\n",
       "    }\n",
       "\n",
       "    .dataframe thead th {\n",
       "        text-align: right;\n",
       "    }\n",
       "</style>\n",
       "<table border=\"1\" class=\"dataframe\">\n",
       "  <thead>\n",
       "    <tr style=\"text-align: right;\">\n",
       "      <th></th>\n",
       "      <th>Name</th>\n",
       "      <th>Ticker</th>\n",
       "      <th>vanguard500_comparison_GRR</th>\n",
       "      <th>vanguard500_comparison_risk</th>\n",
       "      <th>vanguard500_comparison_avg</th>\n",
       "    </tr>\n",
       "  </thead>\n",
       "  <tbody>\n",
       "    <tr>\n",
       "      <th>2</th>\n",
       "      <td>nasdaq100</td>\n",
       "      <td>QQQ</td>\n",
       "      <td>1.651615</td>\n",
       "      <td>0.108096</td>\n",
       "      <td>0.178533</td>\n",
       "    </tr>\n",
       "    <tr>\n",
       "      <th>4</th>\n",
       "      <td>DA_nasdaq</td>\n",
       "      <td>VIG</td>\n",
       "      <td>1.560634</td>\n",
       "      <td>0.078285</td>\n",
       "      <td>0.122175</td>\n",
       "    </tr>\n",
       "    <tr>\n",
       "      <th>1</th>\n",
       "      <td>vanguard500</td>\n",
       "      <td>VOO</td>\n",
       "      <td>1.435290</td>\n",
       "      <td>0.091569</td>\n",
       "      <td>0.131428</td>\n",
       "    </tr>\n",
       "    <tr>\n",
       "      <th>3</th>\n",
       "      <td>DA_sp1500</td>\n",
       "      <td>SDY</td>\n",
       "      <td>1.426114</td>\n",
       "      <td>0.085516</td>\n",
       "      <td>0.121955</td>\n",
       "    </tr>\n",
       "    <tr>\n",
       "      <th>0</th>\n",
       "      <td>sp500</td>\n",
       "      <td>^GSPC</td>\n",
       "      <td>1.211120</td>\n",
       "      <td>0.089413</td>\n",
       "      <td>0.108290</td>\n",
       "    </tr>\n",
       "    <tr>\n",
       "      <th>6</th>\n",
       "      <td>QC_Bluestar</td>\n",
       "      <td>QTUM</td>\n",
       "      <td>1.174483</td>\n",
       "      <td>0.175170</td>\n",
       "      <td>0.205734</td>\n",
       "    </tr>\n",
       "    <tr>\n",
       "      <th>5</th>\n",
       "      <td>BC_Innovation</td>\n",
       "      <td>KOIN</td>\n",
       "      <td>0.955127</td>\n",
       "      <td>0.106143</td>\n",
       "      <td>0.101380</td>\n",
       "    </tr>\n",
       "  </tbody>\n",
       "</table>\n",
       "</div>"
      ],
      "text/plain": [
       "            Name Ticker  vanguard500_comparison_GRR  \\\n",
       "2      nasdaq100    QQQ                    1.651615   \n",
       "4      DA_nasdaq    VIG                    1.560634   \n",
       "1    vanguard500    VOO                    1.435290   \n",
       "3      DA_sp1500    SDY                    1.426114   \n",
       "0          sp500  ^GSPC                    1.211120   \n",
       "6    QC_Bluestar   QTUM                    1.174483   \n",
       "5  BC_Innovation   KOIN                    0.955127   \n",
       "\n",
       "   vanguard500_comparison_risk  vanguard500_comparison_avg  \n",
       "2                     0.108096                    0.178533  \n",
       "4                     0.078285                    0.122175  \n",
       "1                     0.091569                    0.131428  \n",
       "3                     0.085516                    0.121955  \n",
       "0                     0.089413                    0.108290  \n",
       "6                     0.175170                    0.205734  \n",
       "5                     0.106143                    0.101380  "
      ]
     },
     "execution_count": 20,
     "metadata": {},
     "output_type": "execute_result"
    }
   ],
   "source": [
    "summary_df = pd.DataFrame(stocks)\n",
    "summary_df = summary_df.sort_values(by=['vanguard500_comparison_GRR'], ascending=False)\n",
    "summary_df[['Name','Ticker', 'vanguard500_comparison_GRR','vanguard500_comparison_risk',\n",
    "            'vanguard500_comparison_avg'\n",
    "           ]]"
   ]
  },
  {
   "cell_type": "code",
   "execution_count": 21,
   "metadata": {
    "ExecuteTime": {
     "end_time": "2020-05-30T23:23:14.542105Z",
     "start_time": "2020-05-30T23:23:14.168273Z"
    }
   },
   "outputs": [
    {
     "data": {
      "image/png": "[encoded data removed]",
      "text/plain": [
       "<Figure size 1440x1440 with 1 Axes>"
      ]
     },
     "metadata": {
      "needs_background": "light"
     },
     "output_type": "display_data"
    }
   ],
   "source": [
    "plt.rcParams['figure.figsize'] = [20, 20]\n",
    "fig, ax = plt.subplots()\n",
    "ax.scatter(summary_df.vanguard500_comparison_risk, summary_df.vanguard500_comparison_avg)\n",
    "plt.xlabel('risk')\n",
    "plt.ylabel('average')\n",
    "\n",
    "for i, txt in enumerate([d['Name'] for d in stocks if 'Name' in d]):\n",
    "    ax.annotate(txt, (summary_df.vanguard500_comparison_risk[i], summary_df.vanguard500_comparison_avg[i]))"
   ]
  },
  {
   "cell_type": "code",
   "execution_count": 22,
   "metadata": {
    "ExecuteTime": {
     "end_time": "2020-05-30T23:23:14.552602Z",
     "start_time": "2020-05-30T23:23:14.545103Z"
    }
   },
   "outputs": [
    {
     "data": {
      "text/plain": [
       "<matplotlib.collections.PathCollection at 0x115e109e8>"
      ]
     },
     "execution_count": 22,
     "metadata": {},
     "output_type": "execute_result"
    }
   ],
   "source": [
    "ax.scatter(summary_df.vanguard500_comparison_risk, summary_df.vanguard500_comparison_avg)"
   ]
  },
  {
   "cell_type": "code",
   "execution_count": 25,
   "metadata": {
    "ExecuteTime": {
     "end_time": "2020-05-30T23:24:15.814369Z",
     "start_time": "2020-05-30T23:24:15.808656Z"
    }
   },
   "outputs": [
    {
     "data": {
      "text/plain": [
       "'^GSPC'"
      ]
     },
     "execution_count": 25,
     "metadata": {},
     "output_type": "execute_result"
    }
   ],
   "source": [
    "stocks[0]['Ticker']"
   ]
  },
  {
   "cell_type": "code",
   "execution_count": null,
   "metadata": {},
   "outputs": [],
   "source": []
  }
 ],
 "metadata": {
  "kernelspec": {
   "display_name": "Python 3",
   "language": "python",
   "name": "python3"
  },
  "language_info": {
   "codemirror_mode": {
    "name": "ipython",
    "version": 3
   },
   "file_extension": ".py",
   "mimetype": "text/x-python",
   "name": "python",
   "nbconvert_exporter": "python",
   "pygments_lexer": "ipython3",
   "version": "3.7.1"
  }
 },
 "nbformat": 4,
 "nbformat_minor": 2
}
