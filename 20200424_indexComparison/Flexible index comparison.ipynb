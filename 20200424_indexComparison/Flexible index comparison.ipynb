{
 "cells": [
  {
   "cell_type": "code",
   "execution_count": 1,
   "metadata": {
    "ExecuteTime": {
     "end_time": "2020-05-30T23:22:57.752817Z",
     "start_time": "2020-05-30T23:22:57.710893Z"
    }
   },
   "outputs": [
    {
     "data": {
      "text/plain": [
       "\"\\nindex comparison\\n\\nv1.0\\n\\nv1.0 compared the indexes risk (measured by volatility) vs reward\\n\\nThe goal of this sheet is to macro analyze various indexes by getting the YoY growth rates, average them, \\n    and get their standard deviation as a measure of risk\\n    \\nI'll need to calculate fees in order to get a better judgment of the take away from the various tools\\n\\n\""
      ]
     },
     "execution_count": 1,
     "metadata": {},
     "output_type": "execute_result"
    }
   ],
   "source": [
    "\"\"\"\n",
    "index comparison\n",
    "\n",
    "v1.0\n",
    "\n",
    "v1.0 compared the indexes risk (measured by volatility) vs reward\n",
    "\n",
    "The goal of this sheet is to macro analyze various indexes by getting the YoY growth rates, average them, \n",
    "    and get their standard deviation as a measure of risk\n",
    "    \n",
    "I'll need to calculate fees in order to get a better judgment of the take away from the various tools\n",
    "\n",
    "\"\"\""
   ]
  },
  {
   "cell_type": "code",
   "execution_count": 2,
   "metadata": {
    "ExecuteTime": {
     "end_time": "2020-05-30T23:22:58.710922Z",
     "start_time": "2020-05-30T23:22:57.758015Z"
    }
   },
   "outputs": [],
   "source": [
    "import yfinance as yf\n",
    "import pandas as pd\n",
    "import numpy as np"
   ]
  },
  {
   "cell_type": "code",
   "execution_count": 3,
   "metadata": {
    "ExecuteTime": {
     "end_time": "2020-05-30T23:22:59.003597Z",
     "start_time": "2020-05-30T23:22:58.712705Z"
    }
   },
   "outputs": [],
   "source": [
    "import matplotlib.pyplot as plt\n",
    "from matplotlib.pyplot import figure\n",
    "\n",
    "%matplotlib inline"
   ]
  },
  {
   "cell_type": "code",
   "execution_count": 4,
   "metadata": {
    "ExecuteTime": {
     "end_time": "2020-05-30T23:22:59.014070Z",
     "start_time": "2020-05-30T23:22:59.007294Z"
    }
   },
   "outputs": [
    {
     "data": {
      "text/plain": [
       "'\\n\\nthere is another opportunity in adjusting the risk calculation using some of the same 3blue1brown technique in \\n    calculating adjusted rating:\\n    https://www.youtube.com/watch?v=8idr1WZ1A7Q\\n\\n'"
      ]
     },
     "execution_count": 4,
     "metadata": {},
     "output_type": "execute_result"
    }
   ],
   "source": [
    "\"\"\"\n",
    "\n",
    "there is another opportunity in adjusting the risk calculation using some of the same 3blue1brown technique in \n",
    "    calculating adjusted rating:\n",
    "    https://www.youtube.com/watch?v=8idr1WZ1A7Q\n",
    "\n",
    "\"\"\""
   ]
  },
  {
   "cell_type": "code",
   "execution_count": 5,
   "metadata": {
    "ExecuteTime": {
     "end_time": "2020-05-30T23:22:59.024769Z",
     "start_time": "2020-05-30T23:22:59.018106Z"
    }
   },
   "outputs": [],
   "source": [
    "\"\"\"\n",
    "Put the below tickers into a list of dictionaries so i can scale up on individual stocks\n",
    "    or create an object where the name points to the characteristics I'm looking for\n",
    "\n",
    "check syntax\n",
    "\"\"\"\n",
    "\n",
    "stocks = [\n",
    "    {'Name': 'sp500', 'Ticker':'^GSPC', 'Category':'index'},\n",
    "#     {'Name': 'nasdaq', 'Ticker': '^IXIC', 'Category':'index'},\n",
    "    {'Name': 'vanguard500', 'Ticker': 'VOO', 'Category':'tracker'},\n",
    "#     {'Name': 'vanguardTotal', 'Ticker': 'VTSAX', 'Category':'tracker'},\n",
    "    {'Name': 'nasdaq100', 'Ticker': 'QQQ', 'Category':'tracker'},\n",
    "#     {'Name': 'AmericanLTG', 'Ticker':'AIVSX', 'Category':'tracker'},\n",
    "#     {'Name': 'ValueHunting', 'Ticker':'PIODX', 'Category':'tracker'},\n",
    "    {'Name': 'DA_sp1500', 'Ticker':'SDY', 'Category':'dividend aristocrat'},\n",
    "    {'Name': 'DA_nasdaq', 'Ticker':'VIG', 'Category':'dividend aristocrat'},\n",
    "#     {'Name': 'DA_DowJones', 'Ticker':'DVY', 'Category':'dividend aristocrat'},\n",
    "#     {'Name': 'DA_PreferredShares', 'Ticker':'PFF', 'Category':'dividend aristocrat'},\n",
    "#     {'Name': 'DA_WeightedByDividend', 'Ticker':'DTD', 'Category':'dividend aristocrat'},\n",
    "    {'Name': 'BC_Innovation', 'Ticker':'KOIN', 'Category':'BC Benefactor'},\n",
    "#     {'Name': 'BC_Economy', 'Ticker':'BLCN', 'Category':'BC Benefactor'},\n",
    "#     {'Name': 'BC_WW', 'Ticker':'LEGR', 'Category':'BC Benefactor'},\n",
    "    {'Name': 'QC_Bluestar', 'Ticker': 'QTUM', 'Category': 'index'},\n",
    "    {'Name': 'Inno_tech', 'Ticker': 'ARKK', 'Category': 'thematic'},\n",
    "#     {'Name': 'berkshire_H', 'Ticker': 'BRK.A', 'Category': 'thematic'}\n",
    "]\n"
   ]
  },
  {
   "cell_type": "code",
   "execution_count": 6,
   "metadata": {
    "ExecuteTime": {
     "end_time": "2020-05-30T23:23:00.435587Z",
     "start_time": "2020-05-30T23:22:59.027212Z"
    }
   },
   "outputs": [],
   "source": [
    "# yf.Ticker('VIG').info"
   ]
  },
  {
   "cell_type": "code",
   "execution_count": 7,
   "metadata": {
    "ExecuteTime": {
     "end_time": "2020-05-30T23:23:00.449185Z",
     "start_time": "2020-05-30T23:23:00.437691Z"
    }
   },
   "outputs": [],
   "source": [
    "# indexes\n",
    "\n",
    "sp500 = yf.Ticker(\"^GSPC\")"
   ]
  },
  {
   "cell_type": "code",
   "execution_count": 8,
   "metadata": {
    "ExecuteTime": {
     "end_time": "2020-05-30T23:23:01.284891Z",
     "start_time": "2020-05-30T23:23:00.450718Z"
    }
   },
   "outputs": [
    {
     "data": {
      "text/plain": [
       "0.20192383301282107"
      ]
     },
     "execution_count": 8,
     "metadata": {},
     "output_type": "execute_result"
    }
   ],
   "source": [
    "df = sp500.history(period='max').reset_index()\n",
    "df['PriorYearBW'] = df.Open/df.Open.shift(253)-1\n",
    "df\n",
    "df['PriorYearBW'].mean()\n",
    "df['PriorYearBW'].std()"
   ]
  },
  {
   "cell_type": "code",
   "execution_count": 9,
   "metadata": {
    "ExecuteTime": {
     "end_time": "2020-05-30T23:23:11.828196Z",
     "start_time": "2020-05-30T23:23:01.286821Z"
    }
   },
   "outputs": [
    {
     "name": "stdout",
     "output_type": "stream",
     "text": [
      "0\n",
      "1\n",
      "2\n",
      "3\n",
      "4\n",
      "5\n",
      "6\n",
      "7\n"
     ]
    }
   ],
   "source": [
    "%%time\n",
    "\n",
    "for i, n in enumerate([d['Ticker'] for d in stocks if 'Ticker' in d]):\n",
    "    print(i)\n",
    "    df = yf.Ticker(n).history(period='max').reset_index()\n",
    "    df['PriorYearBW'] = df.Open/df.Open.shift(253)-1\n",
    "    stocks[i].update({\"Average\":df['PriorYearBW'].mean(), \"Risk\":df['PriorYearBW'].std(),\n",
    "                      \"GrowthRiskRatio\":df['PriorYearBW'].mean()/df['PriorYearBW'].std(),\n",
    "                    \"StartDate\":df['Date'].iloc[0], \"EndDate\":df['Date'].iloc[-1]})\n",
    "    \n",
    "    stocks[i].update(yf.Ticker(n).info)\n",
    "    "
   ]
  },
  {
   "cell_type": "code",
   "execution_count": 10,
   "metadata": {
    "ExecuteTime": {
     "end_time": "2020-05-30T23:23:11.887902Z",
     "start_time": "2020-05-30T23:23:11.830713Z"
    }
   },
   "outputs": [
    {
     "data": {
      "text/html": [
       "<div>\n",
       "<style scoped>\n",
       "    .dataframe tbody tr th:only-of-type {\n",
       "        vertical-align: middle;\n",
       "    }\n",
       "\n",
       "    .dataframe tbody tr th {\n",
       "        vertical-align: top;\n",
       "    }\n",
       "\n",
       "    .dataframe thead th {\n",
       "        text-align: right;\n",
       "    }\n",
       "</style>\n",
       "<table border=\"1\" class=\"dataframe\">\n",
       "  <thead>\n",
       "    <tr style=\"text-align: right;\">\n",
       "      <th></th>\n",
       "      <th>Name</th>\n",
       "      <th>Ticker</th>\n",
       "      <th>Category</th>\n",
       "      <th>Average</th>\n",
       "      <th>Risk</th>\n",
       "      <th>GrowthRiskRatio</th>\n",
       "      <th>StartDate</th>\n",
       "      <th>EndDate</th>\n",
       "      <th>previousClose</th>\n",
       "      <th>regularMarketOpen</th>\n",
       "      <th>...</th>\n",
       "      <th>morningStarOverallRating</th>\n",
       "      <th>earningsQuarterlyGrowth</th>\n",
       "      <th>pegRatio</th>\n",
       "      <th>lastCapGain</th>\n",
       "      <th>category</th>\n",
       "      <th>fiveYearAverageReturn</th>\n",
       "      <th>phone</th>\n",
       "      <th>longBusinessSummary</th>\n",
       "      <th>companyOfficers</th>\n",
       "      <th>trailingPE</th>\n",
       "    </tr>\n",
       "  </thead>\n",
       "  <tbody>\n",
       "    <tr>\n",
       "      <th>1</th>\n",
       "      <td>vanguard500</td>\n",
       "      <td>VOO</td>\n",
       "      <td>tracker</td>\n",
       "      <td>0.130802</td>\n",
       "      <td>0.090940</td>\n",
       "      <td>1.438335</td>\n",
       "      <td>2010-09-09</td>\n",
       "      <td>2020-07-24</td>\n",
       "      <td>296.7400</td>\n",
       "      <td>294.86</td>\n",
       "      <td>...</td>\n",
       "      <td>NaN</td>\n",
       "      <td>NaN</td>\n",
       "      <td>NaN</td>\n",
       "      <td>NaN</td>\n",
       "      <td>Large Blend</td>\n",
       "      <td>0.1114</td>\n",
       "      <td>866-499-8473</td>\n",
       "      <td>The investment seeks to track the performance ...</td>\n",
       "      <td>[]</td>\n",
       "      <td>NaN</td>\n",
       "    </tr>\n",
       "    <tr>\n",
       "      <th>6</th>\n",
       "      <td>QC_Bluestar</td>\n",
       "      <td>QTUM</td>\n",
       "      <td>index</td>\n",
       "      <td>0.218828</td>\n",
       "      <td>0.161347</td>\n",
       "      <td>1.356257</td>\n",
       "      <td>2018-09-05</td>\n",
       "      <td>2020-07-24</td>\n",
       "      <td>32.2871</td>\n",
       "      <td>31.70</td>\n",
       "      <td>...</td>\n",
       "      <td>NaN</td>\n",
       "      <td>NaN</td>\n",
       "      <td>NaN</td>\n",
       "      <td>NaN</td>\n",
       "      <td>Technology</td>\n",
       "      <td>NaN</td>\n",
       "      <td>833-333-9383</td>\n",
       "      <td>The investment seeks to track the total return...</td>\n",
       "      <td>[]</td>\n",
       "      <td>NaN</td>\n",
       "    </tr>\n",
       "    <tr>\n",
       "      <th>5</th>\n",
       "      <td>BC_Innovation</td>\n",
       "      <td>KOIN</td>\n",
       "      <td>BC Benefactor</td>\n",
       "      <td>0.105537</td>\n",
       "      <td>0.101285</td>\n",
       "      <td>1.041977</td>\n",
       "      <td>2018-01-30</td>\n",
       "      <td>2020-07-24</td>\n",
       "      <td>31.6700</td>\n",
       "      <td>31.35</td>\n",
       "      <td>...</td>\n",
       "      <td>NaN</td>\n",
       "      <td>NaN</td>\n",
       "      <td>NaN</td>\n",
       "      <td>NaN</td>\n",
       "      <td>Technology</td>\n",
       "      <td>NaN</td>\n",
       "      <td>833-466-6383</td>\n",
       "      <td>The investment seeks to provide investment res...</td>\n",
       "      <td>[]</td>\n",
       "      <td>NaN</td>\n",
       "    </tr>\n",
       "    <tr>\n",
       "      <th>7</th>\n",
       "      <td>Inno_tech</td>\n",
       "      <td>ARKK</td>\n",
       "      <td>thematic</td>\n",
       "      <td>0.266258</td>\n",
       "      <td>0.296855</td>\n",
       "      <td>0.896929</td>\n",
       "      <td>2014-10-31</td>\n",
       "      <td>2020-07-24</td>\n",
       "      <td>80.4700</td>\n",
       "      <td>78.90</td>\n",
       "      <td>...</td>\n",
       "      <td>NaN</td>\n",
       "      <td>NaN</td>\n",
       "      <td>NaN</td>\n",
       "      <td>NaN</td>\n",
       "      <td>Technology</td>\n",
       "      <td>0.3317</td>\n",
       "      <td>855-406-1506</td>\n",
       "      <td>The investment seeks long-term growth of capit...</td>\n",
       "      <td>[]</td>\n",
       "      <td>NaN</td>\n",
       "    </tr>\n",
       "    <tr>\n",
       "      <th>4</th>\n",
       "      <td>DA_nasdaq</td>\n",
       "      <td>VIG</td>\n",
       "      <td>dividend aristocrat</td>\n",
       "      <td>0.096191</td>\n",
       "      <td>0.135088</td>\n",
       "      <td>0.712062</td>\n",
       "      <td>2006-05-02</td>\n",
       "      <td>2020-07-24</td>\n",
       "      <td>123.4100</td>\n",
       "      <td>123.18</td>\n",
       "      <td>...</td>\n",
       "      <td>NaN</td>\n",
       "      <td>NaN</td>\n",
       "      <td>NaN</td>\n",
       "      <td>NaN</td>\n",
       "      <td>Large Blend</td>\n",
       "      <td>0.1059</td>\n",
       "      <td>800-662-7447</td>\n",
       "      <td>The investment seeks to track the performance ...</td>\n",
       "      <td>[]</td>\n",
       "      <td>NaN</td>\n",
       "    </tr>\n",
       "    <tr>\n",
       "      <th>3</th>\n",
       "      <td>DA_sp1500</td>\n",
       "      <td>SDY</td>\n",
       "      <td>dividend aristocrat</td>\n",
       "      <td>0.093693</td>\n",
       "      <td>0.148083</td>\n",
       "      <td>0.632706</td>\n",
       "      <td>2005-11-15</td>\n",
       "      <td>2020-07-24</td>\n",
       "      <td>94.4200</td>\n",
       "      <td>94.37</td>\n",
       "      <td>...</td>\n",
       "      <td>NaN</td>\n",
       "      <td>NaN</td>\n",
       "      <td>NaN</td>\n",
       "      <td>NaN</td>\n",
       "      <td>Large Value</td>\n",
       "      <td>0.0736</td>\n",
       "      <td>866-787-2257</td>\n",
       "      <td>The investment seeks to provide investment res...</td>\n",
       "      <td>[]</td>\n",
       "      <td>NaN</td>\n",
       "    </tr>\n",
       "    <tr>\n",
       "      <th>2</th>\n",
       "      <td>nasdaq100</td>\n",
       "      <td>QQQ</td>\n",
       "      <td>tracker</td>\n",
       "      <td>0.105632</td>\n",
       "      <td>0.269548</td>\n",
       "      <td>0.391886</td>\n",
       "      <td>1999-03-10</td>\n",
       "      <td>2020-07-24</td>\n",
       "      <td>258.0100</td>\n",
       "      <td>254.12</td>\n",
       "      <td>...</td>\n",
       "      <td>NaN</td>\n",
       "      <td>NaN</td>\n",
       "      <td>NaN</td>\n",
       "      <td>NaN</td>\n",
       "      <td>Large Growth</td>\n",
       "      <td>0.2076</td>\n",
       "      <td>800-983-0903</td>\n",
       "      <td>The investment seeks investment results that g...</td>\n",
       "      <td>[]</td>\n",
       "      <td>65.61232</td>\n",
       "    </tr>\n",
       "    <tr>\n",
       "      <th>0</th>\n",
       "      <td>sp500</td>\n",
       "      <td>^GSPC</td>\n",
       "      <td>index</td>\n",
       "      <td>0.077130</td>\n",
       "      <td>0.201924</td>\n",
       "      <td>0.381974</td>\n",
       "      <td>1927-12-30</td>\n",
       "      <td>2020-07-24</td>\n",
       "      <td>3235.6600</td>\n",
       "      <td>3218.58</td>\n",
       "      <td>...</td>\n",
       "      <td>NaN</td>\n",
       "      <td>NaN</td>\n",
       "      <td>NaN</td>\n",
       "      <td>NaN</td>\n",
       "      <td>NaN</td>\n",
       "      <td>NaN</td>\n",
       "      <td>NaN</td>\n",
       "      <td>NaN</td>\n",
       "      <td>NaN</td>\n",
       "      <td>NaN</td>\n",
       "    </tr>\n",
       "  </tbody>\n",
       "</table>\n",
       "<p>8 rows × 109 columns</p>\n",
       "</div>"
      ],
      "text/plain": [
       "            Name Ticker             Category   Average      Risk  \\\n",
       "1    vanguard500    VOO              tracker  0.130802  0.090940   \n",
       "6    QC_Bluestar   QTUM                index  0.218828  0.161347   \n",
       "5  BC_Innovation   KOIN        BC Benefactor  0.105537  0.101285   \n",
       "7      Inno_tech   ARKK             thematic  0.266258  0.296855   \n",
       "4      DA_nasdaq    VIG  dividend aristocrat  0.096191  0.135088   \n",
       "3      DA_sp1500    SDY  dividend aristocrat  0.093693  0.148083   \n",
       "2      nasdaq100    QQQ              tracker  0.105632  0.269548   \n",
       "0          sp500  ^GSPC                index  0.077130  0.201924   \n",
       "\n",
       "   GrowthRiskRatio  StartDate    EndDate  previousClose  regularMarketOpen  \\\n",
       "1         1.438335 2010-09-09 2020-07-24       296.7400             294.86   \n",
       "6         1.356257 2018-09-05 2020-07-24        32.2871              31.70   \n",
       "5         1.041977 2018-01-30 2020-07-24        31.6700              31.35   \n",
       "7         0.896929 2014-10-31 2020-07-24        80.4700              78.90   \n",
       "4         0.712062 2006-05-02 2020-07-24       123.4100             123.18   \n",
       "3         0.632706 2005-11-15 2020-07-24        94.4200              94.37   \n",
       "2         0.391886 1999-03-10 2020-07-24       258.0100             254.12   \n",
       "0         0.381974 1927-12-30 2020-07-24      3235.6600            3218.58   \n",
       "\n",
       "   ...  morningStarOverallRating  earningsQuarterlyGrowth pegRatio  \\\n",
       "1  ...                       NaN                      NaN      NaN   \n",
       "6  ...                       NaN                      NaN      NaN   \n",
       "5  ...                       NaN                      NaN      NaN   \n",
       "7  ...                       NaN                      NaN      NaN   \n",
       "4  ...                       NaN                      NaN      NaN   \n",
       "3  ...                       NaN                      NaN      NaN   \n",
       "2  ...                       NaN                      NaN      NaN   \n",
       "0  ...                       NaN                      NaN      NaN   \n",
       "\n",
       "  lastCapGain      category  fiveYearAverageReturn         phone  \\\n",
       "1         NaN   Large Blend                 0.1114  866-499-8473   \n",
       "6         NaN    Technology                    NaN  833-333-9383   \n",
       "5         NaN    Technology                    NaN  833-466-6383   \n",
       "7         NaN    Technology                 0.3317  855-406-1506   \n",
       "4         NaN   Large Blend                 0.1059  800-662-7447   \n",
       "3         NaN   Large Value                 0.0736  866-787-2257   \n",
       "2         NaN  Large Growth                 0.2076  800-983-0903   \n",
       "0         NaN           NaN                    NaN           NaN   \n",
       "\n",
       "                                 longBusinessSummary  companyOfficers  \\\n",
       "1  The investment seeks to track the performance ...               []   \n",
       "6  The investment seeks to track the total return...               []   \n",
       "5  The investment seeks to provide investment res...               []   \n",
       "7  The investment seeks long-term growth of capit...               []   \n",
       "4  The investment seeks to track the performance ...               []   \n",
       "3  The investment seeks to provide investment res...               []   \n",
       "2  The investment seeks investment results that g...               []   \n",
       "0                                                NaN              NaN   \n",
       "\n",
       "   trailingPE  \n",
       "1         NaN  \n",
       "6         NaN  \n",
       "5         NaN  \n",
       "7         NaN  \n",
       "4         NaN  \n",
       "3         NaN  \n",
       "2    65.61232  \n",
       "0         NaN  \n",
       "\n",
       "[8 rows x 109 columns]"
      ]
     },
     "execution_count": 10,
     "metadata": {},
     "output_type": "execute_result"
    }
   ],
   "source": [
    "summary_df = pd.DataFrame(stocks)\n",
    "summary_df = summary_df.sort_values(by=['GrowthRiskRatio'], ascending=False)\n",
    "summary_df"
   ]
  },
  {
   "cell_type": "code",
   "execution_count": 11,
   "metadata": {
    "ExecuteTime": {
     "end_time": "2020-05-30T23:23:11.894451Z",
     "start_time": "2020-05-30T23:23:11.890737Z"
    }
   },
   "outputs": [],
   "source": [
    "#stocks"
   ]
  },
  {
   "cell_type": "code",
   "execution_count": 12,
   "metadata": {
    "ExecuteTime": {
     "end_time": "2020-05-30T23:23:12.302955Z",
     "start_time": "2020-05-30T23:23:11.898883Z"
    }
   },
   "outputs": [
    {
     "data": {
      "image/png": "[encoded data removed]",
      "text/plain": [
       "<Figure size 1440x1440 with 1 Axes>"
      ]
     },
     "metadata": {
      "needs_background": "light"
     },
     "output_type": "display_data"
    }
   ],
   "source": [
    "plt.rcParams['figure.figsize'] = [20, 20]\n",
    "fig, ax = plt.subplots()\n",
    "ax.scatter(summary_df.Risk, summary_df.Average)\n",
    "plt.xlabel('risk')\n",
    "plt.ylabel('average')\n",
    "\n",
    "for i, txt in enumerate([d['Name'] for d in stocks if 'Name' in d]):\n",
    "    ax.annotate(txt, (summary_df.Risk[i], summary_df.Average[i]))"
   ]
  },
  {
   "cell_type": "code",
   "execution_count": 13,
   "metadata": {
    "ExecuteTime": {
     "end_time": "2020-05-30T23:23:12.314315Z",
     "start_time": "2020-05-30T23:23:12.308770Z"
    }
   },
   "outputs": [
    {
     "data": {
      "text/plain": [
       "\"\\nNeed to compare the top performer to the others using the same time periods\\n\\nthere are two approaches and i should do each of them\\n\\none approach is to compare apples to apples by making sure there is the same date range\\n    find the greater min date of the two I'm comparing \\n    \\nthe other approach is to adjust the growthriskratio with the same idea that is in this video\\n    https://www.youtube.com/watch?v=8idr1WZ1A7Q\\n\""
      ]
     },
     "execution_count": 13,
     "metadata": {},
     "output_type": "execute_result"
    }
   ],
   "source": [
    "\"\"\"\n",
    "Need to compare the top performer to the others using the same time periods\n",
    "\n",
    "there are two approaches and i should do each of them\n",
    "\n",
    "one approach is to compare apples to apples by making sure there is the same date range\n",
    "    find the greater min date of the two I'm comparing \n",
    "    \n",
    "the other approach is to adjust the growthriskratio with the same idea that is in this video\n",
    "    https://www.youtube.com/watch?v=8idr1WZ1A7Q\n",
    "\"\"\""
   ]
  },
  {
   "cell_type": "code",
   "execution_count": 14,
   "metadata": {
    "ExecuteTime": {
     "end_time": "2020-05-30T23:23:12.341903Z",
     "start_time": "2020-05-30T23:23:12.316598Z"
    }
   },
   "outputs": [
    {
     "data": {
      "text/plain": [
       "Name                                                           vanguard500\n",
       "Ticker                                                                 VOO\n",
       "Category                                                           tracker\n",
       "Average                                                           0.130802\n",
       "Risk                                                             0.0909396\n",
       "                                               ...                        \n",
       "fiveYearAverageReturn                                               0.1114\n",
       "phone                                                         866-499-8473\n",
       "longBusinessSummary      The investment seeks to track the performance ...\n",
       "companyOfficers                                                         []\n",
       "trailingPE                                                             NaN\n",
       "Name: 1, Length: 109, dtype: object"
      ]
     },
     "execution_count": 14,
     "metadata": {},
     "output_type": "execute_result"
    }
   ],
   "source": [
    "# return the row of the highest growthriskratio\n",
    "\n",
    "bestGRR = summary_df.iloc[0]\n",
    "bestGRR"
   ]
  },
  {
   "cell_type": "code",
   "execution_count": 15,
   "metadata": {
    "ExecuteTime": {
     "end_time": "2020-05-30T23:23:12.353386Z",
     "start_time": "2020-05-30T23:23:12.348560Z"
    }
   },
   "outputs": [
    {
     "name": "stdout",
     "output_type": "stream",
     "text": [
      "8\n"
     ]
    }
   ],
   "source": [
    "print(len(summary_df.index))"
   ]
  },
  {
   "cell_type": "code",
   "execution_count": 16,
   "metadata": {
    "ExecuteTime": {
     "end_time": "2020-05-30T23:23:12.374760Z",
     "start_time": "2020-05-30T23:23:12.358515Z"
    }
   },
   "outputs": [
    {
     "data": {
      "text/plain": [
       "Timestamp('2010-09-09 00:00:00')"
      ]
     },
     "execution_count": 16,
     "metadata": {},
     "output_type": "execute_result"
    }
   ],
   "source": [
    "bestGRR.StartDate"
   ]
  },
  {
   "cell_type": "code",
   "execution_count": 17,
   "metadata": {
    "ExecuteTime": {
     "end_time": "2020-05-30T23:23:12.645180Z",
     "start_time": "2020-05-30T23:23:12.379604Z"
    }
   },
   "outputs": [
    {
     "name": "stdout",
     "output_type": "stream",
     "text": [
      "0.11277481628689676\n",
      "0.09955438181869374\n"
     ]
    }
   ],
   "source": [
    "df = yf.Ticker('AIVSX').history(start=bestGRR.StartDate, end=bestGRR.EndDate).reset_index()\n",
    "df['PriorYearBW'] = df.Open/df.Open.shift(253)-1\n",
    "print(df['PriorYearBW'].mean())\n",
    "print(df['PriorYearBW'].std())"
   ]
  },
  {
   "cell_type": "code",
   "execution_count": 18,
   "metadata": {
    "ExecuteTime": {
     "end_time": "2020-05-30T23:23:14.050495Z",
     "start_time": "2020-05-30T23:23:12.652696Z"
    }
   },
   "outputs": [
    {
     "name": "stdout",
     "output_type": "stream",
     "text": [
      "1\n",
      "6\n",
      "5\n",
      "7\n",
      "4\n",
      "3\n",
      "2\n",
      "0\n"
     ]
    }
   ],
   "source": [
    "for index, row in summary_df.tail(len(summary_df.index)).iterrows():\n",
    "    print(index)\n",
    "    df = yf.Ticker(row.Ticker).history(start=bestGRR.StartDate, end=bestGRR.EndDate).reset_index()\n",
    "    df['PriorYearBW'] = df.Open/df.Open.shift(253)-1\n",
    "    \n",
    "    stocks[index].update({bestGRR.Name+'_comparison_avg':df['PriorYearBW'].mean(), \n",
    "                      bestGRR.Name+'_comparison_risk':df['PriorYearBW'].std(),\n",
    "                         bestGRR.Name+'_comparison_GRR':df['PriorYearBW'].mean()/df['PriorYearBW'].std()})"
   ]
  },
  {
   "cell_type": "code",
   "execution_count": 19,
   "metadata": {
    "ExecuteTime": {
     "end_time": "2020-05-30T23:23:14.100338Z",
     "start_time": "2020-05-30T23:23:14.053287Z"
    }
   },
   "outputs": [
    {
     "name": "stdout",
     "output_type": "stream",
     "text": [
      "[{'Name': 'sp500', 'Ticker': '^GSPC', 'Category': 'index', 'Average': 0.07712957511848888, 'Risk': 0.20192383301282107, 'GrowthRiskRatio': 0.3819736084030832, 'StartDate': Timestamp('1927-12-30 00:00:00'), 'EndDate': Timestamp('2020-07-24 00:00:00'), 'previousClose': 3235.66, 'regularMarketOpen': 3218.58, 'twoHundredDayAverage': 3010.9993, 'trailingAnnualDividendYield': None, 'payoutRatio': None, 'volume24Hr': None, 'regularMarketDayHigh': 3227.26, 'navPrice': None, 'averageDailyVolume10Day': 4130681428, 'totalAssets': None, 'regularMarketPreviousClose': 3235.66, 'fiftyDayAverage': 3149.142, 'trailingAnnualDividendRate': None, 'open': 3218.58, 'toCurrency': None, 'averageVolume10days': 4130681428, 'expireDate': None, 'yield': None, 'algorithm': None, 'dividendRate': None, 'exDividendDate': None, 'beta': None, 'circulatingSupply': None, 'startDate': None, 'regularMarketDayLow': 3200.05, 'priceHint': 2, 'currency': 'USD', 'regularMarketVolume': 2460013758, 'lastMarket': None, 'maxSupply': None, 'openInterest': None, 'marketCap': None, 'volumeAllCurrencies': None, 'strikePrice': None, 'averageVolume': 5349383333, 'priceToSalesTrailing12Months': None, 'dayLow': 3200.05, 'ask': 3253.51, 'ytdReturn': None, 'askSize': 0, 'volume': 2460013758, 'fiftyTwoWeekHigh': 3393.52, 'forwardPE': None, 'maxAge': 1, 'fromCurrency': None, 'fiveYearAvgDividendYield': None, 'fiftyTwoWeekLow': 2191.86, 'bid': 3177.74, 'tradeable': False, 'dividendYield': None, 'bidSize': 0, 'dayHigh': 3227.26, 'exchange': 'SNP', 'shortName': 'S&P 500', 'exchangeTimezoneName': 'America/New_York', 'exchangeTimezoneShortName': 'EDT', 'isEsgPopulated': False, 'gmtOffSetMilliseconds': '-14400000', 'quoteType': 'INDEX', 'symbol': '^GSPC', 'messageBoardId': 'finmb_INDEXGSPC', 'market': 'us_market', 'regularMarketPrice': 3218.58, 'logo_url': '', 'vanguard500_comparison_avg': 0.10771087678117329, 'vanguard500_comparison_risk': 0.08880634213736698, 'vanguard500_comparison_GRR': 1.2128737001076397}, {'Name': 'vanguard500', 'Ticker': 'VOO', 'Category': 'tracker', 'Average': 0.13080167606104742, 'Risk': 0.09093964750238076, 'GrowthRiskRatio': 1.4383349798845777, 'StartDate': Timestamp('2010-09-09 00:00:00'), 'EndDate': Timestamp('2020-07-24 00:00:00'), 'previousClose': 296.74, 'regularMarketOpen': 294.86, 'twoHundredDayAverage': 276.2279, 'trailingAnnualDividendYield': None, 'payoutRatio': None, 'volume24Hr': None, 'regularMarketDayHigh': 295.81, 'navPrice': 291.83, 'averageDailyVolume10Day': 3091114, 'totalAssets': 533811101696, 'regularMarketPreviousClose': 296.74, 'fiftyDayAverage': 289.07675, 'trailingAnnualDividendRate': None, 'open': 294.86, 'toCurrency': None, 'averageVolume10days': 3091114, 'expireDate': None, 'yield': 0.0188, 'algorithm': None, 'dividendRate': None, 'exDividendDate': None, 'beta': None, 'circulatingSupply': None, 'startDate': None, 'regularMarketDayLow': 293.3, 'priceHint': 2, 'currency': 'USD', 'regularMarketVolume': 2832293, 'lastMarket': None, 'maxSupply': None, 'openInterest': None, 'marketCap': None, 'volumeAllCurrencies': None, 'strikePrice': None, 'averageVolume': 4345361, 'priceToSalesTrailing12Months': None, 'dayLow': 293.3, 'ask': 294.24, 'ytdReturn': None, 'askSize': 900, 'volume': 2832293, 'fiftyTwoWeekHigh': 311.59, 'forwardPE': None, 'maxAge': 1, 'fromCurrency': None, 'fiveYearAvgDividendYield': None, 'fiftyTwoWeekLow': 200.55, 'bid': 294.4, 'tradeable': False, 'dividendYield': None, 'bidSize': 900, 'dayHigh': 295.81, 'exchange': 'PCX', 'shortName': 'Vanguard S&P 500 ETF', 'longName': 'Vanguard S&P 500 ETF', 'exchangeTimezoneName': 'America/New_York', 'exchangeTimezoneShortName': 'EDT', 'isEsgPopulated': False, 'gmtOffSetMilliseconds': '-14400000', 'quoteType': 'ETF', 'symbol': 'VOO', 'messageBoardId': 'finmb_28117396', 'market': 'us_market', 'annualHoldingsTurnover': None, 'enterpriseToRevenue': None, 'beta3Year': 1, 'profitMargins': None, 'enterpriseToEbitda': None, '52WeekChange': None, 'morningStarRiskRating': None, 'forwardEps': None, 'revenueQuarterlyGrowth': None, 'fundInceptionDate': 1283817600, 'annualReportExpenseRatio': None, 'bookValue': None, 'fundFamily': 'Vanguard', 'lastFiscalYearEnd': None, 'netIncomeToCommon': None, 'trailingEps': None, 'lastDividendValue': None, 'SandP52WeekChange': None, 'priceToBook': None, 'nextFiscalYearEnd': None, 'mostRecentQuarter': None, 'enterpriseValue': None, 'threeYearAverageReturn': 0.11620000000000001, 'lastSplitDate': None, 'lastSplitFactor': None, 'legalType': 'Exchange Traded Fund', 'morningStarOverallRating': None, 'earningsQuarterlyGrowth': None, 'pegRatio': None, 'lastCapGain': None, 'category': 'Large Blend', 'fiveYearAverageReturn': 0.1114, 'phone': '866-499-8473', 'longBusinessSummary': 'The investment seeks to track the performance of a benchmark index that measures the investment return of large-capitalization stocks.\\n The fund employs an indexing investment approach designed to track the performance of the Standard & Poor&#39;s 500 Index, a widely recognized benchmark of U.S. stock market performance that is dominated by the stocks of large U.S. companies. The advisor attempts to replicate the target index by investing all, or substantially all, of its assets in the stocks that make up the index, holding each stock in approximately the same proportion as its weighting in the index.', 'companyOfficers': [], 'regularMarketPrice': 294.86, 'logo_url': '', 'vanguard500_comparison_avg': 0.1308181011916999, 'vanguard500_comparison_risk': 0.09095671308241748, 'vanguard500_comparison_GRR': 1.4382456968642139}, {'Name': 'nasdaq100', 'Ticker': 'QQQ', 'Category': 'tracker', 'Average': 0.10563215963481157, 'Risk': 0.26954842501216547, 'GrowthRiskRatio': 0.3918856496009728, 'StartDate': Timestamp('1999-03-10 00:00:00'), 'EndDate': Timestamp('2020-07-24 00:00:00'), 'previousClose': 258.01, 'regularMarketOpen': 254.12, 'twoHundredDayAverage': 223.1526, 'trailingAnnualDividendYield': 0.0059687607, 'payoutRatio': None, 'volume24Hr': None, 'regularMarketDayHigh': 256.93, 'navPrice': 264.06, 'averageDailyVolume10Day': 43144728, 'totalAssets': 115230023680, 'regularMarketPreviousClose': 258.01, 'fiftyDayAverage': 251.23941, 'trailingAnnualDividendRate': 1.54, 'open': 254.12, 'toCurrency': None, 'averageVolume10days': 43144728, 'expireDate': None, 'yield': 0.0066000004, 'algorithm': None, 'dividendRate': None, 'exDividendDate': None, 'beta': None, 'circulatingSupply': None, 'startDate': None, 'regularMarketDayLow': 251.32, 'priceHint': 2, 'currency': 'USD', 'trailingPE': 65.61232, 'regularMarketVolume': 54054536, 'lastMarket': None, 'maxSupply': None, 'openInterest': None, 'marketCap': None, 'volumeAllCurrencies': None, 'strikePrice': None, 'averageVolume': 42615082, 'priceToSalesTrailing12Months': None, 'dayLow': 251.32, 'ask': 254.92, 'ytdReturn': None, 'askSize': 1100, 'volume': 54054536, 'fiftyTwoWeekHigh': 269.79, 'forwardPE': None, 'maxAge': 1, 'fromCurrency': None, 'fiveYearAvgDividendYield': None, 'fiftyTwoWeekLow': 164.93, 'bid': 254.88, 'tradeable': False, 'dividendYield': None, 'bidSize': 800, 'dayHigh': 256.93, 'exchange': 'NGM', 'shortName': 'Invesco QQQ Trust, Series 1', 'longName': 'Invesco QQQ Trust', 'exchangeTimezoneName': 'America/New_York', 'exchangeTimezoneShortName': 'EDT', 'isEsgPopulated': False, 'gmtOffSetMilliseconds': '-14400000', 'quoteType': 'ETF', 'symbol': 'QQQ', 'messageBoardId': 'finmb_8108558', 'market': 'us_market', 'annualHoldingsTurnover': None, 'enterpriseToRevenue': None, 'beta3Year': 1.02, 'profitMargins': None, 'enterpriseToEbitda': None, '52WeekChange': None, 'morningStarRiskRating': None, 'forwardEps': None, 'revenueQuarterlyGrowth': None, 'fundInceptionDate': 921024000, 'annualReportExpenseRatio': None, 'bookValue': None, 'fundFamily': 'Invesco', 'lastFiscalYearEnd': None, 'netIncomeToCommon': None, 'trailingEps': None, 'lastDividendValue': None, 'SandP52WeekChange': None, 'priceToBook': None, 'nextFiscalYearEnd': None, 'mostRecentQuarter': None, 'enterpriseValue': None, 'threeYearAverageReturn': 0.2499, 'lastSplitDate': None, 'lastSplitFactor': None, 'legalType': 'Exchange Traded Fund', 'morningStarOverallRating': None, 'earningsQuarterlyGrowth': None, 'pegRatio': None, 'lastCapGain': None, 'category': 'Large Growth', 'fiveYearAverageReturn': 0.2076, 'phone': '800-983-0903', 'longBusinessSummary': 'The investment seeks investment results that generally correspond to the price and yield performance of the NASDAQâ\\x80\\x93100 IndexÂ®.\\n To maintain the correspondence between the composition and weights of the securities in the trust (the \"securities\") and the stocks in the NASDAQ-100 IndexÂ®, the adviser adjusts the securities from time to time to conform to periodic changes in the identity and/or relative weights of index securities. The composition and weighting of the securities portion of a portfolio deposit are also adjusted to conform to changes in the index.', 'companyOfficers': [], 'regularMarketPrice': 254.12, 'logo_url': '', 'vanguard500_comparison_avg': 0.18146647570710106, 'vanguard500_comparison_risk': 0.10945459622270971, 'vanguard500_comparison_GRR': 1.6579155373052326}, {'Name': 'DA_sp1500', 'Ticker': 'SDY', 'Category': 'dividend aristocrat', 'Average': 0.09369333139411463, 'Risk': 0.14808344165637385, 'GrowthRiskRatio': 0.6327063333085483, 'StartDate': Timestamp('2005-11-15 00:00:00'), 'EndDate': Timestamp('2020-07-24 00:00:00'), 'previousClose': 94.42, 'regularMarketOpen': 94.37, 'twoHundredDayAverage': 92.67087, 'trailingAnnualDividendYield': None, 'payoutRatio': None, 'volume24Hr': None, 'regularMarketDayHigh': 94.89, 'navPrice': 90.18, 'averageDailyVolume10Day': 682742, 'totalAssets': 15234369536, 'regularMarketPreviousClose': 94.42, 'fiftyDayAverage': 92.225, 'trailingAnnualDividendRate': None, 'open': 94.37, 'toCurrency': None, 'averageVolume10days': 682742, 'expireDate': None, 'yield': 0.031, 'algorithm': None, 'dividendRate': None, 'exDividendDate': None, 'beta': None, 'circulatingSupply': None, 'startDate': None, 'regularMarketDayLow': 93.715, 'priceHint': 2, 'currency': 'USD', 'regularMarketVolume': 358767, 'lastMarket': None, 'maxSupply': None, 'openInterest': None, 'marketCap': None, 'volumeAllCurrencies': None, 'strikePrice': None, 'averageVolume': 873134, 'priceToSalesTrailing12Months': None, 'dayLow': 93.715, 'ask': 94.24, 'ytdReturn': None, 'askSize': 1100, 'volume': 358767, 'fiftyTwoWeekHigh': 108.81, 'forwardPE': None, 'maxAge': 1, 'fromCurrency': None, 'fiveYearAvgDividendYield': None, 'fiftyTwoWeekLow': 67.57, 'bid': 93.31, 'tradeable': False, 'dividendYield': None, 'bidSize': 1100, 'dayHigh': 94.89, 'exchange': 'PCX', 'shortName': 'SPDR S&P Dividend ETF', 'longName': 'SPDR S&P Dividend ETF', 'exchangeTimezoneName': 'America/New_York', 'exchangeTimezoneShortName': 'EDT', 'isEsgPopulated': False, 'gmtOffSetMilliseconds': '-14400000', 'quoteType': 'ETF', 'symbol': 'SDY', 'messageBoardId': 'finmb_25496662', 'market': 'us_market', 'annualHoldingsTurnover': None, 'enterpriseToRevenue': None, 'beta3Year': 0.91, 'profitMargins': None, 'enterpriseToEbitda': None, '52WeekChange': None, 'morningStarRiskRating': None, 'forwardEps': None, 'revenueQuarterlyGrowth': None, 'fundInceptionDate': 1131408000, 'annualReportExpenseRatio': None, 'bookValue': None, 'fundFamily': 'SPDR State Street Global Advisors', 'lastFiscalYearEnd': None, 'netIncomeToCommon': None, 'trailingEps': None, 'lastDividendValue': None, 'SandP52WeekChange': None, 'priceToBook': None, 'nextFiscalYearEnd': None, 'mostRecentQuarter': None, 'enterpriseValue': None, 'threeYearAverageReturn': 0.042300000000000004, 'lastSplitDate': None, 'lastSplitFactor': None, 'legalType': 'Exchange Traded Fund', 'morningStarOverallRating': None, 'earningsQuarterlyGrowth': None, 'pegRatio': None, 'lastCapGain': None, 'category': 'Large Value', 'fiveYearAverageReturn': 0.0736, 'phone': '866-787-2257', 'longBusinessSummary': 'The investment seeks to provide investment results that, before fees and expenses, correspond generally to the total return performance of the S&P High Yield Dividend Aristocrats Index.\\n The fund generally invests substantially all, but at least 80%, of its total assets in the securities comprising the index. The index is designed to measure the performance of the highest dividend yielding S&P Composite 1500Â® Index constituents that have followed a managed-dividends policy of consistently increasing dividends every year for at least 20 consecutive years. The fund is non-diversified.', 'companyOfficers': [], 'regularMarketPrice': 94.37, 'logo_url': '', 'vanguard500_comparison_avg': 0.11894112588440874, 'vanguard500_comparison_risk': 0.0878428430311801, 'vanguard500_comparison_GRR': 1.3540218164636384}, {'Name': 'DA_nasdaq', 'Ticker': 'VIG', 'Category': 'dividend aristocrat', 'Average': 0.09619102154474612, 'Risk': 0.1350879375272661, 'GrowthRiskRatio': 0.7120622559311112, 'StartDate': Timestamp('2006-05-02 00:00:00'), 'EndDate': Timestamp('2020-07-24 00:00:00'), 'previousClose': 123.41, 'regularMarketOpen': 123.18, 'twoHundredDayAverage': 116.81747, 'trailingAnnualDividendYield': None, 'payoutRatio': None, 'volume24Hr': None, 'regularMarketDayHigh': 123.43, 'navPrice': 119.19, 'averageDailyVolume10Day': 1195685, 'totalAssets': 51643105280, 'regularMarketPreviousClose': 123.41, 'fiftyDayAverage': 119.14382, 'trailingAnnualDividendRate': None, 'open': 123.18, 'toCurrency': None, 'averageVolume10days': 1195685, 'expireDate': None, 'yield': 0.019, 'algorithm': None, 'dividendRate': None, 'exDividendDate': None, 'beta': None, 'circulatingSupply': None, 'startDate': None, 'regularMarketDayLow': 122.4131, 'priceHint': 2, 'currency': 'USD', 'regularMarketVolume': 1021306, 'lastMarket': None, 'maxSupply': None, 'openInterest': None, 'marketCap': None, 'volumeAllCurrencies': None, 'strikePrice': None, 'averageVolume': 1410098, 'priceToSalesTrailing12Months': None, 'dayLow': 122.4131, 'ask': 123.02, 'ytdReturn': None, 'askSize': 1100, 'volume': 1021306, 'fiftyTwoWeekHigh': 130.91, 'forwardPE': None, 'maxAge': 1, 'fromCurrency': None, 'fiveYearAvgDividendYield': None, 'fiftyTwoWeekLow': 87.71, 'bid': 122.06, 'tradeable': False, 'dividendYield': None, 'bidSize': 1000, 'dayHigh': 123.43, 'exchange': 'PCX', 'shortName': 'Vanguard Div Appreciation ETF', 'longName': 'Vanguard Dividend Appreciation Index Fund ETF Shares', 'exchangeTimezoneName': 'America/New_York', 'exchangeTimezoneShortName': 'EDT', 'isEsgPopulated': False, 'gmtOffSetMilliseconds': '-14400000', 'quoteType': 'ETF', 'symbol': 'VIG', 'messageBoardId': 'finmb_26955607', 'market': 'us_market', 'annualHoldingsTurnover': None, 'enterpriseToRevenue': None, 'beta3Year': 0.86, 'profitMargins': None, 'enterpriseToEbitda': None, '52WeekChange': None, 'morningStarRiskRating': None, 'forwardEps': None, 'revenueQuarterlyGrowth': None, 'fundInceptionDate': 1145577600, 'annualReportExpenseRatio': None, 'bookValue': None, 'fundFamily': 'Vanguard', 'lastFiscalYearEnd': None, 'netIncomeToCommon': None, 'trailingEps': None, 'lastDividendValue': None, 'SandP52WeekChange': None, 'priceToBook': None, 'nextFiscalYearEnd': None, 'mostRecentQuarter': None, 'enterpriseValue': None, 'threeYearAverageReturn': 0.109, 'lastSplitDate': None, 'lastSplitFactor': None, 'legalType': 'Exchange Traded Fund', 'morningStarOverallRating': None, 'earningsQuarterlyGrowth': None, 'pegRatio': None, 'lastCapGain': None, 'category': 'Large Blend', 'fiveYearAverageReturn': 0.105900005, 'phone': '800-662-7447', 'longBusinessSummary': 'The investment seeks to track the performance of a benchmark index that measures the investment return of common stocks of companies that have a record of increasing dividends over time.\\n The fund employs an indexing investment approach designed to track the performance of the Nasdaq US Dividend Achievers Select Index, which consists of common stocks of companies that have a record of increasing dividends over time. The adviser attempts to replicate the target index by investing all, or substantially all, of its assets in the stocks that make up the index, holding each stock in approximately the same proportion as its weighting in the index.', 'companyOfficers': [], 'regularMarketPrice': 123.18, 'logo_url': '', 'vanguard500_comparison_avg': 0.12102365143040394, 'vanguard500_comparison_risk': 0.07818674618552054, 'vanguard500_comparison_GRR': 1.54787937003083}, {'Name': 'BC_Innovation', 'Ticker': 'KOIN', 'Category': 'BC Benefactor', 'Average': 0.10553712863700869, 'Risk': 0.1012854673069358, 'GrowthRiskRatio': 1.04197701252825, 'StartDate': Timestamp('2018-01-30 00:00:00'), 'EndDate': Timestamp('2020-07-24 00:00:00'), 'previousClose': 31.67, 'regularMarketOpen': 31.35, 'twoHundredDayAverage': 28.057936, 'trailingAnnualDividendYield': None, 'payoutRatio': None, 'volume24Hr': None, 'regularMarketDayHigh': 31.491, 'navPrice': 31.26, 'averageDailyVolume10Day': 4485, 'totalAssets': 8987029, 'regularMarketPreviousClose': 31.67, 'fiftyDayAverage': 30.431942, 'trailingAnnualDividendRate': None, 'open': 31.35, 'toCurrency': None, 'averageVolume10days': 4485, 'expireDate': None, 'yield': 0.015600000000000001, 'algorithm': None, 'dividendRate': None, 'exDividendDate': None, 'beta': None, 'circulatingSupply': None, 'startDate': None, 'regularMarketDayLow': 31.3, 'priceHint': 2, 'currency': 'USD', 'regularMarketVolume': 1494, 'lastMarket': None, 'maxSupply': None, 'openInterest': None, 'marketCap': None, 'volumeAllCurrencies': None, 'strikePrice': None, 'averageVolume': 3853, 'priceToSalesTrailing12Months': None, 'dayLow': 31.3, 'ask': 31.55, 'ytdReturn': None, 'askSize': 1400, 'volume': 1494, 'fiftyTwoWeekHigh': 32.19, 'forwardPE': None, 'maxAge': 1, 'fromCurrency': None, 'fiveYearAvgDividendYield': None, 'fiftyTwoWeekLow': 20.62, 'bid': 24.28, 'tradeable': False, 'dividendYield': None, 'bidSize': 800, 'dayHigh': 31.491, 'exchange': 'PCX', 'shortName': 'Innovation Shares NextGen Proto', 'longName': 'Innovation Shares NextGen Protocol ETF', 'exchangeTimezoneName': 'America/New_York', 'exchangeTimezoneShortName': 'EDT', 'isEsgPopulated': False, 'gmtOffSetMilliseconds': '-14400000', 'quoteType': 'ETF', 'symbol': 'KOIN', 'messageBoardId': 'finmb_544330635', 'market': 'us_market', 'annualHoldingsTurnover': None, 'enterpriseToRevenue': None, 'beta3Year': 0, 'profitMargins': None, 'enterpriseToEbitda': None, '52WeekChange': None, 'morningStarRiskRating': None, 'forwardEps': None, 'revenueQuarterlyGrowth': None, 'fundInceptionDate': 1517184000, 'annualReportExpenseRatio': None, 'bookValue': None, 'fundFamily': 'Innovation Shares', 'lastFiscalYearEnd': None, 'netIncomeToCommon': None, 'trailingEps': None, 'lastDividendValue': None, 'SandP52WeekChange': None, 'priceToBook': None, 'nextFiscalYearEnd': None, 'mostRecentQuarter': None, 'enterpriseValue': None, 'threeYearAverageReturn': None, 'lastSplitDate': None, 'lastSplitFactor': None, 'legalType': 'Exchange Traded Fund', 'morningStarOverallRating': None, 'earningsQuarterlyGrowth': None, 'pegRatio': None, 'lastCapGain': None, 'category': 'Technology', 'fiveYearAverageReturn': None, 'phone': '833-466-6383', 'longBusinessSummary': 'The investment seeks to provide investment results that, before fees and expenses, track the performance of the Innovation Labs Blockchain Innovators Index (the \"index\").\\n The fund will normally invest at least 80% of its total assets in securities of the index. The index was designed by the fund&#39;s index creator, to measure the performance of a diversified group of publicly-listed companies that use, or are involved in, blockchain (\"Blockchain Innovators\").', 'companyOfficers': [], 'regularMarketPrice': 31.35, 'logo_url': '', 'vanguard500_comparison_avg': 0.10547209476310353, 'vanguard500_comparison_risk': 0.10141408025304927, 'vanguard500_comparison_GRR': 1.040014310635453}, {'Name': 'QC_Bluestar', 'Ticker': 'QTUM', 'Category': 'index', 'Average': 0.21882844688941605, 'Risk': 0.16134738372982788, 'GrowthRiskRatio': 1.3562565554570056, 'StartDate': Timestamp('2018-09-05 00:00:00'), 'EndDate': Timestamp('2020-07-24 00:00:00'), 'previousClose': 32.2871, 'regularMarketOpen': 31.7, 'twoHundredDayAverage': 28.207827, 'trailingAnnualDividendYield': None, 'payoutRatio': None, 'volume24Hr': None, 'regularMarketDayHigh': 32.09, 'navPrice': 31.65, 'averageDailyVolume10Day': 9014, 'totalAssets': 30845116, 'regularMarketPreviousClose': 32.2871, 'fiftyDayAverage': 31.085295, 'trailingAnnualDividendRate': None, 'open': 31.7, 'toCurrency': None, 'averageVolume10days': 9014, 'expireDate': None, 'yield': 0.0058999998, 'algorithm': None, 'dividendRate': None, 'exDividendDate': None, 'beta': None, 'circulatingSupply': None, 'startDate': None, 'regularMarketDayLow': 31.7, 'priceHint': 2, 'currency': 'USD', 'regularMarketVolume': 5799, 'lastMarket': None, 'maxSupply': None, 'openInterest': None, 'marketCap': None, 'volumeAllCurrencies': None, 'strikePrice': None, 'averageVolume': 10565, 'priceToSalesTrailing12Months': None, 'dayLow': 31.7, 'ask': 34.26, 'ytdReturn': None, 'askSize': 1000, 'volume': 5799, 'fiftyTwoWeekHigh': 32.88, 'forwardPE': None, 'maxAge': 1, 'fromCurrency': None, 'fiveYearAvgDividendYield': None, 'fiftyTwoWeekLow': 19.7, 'bid': 31.89, 'tradeable': False, 'dividendYield': None, 'bidSize': 1000, 'dayHigh': 32.09, 'exchange': 'PCX', 'shortName': 'Defiance Quantum ETF', 'longName': 'Defiance Quantum ETF', 'exchangeTimezoneName': 'America/New_York', 'exchangeTimezoneShortName': 'EDT', 'isEsgPopulated': False, 'gmtOffSetMilliseconds': '-14400000', 'quoteType': 'ETF', 'symbol': 'QTUM', 'messageBoardId': 'finmb_569773992', 'market': 'us_market', 'annualHoldingsTurnover': None, 'enterpriseToRevenue': None, 'beta3Year': 0, 'profitMargins': None, 'enterpriseToEbitda': None, '52WeekChange': None, 'morningStarRiskRating': None, 'forwardEps': None, 'revenueQuarterlyGrowth': None, 'fundInceptionDate': 1536019200, 'annualReportExpenseRatio': None, 'bookValue': None, 'fundFamily': 'Defiance ETFs', 'lastFiscalYearEnd': None, 'netIncomeToCommon': None, 'trailingEps': None, 'lastDividendValue': None, 'SandP52WeekChange': None, 'priceToBook': None, 'nextFiscalYearEnd': None, 'mostRecentQuarter': None, 'enterpriseValue': None, 'threeYearAverageReturn': None, 'lastSplitDate': None, 'lastSplitFactor': None, 'legalType': 'Exchange Traded Fund', 'morningStarOverallRating': None, 'earningsQuarterlyGrowth': None, 'pegRatio': None, 'lastCapGain': None, 'category': 'Technology', 'fiveYearAverageReturn': None, 'phone': '833-333-9383', 'longBusinessSummary': 'The investment seeks to track the total return performance, before fees and expenses, of the BlueStar Quantum Computing and Machine Learning Index (the \"index\").\\n Under normal circumstances, at least 80% of the fund&#39;s total assets (exclusive of any collateral held from securities lending) will be invested in the component securities of the index or in depositary receipts representing such component securities. The index consists of a modified equal-weighted portfolio of the stock of companies whose products or services are predominantly tied to the development of quantum computing and machine learning technology. The fund is non-diversified.', 'companyOfficers': [], 'regularMarketPrice': 31.7, 'logo_url': '', 'vanguard500_comparison_avg': 0.2188074631952336, 'vanguard500_comparison_risk': 0.16171336296476885, 'vanguard500_comparison_GRR': 1.3530574046803006}, {'Name': 'Inno_tech', 'Ticker': 'ARKK', 'Category': 'thematic', 'Average': 0.26625800700940977, 'Risk': 0.29685520683109823, 'GrowthRiskRatio': 0.8969288760392289, 'StartDate': Timestamp('2014-10-31 00:00:00'), 'EndDate': Timestamp('2020-07-24 00:00:00'), 'previousClose': 80.47, 'regularMarketOpen': 78.9, 'twoHundredDayAverage': 57.956955, 'trailingAnnualDividendYield': None, 'payoutRatio': None, 'volume24Hr': None, 'regularMarketDayHigh': 79.8172, 'navPrice': 80.98, 'averageDailyVolume10Day': 1595942, 'totalAssets': 4766133248, 'regularMarketPreviousClose': 80.47, 'fiftyDayAverage': 73.60588, 'trailingAnnualDividendRate': None, 'open': 78.9, 'toCurrency': None, 'averageVolume10days': 1595942, 'expireDate': None, 'yield': 0.0027, 'algorithm': None, 'dividendRate': None, 'exDividendDate': None, 'beta': None, 'circulatingSupply': None, 'startDate': None, 'regularMarketDayLow': 77.4, 'priceHint': 2, 'currency': 'USD', 'regularMarketVolume': 1946004, 'lastMarket': None, 'maxSupply': None, 'openInterest': None, 'marketCap': None, 'volumeAllCurrencies': None, 'strikePrice': None, 'averageVolume': 1345523, 'priceToSalesTrailing12Months': None, 'dayLow': 77.4, 'ask': 79.2, 'ytdReturn': None, 'askSize': 1300, 'volume': 1946004, 'fiftyTwoWeekHigh': 84.95, 'forwardPE': None, 'maxAge': 1, 'fromCurrency': None, 'fiveYearAvgDividendYield': None, 'fiftyTwoWeekLow': 33, 'bid': 78.5, 'tradeable': False, 'dividendYield': None, 'bidSize': 1200, 'dayHigh': 79.8172, 'exchange': 'PCX', 'shortName': 'ARK Innovation ETF', 'longName': 'ARK Innovation ETF', 'exchangeTimezoneName': 'America/New_York', 'exchangeTimezoneShortName': 'EDT', 'isEsgPopulated': False, 'gmtOffSetMilliseconds': '-14400000', 'quoteType': 'ETF', 'symbol': 'ARKK', 'messageBoardId': 'finmb_268203659', 'market': 'us_market', 'annualHoldingsTurnover': None, 'enterpriseToRevenue': None, 'beta3Year': 1.55, 'profitMargins': None, 'enterpriseToEbitda': None, '52WeekChange': None, 'morningStarRiskRating': None, 'forwardEps': None, 'revenueQuarterlyGrowth': None, 'fundInceptionDate': 1414627200, 'annualReportExpenseRatio': None, 'bookValue': None, 'fundFamily': 'ARK ETF Trust', 'lastFiscalYearEnd': None, 'netIncomeToCommon': None, 'trailingEps': None, 'lastDividendValue': None, 'SandP52WeekChange': None, 'priceToBook': None, 'nextFiscalYearEnd': None, 'mostRecentQuarter': None, 'enterpriseValue': None, 'threeYearAverageReturn': 0.44070000000000004, 'lastSplitDate': None, 'lastSplitFactor': None, 'legalType': 'Exchange Traded Fund', 'morningStarOverallRating': None, 'earningsQuarterlyGrowth': None, 'pegRatio': None, 'lastCapGain': None, 'category': 'Technology', 'fiveYearAverageReturn': 0.33169997, 'phone': '855-406-1506', 'longBusinessSummary': 'The investment seeks long-term growth of capital.\\n The fund is an actively-managed exchange-traded fund (\"ETF\") that will invest under normal circumstances primarily (at least 65% of its assets) in domestic and foreign equity securities of companies that are relevant to the fund&#39;s investment theme of disruptive innovation. Its investments in foreign equity securities will be in both developed and emerging markets. It may invest in foreign securities (including investments in American Depositary Receipts (\"ADRs\") and Global Depositary Receipts (\"GDRs\")) and securities listed on local foreign exchanges. The fund is non-diversified.', 'companyOfficers': [], 'regularMarketPrice': 78.9, 'logo_url': '', 'vanguard500_comparison_avg': 0.2659612598783681, 'vanguard500_comparison_risk': 0.29680374617575594, 'vanguard500_comparison_GRR': 0.8960845788006864}]\n"
     ]
    }
   ],
   "source": [
    "print(stocks)"
   ]
  },
  {
   "cell_type": "code",
   "execution_count": 20,
   "metadata": {
    "ExecuteTime": {
     "end_time": "2020-05-30T23:23:14.150563Z",
     "start_time": "2020-05-30T23:23:14.113973Z"
    }
   },
   "outputs": [
    {
     "data": {
      "text/html": [
       "<div>\n",
       "<style scoped>\n",
       "    .dataframe tbody tr th:only-of-type {\n",
       "        vertical-align: middle;\n",
       "    }\n",
       "\n",
       "    .dataframe tbody tr th {\n",
       "        vertical-align: top;\n",
       "    }\n",
       "\n",
       "    .dataframe thead th {\n",
       "        text-align: right;\n",
       "    }\n",
       "</style>\n",
       "<table border=\"1\" class=\"dataframe\">\n",
       "  <thead>\n",
       "    <tr style=\"text-align: right;\">\n",
       "      <th></th>\n",
       "      <th>Name</th>\n",
       "      <th>Ticker</th>\n",
       "      <th>vanguard500_comparison_GRR</th>\n",
       "      <th>vanguard500_comparison_risk</th>\n",
       "      <th>vanguard500_comparison_avg</th>\n",
       "    </tr>\n",
       "  </thead>\n",
       "  <tbody>\n",
       "    <tr>\n",
       "      <th>2</th>\n",
       "      <td>nasdaq100</td>\n",
       "      <td>QQQ</td>\n",
       "      <td>1.657916</td>\n",
       "      <td>0.109455</td>\n",
       "      <td>0.181466</td>\n",
       "    </tr>\n",
       "    <tr>\n",
       "      <th>4</th>\n",
       "      <td>DA_nasdaq</td>\n",
       "      <td>VIG</td>\n",
       "      <td>1.547879</td>\n",
       "      <td>0.078187</td>\n",
       "      <td>0.121024</td>\n",
       "    </tr>\n",
       "    <tr>\n",
       "      <th>1</th>\n",
       "      <td>vanguard500</td>\n",
       "      <td>VOO</td>\n",
       "      <td>1.438246</td>\n",
       "      <td>0.090957</td>\n",
       "      <td>0.130818</td>\n",
       "    </tr>\n",
       "    <tr>\n",
       "      <th>3</th>\n",
       "      <td>DA_sp1500</td>\n",
       "      <td>SDY</td>\n",
       "      <td>1.354022</td>\n",
       "      <td>0.087843</td>\n",
       "      <td>0.118941</td>\n",
       "    </tr>\n",
       "    <tr>\n",
       "      <th>6</th>\n",
       "      <td>QC_Bluestar</td>\n",
       "      <td>QTUM</td>\n",
       "      <td>1.353057</td>\n",
       "      <td>0.161713</td>\n",
       "      <td>0.218807</td>\n",
       "    </tr>\n",
       "    <tr>\n",
       "      <th>0</th>\n",
       "      <td>sp500</td>\n",
       "      <td>^GSPC</td>\n",
       "      <td>1.212874</td>\n",
       "      <td>0.088806</td>\n",
       "      <td>0.107711</td>\n",
       "    </tr>\n",
       "    <tr>\n",
       "      <th>5</th>\n",
       "      <td>BC_Innovation</td>\n",
       "      <td>KOIN</td>\n",
       "      <td>1.040014</td>\n",
       "      <td>0.101414</td>\n",
       "      <td>0.105472</td>\n",
       "    </tr>\n",
       "    <tr>\n",
       "      <th>7</th>\n",
       "      <td>Inno_tech</td>\n",
       "      <td>ARKK</td>\n",
       "      <td>0.896085</td>\n",
       "      <td>0.296804</td>\n",
       "      <td>0.265961</td>\n",
       "    </tr>\n",
       "  </tbody>\n",
       "</table>\n",
       "</div>"
      ],
      "text/plain": [
       "            Name Ticker  vanguard500_comparison_GRR  \\\n",
       "2      nasdaq100    QQQ                    1.657916   \n",
       "4      DA_nasdaq    VIG                    1.547879   \n",
       "1    vanguard500    VOO                    1.438246   \n",
       "3      DA_sp1500    SDY                    1.354022   \n",
       "6    QC_Bluestar   QTUM                    1.353057   \n",
       "0          sp500  ^GSPC                    1.212874   \n",
       "5  BC_Innovation   KOIN                    1.040014   \n",
       "7      Inno_tech   ARKK                    0.896085   \n",
       "\n",
       "   vanguard500_comparison_risk  vanguard500_comparison_avg  \n",
       "2                     0.109455                    0.181466  \n",
       "4                     0.078187                    0.121024  \n",
       "1                     0.090957                    0.130818  \n",
       "3                     0.087843                    0.118941  \n",
       "6                     0.161713                    0.218807  \n",
       "0                     0.088806                    0.107711  \n",
       "5                     0.101414                    0.105472  \n",
       "7                     0.296804                    0.265961  "
      ]
     },
     "execution_count": 20,
     "metadata": {},
     "output_type": "execute_result"
    }
   ],
   "source": [
    "summary_df = pd.DataFrame(stocks)\n",
    "summary_df = summary_df.sort_values(by=['vanguard500_comparison_GRR'], ascending=False)\n",
    "summary_df[['Name','Ticker', 'vanguard500_comparison_GRR','vanguard500_comparison_risk',\n",
    "            'vanguard500_comparison_avg'\n",
    "           ]]"
   ]
  },
  {
   "cell_type": "code",
   "execution_count": 21,
   "metadata": {
    "ExecuteTime": {
     "end_time": "2020-05-30T23:23:14.542105Z",
     "start_time": "2020-05-30T23:23:14.168273Z"
    }
   },
   "outputs": [
    {
     "data": {
      "image/png": "[encoded data removed]",
      "text/plain": [
       "<Figure size 1440x1440 with 1 Axes>"
      ]
     },
     "metadata": {
      "needs_background": "light"
     },
     "output_type": "display_data"
    }
   ],
   "source": [
    "plt.rcParams['figure.figsize'] = [20, 20]\n",
    "fig, ax = plt.subplots()\n",
    "ax.scatter(summary_df.vanguard500_comparison_risk, summary_df.vanguard500_comparison_avg)\n",
    "plt.xlabel('risk')\n",
    "plt.ylabel('average')\n",
    "\n",
    "for i, txt in enumerate([d['Name'] for d in stocks if 'Name' in d]):\n",
    "    ax.annotate(txt, (summary_df.vanguard500_comparison_risk[i], summary_df.vanguard500_comparison_avg[i]))"
   ]
  },
  {
   "cell_type": "code",
   "execution_count": 22,
   "metadata": {
    "ExecuteTime": {
     "end_time": "2020-05-30T23:23:14.552602Z",
     "start_time": "2020-05-30T23:23:14.545103Z"
    }
   },
   "outputs": [
    {
     "data": {
      "text/plain": [
       "<matplotlib.collections.PathCollection at 0x7fa128ae1f10>"
      ]
     },
     "execution_count": 22,
     "metadata": {},
     "output_type": "execute_result"
    }
   ],
   "source": [
    "ax.scatter(summary_df.vanguard500_comparison_risk, summary_df.vanguard500_comparison_avg)"
   ]
  },
  {
   "cell_type": "code",
   "execution_count": 23,
   "metadata": {
    "ExecuteTime": {
     "end_time": "2020-05-30T23:24:15.814369Z",
     "start_time": "2020-05-30T23:24:15.808656Z"
    }
   },
   "outputs": [
    {
     "data": {
      "text/plain": [
       "'^GSPC'"
      ]
     },
     "execution_count": 23,
     "metadata": {},
     "output_type": "execute_result"
    }
   ],
   "source": [
    "stocks[0]['Ticker']"
   ]
  },
  {
   "cell_type": "code",
   "execution_count": null,
   "metadata": {},
   "outputs": [],
   "source": []
  }
 ],
 "metadata": {
  "kernelspec": {
   "display_name": "Python 3",
   "language": "python",
   "name": "python3"
  },
  "language_info": {
   "codemirror_mode": {
    "name": "ipython",
    "version": 3
   },
   "file_extension": ".py",
   "mimetype": "text/x-python",
   "name": "python",
   "nbconvert_exporter": "python",
   "pygments_lexer": "ipython3",
   "version": "3.7.6"
  }
 },
 "nbformat": 4,
 "nbformat_minor": 2
}
