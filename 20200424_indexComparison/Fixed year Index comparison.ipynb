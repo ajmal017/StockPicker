{
 "cells": [
  {
   "cell_type": "code",
   "execution_count": 1,
   "metadata": {
    "ExecuteTime": {
     "end_time": "2020-04-26T23:11:38.728089Z",
     "start_time": "2020-04-26T23:11:38.709747Z"
    }
   },
   "outputs": [
    {
     "data": {
      "text/plain": [
       "'\\nindex comparison\\n\\nv0.1\\n\\nThe goal of this sheet is to macro analyze various indexes by getting the YoY growth rates, average them, \\n    and get their standard deviation as a measure of risk\\n\\n'"
      ]
     },
     "execution_count": 1,
     "metadata": {},
     "output_type": "execute_result"
    }
   ],
   "source": [
    "\"\"\"\n",
    "index comparison\n",
    "\n",
    "v0.1\n",
    "\n",
    "The goal of this sheet is to macro analyze various indexes by getting the YoY growth rates, average them, \n",
    "    and get their standard deviation as a measure of risk\n",
    "\n",
    "\"\"\""
   ]
  },
  {
   "cell_type": "code",
   "execution_count": 2,
   "metadata": {
    "ExecuteTime": {
     "end_time": "2020-04-26T23:11:39.672306Z",
     "start_time": "2020-04-26T23:11:38.732827Z"
    }
   },
   "outputs": [],
   "source": [
    "import yfinance as yf\n",
    "import pandas as pd\n",
    "import numpy as np"
   ]
  },
  {
   "cell_type": "code",
   "execution_count": 3,
   "metadata": {
    "ExecuteTime": {
     "end_time": "2020-04-26T23:11:39.964481Z",
     "start_time": "2020-04-26T23:11:39.674393Z"
    }
   },
   "outputs": [],
   "source": [
    "import matplotlib.pyplot as plt\n",
    "from matplotlib.pyplot import figure\n",
    "\n",
    "%matplotlib inline"
   ]
  },
  {
   "cell_type": "code",
   "execution_count": 4,
   "metadata": {
    "ExecuteTime": {
     "end_time": "2020-04-26T23:11:39.973646Z",
     "start_time": "2020-04-26T23:11:39.967163Z"
    }
   },
   "outputs": [
    {
     "data": {
      "text/plain": [
       "\"\\nTheres an opportunity in figuring out how to weigh these stock. Currently, I'm unsure of how they're weighed to \\n    calcaulate S&P 500 and Nasdaq but i can research that and incorporate it into the thought process\\n    \\nthere is another opportunity in adjusting the risk calculation using some of the same 3blue1brown technique in \\n    calculating adjusted rating:\\n    https://www.youtube.com/watch?v=8idr1WZ1A7Q\\n    \\n\\n\""
      ]
     },
     "execution_count": 4,
     "metadata": {},
     "output_type": "execute_result"
    }
   ],
   "source": [
    "\"\"\"\n",
    "Theres an opportunity in figuring out how to weigh these stock. Currently, I'm unsure of how they're weighed to \n",
    "    calcaulate S&P 500 and Nasdaq but i can research that and incorporate it into the thought process\n",
    "    \n",
    "there is another opportunity in adjusting the risk calculation using some of the same 3blue1brown technique in \n",
    "    calculating adjusted rating:\n",
    "    https://www.youtube.com/watch?v=8idr1WZ1A7Q\n",
    "    \n",
    "\n",
    "\"\"\""
   ]
  },
  {
   "cell_type": "code",
   "execution_count": 5,
   "metadata": {
    "ExecuteTime": {
     "end_time": "2020-04-26T23:11:39.987350Z",
     "start_time": "2020-04-26T23:11:39.979515Z"
    }
   },
   "outputs": [
    {
     "data": {
      "text/plain": [
       "\"\\nPut the below tickers into a list of dictionaries so i can scale up on individual stocks\\n    or create an object where the name points to the characteristics I'm looking for\\n\\ncheck syntax\\n\""
      ]
     },
     "execution_count": 5,
     "metadata": {},
     "output_type": "execute_result"
    }
   ],
   "source": [
    "\"\"\"\n",
    "Put the below tickers into a list of dictionaries so i can scale up on individual stocks\n",
    "    or create an object where the name points to the characteristics I'm looking for\n",
    "\n",
    "check syntax\n",
    "\"\"\"\n",
    "\n",
    "# Comparisons = [\"sp500\": yf.Ticker(\"^GSPC\")]"
   ]
  },
  {
   "cell_type": "code",
   "execution_count": 6,
   "metadata": {
    "ExecuteTime": {
     "end_time": "2020-04-26T23:11:40.030461Z",
     "start_time": "2020-04-26T23:11:39.995859Z"
    }
   },
   "outputs": [],
   "source": [
    "# indexes\n",
    "\n",
    "sp500 = yf.Ticker(\"^GSPC\")\n",
    "nasdaq =  yf.Ticker(\"^IXIC\")"
   ]
  },
  {
   "cell_type": "code",
   "execution_count": 7,
   "metadata": {
    "ExecuteTime": {
     "end_time": "2020-04-26T23:11:40.055352Z",
     "start_time": "2020-04-26T23:11:40.033943Z"
    }
   },
   "outputs": [],
   "source": [
    "# real tickers\n",
    "\n",
    "Vanguard500 = yf.Ticker(\"voo\")\n",
    "baseline = yf.Ticker(\"aivsx\")\n",
    "otherbaseline = yf.Ticker(\"piodx\")"
   ]
  },
  {
   "cell_type": "code",
   "execution_count": 8,
   "metadata": {
    "ExecuteTime": {
     "end_time": "2020-04-26T23:11:40.063628Z",
     "start_time": "2020-04-26T23:11:40.060747Z"
    }
   },
   "outputs": [],
   "source": [
    "# Dividend Aristocrats ETFs\n",
    "\n",
    "DA_SP1500 = (\"SDY\")\n",
    "DA_nasdaq = (\"VIG\")\n",
    "DA_DowJones = (\"DVY\")\n",
    "DA_PreferredShares = (\"PFF\")\n",
    "DA_WeightedByDividend = (\"DTD\")\n"
   ]
  },
  {
   "cell_type": "code",
   "execution_count": 9,
   "metadata": {
    "ExecuteTime": {
     "end_time": "2020-04-26T23:11:40.069285Z",
     "start_time": "2020-04-26T23:11:40.065090Z"
    }
   },
   "outputs": [
    {
     "data": {
      "text/plain": [
       "'\\nCalculate YoY growth,\\ndetermine avg growth\\ndetermine avg risk (standard deviation)\\n'"
      ]
     },
     "execution_count": 9,
     "metadata": {},
     "output_type": "execute_result"
    }
   ],
   "source": [
    "\"\"\"\n",
    "Calculate YoY growth,\n",
    "determine avg growth\n",
    "determine avg risk (standard deviation)\n",
    "\"\"\""
   ]
  },
  {
   "cell_type": "code",
   "execution_count": 10,
   "metadata": {
    "ExecuteTime": {
     "end_time": "2020-04-26T23:11:40.976635Z",
     "start_time": "2020-04-26T23:11:40.071967Z"
    }
   },
   "outputs": [],
   "source": [
    "df = sp500.history(period='max').reset_index()"
   ]
  },
  {
   "cell_type": "code",
   "execution_count": 11,
   "metadata": {
    "ExecuteTime": {
     "end_time": "2020-04-26T23:11:41.072785Z",
     "start_time": "2020-04-26T23:11:41.034483Z"
    }
   },
   "outputs": [
    {
     "data": {
      "text/html": [
       "<div>\n",
       "<style scoped>\n",
       "    .dataframe tbody tr th:only-of-type {\n",
       "        vertical-align: middle;\n",
       "    }\n",
       "\n",
       "    .dataframe tbody tr th {\n",
       "        vertical-align: top;\n",
       "    }\n",
       "\n",
       "    .dataframe thead th {\n",
       "        text-align: right;\n",
       "    }\n",
       "</style>\n",
       "<table border=\"1\" class=\"dataframe\">\n",
       "  <thead>\n",
       "    <tr style=\"text-align: right;\">\n",
       "      <th></th>\n",
       "      <th>Date</th>\n",
       "      <th>Open</th>\n",
       "      <th>High</th>\n",
       "      <th>Low</th>\n",
       "      <th>Close</th>\n",
       "      <th>Volume</th>\n",
       "      <th>Dividends</th>\n",
       "      <th>Stock Splits</th>\n",
       "    </tr>\n",
       "  </thead>\n",
       "  <tbody>\n",
       "    <tr>\n",
       "      <th>0</th>\n",
       "      <td>1927-12-30</td>\n",
       "      <td>17.66</td>\n",
       "      <td>17.66</td>\n",
       "      <td>17.66</td>\n",
       "      <td>17.66</td>\n",
       "      <td>0</td>\n",
       "      <td>0</td>\n",
       "      <td>0</td>\n",
       "    </tr>\n",
       "    <tr>\n",
       "      <th>1</th>\n",
       "      <td>1928-01-03</td>\n",
       "      <td>17.76</td>\n",
       "      <td>17.76</td>\n",
       "      <td>17.76</td>\n",
       "      <td>17.76</td>\n",
       "      <td>0</td>\n",
       "      <td>0</td>\n",
       "      <td>0</td>\n",
       "    </tr>\n",
       "    <tr>\n",
       "      <th>2</th>\n",
       "      <td>1928-01-04</td>\n",
       "      <td>17.72</td>\n",
       "      <td>17.72</td>\n",
       "      <td>17.72</td>\n",
       "      <td>17.72</td>\n",
       "      <td>0</td>\n",
       "      <td>0</td>\n",
       "      <td>0</td>\n",
       "    </tr>\n",
       "    <tr>\n",
       "      <th>3</th>\n",
       "      <td>1928-01-05</td>\n",
       "      <td>17.55</td>\n",
       "      <td>17.55</td>\n",
       "      <td>17.55</td>\n",
       "      <td>17.55</td>\n",
       "      <td>0</td>\n",
       "      <td>0</td>\n",
       "      <td>0</td>\n",
       "    </tr>\n",
       "    <tr>\n",
       "      <th>4</th>\n",
       "      <td>1928-01-06</td>\n",
       "      <td>17.66</td>\n",
       "      <td>17.66</td>\n",
       "      <td>17.66</td>\n",
       "      <td>17.66</td>\n",
       "      <td>0</td>\n",
       "      <td>0</td>\n",
       "      <td>0</td>\n",
       "    </tr>\n",
       "    <tr>\n",
       "      <th>...</th>\n",
       "      <td>...</td>\n",
       "      <td>...</td>\n",
       "      <td>...</td>\n",
       "      <td>...</td>\n",
       "      <td>...</td>\n",
       "      <td>...</td>\n",
       "      <td>...</td>\n",
       "      <td>...</td>\n",
       "    </tr>\n",
       "    <tr>\n",
       "      <th>23183</th>\n",
       "      <td>2020-04-20</td>\n",
       "      <td>2845.62</td>\n",
       "      <td>2868.98</td>\n",
       "      <td>2820.43</td>\n",
       "      <td>2823.16</td>\n",
       "      <td>5220160000</td>\n",
       "      <td>0</td>\n",
       "      <td>0</td>\n",
       "    </tr>\n",
       "    <tr>\n",
       "      <th>23184</th>\n",
       "      <td>2020-04-21</td>\n",
       "      <td>2784.81</td>\n",
       "      <td>2785.54</td>\n",
       "      <td>2727.10</td>\n",
       "      <td>2736.56</td>\n",
       "      <td>5075830000</td>\n",
       "      <td>0</td>\n",
       "      <td>0</td>\n",
       "    </tr>\n",
       "    <tr>\n",
       "      <th>23185</th>\n",
       "      <td>2020-04-22</td>\n",
       "      <td>2787.89</td>\n",
       "      <td>2815.10</td>\n",
       "      <td>2775.95</td>\n",
       "      <td>2799.31</td>\n",
       "      <td>5049660000</td>\n",
       "      <td>0</td>\n",
       "      <td>0</td>\n",
       "    </tr>\n",
       "    <tr>\n",
       "      <th>23186</th>\n",
       "      <td>2020-04-23</td>\n",
       "      <td>2810.42</td>\n",
       "      <td>2844.90</td>\n",
       "      <td>2794.26</td>\n",
       "      <td>2797.80</td>\n",
       "      <td>5756520000</td>\n",
       "      <td>0</td>\n",
       "      <td>0</td>\n",
       "    </tr>\n",
       "    <tr>\n",
       "      <th>23187</th>\n",
       "      <td>2020-04-24</td>\n",
       "      <td>2812.64</td>\n",
       "      <td>2842.71</td>\n",
       "      <td>2791.76</td>\n",
       "      <td>2836.74</td>\n",
       "      <td>5374480000</td>\n",
       "      <td>0</td>\n",
       "      <td>0</td>\n",
       "    </tr>\n",
       "  </tbody>\n",
       "</table>\n",
       "<p>23188 rows × 8 columns</p>\n",
       "</div>"
      ],
      "text/plain": [
       "            Date     Open     High      Low    Close      Volume  Dividends  \\\n",
       "0     1927-12-30    17.66    17.66    17.66    17.66           0          0   \n",
       "1     1928-01-03    17.76    17.76    17.76    17.76           0          0   \n",
       "2     1928-01-04    17.72    17.72    17.72    17.72           0          0   \n",
       "3     1928-01-05    17.55    17.55    17.55    17.55           0          0   \n",
       "4     1928-01-06    17.66    17.66    17.66    17.66           0          0   \n",
       "...          ...      ...      ...      ...      ...         ...        ...   \n",
       "23183 2020-04-20  2845.62  2868.98  2820.43  2823.16  5220160000          0   \n",
       "23184 2020-04-21  2784.81  2785.54  2727.10  2736.56  5075830000          0   \n",
       "23185 2020-04-22  2787.89  2815.10  2775.95  2799.31  5049660000          0   \n",
       "23186 2020-04-23  2810.42  2844.90  2794.26  2797.80  5756520000          0   \n",
       "23187 2020-04-24  2812.64  2842.71  2791.76  2836.74  5374480000          0   \n",
       "\n",
       "       Stock Splits  \n",
       "0                 0  \n",
       "1                 0  \n",
       "2                 0  \n",
       "3                 0  \n",
       "4                 0  \n",
       "...             ...  \n",
       "23183             0  \n",
       "23184             0  \n",
       "23185             0  \n",
       "23186             0  \n",
       "23187             0  \n",
       "\n",
       "[23188 rows x 8 columns]"
      ]
     },
     "execution_count": 11,
     "metadata": {},
     "output_type": "execute_result"
    }
   ],
   "source": [
    "df"
   ]
  },
  {
   "cell_type": "code",
   "execution_count": 12,
   "metadata": {
    "ExecuteTime": {
     "end_time": "2020-04-26T23:11:41.083926Z",
     "start_time": "2020-04-26T23:11:41.075547Z"
    }
   },
   "outputs": [
    {
     "name": "stdout",
     "output_type": "stream",
     "text": [
      "1927\n"
     ]
    }
   ],
   "source": [
    "year = df['Date'].iloc[0].year\n",
    "print(year)"
   ]
  },
  {
   "cell_type": "code",
   "execution_count": 13,
   "metadata": {
    "ExecuteTime": {
     "end_time": "2020-04-26T23:11:41.096726Z",
     "start_time": "2020-04-26T23:11:41.086850Z"
    }
   },
   "outputs": [],
   "source": [
    "df['Year'] = pd.DatetimeIndex(df['Date']).year"
   ]
  },
  {
   "cell_type": "code",
   "execution_count": 14,
   "metadata": {
    "ExecuteTime": {
     "end_time": "2020-04-26T23:11:41.122776Z",
     "start_time": "2020-04-26T23:11:41.100285Z"
    }
   },
   "outputs": [
    {
     "data": {
      "text/html": [
       "<div>\n",
       "<style scoped>\n",
       "    .dataframe tbody tr th:only-of-type {\n",
       "        vertical-align: middle;\n",
       "    }\n",
       "\n",
       "    .dataframe tbody tr th {\n",
       "        vertical-align: top;\n",
       "    }\n",
       "\n",
       "    .dataframe thead th {\n",
       "        text-align: right;\n",
       "    }\n",
       "</style>\n",
       "<table border=\"1\" class=\"dataframe\">\n",
       "  <thead>\n",
       "    <tr style=\"text-align: right;\">\n",
       "      <th></th>\n",
       "      <th>Date</th>\n",
       "      <th>Open</th>\n",
       "      <th>High</th>\n",
       "      <th>Low</th>\n",
       "      <th>Close</th>\n",
       "      <th>Volume</th>\n",
       "      <th>Dividends</th>\n",
       "      <th>Stock Splits</th>\n",
       "      <th>Year</th>\n",
       "    </tr>\n",
       "  </thead>\n",
       "  <tbody>\n",
       "    <tr>\n",
       "      <th>0</th>\n",
       "      <td>1927-12-30</td>\n",
       "      <td>17.66</td>\n",
       "      <td>17.66</td>\n",
       "      <td>17.66</td>\n",
       "      <td>17.66</td>\n",
       "      <td>0</td>\n",
       "      <td>0</td>\n",
       "      <td>0</td>\n",
       "      <td>1927</td>\n",
       "    </tr>\n",
       "    <tr>\n",
       "      <th>1</th>\n",
       "      <td>1928-01-03</td>\n",
       "      <td>17.76</td>\n",
       "      <td>17.76</td>\n",
       "      <td>17.76</td>\n",
       "      <td>17.76</td>\n",
       "      <td>0</td>\n",
       "      <td>0</td>\n",
       "      <td>0</td>\n",
       "      <td>1928</td>\n",
       "    </tr>\n",
       "    <tr>\n",
       "      <th>2</th>\n",
       "      <td>1928-01-04</td>\n",
       "      <td>17.72</td>\n",
       "      <td>17.72</td>\n",
       "      <td>17.72</td>\n",
       "      <td>17.72</td>\n",
       "      <td>0</td>\n",
       "      <td>0</td>\n",
       "      <td>0</td>\n",
       "      <td>1928</td>\n",
       "    </tr>\n",
       "    <tr>\n",
       "      <th>3</th>\n",
       "      <td>1928-01-05</td>\n",
       "      <td>17.55</td>\n",
       "      <td>17.55</td>\n",
       "      <td>17.55</td>\n",
       "      <td>17.55</td>\n",
       "      <td>0</td>\n",
       "      <td>0</td>\n",
       "      <td>0</td>\n",
       "      <td>1928</td>\n",
       "    </tr>\n",
       "    <tr>\n",
       "      <th>4</th>\n",
       "      <td>1928-01-06</td>\n",
       "      <td>17.66</td>\n",
       "      <td>17.66</td>\n",
       "      <td>17.66</td>\n",
       "      <td>17.66</td>\n",
       "      <td>0</td>\n",
       "      <td>0</td>\n",
       "      <td>0</td>\n",
       "      <td>1928</td>\n",
       "    </tr>\n",
       "    <tr>\n",
       "      <th>...</th>\n",
       "      <td>...</td>\n",
       "      <td>...</td>\n",
       "      <td>...</td>\n",
       "      <td>...</td>\n",
       "      <td>...</td>\n",
       "      <td>...</td>\n",
       "      <td>...</td>\n",
       "      <td>...</td>\n",
       "      <td>...</td>\n",
       "    </tr>\n",
       "    <tr>\n",
       "      <th>23183</th>\n",
       "      <td>2020-04-20</td>\n",
       "      <td>2845.62</td>\n",
       "      <td>2868.98</td>\n",
       "      <td>2820.43</td>\n",
       "      <td>2823.16</td>\n",
       "      <td>5220160000</td>\n",
       "      <td>0</td>\n",
       "      <td>0</td>\n",
       "      <td>2020</td>\n",
       "    </tr>\n",
       "    <tr>\n",
       "      <th>23184</th>\n",
       "      <td>2020-04-21</td>\n",
       "      <td>2784.81</td>\n",
       "      <td>2785.54</td>\n",
       "      <td>2727.10</td>\n",
       "      <td>2736.56</td>\n",
       "      <td>5075830000</td>\n",
       "      <td>0</td>\n",
       "      <td>0</td>\n",
       "      <td>2020</td>\n",
       "    </tr>\n",
       "    <tr>\n",
       "      <th>23185</th>\n",
       "      <td>2020-04-22</td>\n",
       "      <td>2787.89</td>\n",
       "      <td>2815.10</td>\n",
       "      <td>2775.95</td>\n",
       "      <td>2799.31</td>\n",
       "      <td>5049660000</td>\n",
       "      <td>0</td>\n",
       "      <td>0</td>\n",
       "      <td>2020</td>\n",
       "    </tr>\n",
       "    <tr>\n",
       "      <th>23186</th>\n",
       "      <td>2020-04-23</td>\n",
       "      <td>2810.42</td>\n",
       "      <td>2844.90</td>\n",
       "      <td>2794.26</td>\n",
       "      <td>2797.80</td>\n",
       "      <td>5756520000</td>\n",
       "      <td>0</td>\n",
       "      <td>0</td>\n",
       "      <td>2020</td>\n",
       "    </tr>\n",
       "    <tr>\n",
       "      <th>23187</th>\n",
       "      <td>2020-04-24</td>\n",
       "      <td>2812.64</td>\n",
       "      <td>2842.71</td>\n",
       "      <td>2791.76</td>\n",
       "      <td>2836.74</td>\n",
       "      <td>5374480000</td>\n",
       "      <td>0</td>\n",
       "      <td>0</td>\n",
       "      <td>2020</td>\n",
       "    </tr>\n",
       "  </tbody>\n",
       "</table>\n",
       "<p>23188 rows × 9 columns</p>\n",
       "</div>"
      ],
      "text/plain": [
       "            Date     Open     High      Low    Close      Volume  Dividends  \\\n",
       "0     1927-12-30    17.66    17.66    17.66    17.66           0          0   \n",
       "1     1928-01-03    17.76    17.76    17.76    17.76           0          0   \n",
       "2     1928-01-04    17.72    17.72    17.72    17.72           0          0   \n",
       "3     1928-01-05    17.55    17.55    17.55    17.55           0          0   \n",
       "4     1928-01-06    17.66    17.66    17.66    17.66           0          0   \n",
       "...          ...      ...      ...      ...      ...         ...        ...   \n",
       "23183 2020-04-20  2845.62  2868.98  2820.43  2823.16  5220160000          0   \n",
       "23184 2020-04-21  2784.81  2785.54  2727.10  2736.56  5075830000          0   \n",
       "23185 2020-04-22  2787.89  2815.10  2775.95  2799.31  5049660000          0   \n",
       "23186 2020-04-23  2810.42  2844.90  2794.26  2797.80  5756520000          0   \n",
       "23187 2020-04-24  2812.64  2842.71  2791.76  2836.74  5374480000          0   \n",
       "\n",
       "       Stock Splits  Year  \n",
       "0                 0  1927  \n",
       "1                 0  1928  \n",
       "2                 0  1928  \n",
       "3                 0  1928  \n",
       "4                 0  1928  \n",
       "...             ...   ...  \n",
       "23183             0  2020  \n",
       "23184             0  2020  \n",
       "23185             0  2020  \n",
       "23186             0  2020  \n",
       "23187             0  2020  \n",
       "\n",
       "[23188 rows x 9 columns]"
      ]
     },
     "execution_count": 14,
     "metadata": {},
     "output_type": "execute_result"
    }
   ],
   "source": [
    "df"
   ]
  },
  {
   "cell_type": "code",
   "execution_count": 15,
   "metadata": {
    "ExecuteTime": {
     "end_time": "2020-04-26T23:11:41.140840Z",
     "start_time": "2020-04-26T23:11:41.125589Z"
    }
   },
   "outputs": [
    {
     "data": {
      "text/plain": [
       "1927"
      ]
     },
     "execution_count": 15,
     "metadata": {},
     "output_type": "execute_result"
    }
   ],
   "source": [
    "lastTradingRow = df.iloc[0]\n",
    "lastTradingRow.Year"
   ]
  },
  {
   "cell_type": "code",
   "execution_count": 16,
   "metadata": {
    "ExecuteTime": {
     "end_time": "2020-04-26T23:11:41.155008Z",
     "start_time": "2020-04-26T23:11:41.143279Z"
    }
   },
   "outputs": [
    {
     "name": "stdout",
     "output_type": "stream",
     "text": [
      "1 Date            1928-01-03 00:00:00\n",
      "Open                          17.76\n",
      "High                          17.76\n",
      "Low                           17.76\n",
      "Close                         17.76\n",
      "Volume                            0\n",
      "Dividends                         0\n",
      "Stock Splits                      0\n",
      "Year                           1928\n",
      "Name: 1, dtype: object\n",
      "2 Date            1928-01-04 00:00:00\n",
      "Open                          17.72\n",
      "High                          17.72\n",
      "Low                           17.72\n",
      "Close                         17.72\n",
      "Volume                            0\n",
      "Dividends                         0\n",
      "Stock Splits                      0\n",
      "Year                           1928\n",
      "Name: 2, dtype: object\n"
     ]
    }
   ],
   "source": [
    "for index, row in df[1:3].iterrows():\n",
    "     print(index, row)"
   ]
  },
  {
   "cell_type": "code",
   "execution_count": 17,
   "metadata": {
    "ExecuteTime": {
     "end_time": "2020-04-26T23:11:41.178064Z",
     "start_time": "2020-04-26T23:11:41.158837Z"
    }
   },
   "outputs": [
    {
     "data": {
      "text/html": [
       "<div>\n",
       "<style scoped>\n",
       "    .dataframe tbody tr th:only-of-type {\n",
       "        vertical-align: middle;\n",
       "    }\n",
       "\n",
       "    .dataframe tbody tr th {\n",
       "        vertical-align: top;\n",
       "    }\n",
       "\n",
       "    .dataframe thead th {\n",
       "        text-align: right;\n",
       "    }\n",
       "</style>\n",
       "<table border=\"1\" class=\"dataframe\">\n",
       "  <thead>\n",
       "    <tr style=\"text-align: right;\">\n",
       "      <th></th>\n",
       "      <th>Date</th>\n",
       "      <th>Open</th>\n",
       "      <th>High</th>\n",
       "      <th>Low</th>\n",
       "      <th>Close</th>\n",
       "      <th>Volume</th>\n",
       "      <th>Dividends</th>\n",
       "      <th>Stock Splits</th>\n",
       "      <th>Year</th>\n",
       "    </tr>\n",
       "  </thead>\n",
       "  <tbody>\n",
       "  </tbody>\n",
       "</table>\n",
       "</div>"
      ],
      "text/plain": [
       "Empty DataFrame\n",
       "Columns: [Date, Open, High, Low, Close, Volume, Dividends, Stock Splits, Year]\n",
       "Index: []"
      ]
     },
     "execution_count": 17,
     "metadata": {},
     "output_type": "execute_result"
    }
   ],
   "source": [
    "yearly_df = pd.DataFrame(columns = df.columns)\n",
    "yearly_df"
   ]
  },
  {
   "cell_type": "code",
   "execution_count": 18,
   "metadata": {
    "ExecuteTime": {
     "end_time": "2020-04-26T23:11:44.289649Z",
     "start_time": "2020-04-26T23:11:41.188482Z"
    }
   },
   "outputs": [
    {
     "name": "stdout",
     "output_type": "stream",
     "text": [
      "1\n",
      "251\n",
      "500\n",
      "751\n",
      "1003\n",
      "1253\n",
      "1495\n",
      "1744\n",
      "1994\n",
      "2247\n",
      "2497\n",
      "2747\n",
      "2996\n",
      "3247\n",
      "3497\n",
      "3748\n",
      "3998\n",
      "4249\n",
      "4495\n",
      "4745\n",
      "4995\n",
      "5246\n",
      "5496\n",
      "5745\n",
      "5994\n",
      "6244\n",
      "6495\n",
      "6747\n",
      "6999\n",
      "7250\n",
      "7502\n",
      "7754\n",
      "8007\n",
      "8259\n",
      "8509\n",
      "8761\n",
      "9012\n",
      "9265\n",
      "9517\n",
      "9769\n",
      "10020\n",
      "10246\n",
      "10496\n",
      "10750\n",
      "11003\n",
      "11254\n",
      "11506\n",
      "11759\n",
      "12012\n",
      "12265\n",
      "12517\n",
      "12769\n",
      "13022\n",
      "13275\n",
      "13528\n",
      "13781\n",
      "14034\n",
      "14287\n",
      "14539\n",
      "14792\n",
      "15045\n",
      "15298\n",
      "15550\n",
      "15803\n",
      "16056\n",
      "16310\n",
      "16563\n",
      "16815\n",
      "17067\n",
      "17321\n",
      "17574\n",
      "17826\n",
      "18078\n",
      "18330\n",
      "18578\n",
      "18830\n",
      "19082\n",
      "19334\n",
      "19586\n",
      "19837\n",
      "20088\n",
      "20341\n",
      "20593\n",
      "20845\n",
      "21097\n",
      "21347\n",
      "21599\n",
      "21851\n",
      "22103\n",
      "22355\n",
      "22606\n",
      "22857\n",
      "23109\n"
     ]
    }
   ],
   "source": [
    "for index, row in df[1:].iterrows():\n",
    "     if row.Year == lastTradingRow.Year + 1:\n",
    "            print(index)\n",
    "            yearly_df = yearly_df.append(df[index-1:index])\n",
    "            lastTradingRow = row\n"
   ]
  },
  {
   "cell_type": "code",
   "execution_count": 20,
   "metadata": {
    "ExecuteTime": {
     "end_time": "2020-04-26T23:22:35.196720Z",
     "start_time": "2020-04-26T23:22:35.155751Z"
    }
   },
   "outputs": [
    {
     "data": {
      "text/html": [
       "<div>\n",
       "<style scoped>\n",
       "    .dataframe tbody tr th:only-of-type {\n",
       "        vertical-align: middle;\n",
       "    }\n",
       "\n",
       "    .dataframe tbody tr th {\n",
       "        vertical-align: top;\n",
       "    }\n",
       "\n",
       "    .dataframe thead th {\n",
       "        text-align: right;\n",
       "    }\n",
       "</style>\n",
       "<table border=\"1\" class=\"dataframe\">\n",
       "  <thead>\n",
       "    <tr style=\"text-align: right;\">\n",
       "      <th></th>\n",
       "      <th>Date</th>\n",
       "      <th>Open</th>\n",
       "      <th>High</th>\n",
       "      <th>Low</th>\n",
       "      <th>Close</th>\n",
       "      <th>Volume</th>\n",
       "      <th>Dividends</th>\n",
       "      <th>Stock Splits</th>\n",
       "      <th>Year</th>\n",
       "    </tr>\n",
       "  </thead>\n",
       "  <tbody>\n",
       "    <tr>\n",
       "      <th>0</th>\n",
       "      <td>1927-12-30</td>\n",
       "      <td>17.66</td>\n",
       "      <td>17.66</td>\n",
       "      <td>17.66</td>\n",
       "      <td>17.66</td>\n",
       "      <td>0</td>\n",
       "      <td>0</td>\n",
       "      <td>0</td>\n",
       "      <td>1927</td>\n",
       "    </tr>\n",
       "    <tr>\n",
       "      <th>250</th>\n",
       "      <td>1928-12-31</td>\n",
       "      <td>24.35</td>\n",
       "      <td>24.35</td>\n",
       "      <td>24.35</td>\n",
       "      <td>24.35</td>\n",
       "      <td>0</td>\n",
       "      <td>0</td>\n",
       "      <td>0</td>\n",
       "      <td>1928</td>\n",
       "    </tr>\n",
       "    <tr>\n",
       "      <th>499</th>\n",
       "      <td>1929-12-31</td>\n",
       "      <td>21.45</td>\n",
       "      <td>21.45</td>\n",
       "      <td>21.45</td>\n",
       "      <td>21.45</td>\n",
       "      <td>0</td>\n",
       "      <td>0</td>\n",
       "      <td>0</td>\n",
       "      <td>1929</td>\n",
       "    </tr>\n",
       "    <tr>\n",
       "      <th>750</th>\n",
       "      <td>1930-12-31</td>\n",
       "      <td>15.34</td>\n",
       "      <td>15.34</td>\n",
       "      <td>15.34</td>\n",
       "      <td>15.34</td>\n",
       "      <td>0</td>\n",
       "      <td>0</td>\n",
       "      <td>0</td>\n",
       "      <td>1930</td>\n",
       "    </tr>\n",
       "    <tr>\n",
       "      <th>1002</th>\n",
       "      <td>1931-12-31</td>\n",
       "      <td>8.12</td>\n",
       "      <td>8.12</td>\n",
       "      <td>8.12</td>\n",
       "      <td>8.12</td>\n",
       "      <td>0</td>\n",
       "      <td>0</td>\n",
       "      <td>0</td>\n",
       "      <td>1931</td>\n",
       "    </tr>\n",
       "    <tr>\n",
       "      <th>...</th>\n",
       "      <td>...</td>\n",
       "      <td>...</td>\n",
       "      <td>...</td>\n",
       "      <td>...</td>\n",
       "      <td>...</td>\n",
       "      <td>...</td>\n",
       "      <td>...</td>\n",
       "      <td>...</td>\n",
       "      <td>...</td>\n",
       "    </tr>\n",
       "    <tr>\n",
       "      <th>22102</th>\n",
       "      <td>2015-12-31</td>\n",
       "      <td>2060.59</td>\n",
       "      <td>2062.54</td>\n",
       "      <td>2043.62</td>\n",
       "      <td>2043.94</td>\n",
       "      <td>2655330000</td>\n",
       "      <td>0</td>\n",
       "      <td>0</td>\n",
       "      <td>2015</td>\n",
       "    </tr>\n",
       "    <tr>\n",
       "      <th>22354</th>\n",
       "      <td>2016-12-30</td>\n",
       "      <td>2251.61</td>\n",
       "      <td>2253.58</td>\n",
       "      <td>2233.62</td>\n",
       "      <td>2238.83</td>\n",
       "      <td>2670900000</td>\n",
       "      <td>0</td>\n",
       "      <td>0</td>\n",
       "      <td>2016</td>\n",
       "    </tr>\n",
       "    <tr>\n",
       "      <th>22605</th>\n",
       "      <td>2017-12-29</td>\n",
       "      <td>2689.15</td>\n",
       "      <td>2692.12</td>\n",
       "      <td>2673.61</td>\n",
       "      <td>2673.61</td>\n",
       "      <td>2443490000</td>\n",
       "      <td>0</td>\n",
       "      <td>0</td>\n",
       "      <td>2017</td>\n",
       "    </tr>\n",
       "    <tr>\n",
       "      <th>22856</th>\n",
       "      <td>2018-12-31</td>\n",
       "      <td>2498.94</td>\n",
       "      <td>2509.24</td>\n",
       "      <td>2482.82</td>\n",
       "      <td>2506.85</td>\n",
       "      <td>3442870000</td>\n",
       "      <td>0</td>\n",
       "      <td>0</td>\n",
       "      <td>2018</td>\n",
       "    </tr>\n",
       "    <tr>\n",
       "      <th>23108</th>\n",
       "      <td>2019-12-31</td>\n",
       "      <td>3215.18</td>\n",
       "      <td>3231.72</td>\n",
       "      <td>3212.03</td>\n",
       "      <td>3230.78</td>\n",
       "      <td>2893810000</td>\n",
       "      <td>0</td>\n",
       "      <td>0</td>\n",
       "      <td>2019</td>\n",
       "    </tr>\n",
       "  </tbody>\n",
       "</table>\n",
       "<p>93 rows × 9 columns</p>\n",
       "</div>"
      ],
      "text/plain": [
       "            Date     Open     High      Low    Close      Volume Dividends  \\\n",
       "0     1927-12-30    17.66    17.66    17.66    17.66           0         0   \n",
       "250   1928-12-31    24.35    24.35    24.35    24.35           0         0   \n",
       "499   1929-12-31    21.45    21.45    21.45    21.45           0         0   \n",
       "750   1930-12-31    15.34    15.34    15.34    15.34           0         0   \n",
       "1002  1931-12-31     8.12     8.12     8.12     8.12           0         0   \n",
       "...          ...      ...      ...      ...      ...         ...       ...   \n",
       "22102 2015-12-31  2060.59  2062.54  2043.62  2043.94  2655330000         0   \n",
       "22354 2016-12-30  2251.61  2253.58  2233.62  2238.83  2670900000         0   \n",
       "22605 2017-12-29  2689.15  2692.12  2673.61  2673.61  2443490000         0   \n",
       "22856 2018-12-31  2498.94  2509.24  2482.82  2506.85  3442870000         0   \n",
       "23108 2019-12-31  3215.18  3231.72  3212.03  3230.78  2893810000         0   \n",
       "\n",
       "      Stock Splits  Year  \n",
       "0                0  1927  \n",
       "250              0  1928  \n",
       "499              0  1929  \n",
       "750              0  1930  \n",
       "1002             0  1931  \n",
       "...            ...   ...  \n",
       "22102            0  2015  \n",
       "22354            0  2016  \n",
       "22605            0  2017  \n",
       "22856            0  2018  \n",
       "23108            0  2019  \n",
       "\n",
       "[93 rows x 9 columns]"
      ]
     },
     "execution_count": 20,
     "metadata": {},
     "output_type": "execute_result"
    }
   ],
   "source": [
    "yearly_df"
   ]
  },
  {
   "cell_type": "code",
   "execution_count": 24,
   "metadata": {
    "ExecuteTime": {
     "end_time": "2020-04-26T23:30:10.322685Z",
     "start_time": "2020-04-26T23:30:10.317683Z"
    }
   },
   "outputs": [],
   "source": [
    "if df.iloc[-1].Year > yearly_df.iloc[-1].Year:\n",
    "    print(\"yes\")\n",
    "    yearly_df = yearly_df.append(df.iloc[-1])"
   ]
  },
  {
   "cell_type": "code",
   "execution_count": 25,
   "metadata": {
    "ExecuteTime": {
     "end_time": "2020-04-26T23:30:20.310975Z",
     "start_time": "2020-04-26T23:30:20.281240Z"
    }
   },
   "outputs": [
    {
     "data": {
      "text/html": [
       "<div>\n",
       "<style scoped>\n",
       "    .dataframe tbody tr th:only-of-type {\n",
       "        vertical-align: middle;\n",
       "    }\n",
       "\n",
       "    .dataframe tbody tr th {\n",
       "        vertical-align: top;\n",
       "    }\n",
       "\n",
       "    .dataframe thead th {\n",
       "        text-align: right;\n",
       "    }\n",
       "</style>\n",
       "<table border=\"1\" class=\"dataframe\">\n",
       "  <thead>\n",
       "    <tr style=\"text-align: right;\">\n",
       "      <th></th>\n",
       "      <th>Date</th>\n",
       "      <th>Open</th>\n",
       "      <th>High</th>\n",
       "      <th>Low</th>\n",
       "      <th>Close</th>\n",
       "      <th>Volume</th>\n",
       "      <th>Dividends</th>\n",
       "      <th>Stock Splits</th>\n",
       "      <th>Year</th>\n",
       "    </tr>\n",
       "  </thead>\n",
       "  <tbody>\n",
       "    <tr>\n",
       "      <th>0</th>\n",
       "      <td>1927-12-30</td>\n",
       "      <td>17.66</td>\n",
       "      <td>17.66</td>\n",
       "      <td>17.66</td>\n",
       "      <td>17.66</td>\n",
       "      <td>0</td>\n",
       "      <td>0</td>\n",
       "      <td>0</td>\n",
       "      <td>1927</td>\n",
       "    </tr>\n",
       "    <tr>\n",
       "      <th>250</th>\n",
       "      <td>1928-12-31</td>\n",
       "      <td>24.35</td>\n",
       "      <td>24.35</td>\n",
       "      <td>24.35</td>\n",
       "      <td>24.35</td>\n",
       "      <td>0</td>\n",
       "      <td>0</td>\n",
       "      <td>0</td>\n",
       "      <td>1928</td>\n",
       "    </tr>\n",
       "    <tr>\n",
       "      <th>499</th>\n",
       "      <td>1929-12-31</td>\n",
       "      <td>21.45</td>\n",
       "      <td>21.45</td>\n",
       "      <td>21.45</td>\n",
       "      <td>21.45</td>\n",
       "      <td>0</td>\n",
       "      <td>0</td>\n",
       "      <td>0</td>\n",
       "      <td>1929</td>\n",
       "    </tr>\n",
       "    <tr>\n",
       "      <th>750</th>\n",
       "      <td>1930-12-31</td>\n",
       "      <td>15.34</td>\n",
       "      <td>15.34</td>\n",
       "      <td>15.34</td>\n",
       "      <td>15.34</td>\n",
       "      <td>0</td>\n",
       "      <td>0</td>\n",
       "      <td>0</td>\n",
       "      <td>1930</td>\n",
       "    </tr>\n",
       "    <tr>\n",
       "      <th>1002</th>\n",
       "      <td>1931-12-31</td>\n",
       "      <td>8.12</td>\n",
       "      <td>8.12</td>\n",
       "      <td>8.12</td>\n",
       "      <td>8.12</td>\n",
       "      <td>0</td>\n",
       "      <td>0</td>\n",
       "      <td>0</td>\n",
       "      <td>1931</td>\n",
       "    </tr>\n",
       "    <tr>\n",
       "      <th>...</th>\n",
       "      <td>...</td>\n",
       "      <td>...</td>\n",
       "      <td>...</td>\n",
       "      <td>...</td>\n",
       "      <td>...</td>\n",
       "      <td>...</td>\n",
       "      <td>...</td>\n",
       "      <td>...</td>\n",
       "      <td>...</td>\n",
       "    </tr>\n",
       "    <tr>\n",
       "      <th>22354</th>\n",
       "      <td>2016-12-30</td>\n",
       "      <td>2251.61</td>\n",
       "      <td>2253.58</td>\n",
       "      <td>2233.62</td>\n",
       "      <td>2238.83</td>\n",
       "      <td>2670900000</td>\n",
       "      <td>0</td>\n",
       "      <td>0</td>\n",
       "      <td>2016</td>\n",
       "    </tr>\n",
       "    <tr>\n",
       "      <th>22605</th>\n",
       "      <td>2017-12-29</td>\n",
       "      <td>2689.15</td>\n",
       "      <td>2692.12</td>\n",
       "      <td>2673.61</td>\n",
       "      <td>2673.61</td>\n",
       "      <td>2443490000</td>\n",
       "      <td>0</td>\n",
       "      <td>0</td>\n",
       "      <td>2017</td>\n",
       "    </tr>\n",
       "    <tr>\n",
       "      <th>22856</th>\n",
       "      <td>2018-12-31</td>\n",
       "      <td>2498.94</td>\n",
       "      <td>2509.24</td>\n",
       "      <td>2482.82</td>\n",
       "      <td>2506.85</td>\n",
       "      <td>3442870000</td>\n",
       "      <td>0</td>\n",
       "      <td>0</td>\n",
       "      <td>2018</td>\n",
       "    </tr>\n",
       "    <tr>\n",
       "      <th>23108</th>\n",
       "      <td>2019-12-31</td>\n",
       "      <td>3215.18</td>\n",
       "      <td>3231.72</td>\n",
       "      <td>3212.03</td>\n",
       "      <td>3230.78</td>\n",
       "      <td>2893810000</td>\n",
       "      <td>0</td>\n",
       "      <td>0</td>\n",
       "      <td>2019</td>\n",
       "    </tr>\n",
       "    <tr>\n",
       "      <th>23187</th>\n",
       "      <td>2020-04-24</td>\n",
       "      <td>2812.64</td>\n",
       "      <td>2842.71</td>\n",
       "      <td>2791.76</td>\n",
       "      <td>2836.74</td>\n",
       "      <td>5374480000</td>\n",
       "      <td>0</td>\n",
       "      <td>0</td>\n",
       "      <td>2020</td>\n",
       "    </tr>\n",
       "  </tbody>\n",
       "</table>\n",
       "<p>94 rows × 9 columns</p>\n",
       "</div>"
      ],
      "text/plain": [
       "            Date     Open     High      Low    Close      Volume Dividends  \\\n",
       "0     1927-12-30    17.66    17.66    17.66    17.66           0         0   \n",
       "250   1928-12-31    24.35    24.35    24.35    24.35           0         0   \n",
       "499   1929-12-31    21.45    21.45    21.45    21.45           0         0   \n",
       "750   1930-12-31    15.34    15.34    15.34    15.34           0         0   \n",
       "1002  1931-12-31     8.12     8.12     8.12     8.12           0         0   \n",
       "...          ...      ...      ...      ...      ...         ...       ...   \n",
       "22354 2016-12-30  2251.61  2253.58  2233.62  2238.83  2670900000         0   \n",
       "22605 2017-12-29  2689.15  2692.12  2673.61  2673.61  2443490000         0   \n",
       "22856 2018-12-31  2498.94  2509.24  2482.82  2506.85  3442870000         0   \n",
       "23108 2019-12-31  3215.18  3231.72  3212.03  3230.78  2893810000         0   \n",
       "23187 2020-04-24  2812.64  2842.71  2791.76  2836.74  5374480000         0   \n",
       "\n",
       "      Stock Splits  Year  \n",
       "0                0  1927  \n",
       "250              0  1928  \n",
       "499              0  1929  \n",
       "750              0  1930  \n",
       "1002             0  1931  \n",
       "...            ...   ...  \n",
       "22354            0  2016  \n",
       "22605            0  2017  \n",
       "22856            0  2018  \n",
       "23108            0  2019  \n",
       "23187            0  2020  \n",
       "\n",
       "[94 rows x 9 columns]"
      ]
     },
     "execution_count": 25,
     "metadata": {},
     "output_type": "execute_result"
    }
   ],
   "source": [
    "yearly_df"
   ]
  },
  {
   "cell_type": "code",
   "execution_count": null,
   "metadata": {},
   "outputs": [],
   "source": []
  }
 ],
 "metadata": {
  "kernelspec": {
   "display_name": "Python 3",
   "language": "python",
   "name": "python3"
  },
  "language_info": {
   "codemirror_mode": {
    "name": "ipython",
    "version": 3
   },
   "file_extension": ".py",
   "mimetype": "text/x-python",
   "name": "python",
   "nbconvert_exporter": "python",
   "pygments_lexer": "ipython3",
   "version": "3.7.6"
  }
 },
 "nbformat": 4,
 "nbformat_minor": 2
}
