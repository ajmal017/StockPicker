{
 "cells": [
  {
   "cell_type": "code",
   "execution_count": 1,
   "metadata": {
    "ExecuteTime": {
     "end_time": "2020-08-26T15:26:07.417389Z",
     "start_time": "2020-08-26T15:26:06.704457Z"
    }
   },
   "outputs": [],
   "source": [
    "import pickle\n",
    "\n",
    "import pandas as pd\n",
    "import numpy as np\n",
    "\n",
    "from selenium import webdriver\n",
    "\n",
    "from selenium.webdriver.common.keys import Keys\n",
    "\n",
    "from selenium.webdriver.support.ui import WebDriverWait\n",
    "from selenium.webdriver.common.by import By\n",
    "from selenium.webdriver.support import expected_conditions\n",
    "\n",
    "import time\n",
    "import random\n",
    "import os"
   ]
  },
  {
   "cell_type": "code",
   "execution_count": 2,
   "metadata": {
    "ExecuteTime": {
     "end_time": "2020-08-26T15:26:07.427747Z",
     "start_time": "2020-08-26T15:26:07.420195Z"
    }
   },
   "outputs": [],
   "source": [
    "def set_ff_preferences():\n",
    "    profile = webdriver.FirefoxProfile()\n",
    "    profile.set_preference('browser.download.folderList', 2) # custom location\n",
    "    profile.set_preference('browser.download.dir', (os.getcwd()+'/data/Cash_Flows'))\n",
    "    profile.set_preference('browser.download.manager.showWhenStarting', False)\n",
    "    profile.set_preference('browser.helperApps.neverAsk.saveToDisk', \"application/csv, text/csv\")\n",
    "    return profile\n",
    "\n",
    "def create_empty_ff_driver():\n",
    "    profile = set_ff_preferences()\n",
    "    a_driver = webdriver.Firefox(firefox_profile=profile)\n",
    "    return a_driver\n",
    "\n",
    "def create_driver_opening_url():\n",
    "    a_driver = create_empty_ff_driver()\n",
    "    return a_driver\n",
    "\n",
    "def clean_from_text(text):\n",
    "#     cleaned_text = text.replace(\",\",\"\").strip()\n",
    "    cleaned_text = text.strip()\n",
    "    return cleaned_text"
   ]
  },
  {
   "cell_type": "code",
   "execution_count": 3,
   "metadata": {
    "ExecuteTime": {
     "end_time": "2020-08-26T15:26:07.436175Z",
     "start_time": "2020-08-26T15:26:07.431104Z"
    }
   },
   "outputs": [],
   "source": [
    "def get_flatdata():\n",
    "    urls = {'https://dividenddetective.com/big_dividend_list.htm': '/html/body/div[2]/div/div[1]/div[2]/div[9]', \n",
    "        'https://dividenddetective.com/big_dividend_list2.htm': '/html/body/div[2]/div/div[1]/div/div[9]', \n",
    "        'https://dividenddetective.com/big_dividend_list3.htm': '/html/body/div[2]/div/div[1]/div/div[6]', \n",
    "        'https://dividenddetective.com/big_dividend_list4.htm': '/html/body/div[2]/div/div[1]/div/div[8]'\n",
    "       }\n",
    "\n",
    "    flatdata = []\n",
    "\n",
    "    a_driver = create_driver_opening_url()\n",
    "    \n",
    "    \n",
    "    for key in urls:\n",
    "    \n",
    "        a_driver.get(key)\n",
    "\n",
    "        tableDiv = WebDriverWait(a_driver, 10).until(\n",
    "            expected_conditions.visibility_of_element_located(\n",
    "            (By.XPATH, urls[key])))\n",
    "\n",
    "        page_data = tableDiv.text.split('\\n')\n",
    "        flatdata = flatdata + page_data\n",
    "        \n",
    "    a_driver.close()\n",
    "\n",
    "    return flatdata"
   ]
  },
  {
   "cell_type": "code",
   "execution_count": 4,
   "metadata": {
    "ExecuteTime": {
     "end_time": "2020-08-26T15:26:07.446980Z",
     "start_time": "2020-08-26T15:26:07.439634Z"
    }
   },
   "outputs": [],
   "source": [
    "def format_data(flat_data, columns=4):\n",
    "    num_dividend_stocks = int(len(flat_data)/columns)\n",
    "    square_data = np.array(flat_data).reshape(num_dividend_stocks,4)\n",
    "    df = pd.DataFrame(square_data)\n",
    "    df.columns = ['ticker','name','annual_div','div_yield']\n",
    "    df['annual_div'] = df['annual_div'].astype(float)\n",
    "    df['div_yield'] = df['div_yield'].astype(float)\n",
    "    return df"
   ]
  },
  {
   "cell_type": "code",
   "execution_count": 11,
   "metadata": {
    "ExecuteTime": {
     "end_time": "2020-08-26T15:29:22.761219Z",
     "start_time": "2020-08-26T15:29:22.757171Z"
    }
   },
   "outputs": [],
   "source": [
    "def get_data():\n",
    "    return format_data(get_flatdata())"
   ]
  },
  {
   "cell_type": "code",
   "execution_count": null,
   "metadata": {},
   "outputs": [],
   "source": []
  }
 ],
 "metadata": {
  "kernelspec": {
   "display_name": "Python 3",
   "language": "python",
   "name": "python3"
  },
  "language_info": {
   "codemirror_mode": {
    "name": "ipython",
    "version": 3
   },
   "file_extension": ".py",
   "mimetype": "text/x-python",
   "name": "python",
   "nbconvert_exporter": "python",
   "pygments_lexer": "ipython3",
   "version": "3.7.1"
  }
 },
 "nbformat": 4,
 "nbformat_minor": 4
}
