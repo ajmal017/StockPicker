{
 "cells": [
  {
   "cell_type": "code",
   "execution_count": 1,
   "metadata": {
    "ExecuteTime": {
     "end_time": "2020-09-08T19:54:22.156143Z",
     "start_time": "2020-09-08T19:54:21.129009Z"
    }
   },
   "outputs": [],
   "source": [
    "import pandas as pd\n",
    "import numpy as np\n",
    "import import_ipynb"
   ]
  },
  {
   "cell_type": "code",
   "execution_count": 2,
   "metadata": {
    "ExecuteTime": {
     "end_time": "2020-09-08T19:54:57.927646Z",
     "start_time": "2020-09-08T19:54:57.796959Z"
    }
   },
   "outputs": [
    {
     "name": "stdout",
     "output_type": "stream",
     "text": [
      "importing Jupyter notebook from div_growth_check.ipynb\n",
      "importing Jupyter notebook from dividend_detective_scrape.ipynb\n"
     ]
    }
   ],
   "source": [
    "import div_growth_check"
   ]
  },
  {
   "cell_type": "code",
   "execution_count": 17,
   "metadata": {
    "ExecuteTime": {
     "end_time": "2020-09-10T23:44:45.724327Z",
     "start_time": "2020-09-10T23:44:45.711652Z"
    }
   },
   "outputs": [],
   "source": [
    "import yfinance as yf\n",
    "import requests"
   ]
  },
  {
   "cell_type": "code",
   "execution_count": 10,
   "metadata": {
    "ExecuteTime": {
     "end_time": "2020-09-10T23:33:57.520697Z",
     "start_time": "2020-09-10T23:31:37.697874Z"
    }
   },
   "outputs": [
    {
     "name": "stdout",
     "output_type": "stream",
     "text": [
      "CPU times: user 29.9 s, sys: 1.85 s, total: 31.7 s\n",
      "Wall time: 2min 19s\n"
     ]
    }
   ],
   "source": [
    "%%time\n",
    "div_stocks = pd.DataFrame(div_growth_check.get_div_stocks())"
   ]
  },
  {
   "cell_type": "code",
   "execution_count": 11,
   "metadata": {
    "ExecuteTime": {
     "end_time": "2020-09-10T23:33:57.566195Z",
     "start_time": "2020-09-10T23:33:57.525726Z"
    }
   },
   "outputs": [
    {
     "data": {
      "text/html": [
       "<div>\n",
       "<style scoped>\n",
       "    .dataframe tbody tr th:only-of-type {\n",
       "        vertical-align: middle;\n",
       "    }\n",
       "\n",
       "    .dataframe tbody tr th {\n",
       "        vertical-align: top;\n",
       "    }\n",
       "\n",
       "    .dataframe thead th {\n",
       "        text-align: right;\n",
       "    }\n",
       "</style>\n",
       "<table border=\"1\" class=\"dataframe\">\n",
       "  <thead>\n",
       "    <tr style=\"text-align: right;\">\n",
       "      <th></th>\n",
       "      <th>ticker</th>\n",
       "      <th>name</th>\n",
       "      <th>annual_div</th>\n",
       "      <th>div_yield</th>\n",
       "      <th>div_consistency_score</th>\n",
       "    </tr>\n",
       "  </thead>\n",
       "  <tbody>\n",
       "    <tr>\n",
       "      <th>442</th>\n",
       "      <td>MFC</td>\n",
       "      <td>Manulife Financial</td>\n",
       "      <td>0.79</td>\n",
       "      <td>6.5</td>\n",
       "      <td>0.844622</td>\n",
       "    </tr>\n",
       "    <tr>\n",
       "      <th>601</th>\n",
       "      <td>SC</td>\n",
       "      <td>Santander Consumer USA Holdings</td>\n",
       "      <td>0.88</td>\n",
       "      <td>5.6</td>\n",
       "      <td>0.824508</td>\n",
       "    </tr>\n",
       "    <tr>\n",
       "      <th>662</th>\n",
       "      <td>TGP</td>\n",
       "      <td>Teekay LNG Partners</td>\n",
       "      <td>1.00</td>\n",
       "      <td>8.9</td>\n",
       "      <td>0.813129</td>\n",
       "    </tr>\n",
       "    <tr>\n",
       "      <th>52</th>\n",
       "      <td>APAM</td>\n",
       "      <td>Artisan Partners Asset Management</td>\n",
       "      <td>2.44</td>\n",
       "      <td>8.3</td>\n",
       "      <td>0.810843</td>\n",
       "    </tr>\n",
       "    <tr>\n",
       "      <th>646</th>\n",
       "      <td>SXC</td>\n",
       "      <td>SunCoke Energy</td>\n",
       "      <td>0.24</td>\n",
       "      <td>6.7</td>\n",
       "      <td>0.808883</td>\n",
       "    </tr>\n",
       "    <tr>\n",
       "      <th>...</th>\n",
       "      <td>...</td>\n",
       "      <td>...</td>\n",
       "      <td>...</td>\n",
       "      <td>...</td>\n",
       "      <td>...</td>\n",
       "    </tr>\n",
       "    <tr>\n",
       "      <th>347</th>\n",
       "      <td>HTGC</td>\n",
       "      <td>Hercules Capital</td>\n",
       "      <td>1.28</td>\n",
       "      <td>11.7</td>\n",
       "      <td>0.707606</td>\n",
       "    </tr>\n",
       "    <tr>\n",
       "      <th>679</th>\n",
       "      <td>TPVG</td>\n",
       "      <td>Triplepoint Venture Growth BDC</td>\n",
       "      <td>1.44</td>\n",
       "      <td>17.8</td>\n",
       "      <td>0.707467</td>\n",
       "    </tr>\n",
       "    <tr>\n",
       "      <th>321</th>\n",
       "      <td>GBDC</td>\n",
       "      <td>Golub Capital BDC</td>\n",
       "      <td>1.16</td>\n",
       "      <td>10.7</td>\n",
       "      <td>0.704386</td>\n",
       "    </tr>\n",
       "    <tr>\n",
       "      <th>724</th>\n",
       "      <td>WFC</td>\n",
       "      <td>Wells Fargo</td>\n",
       "      <td>2.04</td>\n",
       "      <td>8.0</td>\n",
       "      <td>0.702376</td>\n",
       "    </tr>\n",
       "    <tr>\n",
       "      <th>13</th>\n",
       "      <td>AB</td>\n",
       "      <td>Alliancebernstein Holding</td>\n",
       "      <td>2.68</td>\n",
       "      <td>11.8</td>\n",
       "      <td>0.701204</td>\n",
       "    </tr>\n",
       "  </tbody>\n",
       "</table>\n",
       "<p>117 rows × 5 columns</p>\n",
       "</div>"
      ],
      "text/plain": [
       "    ticker                               name  annual_div  div_yield  \\\n",
       "442    MFC                 Manulife Financial        0.79        6.5   \n",
       "601     SC    Santander Consumer USA Holdings        0.88        5.6   \n",
       "662    TGP                Teekay LNG Partners        1.00        8.9   \n",
       "52    APAM  Artisan Partners Asset Management        2.44        8.3   \n",
       "646    SXC                     SunCoke Energy        0.24        6.7   \n",
       "..     ...                                ...         ...        ...   \n",
       "347   HTGC                   Hercules Capital        1.28       11.7   \n",
       "679   TPVG     Triplepoint Venture Growth BDC        1.44       17.8   \n",
       "321   GBDC                  Golub Capital BDC        1.16       10.7   \n",
       "724    WFC                       Wells Fargo         2.04        8.0   \n",
       "13      AB         Alliancebernstein Holding         2.68       11.8   \n",
       "\n",
       "     div_consistency_score  \n",
       "442               0.844622  \n",
       "601               0.824508  \n",
       "662               0.813129  \n",
       "52                0.810843  \n",
       "646               0.808883  \n",
       "..                     ...  \n",
       "347               0.707606  \n",
       "679               0.707467  \n",
       "321               0.704386  \n",
       "724               0.702376  \n",
       "13                0.701204  \n",
       "\n",
       "[117 rows x 5 columns]"
      ]
     },
     "execution_count": 11,
     "metadata": {},
     "output_type": "execute_result"
    }
   ],
   "source": [
    "div_stocks"
   ]
  },
  {
   "cell_type": "code",
   "execution_count": 16,
   "metadata": {
    "ExecuteTime": {
     "end_time": "2020-09-10T23:43:41.293277Z",
     "start_time": "2020-09-10T23:43:41.284842Z"
    }
   },
   "outputs": [],
   "source": [
    "div_stocks['MCap'] = 0"
   ]
  },
  {
   "cell_type": "code",
   "execution_count": null,
   "metadata": {},
   "outputs": [],
   "source": []
  },
  {
   "cell_type": "code",
   "execution_count": 8,
   "metadata": {
    "ExecuteTime": {
     "end_time": "2020-09-08T21:57:14.693370Z",
     "start_time": "2020-09-08T21:57:14.665079Z"
    }
   },
   "outputs": [
    {
     "name": "stdout",
     "output_type": "stream",
     "text": [
      "    ticker                               name  annual_div  div_yield  \\\n",
      "442    MFC                 Manulife Financial        0.79        6.5   \n",
      "601     SC    Santander Consumer USA Holdings        0.88        5.6   \n",
      "662    TGP                Teekay LNG Partners        1.00        8.9   \n",
      "52    APAM  Artisan Partners Asset Management        2.44        8.3   \n",
      "646    SXC                     SunCoke Energy        0.24        6.7   \n",
      "..     ...                                ...         ...        ...   \n",
      "725   WELL                          Welltower        2.44        5.5   \n",
      "679   TPVG     Triplepoint Venture Growth BDC        1.44       17.8   \n",
      "347   HTGC                   Hercules Capital        1.28       11.7   \n",
      "321   GBDC                  Golub Capital BDC        1.16       10.7   \n",
      "724    WFC                       Wells Fargo         2.04        8.0   \n",
      "\n",
      "     div_consistency_score  \n",
      "442               0.841882  \n",
      "601               0.821768  \n",
      "662               0.810466  \n",
      "52                0.808364  \n",
      "646               0.806143  \n",
      "..                     ...  \n",
      "725               0.707309  \n",
      "679               0.705546  \n",
      "347               0.704866  \n",
      "321               0.702606  \n",
      "724               0.700778  \n",
      "\n",
      "[109 rows x 5 columns]\n"
     ]
    }
   ],
   "source": []
  },
  {
   "cell_type": "code",
   "execution_count": 15,
   "metadata": {
    "ExecuteTime": {
     "end_time": "2020-09-10T23:39:35.893383Z",
     "start_time": "2020-09-10T23:39:35.877199Z"
    }
   },
   "outputs": [
    {
     "name": "stdout",
     "output_type": "stream",
     "text": [
      "(442, ticker                                  MFC\n",
      "name                     Manulife Financial\n",
      "annual_div                             0.79\n",
      "div_yield                               6.5\n",
      "div_consistency_score              0.844622\n",
      "Name: 442, dtype: object)\n",
      "(601, ticker                                                SC\n",
      "name                     Santander Consumer USA Holdings\n",
      "annual_div                                          0.88\n",
      "div_yield                                            5.6\n",
      "div_consistency_score                           0.824508\n",
      "Name: 601, dtype: object)\n"
     ]
    }
   ],
   "source": [
    "for s in div_stocks[:2].iterrows():\n",
    "    print(s)"
   ]
  },
  {
   "cell_type": "code",
   "execution_count": null,
   "metadata": {},
   "outputs": [],
   "source": []
  }
 ],
 "metadata": {
  "kernelspec": {
   "display_name": "Python 3",
   "language": "python",
   "name": "python3"
  },
  "language_info": {
   "codemirror_mode": {
    "name": "ipython",
    "version": 3
   },
   "file_extension": ".py",
   "mimetype": "text/x-python",
   "name": "python",
   "nbconvert_exporter": "python",
   "pygments_lexer": "ipython3",
   "version": "3.7.1"
  }
 },
 "nbformat": 4,
 "nbformat_minor": 2
}
