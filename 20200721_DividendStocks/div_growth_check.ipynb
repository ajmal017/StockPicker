{
 "cells": [
  {
   "cell_type": "code",
   "execution_count": 1,
   "metadata": {
    "ExecuteTime": {
     "end_time": "2020-08-26T15:59:03.187788Z",
     "start_time": "2020-08-26T15:59:02.226199Z"
    }
   },
   "outputs": [
    {
     "name": "stdout",
     "output_type": "stream",
     "text": [
      "importing Jupyter notebook from dividend_detective_scrape.ipynb\n"
     ]
    }
   ],
   "source": [
    "import pandas as pd\n",
    "import numpy as np\n",
    "import import_ipynb\n",
    "import dividend_detective_scrape\n",
    "\n",
    "import yfinance as yf\n",
    "\n",
    "import datetime as dt\n",
    "\n",
    "from datetime import datetime"
   ]
  },
  {
   "cell_type": "code",
   "execution_count": 2,
   "metadata": {
    "ExecuteTime": {
     "end_time": "2020-08-26T15:59:14.586915Z",
     "start_time": "2020-08-26T15:59:03.190817Z"
    }
   },
   "outputs": [
    {
     "name": "stdout",
     "output_type": "stream",
     "text": [
      "CPU times: user 29.9 ms, sys: 17.2 ms, total: 47 ms\n",
      "Wall time: 11.4 s\n"
     ]
    }
   ],
   "source": [
    "%%time\n",
    "div_stocks = dividend_detective_scrape.get_data()"
   ]
  },
  {
   "cell_type": "code",
   "execution_count": 29,
   "metadata": {
    "ExecuteTime": {
     "end_time": "2020-08-26T19:11:18.973883Z",
     "start_time": "2020-08-26T19:11:18.942295Z"
    }
   },
   "outputs": [
    {
     "data": {
      "text/html": [
       "<div>\n",
       "<style scoped>\n",
       "    .dataframe tbody tr th:only-of-type {\n",
       "        vertical-align: middle;\n",
       "    }\n",
       "\n",
       "    .dataframe tbody tr th {\n",
       "        vertical-align: top;\n",
       "    }\n",
       "\n",
       "    .dataframe thead th {\n",
       "        text-align: right;\n",
       "    }\n",
       "</style>\n",
       "<table border=\"1\" class=\"dataframe\">\n",
       "  <thead>\n",
       "    <tr style=\"text-align: right;\">\n",
       "      <th></th>\n",
       "      <th>ticker</th>\n",
       "      <th>name</th>\n",
       "      <th>annual_div</th>\n",
       "      <th>div_yield</th>\n",
       "      <th>div_consistency_score</th>\n",
       "    </tr>\n",
       "  </thead>\n",
       "  <tbody>\n",
       "    <tr>\n",
       "      <th>0</th>\n",
       "      <td>FCCY</td>\n",
       "      <td>1st Constitution Bancorp</td>\n",
       "      <td>0.36</td>\n",
       "      <td>2.8</td>\n",
       "      <td>0.918750</td>\n",
       "    </tr>\n",
       "    <tr>\n",
       "      <th>1</th>\n",
       "      <td>SRCE</td>\n",
       "      <td>1st Source</td>\n",
       "      <td>1.12</td>\n",
       "      <td>3.4</td>\n",
       "      <td>0.886364</td>\n",
       "    </tr>\n",
       "    <tr>\n",
       "      <th>2</th>\n",
       "      <td>MMM</td>\n",
       "      <td>3M Company</td>\n",
       "      <td>5.88</td>\n",
       "      <td>4.0</td>\n",
       "      <td>0.882809</td>\n",
       "    </tr>\n",
       "    <tr>\n",
       "      <th>3</th>\n",
       "      <td>ABBV</td>\n",
       "      <td>AbbVie</td>\n",
       "      <td>4.72</td>\n",
       "      <td>5.6</td>\n",
       "      <td>0.826935</td>\n",
       "    </tr>\n",
       "    <tr>\n",
       "      <th>4</th>\n",
       "      <td>ACCO</td>\n",
       "      <td>ACCO Brands</td>\n",
       "      <td>0.26</td>\n",
       "      <td>4.1</td>\n",
       "      <td>0.772959</td>\n",
       "    </tr>\n",
       "    <tr>\n",
       "      <th>...</th>\n",
       "      <td>...</td>\n",
       "      <td>...</td>\n",
       "      <td>...</td>\n",
       "      <td>...</td>\n",
       "      <td>...</td>\n",
       "    </tr>\n",
       "    <tr>\n",
       "      <th>740</th>\n",
       "      <td>WYND</td>\n",
       "      <td>Wyndham Destinations</td>\n",
       "      <td>1.85</td>\n",
       "      <td>7.3</td>\n",
       "      <td>0.000000</td>\n",
       "    </tr>\n",
       "    <tr>\n",
       "      <th>741</th>\n",
       "      <td>WH</td>\n",
       "      <td>Wyndham Hotels &amp; Resorts</td>\n",
       "      <td>1.28</td>\n",
       "      <td>2.9</td>\n",
       "      <td>0.000000</td>\n",
       "    </tr>\n",
       "    <tr>\n",
       "      <th>742</th>\n",
       "      <td>XEL</td>\n",
       "      <td>Xcel Energy</td>\n",
       "      <td>1.72</td>\n",
       "      <td>2.9</td>\n",
       "      <td>0.000000</td>\n",
       "    </tr>\n",
       "    <tr>\n",
       "      <th>743</th>\n",
       "      <td>XRX</td>\n",
       "      <td>Xerox Holdings</td>\n",
       "      <td>1.00</td>\n",
       "      <td>5.5</td>\n",
       "      <td>0.000000</td>\n",
       "    </tr>\n",
       "    <tr>\n",
       "      <th>744</th>\n",
       "      <td>XPER</td>\n",
       "      <td>Xperi Corp</td>\n",
       "      <td>0.80</td>\n",
       "      <td>5.1</td>\n",
       "      <td>0.000000</td>\n",
       "    </tr>\n",
       "  </tbody>\n",
       "</table>\n",
       "<p>745 rows × 5 columns</p>\n",
       "</div>"
      ],
      "text/plain": [
       "    ticker                      name  annual_div  div_yield  \\\n",
       "0     FCCY  1st Constitution Bancorp        0.36        2.8   \n",
       "1     SRCE                1st Source        1.12        3.4   \n",
       "2      MMM                3M Company        5.88        4.0   \n",
       "3     ABBV                    AbbVie        4.72        5.6   \n",
       "4     ACCO               ACCO Brands        0.26        4.1   \n",
       "..     ...                       ...         ...        ...   \n",
       "740   WYND      Wyndham Destinations        1.85        7.3   \n",
       "741     WH  Wyndham Hotels & Resorts        1.28        2.9   \n",
       "742    XEL               Xcel Energy        1.72        2.9   \n",
       "743    XRX            Xerox Holdings        1.00        5.5   \n",
       "744   XPER                Xperi Corp        0.80        5.1   \n",
       "\n",
       "     div_consistency_score  \n",
       "0                 0.918750  \n",
       "1                 0.886364  \n",
       "2                 0.882809  \n",
       "3                 0.826935  \n",
       "4                 0.772959  \n",
       "..                     ...  \n",
       "740               0.000000  \n",
       "741               0.000000  \n",
       "742               0.000000  \n",
       "743               0.000000  \n",
       "744               0.000000  \n",
       "\n",
       "[745 rows x 5 columns]"
      ]
     },
     "execution_count": 29,
     "metadata": {},
     "output_type": "execute_result"
    }
   ],
   "source": [
    "div_stocks"
   ]
  },
  {
   "cell_type": "code",
   "execution_count": 30,
   "metadata": {
    "ExecuteTime": {
     "end_time": "2020-08-26T19:11:19.718012Z",
     "start_time": "2020-08-26T19:11:19.699748Z"
    }
   },
   "outputs": [
    {
     "data": {
      "text/html": [
       "<div>\n",
       "<style scoped>\n",
       "    .dataframe tbody tr th:only-of-type {\n",
       "        vertical-align: middle;\n",
       "    }\n",
       "\n",
       "    .dataframe tbody tr th {\n",
       "        vertical-align: top;\n",
       "    }\n",
       "\n",
       "    .dataframe thead th {\n",
       "        text-align: right;\n",
       "    }\n",
       "</style>\n",
       "<table border=\"1\" class=\"dataframe\">\n",
       "  <thead>\n",
       "    <tr style=\"text-align: right;\">\n",
       "      <th></th>\n",
       "      <th>ticker</th>\n",
       "      <th>name</th>\n",
       "      <th>annual_div</th>\n",
       "      <th>div_yield</th>\n",
       "      <th>div_consistency_score</th>\n",
       "    </tr>\n",
       "  </thead>\n",
       "  <tbody>\n",
       "    <tr>\n",
       "      <th>1</th>\n",
       "      <td>SRCE</td>\n",
       "      <td>1st Source</td>\n",
       "      <td>1.12</td>\n",
       "      <td>3.4</td>\n",
       "      <td>0.886364</td>\n",
       "    </tr>\n",
       "    <tr>\n",
       "      <th>2</th>\n",
       "      <td>MMM</td>\n",
       "      <td>3M Company</td>\n",
       "      <td>5.88</td>\n",
       "      <td>4.0</td>\n",
       "      <td>0.882809</td>\n",
       "    </tr>\n",
       "    <tr>\n",
       "      <th>3</th>\n",
       "      <td>ABBV</td>\n",
       "      <td>AbbVie</td>\n",
       "      <td>4.72</td>\n",
       "      <td>5.6</td>\n",
       "      <td>0.826935</td>\n",
       "    </tr>\n",
       "    <tr>\n",
       "      <th>4</th>\n",
       "      <td>ACCO</td>\n",
       "      <td>ACCO Brands</td>\n",
       "      <td>0.26</td>\n",
       "      <td>4.1</td>\n",
       "      <td>0.772959</td>\n",
       "    </tr>\n",
       "    <tr>\n",
       "      <th>5</th>\n",
       "      <td>ADTN</td>\n",
       "      <td>ADTRAN</td>\n",
       "      <td>0.36</td>\n",
       "      <td>3.2</td>\n",
       "      <td>0.874991</td>\n",
       "    </tr>\n",
       "    <tr>\n",
       "      <th>...</th>\n",
       "      <td>...</td>\n",
       "      <td>...</td>\n",
       "      <td>...</td>\n",
       "      <td>...</td>\n",
       "      <td>...</td>\n",
       "    </tr>\n",
       "    <tr>\n",
       "      <th>738</th>\n",
       "      <td>WOR</td>\n",
       "      <td>Worthington Industries</td>\n",
       "      <td>0.96</td>\n",
       "      <td>3.6</td>\n",
       "      <td>0.000000</td>\n",
       "    </tr>\n",
       "    <tr>\n",
       "      <th>739</th>\n",
       "      <td>WPC</td>\n",
       "      <td>WP Carey</td>\n",
       "      <td>4.16</td>\n",
       "      <td>6.7</td>\n",
       "      <td>0.000000</td>\n",
       "    </tr>\n",
       "    <tr>\n",
       "      <th>740</th>\n",
       "      <td>WYND</td>\n",
       "      <td>Wyndham Destinations</td>\n",
       "      <td>1.85</td>\n",
       "      <td>7.3</td>\n",
       "      <td>0.000000</td>\n",
       "    </tr>\n",
       "    <tr>\n",
       "      <th>743</th>\n",
       "      <td>XRX</td>\n",
       "      <td>Xerox Holdings</td>\n",
       "      <td>1.00</td>\n",
       "      <td>5.5</td>\n",
       "      <td>0.000000</td>\n",
       "    </tr>\n",
       "    <tr>\n",
       "      <th>744</th>\n",
       "      <td>XPER</td>\n",
       "      <td>Xperi Corp</td>\n",
       "      <td>0.80</td>\n",
       "      <td>5.1</td>\n",
       "      <td>0.000000</td>\n",
       "    </tr>\n",
       "  </tbody>\n",
       "</table>\n",
       "<p>627 rows × 5 columns</p>\n",
       "</div>"
      ],
      "text/plain": [
       "    ticker                    name  annual_div  div_yield  \\\n",
       "1     SRCE              1st Source        1.12        3.4   \n",
       "2      MMM              3M Company        5.88        4.0   \n",
       "3     ABBV                  AbbVie        4.72        5.6   \n",
       "4     ACCO             ACCO Brands        0.26        4.1   \n",
       "5     ADTN                  ADTRAN        0.36        3.2   \n",
       "..     ...                     ...         ...        ...   \n",
       "738    WOR  Worthington Industries        0.96        3.6   \n",
       "739    WPC                WP Carey        4.16        6.7   \n",
       "740   WYND    Wyndham Destinations        1.85        7.3   \n",
       "743    XRX          Xerox Holdings        1.00        5.5   \n",
       "744   XPER              Xperi Corp        0.80        5.1   \n",
       "\n",
       "     div_consistency_score  \n",
       "1                 0.886364  \n",
       "2                 0.882809  \n",
       "3                 0.826935  \n",
       "4                 0.772959  \n",
       "5                 0.874991  \n",
       "..                     ...  \n",
       "738               0.000000  \n",
       "739               0.000000  \n",
       "740               0.000000  \n",
       "743               0.000000  \n",
       "744               0.000000  \n",
       "\n",
       "[627 rows x 5 columns]"
      ]
     },
     "execution_count": 30,
     "metadata": {},
     "output_type": "execute_result"
    }
   ],
   "source": [
    "min_div = 4.0\n",
    "\n",
    "approved_div_stocks = div_stocks[div_stocks['div_yield']>min_div]\n",
    "\n",
    "approved_div_stocks"
   ]
  },
  {
   "cell_type": "code",
   "execution_count": 5,
   "metadata": {
    "ExecuteTime": {
     "end_time": "2020-08-26T15:59:14.661596Z",
     "start_time": "2020-08-26T15:59:14.656582Z"
    }
   },
   "outputs": [],
   "source": [
    "div_stocks['div_consistency_score'] = 0.0"
   ]
  },
  {
   "cell_type": "code",
   "execution_count": 6,
   "metadata": {
    "ExecuteTime": {
     "end_time": "2020-08-26T15:59:14.667610Z",
     "start_time": "2020-08-26T15:59:14.663591Z"
    }
   },
   "outputs": [],
   "source": [
    "def trim_div_data(stockObj):\n",
    "    actns = stockObj.actions\n",
    "    for i,r in actns.iterrows():\n",
    "        if r['Dividends'] > 0:\n",
    "            first_div_date = i\n",
    "            break\n",
    "\n",
    "    actns = actns.loc[first_div_date:]\n",
    "    return actns, first_div_date"
   ]
  },
  {
   "cell_type": "code",
   "execution_count": 7,
   "metadata": {
    "ExecuteTime": {
     "end_time": "2020-08-26T15:59:14.675797Z",
     "start_time": "2020-08-26T15:59:14.669630Z"
    }
   },
   "outputs": [],
   "source": [
    "def add_div_data_details(actns, first_div_date):\n",
    "    actns['days_since_first_div'] = (actns.index-first_div_date).days\n",
    "    actns['year'] = actns.index.year\n",
    "    \n",
    "    h = []\n",
    "    l = []\n",
    "    for i,r in actns.iterrows():\n",
    "        prices = stockObj.history(start=i,end = i+pd.DateOffset(1)).iloc[0]\n",
    "        h.append(prices['High'])\n",
    "        l.append(prices['Low'])\n",
    "\n",
    "    actns['Stock_High'] = h\n",
    "    actns['Stock_Low'] = l\n",
    "    \n",
    "    actns['day_div_yield'] = actns['Dividends']/actns['Stock_High']\n",
    "    return actns"
   ]
  },
  {
   "cell_type": "code",
   "execution_count": 8,
   "metadata": {
    "ExecuteTime": {
     "end_time": "2020-08-26T15:59:14.679408Z",
     "start_time": "2020-08-26T15:59:14.677234Z"
    }
   },
   "outputs": [],
   "source": [
    "def get_ind_div_data(stockObj):\n",
    "    df, first_div_date = trim_div_data(stockObj)\n",
    "    return add_div_data_details(df, first_div_date)"
   ]
  },
  {
   "cell_type": "code",
   "execution_count": 9,
   "metadata": {
    "ExecuteTime": {
     "end_time": "2020-08-26T15:59:14.691226Z",
     "start_time": "2020-08-26T15:59:14.681647Z"
    }
   },
   "outputs": [],
   "source": [
    "def get_div_consistency_score(stockObj):\n",
    "    \n",
    "    df = stockObj.actions\n",
    "    df['year'] = df.index.year\n",
    "    df = df[df['Dividends']>0]\n",
    "    df = df.drop(columns=['Stock Splits'])\n",
    "    \n",
    "    ann_df = df.groupby(['year']).agg(\n",
    "        {'Dividends': np.sum}).rename(columns=\n",
    "        {'Dividends':'dividends'})\n",
    "    start_year = ann_df.index[0]\n",
    "    end_year = ann_df.index[len(ann_df)-1]+1\n",
    "    ann_df = ann_df.reindex(list(range(start_year,end_year)), fill_value=0)\n",
    "    \n",
    "    consistancy_coeff = [1/(2**(x+1)) for x in range(len(ann_df))][::-1]\n",
    "    year_progress = datetime.now().timetuple().tm_yday/365\n",
    "    consistancy_coeff[-1] = consistancy_coeff[-1]*year_progress\n",
    "    \n",
    "    ann_df['div_consistency_score'] = consistancy_coeff\n",
    "    \n",
    "    highest_div = ann_df.iloc[0]['dividends']\n",
    "    \n",
    "#     add another weight to the last cell where i get the percentage of the year we've been in and multiply it by that\n",
    "\n",
    "    for i,r in ann_df[1:].iterrows():      \n",
    "#         i need to think about a better way to do this because right now\n",
    "#         it compares the wrong two pieces\n",
    "        if r['dividends'] < ann_df.loc[i-1]['dividends']:\n",
    "            mult = r['div_consistency_score']\n",
    "            div_perc = r['dividends']/highest_div\n",
    "            ann_df.at[i, 'div_consistency_score'] = mult * div_perc\n",
    "        else:\n",
    "            highest_div = r['dividends']\n",
    "    \n",
    "    return ann_df['div_consistency_score'].sum()"
   ]
  },
  {
   "cell_type": "code",
   "execution_count": 10,
   "metadata": {
    "ExecuteTime": {
     "end_time": "2020-08-26T15:59:21.949147Z",
     "start_time": "2020-08-26T15:59:14.693129Z"
    }
   },
   "outputs": [
    {
     "name": "stdout",
     "output_type": "stream",
     "text": [
      "FCCY\n",
      "0.9187500000000001\n",
      "SRCE\n",
      "0.886363627057731\n",
      "MMM\n",
      "0.8828090109435487\n",
      "ABBV\n",
      "0.8269348714953271\n",
      "ACCO\n",
      "0.7729591836734694\n",
      "ADTN\n",
      "0.8749906788701597\n",
      "ADES\n",
      "0.5625\n",
      "AES\n",
      "0.875831022906072\n",
      "AFL\n",
      "0.8286469658199777\n",
      "AGNC\n",
      "0.6333040106233465\n",
      "ADC\n",
      "0.7596577824746\n",
      "ALX\n",
      "0.8711632498848121\n",
      "ALE\n",
      "0.8943697137851006\n",
      "AB\n",
      "0.8120776839471812\n",
      "LNT\n",
      "0.9002202004907858\n",
      "CPU times: user 1.66 s, sys: 141 ms, total: 1.81 s\n",
      "Wall time: 7.25 s\n"
     ]
    }
   ],
   "source": [
    "%%time\n",
    "for index, row in approved_div_stocks[:15].iterrows():\n",
    "    print(row['ticker'])\n",
    "    stockObj = yf.Ticker(row['ticker'])\n",
    "    div_consis = get_div_consistency_score(stockObj)\n",
    "    print(div_consis)\n",
    "    div_stocks.at[index, 'div_consistency_score'] = div_consis"
   ]
  },
  {
   "cell_type": "code",
   "execution_count": 11,
   "metadata": {
    "ExecuteTime": {
     "end_time": "2020-08-26T15:59:21.976221Z",
     "start_time": "2020-08-26T15:59:21.950741Z"
    }
   },
   "outputs": [
    {
     "data": {
      "text/html": [
       "<div>\n",
       "<style scoped>\n",
       "    .dataframe tbody tr th:only-of-type {\n",
       "        vertical-align: middle;\n",
       "    }\n",
       "\n",
       "    .dataframe tbody tr th {\n",
       "        vertical-align: top;\n",
       "    }\n",
       "\n",
       "    .dataframe thead th {\n",
       "        text-align: right;\n",
       "    }\n",
       "</style>\n",
       "<table border=\"1\" class=\"dataframe\">\n",
       "  <thead>\n",
       "    <tr style=\"text-align: right;\">\n",
       "      <th></th>\n",
       "      <th>ticker</th>\n",
       "      <th>name</th>\n",
       "      <th>annual_div</th>\n",
       "      <th>div_yield</th>\n",
       "      <th>div_consistency_score</th>\n",
       "    </tr>\n",
       "  </thead>\n",
       "  <tbody>\n",
       "    <tr>\n",
       "      <th>0</th>\n",
       "      <td>FCCY</td>\n",
       "      <td>1st Constitution Bancorp</td>\n",
       "      <td>0.36</td>\n",
       "      <td>2.8</td>\n",
       "      <td>0.918750</td>\n",
       "    </tr>\n",
       "    <tr>\n",
       "      <th>1</th>\n",
       "      <td>SRCE</td>\n",
       "      <td>1st Source</td>\n",
       "      <td>1.12</td>\n",
       "      <td>3.4</td>\n",
       "      <td>0.886364</td>\n",
       "    </tr>\n",
       "    <tr>\n",
       "      <th>2</th>\n",
       "      <td>MMM</td>\n",
       "      <td>3M Company</td>\n",
       "      <td>5.88</td>\n",
       "      <td>4.0</td>\n",
       "      <td>0.882809</td>\n",
       "    </tr>\n",
       "    <tr>\n",
       "      <th>3</th>\n",
       "      <td>ABBV</td>\n",
       "      <td>AbbVie</td>\n",
       "      <td>4.72</td>\n",
       "      <td>5.6</td>\n",
       "      <td>0.826935</td>\n",
       "    </tr>\n",
       "    <tr>\n",
       "      <th>4</th>\n",
       "      <td>ACCO</td>\n",
       "      <td>ACCO Brands</td>\n",
       "      <td>0.26</td>\n",
       "      <td>4.1</td>\n",
       "      <td>0.772959</td>\n",
       "    </tr>\n",
       "    <tr>\n",
       "      <th>5</th>\n",
       "      <td>ADTN</td>\n",
       "      <td>ADTRAN</td>\n",
       "      <td>0.36</td>\n",
       "      <td>3.2</td>\n",
       "      <td>0.874991</td>\n",
       "    </tr>\n",
       "    <tr>\n",
       "      <th>6</th>\n",
       "      <td>ADES</td>\n",
       "      <td>Advanced Emissions Solutions</td>\n",
       "      <td>1.00</td>\n",
       "      <td>13.4</td>\n",
       "      <td>0.562500</td>\n",
       "    </tr>\n",
       "    <tr>\n",
       "      <th>7</th>\n",
       "      <td>AES</td>\n",
       "      <td>AES Corp</td>\n",
       "      <td>0.57</td>\n",
       "      <td>4.5</td>\n",
       "      <td>0.875831</td>\n",
       "    </tr>\n",
       "    <tr>\n",
       "      <th>8</th>\n",
       "      <td>AFL</td>\n",
       "      <td>AFLAC</td>\n",
       "      <td>1.12</td>\n",
       "      <td>3.1</td>\n",
       "      <td>0.828647</td>\n",
       "    </tr>\n",
       "    <tr>\n",
       "      <th>9</th>\n",
       "      <td>AGNC</td>\n",
       "      <td>AGNC Investment</td>\n",
       "      <td>1.44</td>\n",
       "      <td>11.3</td>\n",
       "      <td>0.633304</td>\n",
       "    </tr>\n",
       "    <tr>\n",
       "      <th>10</th>\n",
       "      <td>ADC</td>\n",
       "      <td>Agree Realty</td>\n",
       "      <td>2.40</td>\n",
       "      <td>3.7</td>\n",
       "      <td>0.759658</td>\n",
       "    </tr>\n",
       "    <tr>\n",
       "      <th>11</th>\n",
       "      <td>ALX</td>\n",
       "      <td>Alexander's</td>\n",
       "      <td>18.00</td>\n",
       "      <td>7.1</td>\n",
       "      <td>0.871163</td>\n",
       "    </tr>\n",
       "    <tr>\n",
       "      <th>12</th>\n",
       "      <td>ALE</td>\n",
       "      <td>ALLETE</td>\n",
       "      <td>2.47</td>\n",
       "      <td>4.4</td>\n",
       "      <td>0.894370</td>\n",
       "    </tr>\n",
       "    <tr>\n",
       "      <th>13</th>\n",
       "      <td>AB</td>\n",
       "      <td>Alliancebernstein Holding</td>\n",
       "      <td>2.68</td>\n",
       "      <td>11.8</td>\n",
       "      <td>0.812078</td>\n",
       "    </tr>\n",
       "    <tr>\n",
       "      <th>14</th>\n",
       "      <td>LNT</td>\n",
       "      <td>Alliant Energy</td>\n",
       "      <td>1.52</td>\n",
       "      <td>3.2</td>\n",
       "      <td>0.900220</td>\n",
       "    </tr>\n",
       "  </tbody>\n",
       "</table>\n",
       "</div>"
      ],
      "text/plain": [
       "   ticker                          name  annual_div  div_yield  \\\n",
       "0    FCCY      1st Constitution Bancorp        0.36        2.8   \n",
       "1    SRCE                    1st Source        1.12        3.4   \n",
       "2     MMM                    3M Company        5.88        4.0   \n",
       "3    ABBV                        AbbVie        4.72        5.6   \n",
       "4    ACCO                   ACCO Brands        0.26        4.1   \n",
       "5    ADTN                        ADTRAN        0.36        3.2   \n",
       "6    ADES  Advanced Emissions Solutions        1.00       13.4   \n",
       "7     AES                      AES Corp        0.57        4.5   \n",
       "8     AFL                         AFLAC        1.12        3.1   \n",
       "9    AGNC               AGNC Investment        1.44       11.3   \n",
       "10    ADC                  Agree Realty        2.40        3.7   \n",
       "11    ALX                   Alexander's       18.00        7.1   \n",
       "12    ALE                        ALLETE        2.47        4.4   \n",
       "13     AB    Alliancebernstein Holding         2.68       11.8   \n",
       "14    LNT                Alliant Energy        1.52        3.2   \n",
       "\n",
       "    div_consistency_score  \n",
       "0                0.918750  \n",
       "1                0.886364  \n",
       "2                0.882809  \n",
       "3                0.826935  \n",
       "4                0.772959  \n",
       "5                0.874991  \n",
       "6                0.562500  \n",
       "7                0.875831  \n",
       "8                0.828647  \n",
       "9                0.633304  \n",
       "10               0.759658  \n",
       "11               0.871163  \n",
       "12               0.894370  \n",
       "13               0.812078  \n",
       "14               0.900220  "
      ]
     },
     "execution_count": 11,
     "metadata": {},
     "output_type": "execute_result"
    }
   ],
   "source": [
    "div_stocks[:15]"
   ]
  },
  {
   "cell_type": "code",
   "execution_count": 13,
   "metadata": {
    "ExecuteTime": {
     "end_time": "2020-08-26T15:59:21.992542Z",
     "start_time": "2020-08-26T15:59:21.986774Z"
    }
   },
   "outputs": [
    {
     "data": {
      "text/plain": [
       "'make sure i get the percent of the year and multiply the first coefficient by that percent for all '"
      ]
     },
     "execution_count": 13,
     "metadata": {},
     "output_type": "execute_result"
    }
   ],
   "source": [
    "\"\"\"make sure i get the percent of the year and multiply the first coefficient by that percent for all \"\"\""
   ]
  },
  {
   "cell_type": "code",
   "execution_count": 25,
   "metadata": {
    "ExecuteTime": {
     "end_time": "2020-08-26T19:09:45.397775Z",
     "start_time": "2020-08-26T19:09:45.393524Z"
    }
   },
   "outputs": [],
   "source": [
    "x = [1/(2**(x+1)) for x in range(10)][::-1]"
   ]
  },
  {
   "cell_type": "code",
   "execution_count": 26,
   "metadata": {
    "ExecuteTime": {
     "end_time": "2020-08-26T19:09:46.355117Z",
     "start_time": "2020-08-26T19:09:46.349132Z"
    }
   },
   "outputs": [
    {
     "data": {
      "text/plain": [
       "[0.0009765625,\n",
       " 0.001953125,\n",
       " 0.00390625,\n",
       " 0.0078125,\n",
       " 0.015625,\n",
       " 0.03125,\n",
       " 0.0625,\n",
       " 0.125,\n",
       " 0.25,\n",
       " 0.5]"
      ]
     },
     "execution_count": 26,
     "metadata": {},
     "output_type": "execute_result"
    }
   ],
   "source": [
    "x"
   ]
  },
  {
   "cell_type": "code",
   "execution_count": 27,
   "metadata": {
    "ExecuteTime": {
     "end_time": "2020-08-26T19:09:47.484650Z",
     "start_time": "2020-08-26T19:09:47.480511Z"
    }
   },
   "outputs": [],
   "source": [
    "x[-1] = x[-1]*datetime.now().timetuple().tm_yday/365"
   ]
  },
  {
   "cell_type": "code",
   "execution_count": 28,
   "metadata": {
    "ExecuteTime": {
     "end_time": "2020-08-26T19:09:48.906923Z",
     "start_time": "2020-08-26T19:09:48.900263Z"
    }
   },
   "outputs": [
    {
     "data": {
      "text/plain": [
       "[0.0009765625,\n",
       " 0.001953125,\n",
       " 0.00390625,\n",
       " 0.0078125,\n",
       " 0.015625,\n",
       " 0.03125,\n",
       " 0.0625,\n",
       " 0.125,\n",
       " 0.25,\n",
       " 0.3273972602739726]"
      ]
     },
     "execution_count": 28,
     "metadata": {},
     "output_type": "execute_result"
    }
   ],
   "source": [
    "x"
   ]
  },
  {
   "cell_type": "code",
   "execution_count": null,
   "metadata": {},
   "outputs": [],
   "source": []
  }
 ],
 "metadata": {
  "kernelspec": {
   "display_name": "Python 3",
   "language": "python",
   "name": "python3"
  },
  "language_info": {
   "codemirror_mode": {
    "name": "ipython",
    "version": 3
   },
   "file_extension": ".py",
   "mimetype": "text/x-python",
   "name": "python",
   "nbconvert_exporter": "python",
   "pygments_lexer": "ipython3",
   "version": "3.7.1"
  }
 },
 "nbformat": 4,
 "nbformat_minor": 4
}
