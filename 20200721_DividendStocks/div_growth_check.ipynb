{
 "cells": [
  {
   "cell_type": "code",
   "execution_count": 1,
   "metadata": {
    "ExecuteTime": {
     "end_time": "2020-09-12T17:53:41.133180Z",
     "start_time": "2020-09-12T17:53:40.112902Z"
    }
   },
   "outputs": [
    {
     "name": "stdout",
     "output_type": "stream",
     "text": [
      "importing Jupyter notebook from dividend_detective_scrape.ipynb\n"
     ]
    }
   ],
   "source": [
    "import pandas as pd\n",
    "import numpy as np\n",
    "import import_ipynb\n",
    "import dividend_detective_scrape\n",
    "\n",
    "import yfinance as yf\n",
    "\n",
    "import datetime as dt\n",
    "\n",
    "from datetime import datetime"
   ]
  },
  {
   "cell_type": "code",
   "execution_count": 2,
   "metadata": {
    "ExecuteTime": {
     "end_time": "2020-09-12T17:53:41.142550Z",
     "start_time": "2020-09-12T17:53:41.136354Z"
    }
   },
   "outputs": [],
   "source": [
    "def trim_div_data(stockObj):\n",
    "    actns = stockObj.actions\n",
    "    for i,r in actns.iterrows():\n",
    "        if r['Dividends'] > 0:\n",
    "            first_div_date = i\n",
    "            break\n",
    "\n",
    "    actns = actns.loc[first_div_date:]\n",
    "    return actns, first_div_date"
   ]
  },
  {
   "cell_type": "code",
   "execution_count": 3,
   "metadata": {
    "ExecuteTime": {
     "end_time": "2020-09-12T17:53:41.158936Z",
     "start_time": "2020-09-12T17:53:41.145393Z"
    }
   },
   "outputs": [],
   "source": [
    "def add_div_data_details(actns, first_div_date):\n",
    "    actns['days_since_first_div'] = (actns.index-first_div_date).days\n",
    "    actns['year'] = actns.index.year\n",
    "    \n",
    "    h = []\n",
    "    l = []\n",
    "    for i,r in actns.iterrows():\n",
    "        prices = stockObj.history(start=i,end = i+pd.DateOffset(1)).iloc[0]\n",
    "        h.append(prices['High'])\n",
    "        l.append(prices['Low'])\n",
    "\n",
    "    actns['Stock_High'] = h\n",
    "    actns['Stock_Low'] = l\n",
    "    \n",
    "    actns['day_div_yield'] = actns['Dividends']/actns['Stock_High']\n",
    "    return actns"
   ]
  },
  {
   "cell_type": "code",
   "execution_count": 4,
   "metadata": {
    "ExecuteTime": {
     "end_time": "2020-09-12T17:53:41.178502Z",
     "start_time": "2020-09-12T17:53:41.167215Z"
    }
   },
   "outputs": [],
   "source": [
    "def get_ind_div_data(stockObj):\n",
    "    df, first_div_date = trim_div_data(stockObj)\n",
    "    return add_div_data_details(df, first_div_date)"
   ]
  },
  {
   "cell_type": "code",
   "execution_count": 5,
   "metadata": {
    "ExecuteTime": {
     "end_time": "2020-09-12T17:53:41.193997Z",
     "start_time": "2020-09-12T17:53:41.183545Z"
    }
   },
   "outputs": [],
   "source": [
    "def get_div_consistency_score(stockObj):\n",
    "    \n",
    "    df = stockObj.actions\n",
    "    df['year'] = df.index.year\n",
    "    df = df[df['Dividends']>0]\n",
    "    df = df.drop(columns=['Stock Splits'])\n",
    "    \n",
    "    ann_df = df.groupby(['year']).agg(\n",
    "        {'Dividends': np.sum}).rename(columns=\n",
    "        {'Dividends':'dividends'})\n",
    "    start_year = ann_df.index[0]\n",
    "    end_year = ann_df.index[len(ann_df)-1]+1\n",
    "    ann_df = ann_df.reindex(list(range(start_year,end_year)), fill_value=0)\n",
    "    \n",
    "    consistancy_coeff = [1/(2**(x+1)) for x in range(len(ann_df))][::-1]\n",
    "    year_progress = datetime.now().timetuple().tm_yday/365\n",
    "    consistancy_coeff[-1] = consistancy_coeff[-1]*year_progress\n",
    "    \n",
    "    ann_df['div_consistency_score'] = consistancy_coeff\n",
    "    \n",
    "    highest_div = ann_df.iloc[0]['dividends']\n",
    "    \n",
    "#     add another weight to the last cell where i get the percentage of the year we've been in and multiply it by that\n",
    "\n",
    "    for i,r in ann_df[1:].iterrows():      \n",
    "#         i need to think about a better way to do this because right now\n",
    "#         it compares the wrong two pieces\n",
    "        if r['dividends'] < ann_df.loc[i-1]['dividends']:\n",
    "            mult = r['div_consistency_score']\n",
    "            div_perc = r['dividends']/highest_div\n",
    "            ann_df.at[i, 'div_consistency_score'] = mult * div_perc\n",
    "        else:\n",
    "            highest_div = r['dividends']\n",
    "    \n",
    "    return ann_df['div_consistency_score'].sum()"
   ]
  },
  {
   "cell_type": "code",
   "execution_count": 6,
   "metadata": {
    "ExecuteTime": {
     "end_time": "2020-09-12T17:53:41.202150Z",
     "start_time": "2020-09-12T17:53:41.196281Z"
    }
   },
   "outputs": [],
   "source": [
    "def get_all_consistancy_scores(stockList):\n",
    "    for index, row in stockList.iterrows():\n",
    "        stockObj = yf.Ticker(row['ticker'])\n",
    "        div_consis = get_div_consistency_score(stockObj)\n",
    "        stockList.at[index, 'div_consistency_score'] = div_consis\n",
    "    return stockList"
   ]
  },
  {
   "cell_type": "code",
   "execution_count": 7,
   "metadata": {
    "ExecuteTime": {
     "end_time": "2020-09-12T17:53:41.223187Z",
     "start_time": "2020-09-12T17:53:41.210324Z"
    }
   },
   "outputs": [],
   "source": [
    "def add_div_consistency_scores(df):\n",
    "    df['div_consistency_score'] = 0.0\n",
    "    df=get_all_consistancy_scores(df)\n",
    "    return df"
   ]
  },
  {
   "cell_type": "code",
   "execution_count": 8,
   "metadata": {
    "ExecuteTime": {
     "end_time": "2020-09-12T17:53:41.233052Z",
     "start_time": "2020-09-12T17:53:41.227613Z"
    }
   },
   "outputs": [],
   "source": [
    "def get_div_stocks(min_div = 5.0, min_consistency=.7):\n",
    "    df = dividend_detective_scrape.get_data()\n",
    "    \n",
    "    df= df[df['div_yield']>min_div]\n",
    "    \n",
    "    df = add_div_consistency_scores(df)\n",
    "    \n",
    "    df = df[df['div_consistency_score']>min_consistency]\n",
    "    df = df.sort_values('div_consistency_score', ascending=False)\n",
    "    \n",
    "    return df\n",
    "    "
   ]
  },
  {
   "cell_type": "code",
   "execution_count": 9,
   "metadata": {
    "ExecuteTime": {
     "end_time": "2020-09-12T17:55:47.712765Z",
     "start_time": "2020-09-12T17:53:41.236533Z"
    }
   },
   "outputs": [
    {
     "name": "stdout",
     "output_type": "stream",
     "text": [
      "CPU times: user 29.3 s, sys: 1.47 s, total: 30.8 s\n",
      "Wall time: 2min 6s\n"
     ]
    }
   ],
   "source": [
    "%%time\n",
    "\n",
    "div_stocks = get_div_stocks()"
   ]
  },
  {
   "cell_type": "code",
   "execution_count": 10,
   "metadata": {
    "ExecuteTime": {
     "end_time": "2020-09-12T17:55:47.789107Z",
     "start_time": "2020-09-12T17:55:47.716666Z"
    }
   },
   "outputs": [
    {
     "data": {
      "text/html": [
       "<div>\n",
       "<style scoped>\n",
       "    .dataframe tbody tr th:only-of-type {\n",
       "        vertical-align: middle;\n",
       "    }\n",
       "\n",
       "    .dataframe tbody tr th {\n",
       "        vertical-align: top;\n",
       "    }\n",
       "\n",
       "    .dataframe thead th {\n",
       "        text-align: right;\n",
       "    }\n",
       "</style>\n",
       "<table border=\"1\" class=\"dataframe\">\n",
       "  <thead>\n",
       "    <tr style=\"text-align: right;\">\n",
       "      <th></th>\n",
       "      <th>ticker</th>\n",
       "      <th>name</th>\n",
       "      <th>annual_div</th>\n",
       "      <th>div_yield</th>\n",
       "      <th>div_consistency_score</th>\n",
       "    </tr>\n",
       "  </thead>\n",
       "  <tbody>\n",
       "    <tr>\n",
       "      <th>442</th>\n",
       "      <td>MFC</td>\n",
       "      <td>Manulife Financial</td>\n",
       "      <td>0.79</td>\n",
       "      <td>6.5</td>\n",
       "      <td>0.847362</td>\n",
       "    </tr>\n",
       "    <tr>\n",
       "      <th>601</th>\n",
       "      <td>SC</td>\n",
       "      <td>Santander Consumer USA Holdings</td>\n",
       "      <td>0.88</td>\n",
       "      <td>5.6</td>\n",
       "      <td>0.827247</td>\n",
       "    </tr>\n",
       "    <tr>\n",
       "      <th>662</th>\n",
       "      <td>TGP</td>\n",
       "      <td>Teekay LNG Partners</td>\n",
       "      <td>1.00</td>\n",
       "      <td>8.9</td>\n",
       "      <td>0.815791</td>\n",
       "    </tr>\n",
       "    <tr>\n",
       "      <th>52</th>\n",
       "      <td>APAM</td>\n",
       "      <td>Artisan Partners Asset Management</td>\n",
       "      <td>2.44</td>\n",
       "      <td>8.3</td>\n",
       "      <td>0.813321</td>\n",
       "    </tr>\n",
       "    <tr>\n",
       "      <th>646</th>\n",
       "      <td>SXC</td>\n",
       "      <td>SunCoke Energy</td>\n",
       "      <td>0.24</td>\n",
       "      <td>6.7</td>\n",
       "      <td>0.811622</td>\n",
       "    </tr>\n",
       "    <tr>\n",
       "      <th>...</th>\n",
       "      <td>...</td>\n",
       "      <td>...</td>\n",
       "      <td>...</td>\n",
       "      <td>...</td>\n",
       "      <td>...</td>\n",
       "    </tr>\n",
       "    <tr>\n",
       "      <th>290</th>\n",
       "      <td>FCPT</td>\n",
       "      <td>Four Corners Property Trust</td>\n",
       "      <td>1.22</td>\n",
       "      <td>5.6</td>\n",
       "      <td>0.701845</td>\n",
       "    </tr>\n",
       "    <tr>\n",
       "      <th>78</th>\n",
       "      <td>BNS</td>\n",
       "      <td>Bank of Nova Scotia</td>\n",
       "      <td>2.55</td>\n",
       "      <td>6.7</td>\n",
       "      <td>0.701266</td>\n",
       "    </tr>\n",
       "    <tr>\n",
       "      <th>568</th>\n",
       "      <td>PFS</td>\n",
       "      <td>Provident Financial Services</td>\n",
       "      <td>0.92</td>\n",
       "      <td>6.9</td>\n",
       "      <td>0.701258</td>\n",
       "    </tr>\n",
       "    <tr>\n",
       "      <th>265</th>\n",
       "      <td>FITB</td>\n",
       "      <td>Fifth Third Bancorp</td>\n",
       "      <td>1.08</td>\n",
       "      <td>6.0</td>\n",
       "      <td>0.701151</td>\n",
       "    </tr>\n",
       "    <tr>\n",
       "      <th>259</th>\n",
       "      <td>AGM</td>\n",
       "      <td>Federal Agricultural Mortgage</td>\n",
       "      <td>3.20</td>\n",
       "      <td>5.1</td>\n",
       "      <td>0.700262</td>\n",
       "    </tr>\n",
       "  </tbody>\n",
       "</table>\n",
       "<p>127 rows × 5 columns</p>\n",
       "</div>"
      ],
      "text/plain": [
       "    ticker                               name  annual_div  div_yield  \\\n",
       "442    MFC                 Manulife Financial        0.79        6.5   \n",
       "601     SC    Santander Consumer USA Holdings        0.88        5.6   \n",
       "662    TGP                Teekay LNG Partners        1.00        8.9   \n",
       "52    APAM  Artisan Partners Asset Management        2.44        8.3   \n",
       "646    SXC                     SunCoke Energy        0.24        6.7   \n",
       "..     ...                                ...         ...        ...   \n",
       "290   FCPT        Four Corners Property Trust        1.22        5.6   \n",
       "78     BNS                Bank of Nova Scotia        2.55        6.7   \n",
       "568    PFS       Provident Financial Services        0.92        6.9   \n",
       "265   FITB                Fifth Third Bancorp        1.08        6.0   \n",
       "259    AGM      Federal Agricultural Mortgage        3.20        5.1   \n",
       "\n",
       "     div_consistency_score  \n",
       "442               0.847362  \n",
       "601               0.827247  \n",
       "662               0.815791  \n",
       "52                0.813321  \n",
       "646               0.811622  \n",
       "..                     ...  \n",
       "290               0.701845  \n",
       "78                0.701266  \n",
       "568               0.701258  \n",
       "265               0.701151  \n",
       "259               0.700262  \n",
       "\n",
       "[127 rows x 5 columns]"
      ]
     },
     "execution_count": 10,
     "metadata": {},
     "output_type": "execute_result"
    }
   ],
   "source": [
    "div_stocks"
   ]
  },
  {
   "cell_type": "code",
   "execution_count": null,
   "metadata": {},
   "outputs": [],
   "source": []
  }
 ],
 "metadata": {
  "kernelspec": {
   "display_name": "Python 3",
   "language": "python",
   "name": "python3"
  },
  "language_info": {
   "codemirror_mode": {
    "name": "ipython",
    "version": 3
   },
   "file_extension": ".py",
   "mimetype": "text/x-python",
   "name": "python",
   "nbconvert_exporter": "python",
   "pygments_lexer": "ipython3",
   "version": "3.7.1"
  }
 },
 "nbformat": 4,
 "nbformat_minor": 4
}
