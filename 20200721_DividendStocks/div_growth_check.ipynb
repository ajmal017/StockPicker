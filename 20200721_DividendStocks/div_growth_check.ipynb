{
 "cells": [
  {
   "cell_type": "code",
   "execution_count": 1,
   "metadata": {
    "ExecuteTime": {
     "end_time": "2020-08-28T01:39:47.186830Z",
     "start_time": "2020-08-28T01:39:46.100154Z"
    }
   },
   "outputs": [
    {
     "name": "stdout",
     "output_type": "stream",
     "text": [
      "importing Jupyter notebook from dividend_detective_scrape.ipynb\n"
     ]
    }
   ],
   "source": [
    "import pandas as pd\n",
    "import numpy as np\n",
    "import import_ipynb\n",
    "import dividend_detective_scrape\n",
    "\n",
    "import yfinance as yf\n",
    "\n",
    "import datetime as dt\n",
    "\n",
    "from datetime import datetime"
   ]
  },
  {
   "cell_type": "code",
   "execution_count": 2,
   "metadata": {
    "ExecuteTime": {
     "end_time": "2020-08-28T01:39:47.202100Z",
     "start_time": "2020-08-28T01:39:47.191831Z"
    }
   },
   "outputs": [],
   "source": [
    "def trim_div_data(stockObj):\n",
    "    actns = stockObj.actions\n",
    "    for i,r in actns.iterrows():\n",
    "        if r['Dividends'] > 0:\n",
    "            first_div_date = i\n",
    "            break\n",
    "\n",
    "    actns = actns.loc[first_div_date:]\n",
    "    return actns, first_div_date"
   ]
  },
  {
   "cell_type": "code",
   "execution_count": 3,
   "metadata": {
    "ExecuteTime": {
     "end_time": "2020-08-28T01:39:47.233925Z",
     "start_time": "2020-08-28T01:39:47.219448Z"
    }
   },
   "outputs": [],
   "source": [
    "def add_div_data_details(actns, first_div_date):\n",
    "    actns['days_since_first_div'] = (actns.index-first_div_date).days\n",
    "    actns['year'] = actns.index.year\n",
    "    \n",
    "    h = []\n",
    "    l = []\n",
    "    for i,r in actns.iterrows():\n",
    "        prices = stockObj.history(start=i,end = i+pd.DateOffset(1)).iloc[0]\n",
    "        h.append(prices['High'])\n",
    "        l.append(prices['Low'])\n",
    "\n",
    "    actns['Stock_High'] = h\n",
    "    actns['Stock_Low'] = l\n",
    "    \n",
    "    actns['day_div_yield'] = actns['Dividends']/actns['Stock_High']\n",
    "    return actns"
   ]
  },
  {
   "cell_type": "code",
   "execution_count": 4,
   "metadata": {
    "ExecuteTime": {
     "end_time": "2020-08-28T01:39:47.238648Z",
     "start_time": "2020-08-28T01:39:47.235881Z"
    }
   },
   "outputs": [],
   "source": [
    "def get_ind_div_data(stockObj):\n",
    "    df, first_div_date = trim_div_data(stockObj)\n",
    "    return add_div_data_details(df, first_div_date)"
   ]
  },
  {
   "cell_type": "code",
   "execution_count": 5,
   "metadata": {
    "ExecuteTime": {
     "end_time": "2020-08-28T01:39:47.254737Z",
     "start_time": "2020-08-28T01:39:47.240485Z"
    }
   },
   "outputs": [],
   "source": [
    "def get_div_consistency_score(stockObj):\n",
    "    \n",
    "    df = stockObj.actions\n",
    "    df['year'] = df.index.year\n",
    "    df = df[df['Dividends']>0]\n",
    "    df = df.drop(columns=['Stock Splits'])\n",
    "    \n",
    "    ann_df = df.groupby(['year']).agg(\n",
    "        {'Dividends': np.sum}).rename(columns=\n",
    "        {'Dividends':'dividends'})\n",
    "    start_year = ann_df.index[0]\n",
    "    end_year = ann_df.index[len(ann_df)-1]+1\n",
    "    ann_df = ann_df.reindex(list(range(start_year,end_year)), fill_value=0)\n",
    "    \n",
    "    consistancy_coeff = [1/(2**(x+1)) for x in range(len(ann_df))][::-1]\n",
    "    year_progress = datetime.now().timetuple().tm_yday/365\n",
    "    consistancy_coeff[-1] = consistancy_coeff[-1]*year_progress\n",
    "    \n",
    "    ann_df['div_consistency_score'] = consistancy_coeff\n",
    "    \n",
    "    highest_div = ann_df.iloc[0]['dividends']\n",
    "    \n",
    "#     add another weight to the last cell where i get the percentage of the year we've been in and multiply it by that\n",
    "\n",
    "    for i,r in ann_df[1:].iterrows():      \n",
    "#         i need to think about a better way to do this because right now\n",
    "#         it compares the wrong two pieces\n",
    "        if r['dividends'] < ann_df.loc[i-1]['dividends']:\n",
    "            mult = r['div_consistency_score']\n",
    "            div_perc = r['dividends']/highest_div\n",
    "            ann_df.at[i, 'div_consistency_score'] = mult * div_perc\n",
    "        else:\n",
    "            highest_div = r['dividends']\n",
    "    \n",
    "    return ann_df['div_consistency_score'].sum()"
   ]
  },
  {
   "cell_type": "code",
   "execution_count": 6,
   "metadata": {
    "ExecuteTime": {
     "end_time": "2020-08-28T01:39:47.262599Z",
     "start_time": "2020-08-28T01:39:47.257424Z"
    }
   },
   "outputs": [],
   "source": [
    "def get_all_consistancy_scores(stockList):\n",
    "    for index, row in stockList.iterrows():\n",
    "        stockObj = yf.Ticker(row['ticker'])\n",
    "        div_consis = get_div_consistency_score(stockObj)\n",
    "        stockList.at[index, 'div_consistency_score'] = div_consis\n",
    "    return stockList"
   ]
  },
  {
   "cell_type": "code",
   "execution_count": 7,
   "metadata": {
    "ExecuteTime": {
     "end_time": "2020-08-28T01:39:47.271908Z",
     "start_time": "2020-08-28T01:39:47.268402Z"
    }
   },
   "outputs": [],
   "source": [
    "def add_div_consistency_scores(df):\n",
    "    df['div_consistency_score'] = 0.0\n",
    "    df=get_all_consistancy_scores(df)\n",
    "    return df"
   ]
  },
  {
   "cell_type": "code",
   "execution_count": 8,
   "metadata": {
    "ExecuteTime": {
     "end_time": "2020-08-28T01:39:47.278036Z",
     "start_time": "2020-08-28T01:39:47.273937Z"
    }
   },
   "outputs": [],
   "source": [
    "def get_div_stocks(min_div = 5.0, min_consistency=.7):\n",
    "    df = dividend_detective_scrape.get_data()\n",
    "    \n",
    "    df= df[df['div_yield']>min_div]\n",
    "    \n",
    "    df = add_div_consistency_scores(df)\n",
    "    \n",
    "    df = df[df['div_consistency_score']>min_consistency]\n",
    "    df = df.sort_values('div_consistency_score', ascending=False)\n",
    "    \n",
    "    return df\n",
    "    "
   ]
  },
  {
   "cell_type": "code",
   "execution_count": 9,
   "metadata": {
    "ExecuteTime": {
     "end_time": "2020-08-28T01:42:05.497947Z",
     "start_time": "2020-08-28T01:39:47.281368Z"
    }
   },
   "outputs": [
    {
     "name": "stdout",
     "output_type": "stream",
     "text": [
      "CPU times: user 30 s, sys: 1.54 s, total: 31.6 s\n",
      "Wall time: 2min 18s\n"
     ]
    }
   ],
   "source": [
    "%%time\n",
    "div_stocks = get_div_stocks()"
   ]
  },
  {
   "cell_type": "code",
   "execution_count": 10,
   "metadata": {
    "ExecuteTime": {
     "end_time": "2020-08-28T01:42:05.599246Z",
     "start_time": "2020-08-28T01:42:05.503865Z"
    }
   },
   "outputs": [
    {
     "data": {
      "text/html": [
       "<div>\n",
       "<style scoped>\n",
       "    .dataframe tbody tr th:only-of-type {\n",
       "        vertical-align: middle;\n",
       "    }\n",
       "\n",
       "    .dataframe tbody tr th {\n",
       "        vertical-align: top;\n",
       "    }\n",
       "\n",
       "    .dataframe thead th {\n",
       "        text-align: right;\n",
       "    }\n",
       "</style>\n",
       "<table border=\"1\" class=\"dataframe\">\n",
       "  <thead>\n",
       "    <tr style=\"text-align: right;\">\n",
       "      <th></th>\n",
       "      <th>ticker</th>\n",
       "      <th>name</th>\n",
       "      <th>annual_div</th>\n",
       "      <th>div_yield</th>\n",
       "      <th>div_consistency_score</th>\n",
       "    </tr>\n",
       "  </thead>\n",
       "  <tbody>\n",
       "    <tr>\n",
       "      <th>442</th>\n",
       "      <td>MFC</td>\n",
       "      <td>Manulife Financial</td>\n",
       "      <td>0.79</td>\n",
       "      <td>6.5</td>\n",
       "      <td>0.825444</td>\n",
       "    </tr>\n",
       "    <tr>\n",
       "      <th>601</th>\n",
       "      <td>SC</td>\n",
       "      <td>Santander Consumer USA Holdings</td>\n",
       "      <td>0.88</td>\n",
       "      <td>5.6</td>\n",
       "      <td>0.805330</td>\n",
       "    </tr>\n",
       "    <tr>\n",
       "      <th>662</th>\n",
       "      <td>TGP</td>\n",
       "      <td>Teekay LNG Partners</td>\n",
       "      <td>1.00</td>\n",
       "      <td>8.9</td>\n",
       "      <td>0.794491</td>\n",
       "    </tr>\n",
       "    <tr>\n",
       "      <th>52</th>\n",
       "      <td>APAM</td>\n",
       "      <td>Artisan Partners Asset Management</td>\n",
       "      <td>2.44</td>\n",
       "      <td>8.3</td>\n",
       "      <td>0.793494</td>\n",
       "    </tr>\n",
       "    <tr>\n",
       "      <th>646</th>\n",
       "      <td>SXC</td>\n",
       "      <td>SunCoke Energy</td>\n",
       "      <td>0.24</td>\n",
       "      <td>6.7</td>\n",
       "      <td>0.789705</td>\n",
       "    </tr>\n",
       "    <tr>\n",
       "      <th>...</th>\n",
       "      <td>...</td>\n",
       "      <td>...</td>\n",
       "      <td>...</td>\n",
       "      <td>...</td>\n",
       "      <td>...</td>\n",
       "    </tr>\n",
       "    <tr>\n",
       "      <th>350</th>\n",
       "      <td>HESM</td>\n",
       "      <td>Hess Midstream Operations</td>\n",
       "      <td>1.72</td>\n",
       "      <td>10.7</td>\n",
       "      <td>0.709753</td>\n",
       "    </tr>\n",
       "    <tr>\n",
       "      <th>139</th>\n",
       "      <td>CC</td>\n",
       "      <td>Chemours Co</td>\n",
       "      <td>1.00</td>\n",
       "      <td>7.8</td>\n",
       "      <td>0.705848</td>\n",
       "    </tr>\n",
       "    <tr>\n",
       "      <th>99</th>\n",
       "      <td>BPFH</td>\n",
       "      <td>Boston Private Financial Hldg</td>\n",
       "      <td>0.48</td>\n",
       "      <td>6.7</td>\n",
       "      <td>0.705214</td>\n",
       "    </tr>\n",
       "    <tr>\n",
       "      <th>23</th>\n",
       "      <td>AFIN</td>\n",
       "      <td>American Finance Trust</td>\n",
       "      <td>0.85</td>\n",
       "      <td>11.4</td>\n",
       "      <td>0.702576</td>\n",
       "    </tr>\n",
       "    <tr>\n",
       "      <th>159</th>\n",
       "      <td>CNXM</td>\n",
       "      <td>CNX Midstream Partners</td>\n",
       "      <td>1.28</td>\n",
       "      <td>19.0</td>\n",
       "      <td>0.700020</td>\n",
       "    </tr>\n",
       "  </tbody>\n",
       "</table>\n",
       "<p>86 rows × 5 columns</p>\n",
       "</div>"
      ],
      "text/plain": [
       "    ticker                               name  annual_div  div_yield  \\\n",
       "442    MFC                 Manulife Financial        0.79        6.5   \n",
       "601     SC    Santander Consumer USA Holdings        0.88        5.6   \n",
       "662    TGP                Teekay LNG Partners        1.00        8.9   \n",
       "52    APAM  Artisan Partners Asset Management        2.44        8.3   \n",
       "646    SXC                     SunCoke Energy        0.24        6.7   \n",
       "..     ...                                ...         ...        ...   \n",
       "350   HESM         Hess Midstream Operations         1.72       10.7   \n",
       "139     CC                        Chemours Co        1.00        7.8   \n",
       "99    BPFH      Boston Private Financial Hldg        0.48        6.7   \n",
       "23    AFIN             American Finance Trust        0.85       11.4   \n",
       "159   CNXM            CNX Midstream Partners         1.28       19.0   \n",
       "\n",
       "     div_consistency_score  \n",
       "442               0.825444  \n",
       "601               0.805330  \n",
       "662               0.794491  \n",
       "52                0.793494  \n",
       "646               0.789705  \n",
       "..                     ...  \n",
       "350               0.709753  \n",
       "139               0.705848  \n",
       "99                0.705214  \n",
       "23                0.702576  \n",
       "159               0.700020  \n",
       "\n",
       "[86 rows x 5 columns]"
      ]
     },
     "execution_count": 10,
     "metadata": {},
     "output_type": "execute_result"
    }
   ],
   "source": [
    "div_stocks"
   ]
  },
  {
   "cell_type": "code",
   "execution_count": null,
   "metadata": {},
   "outputs": [],
   "source": []
  }
 ],
 "metadata": {
  "kernelspec": {
   "display_name": "Python 3",
   "language": "python",
   "name": "python3"
  },
  "language_info": {
   "codemirror_mode": {
    "name": "ipython",
    "version": 3
   },
   "file_extension": ".py",
   "mimetype": "text/x-python",
   "name": "python",
   "nbconvert_exporter": "python",
   "pygments_lexer": "ipython3",
   "version": "3.7.1"
  }
 },
 "nbformat": 4,
 "nbformat_minor": 4
}
