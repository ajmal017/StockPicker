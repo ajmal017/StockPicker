{
 "cells": [
  {
   "cell_type": "code",
   "execution_count": 1,
   "metadata": {
    "ExecuteTime": {
     "end_time": "2020-03-26T02:38:02.843691Z",
     "start_time": "2020-03-26T02:38:01.941033Z"
    }
   },
   "outputs": [],
   "source": [
    "\"\"\"\n",
    "v1.0\n",
    "\n",
    "This piece is attempting to normalize on the whole market\n",
    "20200424 - I realized after Covid 19 that major indexes like the S&P 500 are just indexes of overall uncertainty\n",
    "    the bulls have claimed their prices and the bears have claimed their prices and the only times people will \n",
    "        pull their money out of the market entirely is when they don't know somewherre better to put it\n",
    "\"\"\""
   ]
  },
  {
   "cell_type": "code",
   "execution_count": null,
   "metadata": {},
   "outputs": [],
   "source": [
    "import yfinance as yf\n",
    "import pandas as pd\n",
    "import numpy as np"
   ]
  },
  {
   "cell_type": "code",
   "execution_count": 2,
   "metadata": {
    "ExecuteTime": {
     "end_time": "2020-03-26T02:38:03.126064Z",
     "start_time": "2020-03-26T02:38:02.846799Z"
    }
   },
   "outputs": [],
   "source": [
    "import matplotlib.pyplot as plt\n",
    "from matplotlib.pyplot import figure\n",
    "\n",
    "%matplotlib inline"
   ]
  },
  {
   "cell_type": "code",
   "execution_count": 3,
   "metadata": {
    "ExecuteTime": {
     "end_time": "2020-03-26T02:38:04.427630Z",
     "start_time": "2020-03-26T02:38:03.128054Z"
    }
   },
   "outputs": [],
   "source": [
    "from sklearn.linear_model import LinearRegression, Lasso, LassoCV, Ridge, RidgeCV\n",
    "from sklearn.preprocessing import StandardScaler, PolynomialFeatures\n",
    "from sklearn.metrics import mean_squared_error, r2_score\n",
    "from scipy import stats"
   ]
  },
  {
   "cell_type": "code",
   "execution_count": 4,
   "metadata": {
    "ExecuteTime": {
     "end_time": "2020-03-26T02:38:07.880186Z",
     "start_time": "2020-03-26T02:38:04.431447Z"
    }
   },
   "outputs": [
    {
     "data": {
      "text/plain": [
       "{'previousClose': 2447.33,\n",
       " 'regularMarketOpen': 2457.77,\n",
       " 'twoHundredDayAverage': 3078.44,\n",
       " 'trailingAnnualDividendYield': None,\n",
       " 'payoutRatio': None,\n",
       " 'volume24Hr': None,\n",
       " 'regularMarketDayHigh': 2571.42,\n",
       " 'navPrice': None,\n",
       " 'averageDailyVolume10Day': 8119535714,\n",
       " 'totalAssets': None,\n",
       " 'regularMarketPreviousClose': 2447.33,\n",
       " 'fiftyDayAverage': 2986.1248,\n",
       " 'trailingAnnualDividendRate': None,\n",
       " 'open': 2457.77,\n",
       " 'toCurrency': None,\n",
       " 'averageVolume10days': 8119535714,\n",
       " 'expireDate': None,\n",
       " 'yield': None,\n",
       " 'algorithm': None,\n",
       " 'dividendRate': None,\n",
       " 'exDividendDate': None,\n",
       " 'beta': None,\n",
       " 'circulatingSupply': None,\n",
       " 'startDate': None,\n",
       " 'regularMarketDayLow': 2407.53,\n",
       " 'priceHint': 2,\n",
       " 'currency': 'USD',\n",
       " 'regularMarketVolume': 586234103,\n",
       " 'lastMarket': None,\n",
       " 'maxSupply': None,\n",
       " 'openInterest': None,\n",
       " 'marketCap': None,\n",
       " 'volumeAllCurrencies': None,\n",
       " 'strikePrice': None,\n",
       " 'averageVolume': 4904042131,\n",
       " 'priceToSalesTrailing12Months': None,\n",
       " 'dayLow': 2407.53,\n",
       " 'ask': 2750.57,\n",
       " 'ytdReturn': None,\n",
       " 'askSize': 0,\n",
       " 'volume': 586234103,\n",
       " 'fiftyTwoWeekHigh': 3393.52,\n",
       " 'forwardPE': None,\n",
       " 'maxAge': 1,\n",
       " 'fromCurrency': None,\n",
       " 'fiveYearAvgDividendYield': None,\n",
       " 'fiftyTwoWeekLow': 2191.86,\n",
       " 'bid': 2417.42,\n",
       " 'tradeable': False,\n",
       " 'dividendYield': None,\n",
       " 'bidSize': 0,\n",
       " 'dayHigh': 2571.42,\n",
       " 'exchange': 'SNP',\n",
       " 'shortName': 'S&P 500',\n",
       " 'exchangeTimezoneName': 'America/New_York',\n",
       " 'exchangeTimezoneShortName': 'EDT',\n",
       " 'isEsgPopulated': False,\n",
       " 'gmtOffSetMilliseconds': '-14400000',\n",
       " 'quoteType': 'INDEX',\n",
       " 'symbol': '^GSPC',\n",
       " 'messageBoardId': 'finmb_INDEXGSPC',\n",
       " 'market': 'us_market',\n",
       " 'regularMarketPrice': 2457.77,\n",
       " 'logo_url': ''}"
      ]
     },
     "execution_count": 4,
     "metadata": {},
     "output_type": "execute_result"
    }
   ],
   "source": [
    "sp500 = yf.Ticker(\"^GSPC\")\n",
    "\n",
    "sp500.info"
   ]
  },
  {
   "cell_type": "code",
   "execution_count": 5,
   "metadata": {
    "ExecuteTime": {
     "end_time": "2020-03-26T02:38:09.570033Z",
     "start_time": "2020-03-26T02:38:07.883879Z"
    }
   },
   "outputs": [],
   "source": [
    "df = sp500.history(period='max').reset_index()\n",
    "\n",
    "altered_df = sp500.history(period='max').reset_index()"
   ]
  },
  {
   "cell_type": "code",
   "execution_count": 6,
   "metadata": {
    "ExecuteTime": {
     "end_time": "2020-03-26T02:38:09.611358Z",
     "start_time": "2020-03-26T02:38:09.572080Z"
    }
   },
   "outputs": [],
   "source": [
    "# i need to figure out what is important for technical analysis\n",
    "# prior six months\n",
    "\n",
    "# is it more useful to keep it as the multiplier or subtract one to represent growth\n",
    "# it depends on how i'd like to use it\n",
    "\n",
    "altered_df['priorDayBW'] = df.Open/df.Open.shift(1)-1\n",
    "altered_df['priorWeekBW'] = df.Open/df.Open.shift(5)-1\n",
    "altered_df['priorMonthBW'] = df.Open/df.Open.shift(21)-1\n",
    "altered_df['prior3MonthsBW'] = df.Open/df.Open.shift(63)-1\n",
    "altered_df['prior6monthsBW'] = df.Open/df.Open.shift(126)-1\n",
    "altered_df['priorYearBW'] = df.Open/df.Open.shift(253)-1\n",
    "altered_df['prior2YearBW'] = df.Open/df.Open.shift(506)-1\n",
    "altered_df['prior3YearBW'] = df.Open/df.Open.shift(759)-1\n",
    "altered_df['prior4YearBW'] = df.Open/df.Open.shift(1012)-1\n",
    "altered_df['prior5YearBW'] = df.Open/df.Open.shift(1265)-1\n",
    "altered_df['prior8YearBW'] = df.Open/df.Open.shift(2024)-1\n",
    "altered_df['prior10YearBW'] = df.Open/df.Open.shift(2530)-1\n",
    "altered_df['prior15YearBW'] = df.Open/df.Open.shift(3795)-1\n",
    "altered_df['prior20YearBW'] = df.Open/df.Open.shift(5060)-1"
   ]
  },
  {
   "cell_type": "code",
   "execution_count": 7,
   "metadata": {
    "ExecuteTime": {
     "end_time": "2020-03-26T02:38:09.728546Z",
     "start_time": "2020-03-26T02:38:09.613162Z"
    }
   },
   "outputs": [],
   "source": [
    "for i in range(0,126):\n",
    "    s = 'Open'+str(i+1)+'TDAgo'\n",
    "    altered_df[s] = df.Open.shift(i)\n",
    "    "
   ]
  },
  {
   "cell_type": "code",
   "execution_count": 8,
   "metadata": {
    "ExecuteTime": {
     "end_time": "2020-03-26T02:38:09.773874Z",
     "start_time": "2020-03-26T02:38:09.730354Z"
    }
   },
   "outputs": [
    {
     "data": {
      "text/html": [
       "<div>\n",
       "<style scoped>\n",
       "    .dataframe tbody tr th:only-of-type {\n",
       "        vertical-align: middle;\n",
       "    }\n",
       "\n",
       "    .dataframe tbody tr th {\n",
       "        vertical-align: top;\n",
       "    }\n",
       "\n",
       "    .dataframe thead th {\n",
       "        text-align: right;\n",
       "    }\n",
       "</style>\n",
       "<table border=\"1\" class=\"dataframe\">\n",
       "  <thead>\n",
       "    <tr style=\"text-align: right;\">\n",
       "      <th></th>\n",
       "      <th>Date</th>\n",
       "      <th>Open</th>\n",
       "      <th>High</th>\n",
       "      <th>Low</th>\n",
       "      <th>Close</th>\n",
       "      <th>Volume</th>\n",
       "      <th>Dividends</th>\n",
       "      <th>Stock Splits</th>\n",
       "      <th>priorDayBW</th>\n",
       "      <th>priorWeekBW</th>\n",
       "      <th>...</th>\n",
       "      <th>Open117TDAgo</th>\n",
       "      <th>Open118TDAgo</th>\n",
       "      <th>Open119TDAgo</th>\n",
       "      <th>Open120TDAgo</th>\n",
       "      <th>Open121TDAgo</th>\n",
       "      <th>Open122TDAgo</th>\n",
       "      <th>Open123TDAgo</th>\n",
       "      <th>Open124TDAgo</th>\n",
       "      <th>Open125TDAgo</th>\n",
       "      <th>Open126TDAgo</th>\n",
       "    </tr>\n",
       "  </thead>\n",
       "  <tbody>\n",
       "    <tr>\n",
       "      <th>0</th>\n",
       "      <td>1927-12-30</td>\n",
       "      <td>17.66</td>\n",
       "      <td>17.66</td>\n",
       "      <td>17.66</td>\n",
       "      <td>17.66</td>\n",
       "      <td>0</td>\n",
       "      <td>0</td>\n",
       "      <td>0</td>\n",
       "      <td>NaN</td>\n",
       "      <td>NaN</td>\n",
       "      <td>...</td>\n",
       "      <td>NaN</td>\n",
       "      <td>NaN</td>\n",
       "      <td>NaN</td>\n",
       "      <td>NaN</td>\n",
       "      <td>NaN</td>\n",
       "      <td>NaN</td>\n",
       "      <td>NaN</td>\n",
       "      <td>NaN</td>\n",
       "      <td>NaN</td>\n",
       "      <td>NaN</td>\n",
       "    </tr>\n",
       "    <tr>\n",
       "      <th>1</th>\n",
       "      <td>1928-01-03</td>\n",
       "      <td>17.76</td>\n",
       "      <td>17.76</td>\n",
       "      <td>17.76</td>\n",
       "      <td>17.76</td>\n",
       "      <td>0</td>\n",
       "      <td>0</td>\n",
       "      <td>0</td>\n",
       "      <td>0.005663</td>\n",
       "      <td>NaN</td>\n",
       "      <td>...</td>\n",
       "      <td>NaN</td>\n",
       "      <td>NaN</td>\n",
       "      <td>NaN</td>\n",
       "      <td>NaN</td>\n",
       "      <td>NaN</td>\n",
       "      <td>NaN</td>\n",
       "      <td>NaN</td>\n",
       "      <td>NaN</td>\n",
       "      <td>NaN</td>\n",
       "      <td>NaN</td>\n",
       "    </tr>\n",
       "    <tr>\n",
       "      <th>2</th>\n",
       "      <td>1928-01-04</td>\n",
       "      <td>17.72</td>\n",
       "      <td>17.72</td>\n",
       "      <td>17.72</td>\n",
       "      <td>17.72</td>\n",
       "      <td>0</td>\n",
       "      <td>0</td>\n",
       "      <td>0</td>\n",
       "      <td>-0.002252</td>\n",
       "      <td>NaN</td>\n",
       "      <td>...</td>\n",
       "      <td>NaN</td>\n",
       "      <td>NaN</td>\n",
       "      <td>NaN</td>\n",
       "      <td>NaN</td>\n",
       "      <td>NaN</td>\n",
       "      <td>NaN</td>\n",
       "      <td>NaN</td>\n",
       "      <td>NaN</td>\n",
       "      <td>NaN</td>\n",
       "      <td>NaN</td>\n",
       "    </tr>\n",
       "    <tr>\n",
       "      <th>3</th>\n",
       "      <td>1928-01-05</td>\n",
       "      <td>17.55</td>\n",
       "      <td>17.55</td>\n",
       "      <td>17.55</td>\n",
       "      <td>17.55</td>\n",
       "      <td>0</td>\n",
       "      <td>0</td>\n",
       "      <td>0</td>\n",
       "      <td>-0.009594</td>\n",
       "      <td>NaN</td>\n",
       "      <td>...</td>\n",
       "      <td>NaN</td>\n",
       "      <td>NaN</td>\n",
       "      <td>NaN</td>\n",
       "      <td>NaN</td>\n",
       "      <td>NaN</td>\n",
       "      <td>NaN</td>\n",
       "      <td>NaN</td>\n",
       "      <td>NaN</td>\n",
       "      <td>NaN</td>\n",
       "      <td>NaN</td>\n",
       "    </tr>\n",
       "    <tr>\n",
       "      <th>4</th>\n",
       "      <td>1928-01-06</td>\n",
       "      <td>17.66</td>\n",
       "      <td>17.66</td>\n",
       "      <td>17.66</td>\n",
       "      <td>17.66</td>\n",
       "      <td>0</td>\n",
       "      <td>0</td>\n",
       "      <td>0</td>\n",
       "      <td>0.006268</td>\n",
       "      <td>NaN</td>\n",
       "      <td>...</td>\n",
       "      <td>NaN</td>\n",
       "      <td>NaN</td>\n",
       "      <td>NaN</td>\n",
       "      <td>NaN</td>\n",
       "      <td>NaN</td>\n",
       "      <td>NaN</td>\n",
       "      <td>NaN</td>\n",
       "      <td>NaN</td>\n",
       "      <td>NaN</td>\n",
       "      <td>NaN</td>\n",
       "    </tr>\n",
       "    <tr>\n",
       "      <th>...</th>\n",
       "      <td>...</td>\n",
       "      <td>...</td>\n",
       "      <td>...</td>\n",
       "      <td>...</td>\n",
       "      <td>...</td>\n",
       "      <td>...</td>\n",
       "      <td>...</td>\n",
       "      <td>...</td>\n",
       "      <td>...</td>\n",
       "      <td>...</td>\n",
       "      <td>...</td>\n",
       "      <td>...</td>\n",
       "      <td>...</td>\n",
       "      <td>...</td>\n",
       "      <td>...</td>\n",
       "      <td>...</td>\n",
       "      <td>...</td>\n",
       "      <td>...</td>\n",
       "      <td>...</td>\n",
       "      <td>...</td>\n",
       "      <td>...</td>\n",
       "    </tr>\n",
       "    <tr>\n",
       "      <th>23162</th>\n",
       "      <td>2020-03-19</td>\n",
       "      <td>2393.48</td>\n",
       "      <td>2466.97</td>\n",
       "      <td>2319.78</td>\n",
       "      <td>2409.39</td>\n",
       "      <td>7946710000</td>\n",
       "      <td>0</td>\n",
       "      <td>0</td>\n",
       "      <td>-0.017656</td>\n",
       "      <td>-0.090229</td>\n",
       "      <td>...</td>\n",
       "      <td>2924.78</td>\n",
       "      <td>2983.69</td>\n",
       "      <td>2967.07</td>\n",
       "      <td>2985.47</td>\n",
       "      <td>2985.73</td>\n",
       "      <td>2968.35</td>\n",
       "      <td>3002.43</td>\n",
       "      <td>2983.50</td>\n",
       "      <td>3008.42</td>\n",
       "      <td>3010.36</td>\n",
       "    </tr>\n",
       "    <tr>\n",
       "      <th>23163</th>\n",
       "      <td>2020-03-20</td>\n",
       "      <td>2431.94</td>\n",
       "      <td>2453.01</td>\n",
       "      <td>2295.56</td>\n",
       "      <td>2304.92</td>\n",
       "      <td>9044690000</td>\n",
       "      <td>0</td>\n",
       "      <td>0</td>\n",
       "      <td>0.016069</td>\n",
       "      <td>-0.053716</td>\n",
       "      <td>...</td>\n",
       "      <td>2885.38</td>\n",
       "      <td>2924.78</td>\n",
       "      <td>2983.69</td>\n",
       "      <td>2967.07</td>\n",
       "      <td>2985.47</td>\n",
       "      <td>2985.73</td>\n",
       "      <td>2968.35</td>\n",
       "      <td>3002.43</td>\n",
       "      <td>2983.50</td>\n",
       "      <td>3008.42</td>\n",
       "    </tr>\n",
       "    <tr>\n",
       "      <th>23164</th>\n",
       "      <td>2020-03-23</td>\n",
       "      <td>2290.71</td>\n",
       "      <td>2300.73</td>\n",
       "      <td>2191.86</td>\n",
       "      <td>2237.40</td>\n",
       "      <td>7402180000</td>\n",
       "      <td>0</td>\n",
       "      <td>0</td>\n",
       "      <td>-0.058073</td>\n",
       "      <td>-0.086854</td>\n",
       "      <td>...</td>\n",
       "      <td>2918.56</td>\n",
       "      <td>2885.38</td>\n",
       "      <td>2924.78</td>\n",
       "      <td>2983.69</td>\n",
       "      <td>2967.07</td>\n",
       "      <td>2985.47</td>\n",
       "      <td>2985.73</td>\n",
       "      <td>2968.35</td>\n",
       "      <td>3002.43</td>\n",
       "      <td>2983.50</td>\n",
       "    </tr>\n",
       "    <tr>\n",
       "      <th>23165</th>\n",
       "      <td>2020-03-24</td>\n",
       "      <td>2344.44</td>\n",
       "      <td>2449.71</td>\n",
       "      <td>2344.44</td>\n",
       "      <td>2447.33</td>\n",
       "      <td>7547350000</td>\n",
       "      <td>0</td>\n",
       "      <td>0</td>\n",
       "      <td>0.023456</td>\n",
       "      <td>-0.033484</td>\n",
       "      <td>...</td>\n",
       "      <td>2944.23</td>\n",
       "      <td>2918.56</td>\n",
       "      <td>2885.38</td>\n",
       "      <td>2924.78</td>\n",
       "      <td>2983.69</td>\n",
       "      <td>2967.07</td>\n",
       "      <td>2985.47</td>\n",
       "      <td>2985.73</td>\n",
       "      <td>2968.35</td>\n",
       "      <td>3002.43</td>\n",
       "    </tr>\n",
       "    <tr>\n",
       "      <th>23166</th>\n",
       "      <td>2020-03-25</td>\n",
       "      <td>2457.77</td>\n",
       "      <td>2571.42</td>\n",
       "      <td>2407.53</td>\n",
       "      <td>2475.56</td>\n",
       "      <td>8285670000</td>\n",
       "      <td>0</td>\n",
       "      <td>0</td>\n",
       "      <td>0.048340</td>\n",
       "      <td>0.008730</td>\n",
       "      <td>...</td>\n",
       "      <td>2920.40</td>\n",
       "      <td>2944.23</td>\n",
       "      <td>2918.56</td>\n",
       "      <td>2885.38</td>\n",
       "      <td>2924.78</td>\n",
       "      <td>2983.69</td>\n",
       "      <td>2967.07</td>\n",
       "      <td>2985.47</td>\n",
       "      <td>2985.73</td>\n",
       "      <td>2968.35</td>\n",
       "    </tr>\n",
       "  </tbody>\n",
       "</table>\n",
       "<p>23167 rows × 148 columns</p>\n",
       "</div>"
      ],
      "text/plain": [
       "            Date     Open     High      Low    Close      Volume  Dividends  \\\n",
       "0     1927-12-30    17.66    17.66    17.66    17.66           0          0   \n",
       "1     1928-01-03    17.76    17.76    17.76    17.76           0          0   \n",
       "2     1928-01-04    17.72    17.72    17.72    17.72           0          0   \n",
       "3     1928-01-05    17.55    17.55    17.55    17.55           0          0   \n",
       "4     1928-01-06    17.66    17.66    17.66    17.66           0          0   \n",
       "...          ...      ...      ...      ...      ...         ...        ...   \n",
       "23162 2020-03-19  2393.48  2466.97  2319.78  2409.39  7946710000          0   \n",
       "23163 2020-03-20  2431.94  2453.01  2295.56  2304.92  9044690000          0   \n",
       "23164 2020-03-23  2290.71  2300.73  2191.86  2237.40  7402180000          0   \n",
       "23165 2020-03-24  2344.44  2449.71  2344.44  2447.33  7547350000          0   \n",
       "23166 2020-03-25  2457.77  2571.42  2407.53  2475.56  8285670000          0   \n",
       "\n",
       "       Stock Splits  priorDayBW  priorWeekBW  ...  Open117TDAgo  Open118TDAgo  \\\n",
       "0                 0         NaN          NaN  ...           NaN           NaN   \n",
       "1                 0    0.005663          NaN  ...           NaN           NaN   \n",
       "2                 0   -0.002252          NaN  ...           NaN           NaN   \n",
       "3                 0   -0.009594          NaN  ...           NaN           NaN   \n",
       "4                 0    0.006268          NaN  ...           NaN           NaN   \n",
       "...             ...         ...          ...  ...           ...           ...   \n",
       "23162             0   -0.017656    -0.090229  ...       2924.78       2983.69   \n",
       "23163             0    0.016069    -0.053716  ...       2885.38       2924.78   \n",
       "23164             0   -0.058073    -0.086854  ...       2918.56       2885.38   \n",
       "23165             0    0.023456    -0.033484  ...       2944.23       2918.56   \n",
       "23166             0    0.048340     0.008730  ...       2920.40       2944.23   \n",
       "\n",
       "       Open119TDAgo  Open120TDAgo  Open121TDAgo  Open122TDAgo  Open123TDAgo  \\\n",
       "0               NaN           NaN           NaN           NaN           NaN   \n",
       "1               NaN           NaN           NaN           NaN           NaN   \n",
       "2               NaN           NaN           NaN           NaN           NaN   \n",
       "3               NaN           NaN           NaN           NaN           NaN   \n",
       "4               NaN           NaN           NaN           NaN           NaN   \n",
       "...             ...           ...           ...           ...           ...   \n",
       "23162       2967.07       2985.47       2985.73       2968.35       3002.43   \n",
       "23163       2983.69       2967.07       2985.47       2985.73       2968.35   \n",
       "23164       2924.78       2983.69       2967.07       2985.47       2985.73   \n",
       "23165       2885.38       2924.78       2983.69       2967.07       2985.47   \n",
       "23166       2918.56       2885.38       2924.78       2983.69       2967.07   \n",
       "\n",
       "       Open124TDAgo  Open125TDAgo  Open126TDAgo  \n",
       "0               NaN           NaN           NaN  \n",
       "1               NaN           NaN           NaN  \n",
       "2               NaN           NaN           NaN  \n",
       "3               NaN           NaN           NaN  \n",
       "4               NaN           NaN           NaN  \n",
       "...             ...           ...           ...  \n",
       "23162       2983.50       3008.42       3010.36  \n",
       "23163       3002.43       2983.50       3008.42  \n",
       "23164       2968.35       3002.43       2983.50  \n",
       "23165       2985.73       2968.35       3002.43  \n",
       "23166       2985.47       2985.73       2968.35  \n",
       "\n",
       "[23167 rows x 148 columns]"
      ]
     },
     "execution_count": 8,
     "metadata": {},
     "output_type": "execute_result"
    }
   ],
   "source": [
    "# pd.set_option('display.max_rows', altered_df.shape[0]+1)\n",
    "\n",
    "# display max columns\n",
    "altered_df"
   ]
  },
  {
   "cell_type": "code",
   "execution_count": 9,
   "metadata": {
    "ExecuteTime": {
     "end_time": "2020-03-26T02:38:09.780039Z",
     "start_time": "2020-03-26T02:38:09.776554Z"
    }
   },
   "outputs": [],
   "source": [
    "# i could run an analysis for each day and determine the strength of influence for each of the different to see if it changes\n",
    "# if it does change, then I could determine which are the most consistently important\n",
    "# if it doesnt change then I know which dimensions are the most influential\n",
    "\n"
   ]
  },
  {
   "cell_type": "code",
   "execution_count": 10,
   "metadata": {
    "ExecuteTime": {
     "end_time": "2020-03-26T02:38:09.987652Z",
     "start_time": "2020-03-26T02:38:09.791488Z"
    }
   },
   "outputs": [
    {
     "data": {
      "image/png": "[encoded data removed]",
      "text/plain": [
       "<Figure size 432x288 with 1 Axes>"
      ]
     },
     "metadata": {
      "needs_background": "light"
     },
     "output_type": "display_data"
    }
   ],
   "source": [
    "plt.plot(df.Date, df.Open)\n",
    "plt.show()"
   ]
  },
  {
   "cell_type": "code",
   "execution_count": 11,
   "metadata": {
    "ExecuteTime": {
     "end_time": "2020-03-26T02:38:10.009852Z",
     "start_time": "2020-03-26T02:38:09.990928Z"
    }
   },
   "outputs": [
    {
     "data": {
      "text/plain": [
       "<Figure size 2560x1920 with 0 Axes>"
      ]
     },
     "metadata": {},
     "output_type": "display_data"
    }
   ],
   "source": [
    "fig = figure(num=None, figsize=(16, 12), dpi=160, facecolor='w', edgecolor='k')"
   ]
  },
  {
   "cell_type": "code",
   "execution_count": 12,
   "metadata": {
    "ExecuteTime": {
     "end_time": "2020-03-26T02:38:10.183647Z",
     "start_time": "2020-03-26T02:38:10.011589Z"
    }
   },
   "outputs": [
    {
     "data": {
      "image/png": "[encoded data removed]",
      "text/plain": [
       "<Figure size 432x288 with 1 Axes>"
      ]
     },
     "metadata": {
      "needs_background": "light"
     },
     "output_type": "display_data"
    }
   ],
   "source": [
    "plt.plot(df.Date, df.Open)\n",
    "plt.show()"
   ]
  },
  {
   "cell_type": "code",
   "execution_count": 13,
   "metadata": {
    "ExecuteTime": {
     "end_time": "2020-03-26T02:38:10.198087Z",
     "start_time": "2020-03-26T02:38:10.194837Z"
    }
   },
   "outputs": [],
   "source": [
    "fig.set_figheight(5)\n",
    "fig.set_figwidth(5)"
   ]
  },
  {
   "cell_type": "code",
   "execution_count": 14,
   "metadata": {
    "ExecuteTime": {
     "end_time": "2020-03-26T02:38:10.393920Z",
     "start_time": "2020-03-26T02:38:10.200310Z"
    }
   },
   "outputs": [
    {
     "data": {
      "image/png": "[encoded data removed]",
      "text/plain": [
       "<Figure size 432x288 with 1 Axes>"
      ]
     },
     "metadata": {
      "needs_background": "light"
     },
     "output_type": "display_data"
    }
   ],
   "source": [
    "plt.plot(df.Date, df.Open)\n",
    "plt.show()"
   ]
  },
  {
   "cell_type": "code",
   "execution_count": 15,
   "metadata": {
    "ExecuteTime": {
     "end_time": "2020-03-26T02:38:10.422382Z",
     "start_time": "2020-03-26T02:38:10.396011Z"
    }
   },
   "outputs": [
    {
     "data": {
      "text/html": [
       "<div>\n",
       "<style scoped>\n",
       "    .dataframe tbody tr th:only-of-type {\n",
       "        vertical-align: middle;\n",
       "    }\n",
       "\n",
       "    .dataframe tbody tr th {\n",
       "        vertical-align: top;\n",
       "    }\n",
       "\n",
       "    .dataframe thead th {\n",
       "        text-align: right;\n",
       "    }\n",
       "</style>\n",
       "<table border=\"1\" class=\"dataframe\">\n",
       "  <thead>\n",
       "    <tr style=\"text-align: right;\">\n",
       "      <th></th>\n",
       "      <th>Date</th>\n",
       "      <th>Open</th>\n",
       "      <th>High</th>\n",
       "      <th>Low</th>\n",
       "      <th>Close</th>\n",
       "      <th>Volume</th>\n",
       "      <th>Dividends</th>\n",
       "      <th>Stock Splits</th>\n",
       "    </tr>\n",
       "  </thead>\n",
       "  <tbody>\n",
       "    <tr>\n",
       "      <th>0</th>\n",
       "      <td>1927-12-30</td>\n",
       "      <td>17.66</td>\n",
       "      <td>17.66</td>\n",
       "      <td>17.66</td>\n",
       "      <td>17.66</td>\n",
       "      <td>0</td>\n",
       "      <td>0</td>\n",
       "      <td>0</td>\n",
       "    </tr>\n",
       "    <tr>\n",
       "      <th>1</th>\n",
       "      <td>1928-01-03</td>\n",
       "      <td>17.76</td>\n",
       "      <td>17.76</td>\n",
       "      <td>17.76</td>\n",
       "      <td>17.76</td>\n",
       "      <td>0</td>\n",
       "      <td>0</td>\n",
       "      <td>0</td>\n",
       "    </tr>\n",
       "    <tr>\n",
       "      <th>2</th>\n",
       "      <td>1928-01-04</td>\n",
       "      <td>17.72</td>\n",
       "      <td>17.72</td>\n",
       "      <td>17.72</td>\n",
       "      <td>17.72</td>\n",
       "      <td>0</td>\n",
       "      <td>0</td>\n",
       "      <td>0</td>\n",
       "    </tr>\n",
       "    <tr>\n",
       "      <th>3</th>\n",
       "      <td>1928-01-05</td>\n",
       "      <td>17.55</td>\n",
       "      <td>17.55</td>\n",
       "      <td>17.55</td>\n",
       "      <td>17.55</td>\n",
       "      <td>0</td>\n",
       "      <td>0</td>\n",
       "      <td>0</td>\n",
       "    </tr>\n",
       "    <tr>\n",
       "      <th>4</th>\n",
       "      <td>1928-01-06</td>\n",
       "      <td>17.66</td>\n",
       "      <td>17.66</td>\n",
       "      <td>17.66</td>\n",
       "      <td>17.66</td>\n",
       "      <td>0</td>\n",
       "      <td>0</td>\n",
       "      <td>0</td>\n",
       "    </tr>\n",
       "    <tr>\n",
       "      <th>...</th>\n",
       "      <td>...</td>\n",
       "      <td>...</td>\n",
       "      <td>...</td>\n",
       "      <td>...</td>\n",
       "      <td>...</td>\n",
       "      <td>...</td>\n",
       "      <td>...</td>\n",
       "      <td>...</td>\n",
       "    </tr>\n",
       "    <tr>\n",
       "      <th>23162</th>\n",
       "      <td>2020-03-19</td>\n",
       "      <td>2393.48</td>\n",
       "      <td>2466.97</td>\n",
       "      <td>2319.78</td>\n",
       "      <td>2409.39</td>\n",
       "      <td>7946710000</td>\n",
       "      <td>0</td>\n",
       "      <td>0</td>\n",
       "    </tr>\n",
       "    <tr>\n",
       "      <th>23163</th>\n",
       "      <td>2020-03-20</td>\n",
       "      <td>2431.94</td>\n",
       "      <td>2453.01</td>\n",
       "      <td>2295.56</td>\n",
       "      <td>2304.92</td>\n",
       "      <td>9044690000</td>\n",
       "      <td>0</td>\n",
       "      <td>0</td>\n",
       "    </tr>\n",
       "    <tr>\n",
       "      <th>23164</th>\n",
       "      <td>2020-03-23</td>\n",
       "      <td>2290.71</td>\n",
       "      <td>2300.73</td>\n",
       "      <td>2191.86</td>\n",
       "      <td>2237.40</td>\n",
       "      <td>7402180000</td>\n",
       "      <td>0</td>\n",
       "      <td>0</td>\n",
       "    </tr>\n",
       "    <tr>\n",
       "      <th>23165</th>\n",
       "      <td>2020-03-24</td>\n",
       "      <td>2344.44</td>\n",
       "      <td>2449.71</td>\n",
       "      <td>2344.44</td>\n",
       "      <td>2447.33</td>\n",
       "      <td>7547350000</td>\n",
       "      <td>0</td>\n",
       "      <td>0</td>\n",
       "    </tr>\n",
       "    <tr>\n",
       "      <th>23166</th>\n",
       "      <td>2020-03-25</td>\n",
       "      <td>2457.77</td>\n",
       "      <td>2571.42</td>\n",
       "      <td>2407.53</td>\n",
       "      <td>2475.56</td>\n",
       "      <td>8285670000</td>\n",
       "      <td>0</td>\n",
       "      <td>0</td>\n",
       "    </tr>\n",
       "  </tbody>\n",
       "</table>\n",
       "<p>23167 rows × 8 columns</p>\n",
       "</div>"
      ],
      "text/plain": [
       "            Date     Open     High      Low    Close      Volume  Dividends  \\\n",
       "0     1927-12-30    17.66    17.66    17.66    17.66           0          0   \n",
       "1     1928-01-03    17.76    17.76    17.76    17.76           0          0   \n",
       "2     1928-01-04    17.72    17.72    17.72    17.72           0          0   \n",
       "3     1928-01-05    17.55    17.55    17.55    17.55           0          0   \n",
       "4     1928-01-06    17.66    17.66    17.66    17.66           0          0   \n",
       "...          ...      ...      ...      ...      ...         ...        ...   \n",
       "23162 2020-03-19  2393.48  2466.97  2319.78  2409.39  7946710000          0   \n",
       "23163 2020-03-20  2431.94  2453.01  2295.56  2304.92  9044690000          0   \n",
       "23164 2020-03-23  2290.71  2300.73  2191.86  2237.40  7402180000          0   \n",
       "23165 2020-03-24  2344.44  2449.71  2344.44  2447.33  7547350000          0   \n",
       "23166 2020-03-25  2457.77  2571.42  2407.53  2475.56  8285670000          0   \n",
       "\n",
       "       Stock Splits  \n",
       "0                 0  \n",
       "1                 0  \n",
       "2                 0  \n",
       "3                 0  \n",
       "4                 0  \n",
       "...             ...  \n",
       "23162             0  \n",
       "23163             0  \n",
       "23164             0  \n",
       "23165             0  \n",
       "23166             0  \n",
       "\n",
       "[23167 rows x 8 columns]"
      ]
     },
     "execution_count": 15,
     "metadata": {},
     "output_type": "execute_result"
    }
   ],
   "source": [
    "df\n"
   ]
  },
  {
   "cell_type": "code",
   "execution_count": 16,
   "metadata": {
    "ExecuteTime": {
     "end_time": "2020-03-26T02:38:10.445466Z",
     "start_time": "2020-03-26T02:38:10.427733Z"
    }
   },
   "outputs": [],
   "source": [
    "df['days_since'] = (df.Date - pd.to_datetime('1927-12-30') ).astype('timedelta64[D]')\n",
    "df['log_Open'] = np.log1p(df.Open)"
   ]
  },
  {
   "cell_type": "code",
   "execution_count": 17,
   "metadata": {
    "ExecuteTime": {
     "end_time": "2020-03-26T02:38:10.494523Z",
     "start_time": "2020-03-26T02:38:10.455301Z"
    }
   },
   "outputs": [
    {
     "data": {
      "text/html": [
       "<div>\n",
       "<style scoped>\n",
       "    .dataframe tbody tr th:only-of-type {\n",
       "        vertical-align: middle;\n",
       "    }\n",
       "\n",
       "    .dataframe tbody tr th {\n",
       "        vertical-align: top;\n",
       "    }\n",
       "\n",
       "    .dataframe thead th {\n",
       "        text-align: right;\n",
       "    }\n",
       "</style>\n",
       "<table border=\"1\" class=\"dataframe\">\n",
       "  <thead>\n",
       "    <tr style=\"text-align: right;\">\n",
       "      <th></th>\n",
       "      <th>Date</th>\n",
       "      <th>Open</th>\n",
       "      <th>High</th>\n",
       "      <th>Low</th>\n",
       "      <th>Close</th>\n",
       "      <th>Volume</th>\n",
       "      <th>Dividends</th>\n",
       "      <th>Stock Splits</th>\n",
       "      <th>days_since</th>\n",
       "      <th>log_Open</th>\n",
       "    </tr>\n",
       "  </thead>\n",
       "  <tbody>\n",
       "    <tr>\n",
       "      <th>0</th>\n",
       "      <td>1927-12-30</td>\n",
       "      <td>17.66</td>\n",
       "      <td>17.66</td>\n",
       "      <td>17.66</td>\n",
       "      <td>17.66</td>\n",
       "      <td>0</td>\n",
       "      <td>0</td>\n",
       "      <td>0</td>\n",
       "      <td>0.0</td>\n",
       "      <td>2.926382</td>\n",
       "    </tr>\n",
       "    <tr>\n",
       "      <th>1</th>\n",
       "      <td>1928-01-03</td>\n",
       "      <td>17.76</td>\n",
       "      <td>17.76</td>\n",
       "      <td>17.76</td>\n",
       "      <td>17.76</td>\n",
       "      <td>0</td>\n",
       "      <td>0</td>\n",
       "      <td>0</td>\n",
       "      <td>4.0</td>\n",
       "      <td>2.931727</td>\n",
       "    </tr>\n",
       "    <tr>\n",
       "      <th>2</th>\n",
       "      <td>1928-01-04</td>\n",
       "      <td>17.72</td>\n",
       "      <td>17.72</td>\n",
       "      <td>17.72</td>\n",
       "      <td>17.72</td>\n",
       "      <td>0</td>\n",
       "      <td>0</td>\n",
       "      <td>0</td>\n",
       "      <td>5.0</td>\n",
       "      <td>2.929592</td>\n",
       "    </tr>\n",
       "    <tr>\n",
       "      <th>3</th>\n",
       "      <td>1928-01-05</td>\n",
       "      <td>17.55</td>\n",
       "      <td>17.55</td>\n",
       "      <td>17.55</td>\n",
       "      <td>17.55</td>\n",
       "      <td>0</td>\n",
       "      <td>0</td>\n",
       "      <td>0</td>\n",
       "      <td>6.0</td>\n",
       "      <td>2.920470</td>\n",
       "    </tr>\n",
       "    <tr>\n",
       "      <th>4</th>\n",
       "      <td>1928-01-06</td>\n",
       "      <td>17.66</td>\n",
       "      <td>17.66</td>\n",
       "      <td>17.66</td>\n",
       "      <td>17.66</td>\n",
       "      <td>0</td>\n",
       "      <td>0</td>\n",
       "      <td>0</td>\n",
       "      <td>7.0</td>\n",
       "      <td>2.926382</td>\n",
       "    </tr>\n",
       "    <tr>\n",
       "      <th>...</th>\n",
       "      <td>...</td>\n",
       "      <td>...</td>\n",
       "      <td>...</td>\n",
       "      <td>...</td>\n",
       "      <td>...</td>\n",
       "      <td>...</td>\n",
       "      <td>...</td>\n",
       "      <td>...</td>\n",
       "      <td>...</td>\n",
       "      <td>...</td>\n",
       "    </tr>\n",
       "    <tr>\n",
       "      <th>23162</th>\n",
       "      <td>2020-03-19</td>\n",
       "      <td>2393.48</td>\n",
       "      <td>2466.97</td>\n",
       "      <td>2319.78</td>\n",
       "      <td>2409.39</td>\n",
       "      <td>7946710000</td>\n",
       "      <td>0</td>\n",
       "      <td>0</td>\n",
       "      <td>33683.0</td>\n",
       "      <td>7.780921</td>\n",
       "    </tr>\n",
       "    <tr>\n",
       "      <th>23163</th>\n",
       "      <td>2020-03-20</td>\n",
       "      <td>2431.94</td>\n",
       "      <td>2453.01</td>\n",
       "      <td>2295.56</td>\n",
       "      <td>2304.92</td>\n",
       "      <td>9044690000</td>\n",
       "      <td>0</td>\n",
       "      <td>0</td>\n",
       "      <td>33684.0</td>\n",
       "      <td>7.796856</td>\n",
       "    </tr>\n",
       "    <tr>\n",
       "      <th>23164</th>\n",
       "      <td>2020-03-23</td>\n",
       "      <td>2290.71</td>\n",
       "      <td>2300.73</td>\n",
       "      <td>2191.86</td>\n",
       "      <td>2237.40</td>\n",
       "      <td>7402180000</td>\n",
       "      <td>0</td>\n",
       "      <td>0</td>\n",
       "      <td>33687.0</td>\n",
       "      <td>7.737054</td>\n",
       "    </tr>\n",
       "    <tr>\n",
       "      <th>23165</th>\n",
       "      <td>2020-03-24</td>\n",
       "      <td>2344.44</td>\n",
       "      <td>2449.71</td>\n",
       "      <td>2344.44</td>\n",
       "      <td>2447.33</td>\n",
       "      <td>7547350000</td>\n",
       "      <td>0</td>\n",
       "      <td>0</td>\n",
       "      <td>33688.0</td>\n",
       "      <td>7.760228</td>\n",
       "    </tr>\n",
       "    <tr>\n",
       "      <th>23166</th>\n",
       "      <td>2020-03-25</td>\n",
       "      <td>2457.77</td>\n",
       "      <td>2571.42</td>\n",
       "      <td>2407.53</td>\n",
       "      <td>2475.56</td>\n",
       "      <td>8285670000</td>\n",
       "      <td>0</td>\n",
       "      <td>0</td>\n",
       "      <td>33689.0</td>\n",
       "      <td>7.807417</td>\n",
       "    </tr>\n",
       "  </tbody>\n",
       "</table>\n",
       "<p>23167 rows × 10 columns</p>\n",
       "</div>"
      ],
      "text/plain": [
       "            Date     Open     High      Low    Close      Volume  Dividends  \\\n",
       "0     1927-12-30    17.66    17.66    17.66    17.66           0          0   \n",
       "1     1928-01-03    17.76    17.76    17.76    17.76           0          0   \n",
       "2     1928-01-04    17.72    17.72    17.72    17.72           0          0   \n",
       "3     1928-01-05    17.55    17.55    17.55    17.55           0          0   \n",
       "4     1928-01-06    17.66    17.66    17.66    17.66           0          0   \n",
       "...          ...      ...      ...      ...      ...         ...        ...   \n",
       "23162 2020-03-19  2393.48  2466.97  2319.78  2409.39  7946710000          0   \n",
       "23163 2020-03-20  2431.94  2453.01  2295.56  2304.92  9044690000          0   \n",
       "23164 2020-03-23  2290.71  2300.73  2191.86  2237.40  7402180000          0   \n",
       "23165 2020-03-24  2344.44  2449.71  2344.44  2447.33  7547350000          0   \n",
       "23166 2020-03-25  2457.77  2571.42  2407.53  2475.56  8285670000          0   \n",
       "\n",
       "       Stock Splits  days_since  log_Open  \n",
       "0                 0         0.0  2.926382  \n",
       "1                 0         4.0  2.931727  \n",
       "2                 0         5.0  2.929592  \n",
       "3                 0         6.0  2.920470  \n",
       "4                 0         7.0  2.926382  \n",
       "...             ...         ...       ...  \n",
       "23162             0     33683.0  7.780921  \n",
       "23163             0     33684.0  7.796856  \n",
       "23164             0     33687.0  7.737054  \n",
       "23165             0     33688.0  7.760228  \n",
       "23166             0     33689.0  7.807417  \n",
       "\n",
       "[23167 rows x 10 columns]"
      ]
     },
     "execution_count": 17,
     "metadata": {},
     "output_type": "execute_result"
    }
   ],
   "source": [
    "df"
   ]
  },
  {
   "cell_type": "code",
   "execution_count": 18,
   "metadata": {
    "ExecuteTime": {
     "end_time": "2020-03-26T02:38:10.545818Z",
     "start_time": "2020-03-26T02:38:10.513930Z"
    }
   },
   "outputs": [
    {
     "data": {
      "text/plain": [
       "(0.00017653011086167302, 1.872065658478662)"
      ]
     },
     "execution_count": 18,
     "metadata": {},
     "output_type": "execute_result"
    }
   ],
   "source": [
    "slope, intercept, r_value, p_value, std_err = stats.linregress(df.days_since, \n",
    "                                                               df.log_Open)\n",
    "slope, intercept"
   ]
  },
  {
   "cell_type": "code",
   "execution_count": 19,
   "metadata": {
    "ExecuteTime": {
     "end_time": "2020-03-26T02:38:10.895257Z",
     "start_time": "2020-03-26T02:38:10.590160Z"
    }
   },
   "outputs": [
    {
     "data": {
      "image/png": "[encoded data removed]",
      "text/plain": [
       "<Figure size 432x288 with 1 Axes>"
      ]
     },
     "metadata": {
      "needs_background": "light"
     },
     "output_type": "display_data"
    },
    {
     "data": {
      "image/png": "[encoded data removed]",
      "text/plain": [
       "<Figure size 432x288 with 1 Axes>"
      ]
     },
     "metadata": {
      "needs_background": "light"
     },
     "output_type": "display_data"
    }
   ],
   "source": [
    "plt.plot(df.days_since, df.Open)\n",
    "plt.show()\n",
    "\n",
    "x = np.linspace(0, 33689, 1000)\n",
    "\n",
    "plt.plot(x, slope*x+intercept)\n",
    "plt.plot(df.days_since, df.log_Open)\n",
    "plt.show()"
   ]
  },
  {
   "cell_type": "code",
   "execution_count": null,
   "metadata": {},
   "outputs": [],
   "source": []
  }
 ],
 "metadata": {
  "kernelspec": {
   "display_name": "Python 3",
   "language": "python",
   "name": "python3"
  },
  "language_info": {
   "codemirror_mode": {
    "name": "ipython",
    "version": 3
   },
   "file_extension": ".py",
   "mimetype": "text/x-python",
   "name": "python",
   "nbconvert_exporter": "python",
   "pygments_lexer": "ipython3",
   "version": "3.7.1"
  }
 },
 "nbformat": 4,
 "nbformat_minor": 2
}
